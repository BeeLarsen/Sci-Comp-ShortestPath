{
 "cells": [
  {
   "cell_type": "markdown",
   "id": "e37b7844-6b73-4f25-a661-996e8832431b",
   "metadata": {},
   "source": [
    "## Write a test suite for your module with the following:"
   ]
  },
  {
   "cell_type": "code",
   "execution_count": null,
   "id": "4c180b48-1163-4b99-af32-77b14a321c1b",
   "metadata": {},
   "outputs": [],
   "source": []
  }
 ],
 "metadata": {
  "kernelspec": {
   "display_name": "Julia 1.8.0",
   "language": "julia",
   "name": "julia-1.8"
  },
  "language_info": {
   "file_extension": ".jl",
   "mimetype": "application/julia",
   "name": "julia",
   "version": "1.8.0"
  }
 },
 "nbformat": 4,
 "nbformat_minor": 5
}
