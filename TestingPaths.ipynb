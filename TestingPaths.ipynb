{
 "cells": [
  {
   "cell_type": "code",
   "execution_count": 1,
   "id": "c42c3530-d183-49a1-8936-a59aa7031df7",
   "metadata": {},
   "outputs": [],
   "source": [
    "using Revise\n",
    "includet(\"../Sci-Comp-ShortestPath/WeightedGraphs.jl\")\n",
    "using .WeightedGraphs"
   ]
  },
  {
   "cell_type": "code",
   "execution_count": 2,
   "id": "05d77c30-96f0-41c9-bcee-dd3bd1826631",
   "metadata": {},
   "outputs": [],
   "source": [
    "using Graphs, Plots, GraphRecipes"
   ]
  },
  {
   "cell_type": "code",
   "execution_count": 3,
   "id": "b7d0f1da-d673-44ad-9ac5-f454c2131101",
   "metadata": {},
   "outputs": [
    {
     "data": {
      "text/plain": [
       "Vertex[]Main.WeightedGraphs.Edge[]"
      ]
     },
     "execution_count": 3,
     "metadata": {},
     "output_type": "execute_result"
    }
   ],
   "source": [
    "v1 = Vertex(:A)\n",
    "v2 = Vertex(:B)\n",
    "v3 = Vertex(:C)\n",
    "v4 = Vertex(:D)\n",
    "v5 = Vertex(:E)\n",
    "v6 = Vertex(:F)\n",
    "e1 = WeightedGraphs.Edge(:A,:B,3)\n",
    "e2 = WeightedGraphs.Edge(:B,:C,5)\n",
    "e3 = WeightedGraphs.Edge(:C,:A,7)\n",
    "e4 = WeightedGraphs.Edge(:C,:D,7)\n",
    "e5 = WeightedGraphs.Edge(:D,:E,7)\n",
    "e6 = WeightedGraphs.Edge(:E,:F,7)\n",
    "e7 = WeightedGraphs.Edge(:F,:A,5)\n",
    "g = WeightedGraph()\n",
    "g2 = WeightedGraph()"
   ]
  },
  {
   "cell_type": "code",
   "execution_count": 4,
   "id": "64ef69d7-e214-4c31-a6ab-d14bb8435f68",
   "metadata": {},
   "outputs": [],
   "source": [
    "addVertices!(g,v1,v2,v3)\n",
    "#addVertex!(g,v2)\n",
    "#addVertex!(g,v3)"
   ]
  },
  {
   "cell_type": "code",
   "execution_count": 5,
   "id": "02820158-4c89-45ca-8ef9-6f5579c4feb1",
   "metadata": {},
   "outputs": [],
   "source": [
    "addEdges!(g,e1,e2,e3)\n",
    "#addEdge!(g,e2)\n",
    "#addEdge!(g,e3)"
   ]
  },
  {
   "cell_type": "code",
   "execution_count": 6,
   "id": "b4e07cf5-3078-44ec-be69-d5bfbae16e6c",
   "metadata": {},
   "outputs": [],
   "source": [
    "addVertices!(g2,v1,v2,v3,v4,v5,v6)"
   ]
  },
  {
   "cell_type": "code",
   "execution_count": 7,
   "id": "ec37ea88-b893-40c6-b701-b89a3e54a031",
   "metadata": {},
   "outputs": [],
   "source": [
    "addEdges!(g2,e1,e2,e3,e4,e5,e6,e7)"
   ]
  },
  {
   "cell_type": "code",
   "execution_count": 8,
   "id": "6ecd56fd-dc01-4a60-b85d-f207c1d42d36",
   "metadata": {},
   "outputs": [
    {
     "data": {
      "image/svg+xml": [
       "<?xml version=\"1.0\" encoding=\"utf-8\"?>\n",
       "<svg xmlns=\"http://www.w3.org/2000/svg\" xmlns:xlink=\"http://www.w3.org/1999/xlink\" width=\"600\" height=\"400\" viewBox=\"0 0 2400 1600\">\n",
       "<defs>\n",
       "  <clipPath id=\"clip000\">\n",
       "    <rect x=\"0\" y=\"0\" width=\"2400\" height=\"1600\"/>\n",
       "  </clipPath>\n",
       "</defs>\n",
       "<path clip-path=\"url(#clip000)\" d=\"\n",
       "M0 1600 L2400 1600 L2400 0 L0 0  Z\n",
       "  \" fill=\"#ffffff\" fill-rule=\"evenodd\" fill-opacity=\"1\"/>\n",
       "<defs>\n",
       "  <clipPath id=\"clip001\">\n",
       "    <rect x=\"480\" y=\"0\" width=\"1681\" height=\"1600\"/>\n",
       "  </clipPath>\n",
       "</defs>\n",
       "<path clip-path=\"url(#clip000)\" d=\"\n",
       "M447.244 1552.76 L1952.76 1552.76 L1952.76 47.2441 L447.244 47.2441  Z\n",
       "  \" fill=\"#ffffff\" fill-rule=\"evenodd\" fill-opacity=\"1\"/>\n",
       "<defs>\n",
       "  <clipPath id=\"clip002\">\n",
       "    <rect x=\"447\" y=\"47\" width=\"1507\" height=\"1507\"/>\n",
       "  </clipPath>\n",
       "</defs>\n",
       "<polyline clip-path=\"url(#clip002)\" style=\"stroke:#000000; stroke-linecap:round; stroke-linejoin:round; stroke-width:4; stroke-opacity:1; fill:none\" points=\"\n",
       "  1451.09,262.317 1453.76,285.111 1456.44,307.901 1459.14,330.686 1461.87,353.463 1464.65,376.228 1467.48,398.979 1470.37,421.714 1473.33,444.428 1476.39,467.12 \n",
       "  1479.53,489.786 1482.79,512.424 1486.15,535.032 1489.65,557.605 1493.29,580.141 1497.07,602.638 1501.01,625.093 1505.12,647.502 1509.41,669.863 1513.89,692.174 \n",
       "  1518.58,714.431 1523.47,736.631 1528.59,758.772 1533.94,780.851 1539.54,802.865 1545.39,824.811 1551.49,846.69 1557.84,868.503 1564.42,890.255 1571.22,911.947 \n",
       "  1578.23,933.582 1585.45,955.164 1592.85,976.696 1600.44,998.179 1608.2,1019.62 1616.11,1041.01 1624.18,1062.37 1632.38,1083.69 1640.71,1104.97 1649.15,1126.23 \n",
       "  1657.7,1147.45 1666.35,1168.65 1675.08,1189.83 1683.89,1210.99 1692.75,1232.13 1701.68,1253.26 1710.64,1274.37 1719.64,1295.48 1728.65,1316.58 1737.68,1337.68 \n",
       "  \n",
       "  \"/>\n",
       "<polyline clip-path=\"url(#clip002)\" style=\"stroke:#000000; stroke-linecap:round; stroke-linejoin:round; stroke-width:4; stroke-opacity:1; fill:none\" points=\"\n",
       "  1451.09,262.317 1437.31,280.682 1423.53,299.04 1409.73,317.382 1395.91,335.7 1382.05,353.988 1368.16,372.237 1354.22,390.439 1340.23,408.586 1326.18,426.672 \n",
       "  1312.05,444.687 1297.85,462.625 1283.57,480.478 1269.19,498.237 1254.71,515.895 1240.12,533.444 1225.42,550.877 1210.59,568.185 1195.63,585.361 1180.53,602.398 \n",
       "  1165.28,619.286 1149.88,636.02 1134.32,652.59 1118.58,668.989 1102.67,685.209 1086.57,701.244 1070.29,717.092 1053.83,732.761 1037.2,748.259 1020.41,763.594 \n",
       "  1003.46,778.774 986.362,793.806 969.127,808.698 951.761,823.459 934.271,838.094 916.664,852.613 898.949,867.024 881.134,881.333 863.226,895.549 845.232,909.68 \n",
       "  827.161,923.733 809.021,937.716 790.818,951.637 772.562,965.503 754.258,979.323 735.917,993.104 717.544,1006.85 699.148,1020.58 680.736,1034.29 662.317,1047.99 \n",
       "  \n",
       "  \"/>\n",
       "<polyline clip-path=\"url(#clip002)\" style=\"stroke:#000000; stroke-linecap:round; stroke-linejoin:round; stroke-width:4; stroke-opacity:1; fill:none\" points=\"\n",
       "  1737.68,1337.68 1714.88,1334.95 1692.08,1332.2 1669.29,1329.43 1646.5,1326.64 1623.73,1323.8 1600.97,1320.9 1578.23,1317.94 1555.51,1314.91 1532.81,1311.8 \n",
       "  1510.13,1308.58 1487.49,1305.27 1464.87,1301.83 1442.29,1298.27 1419.75,1294.57 1397.25,1290.72 1374.79,1286.72 1352.38,1282.54 1330.01,1278.19 1307.7,1273.64 \n",
       "  1285.44,1268.89 1263.23,1263.93 1241.09,1258.75 1219.01,1253.34 1197,1247.68 1175.05,1241.77 1153.17,1235.6 1131.36,1229.19 1109.61,1222.55 1087.92,1215.69 \n",
       "  1066.29,1208.61 1044.71,1201.33 1023.18,1193.86 1001.7,1186.21 980.271,1178.4 958.881,1170.42 937.531,1162.29 916.218,1154.03 894.94,1145.64 873.692,1137.14 \n",
       "  852.473,1128.52 831.28,1119.82 810.11,1111.02 788.96,1102.16 767.826,1093.23 746.707,1084.24 725.6,1075.22 704.501,1066.16 683.408,1057.08 662.317,1047.99 \n",
       "  \n",
       "  \"/>\n",
       "<path clip-path=\"url(#clip002)\" d=\"\n",
       "M1519.85 849.979 L1565.01 849.979 L1565.01 777.714 L1519.85 777.714 L1519.85 849.979 L1519.85 849.979  Z\n",
       "  \" fill=\"#ffffff\" fill-rule=\"evenodd\" fill-opacity=\"1\"/>\n",
       "<polyline clip-path=\"url(#clip002)\" style=\"stroke:#000000; stroke-linecap:round; stroke-linejoin:round; stroke-width:0; stroke-opacity:0; fill:none\" points=\"\n",
       "  1519.85,849.979 1565.01,849.979 1565.01,777.714 1519.85,777.714 1519.85,849.979 \n",
       "  \"/>\n",
       "<path clip-path=\"url(#clip002)\" d=\"\n",
       "M1072.06 729.382 L1117.23 729.382 L1117.23 657.118 L1072.06 657.118 L1072.06 729.382 L1072.06 729.382  Z\n",
       "  \" fill=\"#ffffff\" fill-rule=\"evenodd\" fill-opacity=\"1\"/>\n",
       "<polyline clip-path=\"url(#clip002)\" style=\"stroke:#000000; stroke-linecap:round; stroke-linejoin:round; stroke-width:0; stroke-opacity:0; fill:none\" points=\"\n",
       "  1072.06,729.382 1117.23,729.382 1117.23,657.118 1072.06,657.118 1072.06,729.382 \n",
       "  \"/>\n",
       "<path clip-path=\"url(#clip002)\" d=\"\n",
       "M1163.43 1280.89 L1208.6 1280.89 L1208.6 1208.62 L1163.43 1208.62 L1163.43 1280.89 L1163.43 1280.89  Z\n",
       "  \" fill=\"#ffffff\" fill-rule=\"evenodd\" fill-opacity=\"1\"/>\n",
       "<polyline clip-path=\"url(#clip002)\" style=\"stroke:#000000; stroke-linecap:round; stroke-linejoin:round; stroke-width:0; stroke-opacity:0; fill:none\" points=\"\n",
       "  1163.43,1280.89 1208.6,1280.89 1208.6,1208.62 1163.43,1208.62 1163.43,1280.89 \n",
       "  \"/>\n",
       "<path clip-path=\"url(#clip002)\" d=\"\n",
       "M1490.23 262.317 L1470.66 228.418 L1431.51 228.418 L1411.94 262.317 L1431.51 296.216 L1470.66 296.216 L1490.23 262.317 L1490.23 262.317  Z\n",
       "  \" fill=\"#009af9\" fill-rule=\"evenodd\" fill-opacity=\"1\"/>\n",
       "<polyline clip-path=\"url(#clip002)\" style=\"stroke:#000000; stroke-linecap:round; stroke-linejoin:round; stroke-width:4; stroke-opacity:1; fill:none\" points=\"\n",
       "  1490.23,262.317 1470.66,228.418 1431.51,228.418 1411.94,262.317 1431.51,296.216 1470.66,296.216 1490.23,262.317 \n",
       "  \"/>\n",
       "<path clip-path=\"url(#clip002)\" d=\"\n",
       "M1776.83 1337.68 L1757.25 1303.78 L1718.11 1303.78 L1698.54 1337.68 L1718.11 1371.58 L1757.25 1371.58 L1776.83 1337.68 L1776.83 1337.68  Z\n",
       "  \" fill=\"#009af9\" fill-rule=\"evenodd\" fill-opacity=\"1\"/>\n",
       "<polyline clip-path=\"url(#clip002)\" style=\"stroke:#000000; stroke-linecap:round; stroke-linejoin:round; stroke-width:4; stroke-opacity:1; fill:none\" points=\"\n",
       "  1776.83,1337.68 1757.25,1303.78 1718.11,1303.78 1698.54,1337.68 1718.11,1371.58 1757.25,1371.58 1776.83,1337.68 \n",
       "  \"/>\n",
       "<path clip-path=\"url(#clip002)\" d=\"\n",
       "M701.461 1047.99 L681.889 1014.1 L642.746 1014.1 L623.174 1047.99 L642.746 1081.89 L681.889 1081.89 L701.461 1047.99 L701.461 1047.99  Z\n",
       "  \" fill=\"#009af9\" fill-rule=\"evenodd\" fill-opacity=\"1\"/>\n",
       "<polyline clip-path=\"url(#clip002)\" style=\"stroke:#000000; stroke-linecap:round; stroke-linejoin:round; stroke-width:4; stroke-opacity:1; fill:none\" points=\"\n",
       "  701.461,1047.99 681.889,1014.1 642.746,1014.1 623.174,1047.99 642.746,1081.89 681.889,1081.89 701.461,1047.99 \n",
       "  \"/>\n",
       "<path clip-path=\"url(#clip002)\" d=\"M1451.09 262.717 L1450.74 262.517 L1450.74 262.117 L1451.09 261.917 L1451.43 262.117 L1451.43 262.517 Z\" fill=\"#009af9\" fill-rule=\"evenodd\" fill-opacity=\"1\" stroke=\"#000000\" stroke-opacity=\"1\" stroke-width=\"3.2\"/>\n",
       "<path clip-path=\"url(#clip002)\" d=\"M1737.68 1338.08 L1737.34 1337.88 L1737.34 1337.48 L1737.68 1337.28 L1738.03 1337.48 L1738.03 1337.88 Z\" fill=\"#009af9\" fill-rule=\"evenodd\" fill-opacity=\"1\" stroke=\"#000000\" stroke-opacity=\"1\" stroke-width=\"3.2\"/>\n",
       "<path clip-path=\"url(#clip002)\" d=\"M662.317 1048.39 L661.971 1048.19 L661.971 1047.79 L662.317 1047.59 L662.664 1047.79 L662.664 1048.19 Z\" fill=\"#009af9\" fill-rule=\"evenodd\" fill-opacity=\"1\" stroke=\"#000000\" stroke-opacity=\"1\" stroke-width=\"3.2\"/>\n",
       "<path clip-path=\"url(#clip000)\" d=\"M1546.15 812.662 Q1549.08 813.29 1550.72 815.274 Q1552.38 817.259 1552.38 820.176 Q1552.38 824.652 1549.31 827.103 Q1546.23 829.554 1540.56 829.554 Q1538.65 829.554 1536.63 829.169 Q1534.62 828.804 1532.47 828.055 L1532.47 824.105 Q1534.18 825.098 1536.2 825.604 Q1538.23 826.111 1540.43 826.111 Q1544.28 826.111 1546.29 824.592 Q1548.31 823.072 1548.31 820.176 Q1548.31 817.502 1546.43 816.004 Q1544.57 814.485 1541.22 814.485 L1537.7 814.485 L1537.7 811.122 L1541.39 811.122 Q1544.4 811.122 1546 809.927 Q1547.6 808.712 1547.6 806.443 Q1547.6 804.114 1545.94 802.879 Q1544.3 801.623 1541.22 801.623 Q1539.54 801.623 1537.62 801.988 Q1535.69 802.352 1533.39 803.122 L1533.39 799.476 Q1535.72 798.828 1537.74 798.504 Q1539.79 798.18 1541.59 798.18 Q1546.25 798.18 1548.96 800.306 Q1551.68 802.413 1551.68 806.018 Q1551.68 808.53 1550.24 810.272 Q1548.8 811.993 1546.15 812.662 Z\" fill=\"#000000\" fill-rule=\"evenodd\" fill-opacity=\"1\" /><path clip-path=\"url(#clip000)\" d=\"M1084.92 678.13 L1104.37 678.13 L1104.37 679.872 L1093.39 708.37 L1089.12 708.37 L1099.45 681.573 L1084.92 681.573 L1084.92 678.13 Z\" fill=\"#000000\" fill-rule=\"evenodd\" fill-opacity=\"1\" /><path clip-path=\"url(#clip000)\" d=\"M1177.51 1229.64 L1193.57 1229.64 L1193.57 1233.08 L1181.25 1233.08 L1181.25 1240.49 Q1182.15 1240.19 1183.04 1240.05 Q1183.93 1239.88 1184.82 1239.88 Q1189.88 1239.88 1192.84 1242.66 Q1195.8 1245.43 1195.8 1250.17 Q1195.8 1255.06 1192.76 1257.77 Q1189.72 1260.46 1184.19 1260.46 Q1182.29 1260.46 1180.3 1260.14 Q1178.34 1259.82 1176.23 1259.17 L1176.23 1255.06 Q1178.05 1256.05 1180 1256.53 Q1181.94 1257.02 1184.11 1257.02 Q1187.61 1257.02 1189.66 1255.18 Q1191.71 1253.33 1191.71 1250.17 Q1191.71 1247.01 1189.66 1245.17 Q1187.61 1243.33 1184.11 1243.33 Q1182.47 1243.33 1180.83 1243.69 Q1179.21 1244.06 1177.51 1244.83 L1177.51 1229.64 Z\" fill=\"#000000\" fill-rule=\"evenodd\" fill-opacity=\"1\" /><path clip-path=\"url(#clip000)\" d=\"M1451.09 251.228 L1445.54 266.277 L1456.66 266.277 L1451.09 251.228 M1448.78 247.197 L1453.42 247.197 L1464.94 277.437 L1460.69 277.437 L1457.93 269.68 L1444.3 269.68 L1441.55 277.437 L1437.23 277.437 L1448.78 247.197 Z\" fill=\"#000000\" fill-rule=\"evenodd\" fill-opacity=\"1\" /><path clip-path=\"url(#clip000)\" d=\"M1731.05 1338.36 L1731.05 1349.44 L1737.61 1349.44 Q1740.91 1349.44 1742.49 1348.08 Q1744.09 1346.71 1744.09 1343.89 Q1744.09 1341.06 1742.49 1339.72 Q1740.91 1338.36 1737.61 1338.36 L1731.05 1338.36 M1731.05 1325.93 L1731.05 1335.04 L1737.11 1335.04 Q1740.1 1335.04 1741.56 1333.93 Q1743.04 1332.79 1743.04 1330.48 Q1743.04 1328.19 1741.56 1327.06 Q1740.1 1325.93 1737.11 1325.93 L1731.05 1325.93 M1726.96 1322.56 L1737.41 1322.56 Q1742.09 1322.56 1744.62 1324.51 Q1747.15 1326.45 1747.15 1330.04 Q1747.15 1332.81 1745.86 1334.45 Q1744.56 1336.09 1742.05 1336.5 Q1745.07 1337.15 1746.73 1339.21 Q1748.41 1341.26 1748.41 1344.34 Q1748.41 1348.39 1745.65 1350.6 Q1742.9 1352.8 1737.81 1352.8 L1726.96 1352.8 L1726.96 1322.56 Z\" fill=\"#000000\" fill-rule=\"evenodd\" fill-opacity=\"1\" /><path clip-path=\"url(#clip000)\" d=\"M674.51 1035.2 L674.51 1039.52 Q672.444 1037.59 670.095 1036.64 Q667.766 1035.69 665.133 1035.69 Q659.947 1035.69 657.193 1038.87 Q654.438 1042.03 654.438 1048.02 Q654.438 1054 657.193 1057.18 Q659.947 1060.34 665.133 1060.34 Q667.766 1060.34 670.095 1059.39 Q672.444 1058.44 674.51 1056.51 L674.51 1060.78 Q672.363 1062.24 669.953 1062.97 Q667.563 1063.7 664.89 1063.7 Q658.023 1063.7 654.074 1059.51 Q650.124 1055.3 650.124 1048.02 Q650.124 1040.73 654.074 1036.54 Q658.023 1032.33 664.89 1032.33 Q667.604 1032.33 669.994 1033.06 Q672.404 1033.77 674.51 1035.2 Z\" fill=\"#000000\" fill-rule=\"evenodd\" fill-opacity=\"1\" /></svg>\n"
      ]
     },
     "execution_count": 8,
     "metadata": {},
     "output_type": "execute_result"
    }
   ],
   "source": [
    "graphplot(g.graph, names=[\"A\",\"B\",\"C\"], edgelabel = Dict((1,2)=>3,(2,3)=>5,(1,3) => 7))"
   ]
  },
  {
   "cell_type": "code",
   "execution_count": 9,
   "id": "539a3dab-f59f-447f-bdbe-0ebc9acaa65d",
   "metadata": {},
   "outputs": [
    {
     "data": {
      "text/plain": [
       "Vertex[A, B, C]Main.WeightedGraphs.Edge[(:A, :B, 3), (:B, :C, 5), (:C, :A, 7)]"
      ]
     },
     "execution_count": 9,
     "metadata": {},
     "output_type": "execute_result"
    }
   ],
   "source": [
    "g"
   ]
  },
  {
   "cell_type": "code",
   "execution_count": 10,
   "id": "0fa0033b-32ac-4bc2-a0b3-3f9a7947e75d",
   "metadata": {},
   "outputs": [
    {
     "data": {
      "text/plain": [
       "3-element Vector{Vertex}:\n",
       " A\n",
       " B\n",
       " C"
      ]
     },
     "execution_count": 10,
     "metadata": {},
     "output_type": "execute_result"
    }
   ],
   "source": [
    "p = [Vertex(:A), Vertex(:B), Vertex(:C)]"
   ]
  },
  {
   "cell_type": "code",
   "execution_count": 11,
   "id": "9d9a3ae6-1792-4d6d-baa0-33cef4cca06f",
   "metadata": {},
   "outputs": [
    {
     "ename": "LoadError",
     "evalue": "UndefVarError: UnweightedEdges not defined",
     "output_type": "error",
     "traceback": [
      "UndefVarError: UnweightedEdges not defined",
      "",
      "Stacktrace:",
      " [1] top-level scope",
      "   @ In[11]:1",
      " [2] eval",
      "   @ .\\boot.jl:368 [inlined]",
      " [3] include_string(mapexpr::typeof(REPL.softscope), mod::Module, code::String, filename::String)",
      "   @ Base .\\loading.jl:1428"
     ]
    }
   ],
   "source": [
    "u = UnweightedEdges(g)"
   ]
  },
  {
   "cell_type": "code",
   "execution_count": 12,
   "id": "de1ed541-d86a-4b57-985a-140a241fe1a8",
   "metadata": {},
   "outputs": [
    {
     "ename": "LoadError",
     "evalue": "UndefVarError: u not defined",
     "output_type": "error",
     "traceback": [
      "UndefVarError: u not defined",
      "",
      "Stacktrace:",
      " [1] top-level scope",
      "   @ :0",
      " [2] eval",
      "   @ .\\boot.jl:368 [inlined]",
      " [3] include_string(mapexpr::typeof(REPL.softscope), mod::Module, code::String, filename::String)",
      "   @ Base .\\loading.jl:1428"
     ]
    }
   ],
   "source": [
    "u"
   ]
  },
  {
   "cell_type": "code",
   "execution_count": 13,
   "id": "e1dcd070-9574-4047-a518-69579721dcbb",
   "metadata": {},
   "outputs": [
    {
     "ename": "LoadError",
     "evalue": "UndefVarError: u not defined",
     "output_type": "error",
     "traceback": [
      "UndefVarError: u not defined",
      "",
      "Stacktrace:",
      " [1] top-level scope",
      "   @ .\\In[13]:2",
      " [2] eval",
      "   @ .\\boot.jl:368 [inlined]",
      " [3] include_string(mapexpr::typeof(REPL.softscope), mod::Module, code::String, filename::String)",
      "   @ Base .\\loading.jl:1428"
     ]
    }
   ],
   "source": [
    "for i in 2:length(p)\n",
    "    if (p[i-1],p[i]) in u\n",
    "      return true\n",
    "    else return false\n",
    "    end\n",
    "end"
   ]
  },
  {
   "cell_type": "code",
   "execution_count": 14,
   "id": "2fc18b24-bf04-494c-ae2a-d82afd7a90c6",
   "metadata": {},
   "outputs": [
    {
     "ename": "LoadError",
     "evalue": "UndefVarError: u not defined",
     "output_type": "error",
     "traceback": [
      "UndefVarError: u not defined",
      "",
      "Stacktrace:",
      " [1] macro expansion",
      "   @ .\\show.jl:1047 [inlined]",
      " [2] top-level scope",
      "   @ .\\In[14]:2",
      " [3] eval",
      "   @ .\\boot.jl:368 [inlined]",
      " [4] include_string(mapexpr::typeof(REPL.softscope), mod::Module, code::String, filename::String)",
      "   @ Base .\\loading.jl:1428"
     ]
    }
   ],
   "source": [
    "for i in 2:length(p)\n",
    "  @show if (p[i-1],p[i]) in u\n",
    "    end\n",
    "end"
   ]
  },
  {
   "cell_type": "code",
   "execution_count": 15,
   "id": "1d95e35a-537a-4e53-a80c-6c594e4232f2",
   "metadata": {},
   "outputs": [
    {
     "ename": "LoadError",
     "evalue": "UndefVarError: u not defined",
     "output_type": "error",
     "traceback": [
      "UndefVarError: u not defined",
      "",
      "Stacktrace:",
      " [1] top-level scope",
      "   @ .\\In[15]:3",
      " [2] eval",
      "   @ .\\boot.jl:368 [inlined]",
      " [3] include_string(mapexpr::typeof(REPL.softscope), mod::Module, code::String, filename::String)",
      "   @ Base .\\loading.jl:1428"
     ]
    }
   ],
   "source": [
    "x=0\n",
    "for i in 2:length(p)\n",
    "  if (p[i-1],p[i]) in u\n",
    "    x=x+1\n",
    "    end\n",
    "end\n",
    "x"
   ]
  },
  {
   "cell_type": "code",
   "execution_count": 16,
   "id": "b04b87f6-d529-459f-9332-887b3cf7f89d",
   "metadata": {},
   "outputs": [
    {
     "data": {
      "text/plain": [
       "true"
      ]
     },
     "execution_count": 16,
     "metadata": {},
     "output_type": "execute_result"
    }
   ],
   "source": [
    "arePathVerticesOnGraph(p,g)"
   ]
  },
  {
   "cell_type": "code",
   "execution_count": 17,
   "id": "750c6d93-c6cb-4fa2-9147-847d27cbfc31",
   "metadata": {},
   "outputs": [
    {
     "data": {
      "text/plain": [
       "true"
      ]
     },
     "execution_count": 17,
     "metadata": {},
     "output_type": "execute_result"
    }
   ],
   "source": [
    "doPathVerticesHaveEdgesOnGraph(p,g)"
   ]
  },
  {
   "cell_type": "code",
   "execution_count": 161,
   "id": "9d2a490e-52f3-41c5-bf30-1708b371deb8",
   "metadata": {},
   "outputs": [
    {
     "data": {
      "text/plain": [
       "Vertex[A, B, C]"
      ]
     },
     "execution_count": 161,
     "metadata": {},
     "output_type": "execute_result"
    }
   ],
   "source": [
    "d1 = Path(p,g)"
   ]
  },
  {
   "cell_type": "code",
   "execution_count": 162,
   "id": "713f4f3d-59d1-489b-a641-0a488dc03e99",
   "metadata": {},
   "outputs": [
    {
     "ename": "LoadError",
     "evalue": "type DataType has no field path",
     "output_type": "error",
     "traceback": [
      "type DataType has no field path",
      "",
      "Stacktrace:",
      " [1] getproperty",
      "   @ .\\Base.jl:33 [inlined]",
      " [2] distance(P::Path)",
      "   @ Main.WeightedGraphs C:\\Users\\Camer\\Documents\\My-Repositories\\Sci-Comp-ShortestPath\\WeightedGraphs.jl:181",
      " [3] top-level scope",
      "   @ In[162]:1",
      " [4] eval",
      "   @ .\\boot.jl:368 [inlined]",
      " [5] include_string(mapexpr::typeof(REPL.softscope), mod::Module, code::String, filename::String)",
      "   @ Base .\\loading.jl:1428"
     ]
    }
   ],
   "source": [
    "distance(d1)"
   ]
  },
  {
   "cell_type": "code",
   "execution_count": 105,
   "id": "3329f481-de65-4e96-a5a0-4c6c58814416",
   "metadata": {},
   "outputs": [
    {
     "data": {
      "image/svg+xml": [
       "<?xml version=\"1.0\" encoding=\"utf-8\"?>\n",
       "<svg xmlns=\"http://www.w3.org/2000/svg\" xmlns:xlink=\"http://www.w3.org/1999/xlink\" width=\"600\" height=\"400\" viewBox=\"0 0 2400 1600\">\n",
       "<defs>\n",
       "  <clipPath id=\"clip090\">\n",
       "    <rect x=\"0\" y=\"0\" width=\"2400\" height=\"1600\"/>\n",
       "  </clipPath>\n",
       "</defs>\n",
       "<path clip-path=\"url(#clip090)\" d=\"\n",
       "M0 1600 L2400 1600 L2400 0 L0 0  Z\n",
       "  \" fill=\"#ffffff\" fill-rule=\"evenodd\" fill-opacity=\"1\"/>\n",
       "<defs>\n",
       "  <clipPath id=\"clip091\">\n",
       "    <rect x=\"480\" y=\"0\" width=\"1681\" height=\"1600\"/>\n",
       "  </clipPath>\n",
       "</defs>\n",
       "<path clip-path=\"url(#clip090)\" d=\"\n",
       "M447.244 1552.76 L1952.76 1552.76 L1952.76 47.2441 L447.244 47.2441  Z\n",
       "  \" fill=\"#ffffff\" fill-rule=\"evenodd\" fill-opacity=\"1\"/>\n",
       "<defs>\n",
       "  <clipPath id=\"clip092\">\n",
       "    <rect x=\"447\" y=\"47\" width=\"1507\" height=\"1507\"/>\n",
       "  </clipPath>\n",
       "</defs>\n",
       "<polyline clip-path=\"url(#clip092)\" style=\"stroke:#000000; stroke-linecap:round; stroke-linejoin:round; stroke-width:4; stroke-opacity:1; fill:none\" points=\"\n",
       "  1364.26,1196.63 1737.68,906.052 \n",
       "  \"/>\n",
       "<polyline clip-path=\"url(#clip092)\" style=\"stroke:#000000; stroke-linecap:round; stroke-linejoin:round; stroke-width:4; stroke-opacity:1; fill:none\" points=\"\n",
       "  1364.26,1196.63 1405.08,520.341 \n",
       "  \"/>\n",
       "<polyline clip-path=\"url(#clip092)\" style=\"stroke:#000000; stroke-linecap:round; stroke-linejoin:round; stroke-width:4; stroke-opacity:1; fill:none\" points=\"\n",
       "  1364.26,1196.63 918.147,1337.68 \n",
       "  \"/>\n",
       "<polyline clip-path=\"url(#clip092)\" style=\"stroke:#000000; stroke-linecap:round; stroke-linejoin:round; stroke-width:4; stroke-opacity:1; fill:none\" points=\"\n",
       "  1737.68,906.052 1405.08,520.341 \n",
       "  \"/>\n",
       "<polyline clip-path=\"url(#clip092)\" style=\"stroke:#000000; stroke-linecap:round; stroke-linejoin:round; stroke-width:4; stroke-opacity:1; fill:none\" points=\"\n",
       "  1405.08,520.341 983.056,262.317 \n",
       "  \"/>\n",
       "<polyline clip-path=\"url(#clip092)\" style=\"stroke:#000000; stroke-linecap:round; stroke-linejoin:round; stroke-width:4; stroke-opacity:1; fill:none\" points=\"\n",
       "  983.056,262.317 662.317,761.156 \n",
       "  \"/>\n",
       "<polyline clip-path=\"url(#clip092)\" style=\"stroke:#000000; stroke-linecap:round; stroke-linejoin:round; stroke-width:4; stroke-opacity:1; fill:none\" points=\"\n",
       "  662.317,761.156 918.147,1337.68 \n",
       "  \"/>\n",
       "<path clip-path=\"url(#clip092)\" d=\"\n",
       "M1528.39 1087.47 L1573.55 1087.47 L1573.55 1015.21 L1528.39 1015.21 L1528.39 1087.47 L1528.39 1087.47  Z\n",
       "  \" fill=\"#ffffff\" fill-rule=\"evenodd\" fill-opacity=\"1\"/>\n",
       "<polyline clip-path=\"url(#clip092)\" style=\"stroke:#000000; stroke-linecap:round; stroke-linejoin:round; stroke-width:0; stroke-opacity:0; fill:none\" points=\"\n",
       "  1528.39,1087.47 1573.55,1087.47 1573.55,1015.21 1528.39,1015.21 1528.39,1087.47 \n",
       "  \"/>\n",
       "<path clip-path=\"url(#clip092)\" d=\"\n",
       "M1362.09 894.619 L1407.25 894.619 L1407.25 822.355 L1362.09 822.355 L1362.09 894.619 L1362.09 894.619  Z\n",
       "  \" fill=\"#ffffff\" fill-rule=\"evenodd\" fill-opacity=\"1\"/>\n",
       "<polyline clip-path=\"url(#clip092)\" style=\"stroke:#000000; stroke-linecap:round; stroke-linejoin:round; stroke-width:0; stroke-opacity:0; fill:none\" points=\"\n",
       "  1362.09,894.619 1407.25,894.619 1407.25,822.355 1362.09,822.355 1362.09,894.619 \n",
       "  \"/>\n",
       "<path clip-path=\"url(#clip092)\" d=\"\n",
       "M1548.8 749.329 L1593.96 749.329 L1593.96 677.064 L1548.8 677.064 L1548.8 749.329 L1548.8 749.329  Z\n",
       "  \" fill=\"#ffffff\" fill-rule=\"evenodd\" fill-opacity=\"1\"/>\n",
       "<polyline clip-path=\"url(#clip092)\" style=\"stroke:#000000; stroke-linecap:round; stroke-linejoin:round; stroke-width:0; stroke-opacity:0; fill:none\" points=\"\n",
       "  1548.8,749.329 1593.96,749.329 1593.96,677.064 1548.8,677.064 1548.8,749.329 \n",
       "  \"/>\n",
       "<path clip-path=\"url(#clip092)\" d=\"\n",
       "M1171.49 427.461 L1216.65 427.461 L1216.65 355.197 L1171.49 355.197 L1171.49 427.461 L1171.49 427.461  Z\n",
       "  \" fill=\"#ffffff\" fill-rule=\"evenodd\" fill-opacity=\"1\"/>\n",
       "<polyline clip-path=\"url(#clip092)\" style=\"stroke:#000000; stroke-linecap:round; stroke-linejoin:round; stroke-width:0; stroke-opacity:0; fill:none\" points=\"\n",
       "  1171.49,427.461 1216.65,427.461 1216.65,355.197 1171.49,355.197 1171.49,427.461 \n",
       "  \"/>\n",
       "<path clip-path=\"url(#clip092)\" d=\"\n",
       "M800.104 547.869 L845.269 547.869 L845.269 475.604 L800.104 475.604 L800.104 547.869 L800.104 547.869  Z\n",
       "  \" fill=\"#ffffff\" fill-rule=\"evenodd\" fill-opacity=\"1\"/>\n",
       "<polyline clip-path=\"url(#clip092)\" style=\"stroke:#000000; stroke-linecap:round; stroke-linejoin:round; stroke-width:0; stroke-opacity:0; fill:none\" points=\"\n",
       "  800.104,547.869 845.269,547.869 845.269,475.604 800.104,475.604 800.104,547.869 \n",
       "  \"/>\n",
       "<path clip-path=\"url(#clip092)\" d=\"\n",
       "M767.649 1085.55 L812.815 1085.55 L812.815 1013.29 L767.649 1013.29 L767.649 1085.55 L767.649 1085.55  Z\n",
       "  \" fill=\"#ffffff\" fill-rule=\"evenodd\" fill-opacity=\"1\"/>\n",
       "<polyline clip-path=\"url(#clip092)\" style=\"stroke:#000000; stroke-linecap:round; stroke-linejoin:round; stroke-width:0; stroke-opacity:0; fill:none\" points=\"\n",
       "  767.649,1085.55 812.815,1085.55 812.815,1013.29 767.649,1013.29 767.649,1085.55 \n",
       "  \"/>\n",
       "<path clip-path=\"url(#clip092)\" d=\"\n",
       "M1388.35 1196.63 L1376.3 1175.77 L1352.22 1175.77 L1340.17 1196.63 L1352.22 1217.49 L1376.3 1217.49 L1388.35 1196.63 L1388.35 1196.63  Z\n",
       "  \" fill=\"#009af9\" fill-rule=\"evenodd\" fill-opacity=\"1\"/>\n",
       "<polyline clip-path=\"url(#clip092)\" style=\"stroke:#000000; stroke-linecap:round; stroke-linejoin:round; stroke-width:4; stroke-opacity:1; fill:none\" points=\"\n",
       "  1388.35,1196.63 1376.3,1175.77 1352.22,1175.77 1340.17,1196.63 1352.22,1217.49 1376.3,1217.49 1388.35,1196.63 \n",
       "  \"/>\n",
       "<path clip-path=\"url(#clip092)\" d=\"\n",
       "M1761.77 906.052 L1749.73 885.191 L1725.64 885.191 L1713.59 906.052 L1725.64 926.913 L1749.73 926.913 L1761.77 906.052 L1761.77 906.052  Z\n",
       "  \" fill=\"#009af9\" fill-rule=\"evenodd\" fill-opacity=\"1\"/>\n",
       "<polyline clip-path=\"url(#clip092)\" style=\"stroke:#000000; stroke-linecap:round; stroke-linejoin:round; stroke-width:4; stroke-opacity:1; fill:none\" points=\"\n",
       "  1761.77,906.052 1749.73,885.191 1725.64,885.191 1713.59,906.052 1725.64,926.913 1749.73,926.913 1761.77,906.052 \n",
       "  \"/>\n",
       "<path clip-path=\"url(#clip092)\" d=\"\n",
       "M1429.17 520.341 L1417.13 499.48 L1393.04 499.48 L1380.99 520.341 L1393.04 541.202 L1417.13 541.202 L1429.17 520.341 L1429.17 520.341  Z\n",
       "  \" fill=\"#009af9\" fill-rule=\"evenodd\" fill-opacity=\"1\"/>\n",
       "<polyline clip-path=\"url(#clip092)\" style=\"stroke:#000000; stroke-linecap:round; stroke-linejoin:round; stroke-width:4; stroke-opacity:1; fill:none\" points=\"\n",
       "  1429.17,520.341 1417.13,499.48 1393.04,499.48 1380.99,520.341 1393.04,541.202 1417.13,541.202 1429.17,520.341 \n",
       "  \"/>\n",
       "<path clip-path=\"url(#clip092)\" d=\"\n",
       "M1007.14 262.317 L995.1 241.456 L971.012 241.456 L958.968 262.317 L971.012 283.178 L995.1 283.178 L1007.14 262.317 L1007.14 262.317  Z\n",
       "  \" fill=\"#009af9\" fill-rule=\"evenodd\" fill-opacity=\"1\"/>\n",
       "<polyline clip-path=\"url(#clip092)\" style=\"stroke:#000000; stroke-linecap:round; stroke-linejoin:round; stroke-width:4; stroke-opacity:1; fill:none\" points=\"\n",
       "  1007.14,262.317 995.1,241.456 971.012,241.456 958.968,262.317 971.012,283.178 995.1,283.178 1007.14,262.317 \n",
       "  \"/>\n",
       "<path clip-path=\"url(#clip092)\" d=\"\n",
       "M686.405 761.156 L674.361 740.295 L650.273 740.295 L638.229 761.156 L650.273 782.017 L674.361 782.017 L686.405 761.156 L686.405 761.156  Z\n",
       "  \" fill=\"#009af9\" fill-rule=\"evenodd\" fill-opacity=\"1\"/>\n",
       "<polyline clip-path=\"url(#clip092)\" style=\"stroke:#000000; stroke-linecap:round; stroke-linejoin:round; stroke-width:4; stroke-opacity:1; fill:none\" points=\"\n",
       "  686.405,761.156 674.361,740.295 650.273,740.295 638.229,761.156 650.273,782.017 674.361,782.017 686.405,761.156 \n",
       "  \"/>\n",
       "<path clip-path=\"url(#clip092)\" d=\"\n",
       "M942.235 1337.68 L930.191 1316.82 L906.103 1316.82 L894.059 1337.68 L906.103 1358.54 L930.191 1358.54 L942.235 1337.68 L942.235 1337.68  Z\n",
       "  \" fill=\"#009af9\" fill-rule=\"evenodd\" fill-opacity=\"1\"/>\n",
       "<polyline clip-path=\"url(#clip092)\" style=\"stroke:#000000; stroke-linecap:round; stroke-linejoin:round; stroke-width:4; stroke-opacity:1; fill:none\" points=\"\n",
       "  942.235,1337.68 930.191,1316.82 906.103,1316.82 894.059,1337.68 906.103,1358.54 930.191,1358.54 942.235,1337.68 \n",
       "  \"/>\n",
       "<path clip-path=\"url(#clip092)\" d=\"M1364.26 1197.03 L1363.91 1196.83 L1363.91 1196.43 L1364.26 1196.23 L1364.61 1196.43 L1364.61 1196.83 Z\" fill=\"#009af9\" fill-rule=\"evenodd\" fill-opacity=\"1\" stroke=\"#000000\" stroke-opacity=\"1\" stroke-width=\"3.2\"/>\n",
       "<path clip-path=\"url(#clip092)\" d=\"M1737.68 906.452 L1737.34 906.252 L1737.34 905.852 L1737.68 905.652 L1738.03 905.852 L1738.03 906.252 Z\" fill=\"#009af9\" fill-rule=\"evenodd\" fill-opacity=\"1\" stroke=\"#000000\" stroke-opacity=\"1\" stroke-width=\"3.2\"/>\n",
       "<path clip-path=\"url(#clip092)\" d=\"M1405.08 520.741 L1404.73 520.541 L1404.73 520.141 L1405.08 519.941 L1405.43 520.141 L1405.43 520.541 Z\" fill=\"#009af9\" fill-rule=\"evenodd\" fill-opacity=\"1\" stroke=\"#000000\" stroke-opacity=\"1\" stroke-width=\"3.2\"/>\n",
       "<path clip-path=\"url(#clip092)\" d=\"M983.056 262.717 L982.71 262.517 L982.71 262.117 L983.056 261.917 L983.402 262.117 L983.402 262.517 Z\" fill=\"#009af9\" fill-rule=\"evenodd\" fill-opacity=\"1\" stroke=\"#000000\" stroke-opacity=\"1\" stroke-width=\"3.2\"/>\n",
       "<path clip-path=\"url(#clip092)\" d=\"M662.317 761.556 L661.971 761.356 L661.971 760.956 L662.317 760.756 L662.664 760.956 L662.664 761.356 Z\" fill=\"#009af9\" fill-rule=\"evenodd\" fill-opacity=\"1\" stroke=\"#000000\" stroke-opacity=\"1\" stroke-width=\"3.2\"/>\n",
       "<path clip-path=\"url(#clip092)\" d=\"M918.147 1338.08 L917.801 1337.88 L917.801 1337.48 L918.147 1337.28 L918.493 1337.48 L918.493 1337.88 Z\" fill=\"#009af9\" fill-rule=\"evenodd\" fill-opacity=\"1\" stroke=\"#000000\" stroke-opacity=\"1\" stroke-width=\"3.2\"/>\n",
       "<path clip-path=\"url(#clip090)\" d=\"M1554.69 1050.16 Q1557.63 1050.79 1559.27 1052.77 Q1560.93 1054.76 1560.93 1057.67 Q1560.93 1062.15 1557.85 1064.6 Q1554.77 1067.05 1549.1 1067.05 Q1547.19 1067.05 1545.17 1066.67 Q1543.16 1066.3 1541.02 1065.55 L1541.02 1061.6 Q1542.72 1062.59 1544.74 1063.1 Q1546.77 1063.61 1548.98 1063.61 Q1552.82 1063.61 1554.83 1062.09 Q1556.86 1060.57 1556.86 1057.67 Q1556.86 1055 1554.97 1053.5 Q1553.11 1051.98 1549.77 1051.98 L1546.24 1051.98 L1546.24 1048.62 L1549.93 1048.62 Q1552.95 1048.62 1554.55 1047.42 Q1556.15 1046.21 1556.15 1043.94 Q1556.15 1041.61 1554.49 1040.37 Q1552.85 1039.12 1549.77 1039.12 Q1548.09 1039.12 1546.16 1039.48 Q1544.24 1039.85 1541.93 1040.62 L1541.93 1036.97 Q1544.26 1036.32 1546.28 1036 Q1548.33 1035.68 1550.13 1035.68 Q1554.79 1035.68 1557.5 1037.8 Q1560.22 1039.91 1560.22 1043.51 Q1560.22 1046.03 1558.78 1047.77 Q1557.34 1049.49 1554.69 1050.16 Z\" fill=\"#000000\" fill-rule=\"evenodd\" fill-opacity=\"1\" /><path clip-path=\"url(#clip090)\" d=\"M1374.95 843.367 L1394.39 843.367 L1394.39 845.109 L1383.42 873.607 L1379.14 873.607 L1389.47 846.81 L1374.95 846.81 L1374.95 843.367 Z\" fill=\"#000000\" fill-rule=\"evenodd\" fill-opacity=\"1\" /><path clip-path=\"url(#clip090)\" d=\"M1562.88 698.077 L1578.94 698.077 L1578.94 701.52 L1566.62 701.52 L1566.62 708.933 Q1567.51 708.629 1568.4 708.487 Q1569.3 708.325 1570.19 708.325 Q1575.25 708.325 1578.21 711.1 Q1581.16 713.875 1581.16 718.615 Q1581.16 723.496 1578.13 726.21 Q1575.09 728.904 1569.56 728.904 Q1567.66 728.904 1565.67 728.58 Q1563.71 728.256 1561.6 727.608 L1561.6 723.496 Q1563.42 724.488 1565.37 724.975 Q1567.31 725.461 1569.48 725.461 Q1572.98 725.461 1575.03 723.617 Q1577.07 721.774 1577.07 718.615 Q1577.07 715.455 1575.03 713.612 Q1572.98 711.769 1569.48 711.769 Q1567.84 711.769 1566.2 712.133 Q1564.58 712.498 1562.88 713.267 L1562.88 698.077 Z\" fill=\"#000000\" fill-rule=\"evenodd\" fill-opacity=\"1\" /><path clip-path=\"url(#clip090)\" d=\"M1184.35 376.209 L1203.79 376.209 L1203.79 377.951 L1192.81 406.449 L1188.54 406.449 L1198.87 379.652 L1184.35 379.652 L1184.35 376.209 Z\" fill=\"#000000\" fill-rule=\"evenodd\" fill-opacity=\"1\" /><path clip-path=\"url(#clip090)\" d=\"M812.964 496.617 L832.409 496.617 L832.409 498.359 L821.431 526.857 L817.157 526.857 L827.487 500.06 L812.964 500.06 L812.964 496.617 Z\" fill=\"#000000\" fill-rule=\"evenodd\" fill-opacity=\"1\" /><path clip-path=\"url(#clip090)\" d=\"M780.51 1034.3 L799.954 1034.3 L799.954 1036.04 L788.976 1064.54 L784.703 1064.54 L795.032 1037.74 L780.51 1037.74 L780.51 1034.3 Z\" fill=\"#000000\" fill-rule=\"evenodd\" fill-opacity=\"1\" /><path clip-path=\"url(#clip090)\" d=\"M1364.26 1185.54 L1358.71 1200.59 L1369.83 1200.59 L1364.26 1185.54 M1361.95 1181.51 L1366.59 1181.51 L1378.11 1211.75 L1373.86 1211.75 L1371.11 1204 L1357.48 1204 L1354.72 1211.75 L1350.41 1211.75 L1361.95 1181.51 Z\" fill=\"#000000\" fill-rule=\"evenodd\" fill-opacity=\"1\" /><path clip-path=\"url(#clip090)\" d=\"M1731.05 906.731 L1731.05 917.81 L1737.61 917.81 Q1740.91 917.81 1742.49 916.453 Q1744.09 915.076 1744.09 912.26 Q1744.09 909.424 1742.49 908.088 Q1740.91 906.731 1737.61 906.731 L1731.05 906.731 M1731.05 894.294 L1731.05 903.409 L1737.11 903.409 Q1740.1 903.409 1741.56 902.295 Q1743.04 901.161 1743.04 898.852 Q1743.04 896.563 1741.56 895.429 Q1740.1 894.294 1737.11 894.294 L1731.05 894.294 M1726.96 890.932 L1737.41 890.932 Q1742.09 890.932 1744.62 892.877 Q1747.15 894.821 1747.15 898.406 Q1747.15 901.181 1745.86 902.822 Q1744.56 904.462 1742.05 904.867 Q1745.07 905.515 1746.73 907.581 Q1748.41 909.627 1748.41 912.706 Q1748.41 916.757 1745.65 918.964 Q1742.9 921.172 1737.81 921.172 L1726.96 921.172 L1726.96 890.932 Z\" fill=\"#000000\" fill-rule=\"evenodd\" fill-opacity=\"1\" /><path clip-path=\"url(#clip090)\" d=\"M1417.27 507.55 L1417.27 511.864 Q1415.21 509.94 1412.86 508.988 Q1410.53 508.036 1407.9 508.036 Q1402.71 508.036 1399.96 511.216 Q1397.2 514.376 1397.2 520.371 Q1397.2 526.346 1399.96 529.526 Q1402.71 532.686 1407.9 532.686 Q1410.53 532.686 1412.86 531.734 Q1415.21 530.782 1417.27 528.858 L1417.27 533.132 Q1415.13 534.59 1412.72 535.319 Q1410.33 536.048 1407.65 536.048 Q1400.79 536.048 1396.84 531.856 Q1392.89 527.643 1392.89 520.371 Q1392.89 513.08 1396.84 508.887 Q1400.79 504.674 1407.65 504.674 Q1410.37 504.674 1412.76 505.403 Q1415.17 506.112 1417.27 507.55 Z\" fill=\"#000000\" fill-rule=\"evenodd\" fill-opacity=\"1\" /><path clip-path=\"url(#clip090)\" d=\"M974.438 250.559 L974.438 274.075 L979.38 274.075 Q985.638 274.075 988.535 271.239 Q991.452 268.404 991.452 262.287 Q991.452 256.21 988.535 253.395 Q985.638 250.559 979.38 250.559 L974.438 250.559 M970.346 247.197 L978.752 247.197 Q987.542 247.197 991.654 250.863 Q995.766 254.509 995.766 262.287 Q995.766 270.105 991.634 273.771 Q987.502 277.437 978.752 277.437 L970.346 277.437 L970.346 247.197 Z\" fill=\"#000000\" fill-rule=\"evenodd\" fill-opacity=\"1\" /><path clip-path=\"url(#clip090)\" d=\"M652.575 746.036 L671.695 746.036 L671.695 749.48 L656.666 749.48 L656.666 758.432 L671.067 758.432 L671.067 761.875 L656.666 761.875 L656.666 772.833 L672.06 772.833 L672.06 776.276 L652.575 776.276 L652.575 746.036 Z\" fill=\"#000000\" fill-rule=\"evenodd\" fill-opacity=\"1\" /><path clip-path=\"url(#clip090)\" d=\"M909.458 1322.56 L926.836 1322.56 L926.836 1326.01 L913.549 1326.01 L913.549 1334.92 L925.54 1334.92 L925.54 1338.36 L913.549 1338.36 L913.549 1352.8 L909.458 1352.8 L909.458 1322.56 Z\" fill=\"#000000\" fill-rule=\"evenodd\" fill-opacity=\"1\" /></svg>\n"
      ]
     },
     "execution_count": 105,
     "metadata": {},
     "output_type": "execute_result"
    }
   ],
   "source": [
    "graphplot(g2.graph, names=[\"A\",\"B\",\"C\",\"D\",\"E\",\"F\"], edgelabel = Dict((1,2)=>3,(2,3)=>5,(1,3) => 7,(3,4) => 7,(4,5) => 7,(5,6) => 7,(6,1) => 5),curves=false)"
   ]
  },
  {
   "cell_type": "code",
   "execution_count": 21,
   "id": "118a6728-ef1c-4ee6-bb2f-7a4f6f76796d",
   "metadata": {},
   "outputs": [
    {
     "data": {
      "text/plain": [
       "3-element Vector{Main.WeightedGraphs.Edge}:\n",
       " (:A, :B, 3)\n",
       " (:B, :C, 5)\n",
       " (:C, :A, 7)"
      ]
     },
     "execution_count": 21,
     "metadata": {},
     "output_type": "execute_result"
    }
   ],
   "source": [
    "g.edges"
   ]
  },
  {
   "cell_type": "code",
   "execution_count": 22,
   "id": "9be14e6e-5149-4efd-b653-574282fe12e8",
   "metadata": {},
   "outputs": [
    {
     "data": {
      "text/plain": [
       "7-element Vector{Main.WeightedGraphs.Edge}:\n",
       " (:A, :B, 3)\n",
       " (:B, :C, 5)\n",
       " (:C, :A, 7)\n",
       " (:C, :D, 7)\n",
       " (:D, :E, 7)\n",
       " (:E, :F, 7)\n",
       " (:F, :A, 5)"
      ]
     },
     "execution_count": 22,
     "metadata": {},
     "output_type": "execute_result"
    }
   ],
   "source": [
    "g2.edges"
   ]
  },
  {
   "cell_type": "code",
   "execution_count": 23,
   "id": "2092fbf3-3078-4c11-905d-f2fdcb0b5a51",
   "metadata": {},
   "outputs": [
    {
     "data": {
      "text/plain": [
       "6-element Vector{Vertex}:\n",
       " A\n",
       " B\n",
       " C\n",
       " D\n",
       " C\n",
       " A"
      ]
     },
     "execution_count": 23,
     "metadata": {},
     "output_type": "execute_result"
    }
   ],
   "source": [
    "p2 = [Vertex(:A), Vertex(:B), Vertex(:C), Vertex(:D), Vertex(:C), Vertex(:A)]"
   ]
  },
  {
   "cell_type": "code",
   "execution_count": 53,
   "id": "6176907b-d502-437d-aff1-44820c9aeb28",
   "metadata": {},
   "outputs": [
    {
     "ename": "LoadError",
     "evalue": "ArgumentError: Two of the vertices in the path do not share an edge on the the graph",
     "output_type": "error",
     "traceback": [
      "ArgumentError: Two of the vertices in the path do not share an edge on the the graph",
      "",
      "Stacktrace:",
      " [1] Path(p::Vector{Vertex}, g::WeightedGraph)",
      "   @ Main.WeightedGraphs C:\\Users\\Camer\\Documents\\My-Repositories\\Sci-Comp-ShortestPath\\WeightedGraphs.jl:92",
      " [2] top-level scope",
      "   @ In[53]:1",
      " [3] eval",
      "   @ .\\boot.jl:368 [inlined]",
      " [4] include_string(mapexpr::typeof(REPL.softscope), mod::Module, code::String, filename::String)",
      "   @ Base .\\loading.jl:1428"
     ]
    }
   ],
   "source": [
    "d2 = Path(p2,g2)"
   ]
  },
  {
   "cell_type": "code",
   "execution_count": 38,
   "id": "4c1c22d4-097c-49f0-b3b6-9a88b33bcb8b",
   "metadata": {},
   "outputs": [
    {
     "ename": "LoadError",
     "evalue": "UndefVarError: d2 not defined",
     "output_type": "error",
     "traceback": [
      "UndefVarError: d2 not defined",
      "",
      "Stacktrace:",
      " [1] top-level scope",
      "   @ In[38]:1",
      " [2] eval",
      "   @ .\\boot.jl:368 [inlined]",
      " [3] include_string(mapexpr::typeof(REPL.softscope), mod::Module, code::String, filename::String)",
      "   @ Base .\\loading.jl:1428"
     ]
    }
   ],
   "source": [
    "distance(d2)"
   ]
  },
  {
   "cell_type": "code",
   "execution_count": 26,
   "id": "7ce4cc96-0c01-4dc9-8bf5-7553eeee85bf",
   "metadata": {},
   "outputs": [
    {
     "data": {
      "text/plain": [
       "4-element Vector{Vertex}:\n",
       " A\n",
       " D\n",
       " E\n",
       " F"
      ]
     },
     "execution_count": 26,
     "metadata": {},
     "output_type": "execute_result"
    }
   ],
   "source": [
    "p3 = [v1,v4,v5,v6]"
   ]
  },
  {
   "cell_type": "code",
   "execution_count": 40,
   "id": "8436352e-6ec1-432f-aef1-9be9e1c37f5f",
   "metadata": {},
   "outputs": [
    {
     "ename": "LoadError",
     "evalue": "ArgumentError: Two of the vertices in the path do not share an edge on the the graph",
     "output_type": "error",
     "traceback": [
      "ArgumentError: Two of the vertices in the path do not share an edge on the the graph",
      "",
      "Stacktrace:",
      " [1] Path(p::Vector{Vertex}, g::WeightedGraph)",
      "   @ Main.WeightedGraphs C:\\Users\\Camer\\Documents\\My-Repositories\\Sci-Comp-ShortestPath\\WeightedGraphs.jl:92",
      " [2] top-level scope",
      "   @ In[40]:1",
      " [3] eval",
      "   @ .\\boot.jl:368 [inlined]",
      " [4] include_string(mapexpr::typeof(REPL.softscope), mod::Module, code::String, filename::String)",
      "   @ Base .\\loading.jl:1428"
     ]
    }
   ],
   "source": [
    "d3 = Path(p3,g2)"
   ]
  },
  {
   "cell_type": "code",
   "execution_count": 52,
   "id": "f9da6fb0-39a9-497d-919f-3a0bdbcef463",
   "metadata": {},
   "outputs": [
    {
     "ename": "LoadError",
     "evalue": "ArgumentError: Two of the vertices in the path do not share an edge on the the graph",
     "output_type": "error",
     "traceback": [
      "ArgumentError: Two of the vertices in the path do not share an edge on the the graph",
      "",
      "Stacktrace:",
      " [1] Path(p::Vector{Vertex}, g::WeightedGraph)",
      "   @ Main.WeightedGraphs C:\\Users\\Camer\\Documents\\My-Repositories\\Sci-Comp-ShortestPath\\WeightedGraphs.jl:92",
      " [2] top-level scope",
      "   @ In[52]:1",
      " [3] eval",
      "   @ .\\boot.jl:368 [inlined]",
      " [4] include_string(mapexpr::typeof(REPL.softscope), mod::Module, code::String, filename::String)",
      "   @ Base .\\loading.jl:1428"
     ]
    }
   ],
   "source": [
    "distance(Path(p3,g2))"
   ]
  },
  {
   "cell_type": "code",
   "execution_count": 29,
   "id": "6cf093ab-4b6a-4237-8d3e-e6720b24fced",
   "metadata": {},
   "outputs": [
    {
     "data": {
      "text/plain": [
       "5-element Vector{Vertex}:\n",
       " B\n",
       " A\n",
       " C\n",
       " A\n",
       " B"
      ]
     },
     "execution_count": 29,
     "metadata": {},
     "output_type": "execute_result"
    }
   ],
   "source": [
    "p4 = [v2,v1,v3,v1,v2]"
   ]
  },
  {
   "cell_type": "code",
   "execution_count": 41,
   "id": "fe0724a7-fc77-4e1a-8b4d-2ce6c8f25185",
   "metadata": {},
   "outputs": [
    {
     "ename": "LoadError",
     "evalue": "BoundsError: attempt to access 3-element Vector{Main.WeightedGraphs.Edge} at index [4]",
     "output_type": "error",
     "traceback": [
      "BoundsError: attempt to access 3-element Vector{Main.WeightedGraphs.Edge} at index [4]",
      "",
      "Stacktrace:",
      " [1] getindex",
      "   @ .\\array.jl:924 [inlined]",
      " [2] doPathVerticesHaveEdgesOnGraph",
      "   @ C:\\Users\\Camer\\Documents\\My-Repositories\\Sci-Comp-ShortestPath\\WeightedGraphs.jl:136 [inlined]",
      " [3] Path(p::Vector{Vertex}, g::WeightedGraph)",
      "   @ Main.WeightedGraphs C:\\Users\\Camer\\Documents\\My-Repositories\\Sci-Comp-ShortestPath\\WeightedGraphs.jl:92",
      " [4] top-level scope",
      "   @ In[41]:1",
      " [5] eval",
      "   @ .\\boot.jl:368 [inlined]",
      " [6] include_string(mapexpr::typeof(REPL.softscope), mod::Module, code::String, filename::String)",
      "   @ Base .\\loading.jl:1428"
     ]
    }
   ],
   "source": [
    "d4 = Path(p4,g)"
   ]
  },
  {
   "cell_type": "code",
   "execution_count": 51,
   "id": "60c7b332-823c-4f6d-8e36-e03a25e8e610",
   "metadata": {},
   "outputs": [
    {
     "ename": "LoadError",
     "evalue": "UndefVarError: d4 not defined",
     "output_type": "error",
     "traceback": [
      "UndefVarError: d4 not defined",
      "",
      "Stacktrace:",
      " [1] top-level scope",
      "   @ In[51]:1",
      " [2] eval",
      "   @ .\\boot.jl:368 [inlined]",
      " [3] include_string(mapexpr::typeof(REPL.softscope), mod::Module, code::String, filename::String)",
      "   @ Base .\\loading.jl:1428"
     ]
    }
   ],
   "source": [
    "distance(d4)"
   ]
  },
  {
   "cell_type": "code",
   "execution_count": 32,
   "id": "a37800e6-eb28-4b97-8126-22efb4645b36",
   "metadata": {},
   "outputs": [
    {
     "data": {
      "text/plain": [
       "Vertex[A, B, C]Main.WeightedGraphs.Edge[(:A, :B, 3), (:B, :C, 5), (:C, :A, 7)]"
      ]
     },
     "execution_count": 32,
     "metadata": {},
     "output_type": "execute_result"
    }
   ],
   "source": [
    "g"
   ]
  },
  {
   "cell_type": "code",
   "execution_count": 49,
   "id": "904b9958-324b-45c6-95b4-e5a97f9da2d4",
   "metadata": {},
   "outputs": [
    {
     "data": {
      "text/plain": [
       "Path"
      ]
     },
     "execution_count": 49,
     "metadata": {},
     "output_type": "execute_result"
    }
   ],
   "source": [
    "typeof(d1)"
   ]
  },
  {
   "cell_type": "code",
   "execution_count": 50,
   "id": "309c54db-7741-4b5a-adca-661f159cbc17",
   "metadata": {},
   "outputs": [
    {
     "data": {
      "text/plain": [
       "true"
      ]
     },
     "execution_count": 50,
     "metadata": {},
     "output_type": "execute_result"
    }
   ],
   "source": [
    "typeof(d1) == Path"
   ]
  },
  {
   "cell_type": "code",
   "execution_count": 158,
   "id": "070e0961-424a-4362-af9c-43e46ea3b931",
   "metadata": {},
   "outputs": [
    {
     "ename": "LoadError",
     "evalue": "ArgumentError: Two of the vertices in the path do not share an edge on the the graph",
     "output_type": "error",
     "traceback": [
      "ArgumentError: Two of the vertices in the path do not share an edge on the the graph",
      "",
      "Stacktrace:",
      " [1] Path(p::Vector{Vertex}, g::WeightedGraph)",
      "   @ Main.WeightedGraphs C:\\Users\\Camer\\Documents\\My-Repositories\\Sci-Comp-ShortestPath\\WeightedGraphs.jl:114",
      " [2] top-level scope",
      "   @ In[158]:1",
      " [3] eval",
      "   @ .\\boot.jl:368 [inlined]",
      " [4] include_string(mapexpr::typeof(REPL.softscope), mod::Module, code::String, filename::String)",
      "   @ Base .\\loading.jl:1428"
     ]
    }
   ],
   "source": [
    "typeof(Path(p3,g2))"
   ]
  },
  {
   "cell_type": "code",
   "execution_count": 190,
   "id": "88b486f3-4492-443f-bc93-87951f1b77aa",
   "metadata": {},
   "outputs": [
    {
     "data": {
      "text/plain": [
       "Vertex[]Main.WeightedGraphs.Edge[]"
      ]
     },
     "execution_count": 190,
     "metadata": {},
     "output_type": "execute_result"
    }
   ],
   "source": [
    "E1 = WeightedGraphs.Edge(:A,:B,9)\n",
    "E2 = WeightedGraphs.Edge(:A,:C,12)\n",
    "E3 = WeightedGraphs.Edge(:A,:D,15)\n",
    "E4 = WeightedGraphs.Edge(:A,:E,8)\n",
    "E5 = WeightedGraphs.Edge(:A,:F,20)\n",
    "E6 = WeightedGraphs.Edge(:B,:C,24)\n",
    "E7 = WeightedGraphs.Edge(:B,:D,2)\n",
    "E8 = WeightedGraphs.Edge(:B,:E,4)\n",
    "E9 = WeightedGraphs.Edge(:B,:F,10)\n",
    "E10 = WeightedGraphs.Edge(:C,:D,15)\n",
    "E11 = WeightedGraphs.Edge(:C,:E,12)\n",
    "E12 = WeightedGraphs.Edge(:C,:F,7)\n",
    "E13 = WeightedGraphs.Edge(:D,:E,16)\n",
    "E14 = WeightedGraphs.Edge(:D,:F,18)\n",
    "E15 = WeightedGraphs.Edge(:E,:F,22)\n",
    "g3 = WeightedGraph()"
   ]
  },
  {
   "cell_type": "code",
   "execution_count": 191,
   "id": "ae5c1da0-85d6-4791-b027-9df8c447c788",
   "metadata": {},
   "outputs": [
    {
     "data": {
      "text/plain": [
       "Vertex[A, B, C, D, E, F]Main.WeightedGraphs.Edge[(:A, :B, 9), (:A, :C, 12), (:A, :D, 15), (:A, :E, 8), (:A, :F, 20), (:B, :C, 24), (:B, :D, 2), (:B, :E, 4), (:B, :F, 10), (:C, :D, 15), (:C, :E, 12), (:C, :F, 7), (:D, :E, 16), (:D, :F, 18), (:E, :F, 22)]"
      ]
     },
     "execution_count": 191,
     "metadata": {},
     "output_type": "execute_result"
    }
   ],
   "source": [
    "addVertices!(g3,v1,v2,v3,v4,v5,v6)\n",
    "addEdges!(g3,E1,E2,E3,E4,E5,E6,E7,E8,E9,E10,E11,E12,E13,E14,E15)\n",
    "g3"
   ]
  },
  {
   "cell_type": "code",
   "execution_count": 64,
   "id": "fee9abdf-818d-4afe-a65a-0cc340b7292b",
   "metadata": {},
   "outputs": [
    {
     "data": {
      "text/plain": [
       "\"A\""
      ]
     },
     "execution_count": 64,
     "metadata": {},
     "output_type": "execute_result"
    }
   ],
   "source": [
    "string(g3.vertices[1])"
   ]
  },
  {
   "cell_type": "code",
   "execution_count": 74,
   "id": "d53cb89f-e6f2-41bd-80bf-67ab81c3d3f1",
   "metadata": {},
   "outputs": [
    {
     "data": {
      "text/plain": [
       "6-element Vector{Any}:\n",
       " \"A\"\n",
       " \"B\"\n",
       " \"C\"\n",
       " \"D\"\n",
       " \"E\"\n",
       " \"F\""
      ]
     },
     "execution_count": 74,
     "metadata": {},
     "output_type": "execute_result"
    }
   ],
   "source": [
    "names = []\n",
    "for i in 1:length(g3.vertices)\n",
    "  push!(names,string(g3.vertices[i]))\n",
    "end\n",
    "names"
   ]
  },
  {
   "cell_type": "code",
   "execution_count": 77,
   "id": "5abfbc2d-28dc-470c-ad2d-c74b2faed4da",
   "metadata": {},
   "outputs": [
    {
     "data": {
      "text/plain": [
       "Dict{Any, Any} with 1 entry:\n",
       "  (1, 2) => 3"
      ]
     },
     "execution_count": 77,
     "metadata": {},
     "output_type": "execute_result"
    }
   ],
   "source": [
    "edgelabel2=Dict()\n",
    "push!(edgelabel2,(1,2)=>3)"
   ]
  },
  {
   "cell_type": "code",
   "execution_count": 79,
   "id": "c633d280-1593-4a42-879f-47230439424c",
   "metadata": {},
   "outputs": [
    {
     "data": {
      "text/plain": [
       "9"
      ]
     },
     "execution_count": 79,
     "metadata": {},
     "output_type": "execute_result"
    }
   ],
   "source": [
    "g3.edges[1].weight"
   ]
  },
  {
   "cell_type": "code",
   "execution_count": 86,
   "id": "70439747-e4ed-48cf-8eb0-f71ef09e31e3",
   "metadata": {},
   "outputs": [
    {
     "data": {
      "text/plain": [
       "true"
      ]
     },
     "execution_count": 86,
     "metadata": {},
     "output_type": "execute_result"
    }
   ],
   "source": [
    "g3.edges[1].start == Symbol(g3.vertices[1])"
   ]
  },
  {
   "cell_type": "code",
   "execution_count": 189,
   "id": "4589e6fa-942f-4dd7-bd37-783c71a485a5",
   "metadata": {},
   "outputs": [
    {
     "data": {
      "text/plain": [
       "Dict{Any, Any} with 15 entries:\n",
       "  (4, 5) => 16\n",
       "  (1, 2) => 9\n",
       "  (2, 5) => 4\n",
       "  (1, 3) => 10\n",
       "  (1, 4) => 15\n",
       "  (4, 6) => 18\n",
       "  (2, 6) => 10\n",
       "  (3, 4) => 15\n",
       "  (5, 6) => 22\n",
       "  (1, 5) => 8\n",
       "  (1, 6) => 20\n",
       "  (3, 5) => 12\n",
       "  (2, 3) => 24\n",
       "  (2, 4) => 2\n",
       "  (3, 6) => 7"
      ]
     },
     "execution_count": 189,
     "metadata": {},
     "output_type": "execute_result"
    }
   ],
   "source": [
    "edgelabel=Dict()\n",
    "for i in 1:length(g3.edges)\n",
    "    for s in 1:length(g3.vertices)\n",
    "        for f in 1:length(g3.vertices)\n",
    "            if g3.edges[i].start == Symbol(g3.vertices[s]) && g3.edges[i].finish == Symbol(g3.vertices[f])\n",
    "                push!(edgelabel,(s,f) => g3.edges[i].weight)\n",
    "            end\n",
    "        end\n",
    "    end\n",
    "end\n",
    "edgelabel"
   ]
  },
  {
   "cell_type": "code",
   "execution_count": 96,
   "id": "2d02c55c-8b7a-4eaa-b3f4-48f3a7c6e28f",
   "metadata": {},
   "outputs": [
    {
     "data": {
      "text/plain": [
       "{6, 15} undirected simple Int64 graph"
      ]
     },
     "execution_count": 96,
     "metadata": {},
     "output_type": "execute_result"
    }
   ],
   "source": [
    "g3.graph"
   ]
  },
  {
   "cell_type": "code",
   "execution_count": 115,
   "id": "0c5fbd08-7a60-4318-b793-815f4f434aae",
   "metadata": {},
   "outputs": [
    {
     "data": {
      "image/svg+xml": [
       "<?xml version=\"1.0\" encoding=\"utf-8\"?>\n",
       "<svg xmlns=\"http://www.w3.org/2000/svg\" xmlns:xlink=\"http://www.w3.org/1999/xlink\" width=\"600\" height=\"400\" viewBox=\"0 0 2400 1600\">\n",
       "<defs>\n",
       "  <clipPath id=\"clip210\">\n",
       "    <rect x=\"0\" y=\"0\" width=\"2400\" height=\"1600\"/>\n",
       "  </clipPath>\n",
       "</defs>\n",
       "<path clip-path=\"url(#clip210)\" d=\"\n",
       "M0 1600 L2400 1600 L2400 0 L0 0  Z\n",
       "  \" fill=\"#ffffff\" fill-rule=\"evenodd\" fill-opacity=\"1\"/>\n",
       "<defs>\n",
       "  <clipPath id=\"clip211\">\n",
       "    <rect x=\"480\" y=\"0\" width=\"1681\" height=\"1600\"/>\n",
       "  </clipPath>\n",
       "</defs>\n",
       "<path clip-path=\"url(#clip210)\" d=\"\n",
       "M447.244 1552.76 L1952.76 1552.76 L1952.76 47.2441 L447.244 47.2441  Z\n",
       "  \" fill=\"#ffffff\" fill-rule=\"evenodd\" fill-opacity=\"1\"/>\n",
       "<defs>\n",
       "  <clipPath id=\"clip212\">\n",
       "    <rect x=\"447\" y=\"47\" width=\"1507\" height=\"1507\"/>\n",
       "  </clipPath>\n",
       "</defs>\n",
       "<polyline clip-path=\"url(#clip212)\" style=\"stroke:#000000; stroke-linecap:round; stroke-linejoin:round; stroke-width:4; stroke-opacity:1; fill:none\" points=\"\n",
       "  1220.33,764.894 1605.86,340.673 \n",
       "  \"/>\n",
       "<polyline clip-path=\"url(#clip212)\" style=\"stroke:#000000; stroke-linecap:round; stroke-linejoin:round; stroke-width:4; stroke-opacity:1; fill:none\" points=\"\n",
       "  1220.33,764.894 662.317,878.504 \n",
       "  \"/>\n",
       "<polyline clip-path=\"url(#clip212)\" style=\"stroke:#000000; stroke-linecap:round; stroke-linejoin:round; stroke-width:4; stroke-opacity:1; fill:none\" points=\"\n",
       "  1220.33,764.894 1154.54,1337.68 \n",
       "  \"/>\n",
       "<polyline clip-path=\"url(#clip212)\" style=\"stroke:#000000; stroke-linecap:round; stroke-linejoin:round; stroke-width:4; stroke-opacity:1; fill:none\" points=\"\n",
       "  1220.33,764.894 1737.68,1005.28 \n",
       "  \"/>\n",
       "<polyline clip-path=\"url(#clip212)\" style=\"stroke:#000000; stroke-linecap:round; stroke-linejoin:round; stroke-width:4; stroke-opacity:1; fill:none\" points=\"\n",
       "  1220.33,764.894 941.247,262.317 \n",
       "  \"/>\n",
       "<polyline clip-path=\"url(#clip212)\" style=\"stroke:#000000; stroke-linecap:round; stroke-linejoin:round; stroke-width:4; stroke-opacity:1; fill:none\" points=\"\n",
       "  1605.86,340.673 662.317,878.504 \n",
       "  \"/>\n",
       "<polyline clip-path=\"url(#clip212)\" style=\"stroke:#000000; stroke-linecap:round; stroke-linejoin:round; stroke-width:4; stroke-opacity:1; fill:none\" points=\"\n",
       "  1605.86,340.673 1154.54,1337.68 \n",
       "  \"/>\n",
       "<polyline clip-path=\"url(#clip212)\" style=\"stroke:#000000; stroke-linecap:round; stroke-linejoin:round; stroke-width:4; stroke-opacity:1; fill:none\" points=\"\n",
       "  1605.86,340.673 1737.68,1005.28 \n",
       "  \"/>\n",
       "<polyline clip-path=\"url(#clip212)\" style=\"stroke:#000000; stroke-linecap:round; stroke-linejoin:round; stroke-width:4; stroke-opacity:1; fill:none\" points=\"\n",
       "  1605.86,340.673 941.247,262.317 \n",
       "  \"/>\n",
       "<polyline clip-path=\"url(#clip212)\" style=\"stroke:#000000; stroke-linecap:round; stroke-linejoin:round; stroke-width:4; stroke-opacity:1; fill:none\" points=\"\n",
       "  662.317,878.504 1154.54,1337.68 \n",
       "  \"/>\n",
       "<polyline clip-path=\"url(#clip212)\" style=\"stroke:#000000; stroke-linecap:round; stroke-linejoin:round; stroke-width:4; stroke-opacity:1; fill:none\" points=\"\n",
       "  662.317,878.504 1737.68,1005.28 \n",
       "  \"/>\n",
       "<polyline clip-path=\"url(#clip212)\" style=\"stroke:#000000; stroke-linecap:round; stroke-linejoin:round; stroke-width:4; stroke-opacity:1; fill:none\" points=\"\n",
       "  662.317,878.504 941.247,262.317 \n",
       "  \"/>\n",
       "<polyline clip-path=\"url(#clip212)\" style=\"stroke:#000000; stroke-linecap:round; stroke-linejoin:round; stroke-width:4; stroke-opacity:1; fill:none\" points=\"\n",
       "  1154.54,1337.68 1737.68,1005.28 \n",
       "  \"/>\n",
       "<polyline clip-path=\"url(#clip212)\" style=\"stroke:#000000; stroke-linecap:round; stroke-linejoin:round; stroke-width:4; stroke-opacity:1; fill:none\" points=\"\n",
       "  1154.54,1337.68 941.247,262.317 \n",
       "  \"/>\n",
       "<polyline clip-path=\"url(#clip212)\" style=\"stroke:#000000; stroke-linecap:round; stroke-linejoin:round; stroke-width:4; stroke-opacity:1; fill:none\" points=\"\n",
       "  1737.68,1005.28 941.247,262.317 \n",
       "  \"/>\n",
       "<path clip-path=\"url(#clip212)\" d=\"\n",
       "M1390.51 588.916 L1435.67 588.916 L1435.67 516.651 L1390.51 516.651 L1390.51 588.916 L1390.51 588.916  Z\n",
       "  \" fill=\"#ffffff\" fill-rule=\"evenodd\" fill-opacity=\"1\"/>\n",
       "<polyline clip-path=\"url(#clip212)\" style=\"stroke:#000000; stroke-linecap:round; stroke-linejoin:round; stroke-width:0; stroke-opacity:0; fill:none\" points=\"\n",
       "  1390.51,588.916 1435.67,588.916 1435.67,516.651 1390.51,516.651 1390.51,588.916 \n",
       "  \"/>\n",
       "<path clip-path=\"url(#clip212)\" d=\"\n",
       "M902.003 857.831 L980.64 857.831 L980.64 785.567 L902.003 785.567 L902.003 857.831 L902.003 857.831  Z\n",
       "  \" fill=\"#ffffff\" fill-rule=\"evenodd\" fill-opacity=\"1\"/>\n",
       "<polyline clip-path=\"url(#clip212)\" style=\"stroke:#000000; stroke-linecap:round; stroke-linejoin:round; stroke-width:0; stroke-opacity:0; fill:none\" points=\"\n",
       "  902.003,857.831 980.64,857.831 980.64,785.567 902.003,785.567 902.003,857.831 \n",
       "  \"/>\n",
       "<path clip-path=\"url(#clip212)\" d=\"\n",
       "M1148.12 1087.42 L1226.75 1087.42 L1226.75 1015.16 L1148.12 1015.16 L1148.12 1087.42 L1148.12 1087.42  Z\n",
       "  \" fill=\"#ffffff\" fill-rule=\"evenodd\" fill-opacity=\"1\"/>\n",
       "<polyline clip-path=\"url(#clip212)\" style=\"stroke:#000000; stroke-linecap:round; stroke-linejoin:round; stroke-width:0; stroke-opacity:0; fill:none\" points=\"\n",
       "  1148.12,1087.42 1226.75,1087.42 1226.75,1015.16 1148.12,1015.16 1148.12,1087.42 \n",
       "  \"/>\n",
       "<path clip-path=\"url(#clip212)\" d=\"\n",
       "M1456.42 921.22 L1501.59 921.22 L1501.59 848.956 L1456.42 848.956 L1456.42 921.22 L1456.42 921.22  Z\n",
       "  \" fill=\"#ffffff\" fill-rule=\"evenodd\" fill-opacity=\"1\"/>\n",
       "<polyline clip-path=\"url(#clip212)\" style=\"stroke:#000000; stroke-linecap:round; stroke-linejoin:round; stroke-width:0; stroke-opacity:0; fill:none\" points=\"\n",
       "  1456.42,921.22 1501.59,921.22 1501.59,848.956 1456.42,848.956 1456.42,921.22 \n",
       "  \"/>\n",
       "<path clip-path=\"url(#clip212)\" d=\"\n",
       "M1041.47 549.738 L1120.11 549.738 L1120.11 477.474 L1041.47 477.474 L1041.47 549.738 L1041.47 549.738  Z\n",
       "  \" fill=\"#ffffff\" fill-rule=\"evenodd\" fill-opacity=\"1\"/>\n",
       "<polyline clip-path=\"url(#clip212)\" style=\"stroke:#000000; stroke-linecap:round; stroke-linejoin:round; stroke-width:0; stroke-opacity:0; fill:none\" points=\"\n",
       "  1041.47,549.738 1120.11,549.738 1120.11,477.474 1041.47,477.474 1041.47,549.738 \n",
       "  \"/>\n",
       "<path clip-path=\"url(#clip212)\" d=\"\n",
       "M1094.77 645.72 L1173.41 645.72 L1173.41 573.456 L1094.77 573.456 L1094.77 645.72 L1094.77 645.72  Z\n",
       "  \" fill=\"#ffffff\" fill-rule=\"evenodd\" fill-opacity=\"1\"/>\n",
       "<polyline clip-path=\"url(#clip212)\" style=\"stroke:#000000; stroke-linecap:round; stroke-linejoin:round; stroke-width:0; stroke-opacity:0; fill:none\" points=\"\n",
       "  1094.77,645.72 1173.41,645.72 1173.41,573.456 1094.77,573.456 1094.77,645.72 \n",
       "  \"/>\n",
       "<path clip-path=\"url(#clip212)\" d=\"\n",
       "M1357.62 875.31 L1402.78 875.31 L1402.78 803.045 L1357.62 803.045 L1357.62 875.31 L1357.62 875.31  Z\n",
       "  \" fill=\"#ffffff\" fill-rule=\"evenodd\" fill-opacity=\"1\"/>\n",
       "<polyline clip-path=\"url(#clip212)\" style=\"stroke:#000000; stroke-linecap:round; stroke-linejoin:round; stroke-width:0; stroke-opacity:0; fill:none\" points=\"\n",
       "  1357.62,875.31 1402.78,875.31 1402.78,803.045 1357.62,803.045 1357.62,875.31 \n",
       "  \"/>\n",
       "<path clip-path=\"url(#clip212)\" d=\"\n",
       "M1649.19 709.109 L1694.35 709.109 L1694.35 636.845 L1649.19 636.845 L1649.19 709.109 L1649.19 709.109  Z\n",
       "  \" fill=\"#ffffff\" fill-rule=\"evenodd\" fill-opacity=\"1\"/>\n",
       "<polyline clip-path=\"url(#clip212)\" style=\"stroke:#000000; stroke-linecap:round; stroke-linejoin:round; stroke-width:0; stroke-opacity:0; fill:none\" points=\"\n",
       "  1649.19,709.109 1694.35,709.109 1694.35,636.845 1649.19,636.845 1649.19,709.109 \n",
       "  \"/>\n",
       "<path clip-path=\"url(#clip212)\" d=\"\n",
       "M1234.23 337.627 L1312.87 337.627 L1312.87 265.363 L1234.23 265.363 L1234.23 337.627 L1234.23 337.627  Z\n",
       "  \" fill=\"#ffffff\" fill-rule=\"evenodd\" fill-opacity=\"1\"/>\n",
       "<polyline clip-path=\"url(#clip212)\" style=\"stroke:#000000; stroke-linecap:round; stroke-linejoin:round; stroke-width:0; stroke-opacity:0; fill:none\" points=\"\n",
       "  1234.23,337.627 1312.87,337.627 1312.87,265.363 1234.23,265.363 1234.23,337.627 \n",
       "  \"/>\n",
       "<path clip-path=\"url(#clip212)\" d=\"\n",
       "M869.112 1144.23 L947.75 1144.23 L947.75 1071.96 L869.112 1071.96 L869.112 1144.23 L869.112 1144.23  Z\n",
       "  \" fill=\"#ffffff\" fill-rule=\"evenodd\" fill-opacity=\"1\"/>\n",
       "<polyline clip-path=\"url(#clip212)\" style=\"stroke:#000000; stroke-linecap:round; stroke-linejoin:round; stroke-width:0; stroke-opacity:0; fill:none\" points=\"\n",
       "  869.112,1144.23 947.75,1144.23 947.75,1071.96 869.112,1071.96 869.112,1144.23 \n",
       "  \"/>\n",
       "<path clip-path=\"url(#clip212)\" d=\"\n",
       "M1160.68 978.025 L1239.32 978.025 L1239.32 905.76 L1160.68 905.76 L1160.68 978.025 L1160.68 978.025  Z\n",
       "  \" fill=\"#ffffff\" fill-rule=\"evenodd\" fill-opacity=\"1\"/>\n",
       "<polyline clip-path=\"url(#clip212)\" style=\"stroke:#000000; stroke-linecap:round; stroke-linejoin:round; stroke-width:0; stroke-opacity:0; fill:none\" points=\"\n",
       "  1160.68,978.025 1239.32,978.025 1239.32,905.76 1160.68,905.76 1160.68,978.025 \n",
       "  \"/>\n",
       "<path clip-path=\"url(#clip212)\" d=\"\n",
       "M779.2 606.543 L824.365 606.543 L824.365 534.278 L779.2 534.278 L779.2 606.543 L779.2 606.543  Z\n",
       "  \" fill=\"#ffffff\" fill-rule=\"evenodd\" fill-opacity=\"1\"/>\n",
       "<polyline clip-path=\"url(#clip212)\" style=\"stroke:#000000; stroke-linecap:round; stroke-linejoin:round; stroke-width:0; stroke-opacity:0; fill:none\" points=\"\n",
       "  779.2,606.543 824.365,606.543 824.365,534.278 779.2,534.278 779.2,606.543 \n",
       "  \"/>\n",
       "<path clip-path=\"url(#clip212)\" d=\"\n",
       "M1406.8 1207.61 L1485.43 1207.61 L1485.43 1135.35 L1406.8 1135.35 L1406.8 1207.61 L1406.8 1207.61  Z\n",
       "  \" fill=\"#ffffff\" fill-rule=\"evenodd\" fill-opacity=\"1\"/>\n",
       "<polyline clip-path=\"url(#clip212)\" style=\"stroke:#000000; stroke-linecap:round; stroke-linejoin:round; stroke-width:0; stroke-opacity:0; fill:none\" points=\"\n",
       "  1406.8,1207.61 1485.43,1207.61 1485.43,1135.35 1406.8,1135.35 1406.8,1207.61 \n",
       "  \"/>\n",
       "<path clip-path=\"url(#clip212)\" d=\"\n",
       "M1008.58 836.132 L1087.21 836.132 L1087.21 763.868 L1008.58 763.868 L1008.58 836.132 L1008.58 836.132  Z\n",
       "  \" fill=\"#ffffff\" fill-rule=\"evenodd\" fill-opacity=\"1\"/>\n",
       "<polyline clip-path=\"url(#clip212)\" style=\"stroke:#000000; stroke-linecap:round; stroke-linejoin:round; stroke-width:0; stroke-opacity:0; fill:none\" points=\"\n",
       "  1008.58,836.132 1087.21,836.132 1087.21,763.868 1008.58,763.868 1008.58,836.132 \n",
       "  \"/>\n",
       "<path clip-path=\"url(#clip212)\" d=\"\n",
       "M1300.15 669.931 L1378.78 669.931 L1378.78 597.667 L1300.15 597.667 L1300.15 669.931 L1300.15 669.931  Z\n",
       "  \" fill=\"#ffffff\" fill-rule=\"evenodd\" fill-opacity=\"1\"/>\n",
       "<polyline clip-path=\"url(#clip212)\" style=\"stroke:#000000; stroke-linecap:round; stroke-linejoin:round; stroke-width:0; stroke-opacity:0; fill:none\" points=\"\n",
       "  1300.15,669.931 1378.78,669.931 1378.78,597.667 1300.15,597.667 1300.15,669.931 \n",
       "  \"/>\n",
       "<path clip-path=\"url(#clip212)\" d=\"\n",
       "M1244.41 764.894 L1232.37 744.033 L1208.28 744.033 L1196.24 764.894 L1208.28 785.755 L1232.37 785.755 L1244.41 764.894 L1244.41 764.894  Z\n",
       "  \" fill=\"#009af9\" fill-rule=\"evenodd\" fill-opacity=\"1\"/>\n",
       "<polyline clip-path=\"url(#clip212)\" style=\"stroke:#000000; stroke-linecap:round; stroke-linejoin:round; stroke-width:4; stroke-opacity:1; fill:none\" points=\"\n",
       "  1244.41,764.894 1232.37,744.033 1208.28,744.033 1196.24,764.894 1208.28,785.755 1232.37,785.755 1244.41,764.894 \n",
       "  \"/>\n",
       "<path clip-path=\"url(#clip212)\" d=\"\n",
       "M1629.94 340.673 L1617.9 319.812 L1593.81 319.812 L1581.77 340.673 L1593.81 361.534 L1617.9 361.534 L1629.94 340.673 L1629.94 340.673  Z\n",
       "  \" fill=\"#009af9\" fill-rule=\"evenodd\" fill-opacity=\"1\"/>\n",
       "<polyline clip-path=\"url(#clip212)\" style=\"stroke:#000000; stroke-linecap:round; stroke-linejoin:round; stroke-width:4; stroke-opacity:1; fill:none\" points=\"\n",
       "  1629.94,340.673 1617.9,319.812 1593.81,319.812 1581.77,340.673 1593.81,361.534 1617.9,361.534 1629.94,340.673 \n",
       "  \"/>\n",
       "<path clip-path=\"url(#clip212)\" d=\"\n",
       "M686.405 878.504 L674.361 857.643 L650.273 857.643 L638.229 878.504 L650.273 899.365 L674.361 899.365 L686.405 878.504 L686.405 878.504  Z\n",
       "  \" fill=\"#009af9\" fill-rule=\"evenodd\" fill-opacity=\"1\"/>\n",
       "<polyline clip-path=\"url(#clip212)\" style=\"stroke:#000000; stroke-linecap:round; stroke-linejoin:round; stroke-width:4; stroke-opacity:1; fill:none\" points=\"\n",
       "  686.405,878.504 674.361,857.643 650.273,857.643 638.229,878.504 650.273,899.365 674.361,899.365 686.405,878.504 \n",
       "  \"/>\n",
       "<path clip-path=\"url(#clip212)\" d=\"\n",
       "M1178.63 1337.68 L1166.59 1316.82 L1142.5 1316.82 L1130.46 1337.68 L1142.5 1358.54 L1166.59 1358.54 L1178.63 1337.68 L1178.63 1337.68  Z\n",
       "  \" fill=\"#009af9\" fill-rule=\"evenodd\" fill-opacity=\"1\"/>\n",
       "<polyline clip-path=\"url(#clip212)\" style=\"stroke:#000000; stroke-linecap:round; stroke-linejoin:round; stroke-width:4; stroke-opacity:1; fill:none\" points=\"\n",
       "  1178.63,1337.68 1166.59,1316.82 1142.5,1316.82 1130.46,1337.68 1142.5,1358.54 1166.59,1358.54 1178.63,1337.68 \n",
       "  \"/>\n",
       "<path clip-path=\"url(#clip212)\" d=\"\n",
       "M1761.77 1005.28 L1749.73 984.42 L1725.64 984.42 L1713.59 1005.28 L1725.64 1026.14 L1749.73 1026.14 L1761.77 1005.28 L1761.77 1005.28  Z\n",
       "  \" fill=\"#009af9\" fill-rule=\"evenodd\" fill-opacity=\"1\"/>\n",
       "<polyline clip-path=\"url(#clip212)\" style=\"stroke:#000000; stroke-linecap:round; stroke-linejoin:round; stroke-width:4; stroke-opacity:1; fill:none\" points=\"\n",
       "  1761.77,1005.28 1749.73,984.42 1725.64,984.42 1713.59,1005.28 1725.64,1026.14 1749.73,1026.14 1761.77,1005.28 \n",
       "  \"/>\n",
       "<path clip-path=\"url(#clip212)\" d=\"\n",
       "M965.336 262.317 L953.292 241.456 L929.203 241.456 L917.159 262.317 L929.203 283.178 L953.292 283.178 L965.336 262.317 L965.336 262.317  Z\n",
       "  \" fill=\"#009af9\" fill-rule=\"evenodd\" fill-opacity=\"1\"/>\n",
       "<polyline clip-path=\"url(#clip212)\" style=\"stroke:#000000; stroke-linecap:round; stroke-linejoin:round; stroke-width:4; stroke-opacity:1; fill:none\" points=\"\n",
       "  965.336,262.317 953.292,241.456 929.203,241.456 917.159,262.317 929.203,283.178 953.292,283.178 965.336,262.317 \n",
       "  \"/>\n",
       "<path clip-path=\"url(#clip212)\" d=\"M1220.33 765.294 L1219.98 765.094 L1219.98 764.694 L1220.33 764.494 L1220.67 764.694 L1220.67 765.094 Z\" fill=\"#009af9\" fill-rule=\"evenodd\" fill-opacity=\"1\" stroke=\"#000000\" stroke-opacity=\"1\" stroke-width=\"3.2\"/>\n",
       "<path clip-path=\"url(#clip212)\" d=\"M1605.86 341.073 L1605.51 340.873 L1605.51 340.473 L1605.86 340.273 L1606.2 340.473 L1606.2 340.873 Z\" fill=\"#009af9\" fill-rule=\"evenodd\" fill-opacity=\"1\" stroke=\"#000000\" stroke-opacity=\"1\" stroke-width=\"3.2\"/>\n",
       "<path clip-path=\"url(#clip212)\" d=\"M662.317 878.904 L661.971 878.704 L661.971 878.304 L662.317 878.104 L662.664 878.304 L662.664 878.704 Z\" fill=\"#009af9\" fill-rule=\"evenodd\" fill-opacity=\"1\" stroke=\"#000000\" stroke-opacity=\"1\" stroke-width=\"3.2\"/>\n",
       "<path clip-path=\"url(#clip212)\" d=\"M1154.54 1338.08 L1154.2 1337.88 L1154.2 1337.48 L1154.54 1337.28 L1154.89 1337.48 L1154.89 1337.88 Z\" fill=\"#009af9\" fill-rule=\"evenodd\" fill-opacity=\"1\" stroke=\"#000000\" stroke-opacity=\"1\" stroke-width=\"3.2\"/>\n",
       "<path clip-path=\"url(#clip212)\" d=\"M1737.68 1005.68 L1737.34 1005.48 L1737.34 1005.08 L1737.68 1004.88 L1738.03 1005.08 L1738.03 1005.48 Z\" fill=\"#009af9\" fill-rule=\"evenodd\" fill-opacity=\"1\" stroke=\"#000000\" stroke-opacity=\"1\" stroke-width=\"3.2\"/>\n",
       "<path clip-path=\"url(#clip212)\" d=\"M941.247 262.717 L940.901 262.517 L940.901 262.117 L941.247 261.917 L941.594 262.117 L941.594 262.517 Z\" fill=\"#009af9\" fill-rule=\"evenodd\" fill-opacity=\"1\" stroke=\"#000000\" stroke-opacity=\"1\" stroke-width=\"3.2\"/>\n",
       "<path clip-path=\"url(#clip210)\" d=\"M1404.6 567.276 L1404.6 563.549 Q1406.14 564.278 1407.72 564.663 Q1409.3 565.048 1410.82 565.048 Q1414.87 565.048 1417 562.334 Q1419.15 559.599 1419.45 554.049 Q1418.28 555.791 1416.47 556.723 Q1414.67 557.655 1412.48 557.655 Q1407.95 557.655 1405.29 554.92 Q1402.66 552.166 1402.66 547.406 Q1402.66 542.747 1405.41 539.932 Q1408.17 537.117 1412.75 537.117 Q1417.99 537.117 1420.75 541.147 Q1423.52 545.158 1423.52 552.814 Q1423.52 559.964 1420.12 564.237 Q1416.74 568.491 1411.01 568.491 Q1409.47 568.491 1407.89 568.187 Q1406.31 567.883 1404.6 567.276 M1412.75 554.455 Q1415.5 554.455 1417.1 552.571 Q1418.72 550.687 1418.72 547.406 Q1418.72 544.145 1417.1 542.261 Q1415.5 540.357 1412.75 540.357 Q1409.99 540.357 1408.37 542.261 Q1406.77 544.145 1406.77 547.406 Q1406.77 550.687 1408.37 552.571 Q1409.99 554.455 1412.75 554.455 Z\" fill=\"#000000\" fill-rule=\"evenodd\" fill-opacity=\"1\" /><path clip-path=\"url(#clip210)\" d=\"M919.173 833.376 L925.857 833.376 L925.857 810.306 L918.586 811.764 L918.586 808.037 L925.817 806.579 L929.908 806.579 L929.908 833.376 L936.592 833.376 L936.592 836.819 L919.173 836.819 L919.173 833.376 Z\" fill=\"#000000\" fill-rule=\"evenodd\" fill-opacity=\"1\" /><path clip-path=\"url(#clip210)\" d=\"M953.606 809.273 Q950.446 809.273 948.846 812.392 Q947.266 815.491 947.266 821.729 Q947.266 827.948 948.846 831.067 Q950.446 834.166 953.606 834.166 Q956.786 834.166 958.366 831.067 Q959.966 827.948 959.966 821.729 Q959.966 815.491 958.366 812.392 Q956.786 809.273 953.606 809.273 M953.606 806.032 Q958.69 806.032 961.363 810.063 Q964.057 814.073 964.057 821.729 Q964.057 829.365 961.363 833.396 Q958.69 837.406 953.606 837.406 Q948.522 837.406 945.828 833.396 Q943.155 829.365 943.155 821.729 Q943.155 814.073 945.828 810.063 Q948.522 806.032 953.606 806.032 Z\" fill=\"#000000\" fill-rule=\"evenodd\" fill-opacity=\"1\" /><path clip-path=\"url(#clip210)\" d=\"M1165.72 1062.97 L1172.41 1062.97 L1172.41 1039.9 L1165.14 1041.35 L1165.14 1037.63 L1172.37 1036.17 L1176.46 1036.17 L1176.46 1062.97 L1183.14 1062.97 L1183.14 1066.41 L1165.72 1066.41 L1165.72 1062.97 Z\" fill=\"#000000\" fill-rule=\"evenodd\" fill-opacity=\"1\" /><path clip-path=\"url(#clip210)\" d=\"M1191.45 1036.17 L1207.51 1036.17 L1207.51 1039.61 L1195.19 1039.61 L1195.19 1047.03 Q1196.08 1046.72 1196.98 1046.58 Q1197.87 1046.42 1198.76 1046.42 Q1203.82 1046.42 1206.78 1049.19 Q1209.74 1051.97 1209.74 1056.71 Q1209.74 1061.59 1206.7 1064.3 Q1203.66 1067 1198.13 1067 Q1196.23 1067 1194.24 1066.67 Q1192.28 1066.35 1190.17 1065.7 L1190.17 1061.59 Q1191.99 1062.58 1193.94 1063.07 Q1195.88 1063.55 1198.05 1063.55 Q1201.55 1063.55 1203.6 1061.71 Q1205.64 1059.87 1205.64 1056.71 Q1205.64 1053.55 1203.6 1051.7 Q1201.55 1049.86 1198.05 1049.86 Q1196.41 1049.86 1194.77 1050.23 Q1193.15 1050.59 1191.45 1051.36 L1191.45 1036.17 Z\" fill=\"#000000\" fill-rule=\"evenodd\" fill-opacity=\"1\" /><path clip-path=\"url(#clip210)\" d=\"M1479 885.847 Q1476.09 885.847 1474.41 887.407 Q1472.75 888.967 1472.75 891.701 Q1472.75 894.435 1474.41 895.995 Q1476.09 897.554 1479 897.554 Q1481.92 897.554 1483.6 895.995 Q1485.28 894.415 1485.28 891.701 Q1485.28 888.967 1483.6 887.407 Q1481.94 885.847 1479 885.847 M1474.91 884.105 Q1472.28 883.457 1470.8 881.655 Q1469.34 879.852 1469.34 877.259 Q1469.34 873.634 1471.92 871.527 Q1474.51 869.421 1479 869.421 Q1483.52 869.421 1486.09 871.527 Q1488.67 873.634 1488.67 877.259 Q1488.67 879.852 1487.19 881.655 Q1485.73 883.457 1483.12 884.105 Q1486.07 884.794 1487.71 886.799 Q1489.37 888.805 1489.37 891.701 Q1489.37 896.096 1486.68 898.446 Q1484.01 900.795 1479 900.795 Q1474 900.795 1471.31 898.446 Q1468.63 896.096 1468.63 891.701 Q1468.63 888.805 1470.29 886.799 Q1471.96 884.794 1474.91 884.105 M1473.41 877.644 Q1473.41 879.994 1474.87 881.31 Q1476.35 882.627 1479 882.627 Q1481.64 882.627 1483.12 881.31 Q1484.61 879.994 1484.61 877.644 Q1484.61 875.295 1483.12 873.978 Q1481.64 872.662 1479 872.662 Q1476.35 872.662 1474.87 873.978 Q1473.41 875.295 1473.41 877.644 Z\" fill=\"#000000\" fill-rule=\"evenodd\" fill-opacity=\"1\" /><path clip-path=\"url(#clip210)\" d=\"M1062.21 525.283 L1076.49 525.283 L1076.49 528.726 L1057.29 528.726 L1057.29 525.283 Q1059.62 522.872 1063.63 518.821 Q1067.66 514.75 1068.69 513.575 Q1070.66 511.368 1071.43 509.849 Q1072.22 508.309 1072.22 506.831 Q1072.22 504.42 1070.52 502.901 Q1068.84 501.382 1066.12 501.382 Q1064.2 501.382 1062.05 502.051 Q1059.92 502.719 1057.49 504.076 L1057.49 499.944 Q1059.97 498.952 1062.11 498.445 Q1064.26 497.939 1066.04 497.939 Q1070.74 497.939 1073.54 500.288 Q1076.33 502.638 1076.33 506.567 Q1076.33 508.431 1075.62 510.112 Q1074.93 511.773 1073.09 514.041 Q1072.58 514.629 1069.87 517.444 Q1067.16 520.239 1062.21 525.283 Z\" fill=\"#000000\" fill-rule=\"evenodd\" fill-opacity=\"1\" /><path clip-path=\"url(#clip210)\" d=\"M1093.83 501.18 Q1090.67 501.18 1089.07 504.299 Q1087.49 507.398 1087.49 513.636 Q1087.49 519.854 1089.07 522.974 Q1090.67 526.072 1093.83 526.072 Q1097.01 526.072 1098.59 522.974 Q1100.19 519.854 1100.19 513.636 Q1100.19 507.398 1098.59 504.299 Q1097.01 501.18 1093.83 501.18 M1093.83 497.939 Q1098.91 497.939 1101.59 501.97 Q1104.28 505.98 1104.28 513.636 Q1104.28 521.272 1101.59 525.303 Q1098.91 529.313 1093.83 529.313 Q1088.75 529.313 1086.05 525.303 Q1083.38 521.272 1083.38 513.636 Q1083.38 505.98 1086.05 501.97 Q1088.75 497.939 1093.83 497.939 Z\" fill=\"#000000\" fill-rule=\"evenodd\" fill-opacity=\"1\" /><path clip-path=\"url(#clip210)\" d=\"M1115.3 621.265 L1129.58 621.265 L1129.58 624.708 L1110.38 624.708 L1110.38 621.265 Q1112.71 618.855 1116.72 614.804 Q1120.75 610.732 1121.78 609.558 Q1123.75 607.35 1124.52 605.831 Q1125.31 604.292 1125.31 602.813 Q1125.31 600.403 1123.61 598.884 Q1121.92 597.364 1119.21 597.364 Q1117.29 597.364 1115.14 598.033 Q1113.01 598.701 1110.58 600.058 L1110.58 595.926 Q1113.05 594.934 1115.2 594.428 Q1117.35 593.921 1119.13 593.921 Q1123.83 593.921 1126.62 596.271 Q1129.42 598.62 1129.42 602.55 Q1129.42 604.413 1128.71 606.094 Q1128.02 607.755 1126.18 610.024 Q1125.67 610.611 1122.96 613.426 Q1120.24 616.221 1115.3 621.265 Z\" fill=\"#000000\" fill-rule=\"evenodd\" fill-opacity=\"1\" /><path clip-path=\"url(#clip210)\" d=\"M1149.41 598.033 L1139.08 614.176 L1149.41 614.176 L1149.41 598.033 M1148.34 594.468 L1153.48 594.468 L1153.48 614.176 L1157.79 614.176 L1157.79 617.578 L1153.48 617.578 L1153.48 624.708 L1149.41 624.708 L1149.41 617.578 L1135.76 617.578 L1135.76 613.629 L1148.34 594.468 Z\" fill=\"#000000\" fill-rule=\"evenodd\" fill-opacity=\"1\" /><path clip-path=\"url(#clip210)\" d=\"M1375.52 850.854 L1389.8 850.854 L1389.8 854.298 L1370.6 854.298 L1370.6 850.854 Q1372.93 848.444 1376.94 844.393 Q1380.97 840.322 1382 839.147 Q1383.97 836.94 1384.74 835.42 Q1385.53 833.881 1385.53 832.403 Q1385.53 829.992 1383.83 828.473 Q1382.15 826.954 1379.43 826.954 Q1377.51 826.954 1375.36 827.622 Q1373.23 828.291 1370.8 829.648 L1370.8 825.516 Q1373.27 824.524 1375.42 824.017 Q1377.57 823.511 1379.35 823.511 Q1384.05 823.511 1386.84 825.86 Q1389.64 828.21 1389.64 832.139 Q1389.64 834.003 1388.93 835.684 Q1388.24 837.345 1386.4 839.613 Q1385.89 840.201 1383.18 843.016 Q1380.46 845.811 1375.52 850.854 Z\" fill=\"#000000\" fill-rule=\"evenodd\" fill-opacity=\"1\" /><path clip-path=\"url(#clip210)\" d=\"M1674.4 661.422 L1664.07 677.565 L1674.4 677.565 L1674.4 661.422 M1673.33 657.857 L1678.47 657.857 L1678.47 677.565 L1682.79 677.565 L1682.79 680.967 L1678.47 680.967 L1678.47 688.097 L1674.4 688.097 L1674.4 680.967 L1660.75 680.967 L1660.75 677.018 L1673.33 657.857 Z\" fill=\"#000000\" fill-rule=\"evenodd\" fill-opacity=\"1\" /><path clip-path=\"url(#clip210)\" d=\"M1251.4 313.172 L1258.09 313.172 L1258.09 290.102 L1250.82 291.56 L1250.82 287.833 L1258.05 286.375 L1262.14 286.375 L1262.14 313.172 L1268.82 313.172 L1268.82 316.615 L1251.4 316.615 L1251.4 313.172 Z\" fill=\"#000000\" fill-rule=\"evenodd\" fill-opacity=\"1\" /><path clip-path=\"url(#clip210)\" d=\"M1285.84 289.069 Q1282.68 289.069 1281.08 292.188 Q1279.5 295.287 1279.5 301.525 Q1279.5 307.743 1281.08 310.863 Q1282.68 313.962 1285.84 313.962 Q1289.02 313.962 1290.6 310.863 Q1292.2 307.743 1292.2 301.525 Q1292.2 295.287 1290.6 292.188 Q1289.02 289.069 1285.84 289.069 M1285.84 285.828 Q1290.92 285.828 1293.59 289.859 Q1296.29 293.869 1296.29 301.525 Q1296.29 309.161 1293.59 313.192 Q1290.92 317.202 1285.84 317.202 Q1280.75 317.202 1278.06 313.192 Q1275.39 309.161 1275.39 301.525 Q1275.39 293.869 1278.06 289.859 Q1280.75 285.828 1285.84 285.828 Z\" fill=\"#000000\" fill-rule=\"evenodd\" fill-opacity=\"1\" /><path clip-path=\"url(#clip210)\" d=\"M886.718 1119.77 L893.402 1119.77 L893.402 1096.7 L886.131 1098.16 L886.131 1094.43 L893.362 1092.97 L897.453 1092.97 L897.453 1119.77 L904.137 1119.77 L904.137 1123.21 L886.718 1123.21 L886.718 1119.77 Z\" fill=\"#000000\" fill-rule=\"evenodd\" fill-opacity=\"1\" /><path clip-path=\"url(#clip210)\" d=\"M912.441 1092.97 L928.503 1092.97 L928.503 1096.42 L916.188 1096.42 L916.188 1103.83 Q917.08 1103.53 917.971 1103.38 Q918.862 1103.22 919.753 1103.22 Q924.817 1103.22 927.774 1106 Q930.731 1108.77 930.731 1113.51 Q930.731 1118.39 927.693 1121.11 Q924.655 1123.8 919.125 1123.8 Q917.221 1123.8 915.236 1123.48 Q913.272 1123.15 911.165 1122.5 L911.165 1118.39 Q912.988 1119.39 914.933 1119.87 Q916.877 1120.36 919.044 1120.36 Q922.548 1120.36 924.594 1118.51 Q926.64 1116.67 926.64 1113.51 Q926.64 1110.35 924.594 1108.51 Q922.548 1106.67 919.044 1106.67 Q917.404 1106.67 915.763 1107.03 Q914.143 1107.39 912.441 1108.16 L912.441 1092.97 Z\" fill=\"#000000\" fill-rule=\"evenodd\" fill-opacity=\"1\" /><path clip-path=\"url(#clip210)\" d=\"M1178.55 953.569 L1185.23 953.569 L1185.23 930.499 L1177.96 931.958 L1177.96 928.231 L1185.19 926.772 L1189.29 926.772 L1189.29 953.569 L1195.97 953.569 L1195.97 957.012 L1178.55 957.012 L1178.55 953.569 Z\" fill=\"#000000\" fill-rule=\"evenodd\" fill-opacity=\"1\" /><path clip-path=\"url(#clip210)\" d=\"M1207.76 953.569 L1222.04 953.569 L1222.04 957.012 L1202.84 957.012 L1202.84 953.569 Q1205.16 951.159 1209.18 947.108 Q1213.21 943.037 1214.24 941.862 Q1216.2 939.654 1216.97 938.135 Q1217.76 936.596 1217.76 935.117 Q1217.76 932.707 1216.06 931.188 Q1214.38 929.669 1211.67 929.669 Q1209.74 929.669 1207.6 930.337 Q1205.47 931.006 1203.04 932.363 L1203.04 928.231 Q1205.51 927.238 1207.66 926.732 Q1209.8 926.226 1211.59 926.226 Q1216.28 926.226 1219.08 928.575 Q1221.87 930.925 1221.87 934.854 Q1221.87 936.717 1221.17 938.398 Q1220.48 940.059 1218.63 942.328 Q1218.13 942.915 1215.41 945.731 Q1212.7 948.526 1207.76 953.569 Z\" fill=\"#000000\" fill-rule=\"evenodd\" fill-opacity=\"1\" /><path clip-path=\"url(#clip210)\" d=\"M792.06 555.29 L811.504 555.29 L811.504 557.032 L800.527 585.53 L796.253 585.53 L806.583 558.734 L792.06 558.734 L792.06 555.29 Z\" fill=\"#000000\" fill-rule=\"evenodd\" fill-opacity=\"1\" /><path clip-path=\"url(#clip210)\" d=\"M1423.89 1183.16 L1430.58 1183.16 L1430.58 1160.09 L1423.31 1161.55 L1423.31 1157.82 L1430.54 1156.36 L1434.63 1156.36 L1434.63 1183.16 L1441.31 1183.16 L1441.31 1186.6 L1423.89 1186.6 L1423.89 1183.16 Z\" fill=\"#000000\" fill-rule=\"evenodd\" fill-opacity=\"1\" /><path clip-path=\"url(#clip210)\" d=\"M1458.83 1169.85 Q1456.08 1169.85 1454.46 1171.74 Q1452.86 1173.62 1452.86 1176.9 Q1452.86 1180.16 1454.46 1182.06 Q1456.08 1183.95 1458.83 1183.95 Q1461.59 1183.95 1463.19 1182.06 Q1464.81 1180.16 1464.81 1176.9 Q1464.81 1173.62 1463.19 1171.74 Q1461.59 1169.85 1458.83 1169.85 M1466.96 1157.03 L1466.96 1160.76 Q1465.42 1160.03 1463.84 1159.64 Q1462.28 1159.26 1460.74 1159.26 Q1456.69 1159.26 1454.54 1161.99 Q1452.41 1164.73 1452.11 1170.26 Q1453.3 1168.49 1455.11 1167.56 Q1456.91 1166.61 1459.08 1166.61 Q1463.63 1166.61 1466.27 1169.39 Q1468.92 1172.14 1468.92 1176.9 Q1468.92 1181.56 1466.17 1184.37 Q1463.41 1187.19 1458.83 1187.19 Q1453.59 1187.19 1450.81 1183.18 Q1448.04 1179.15 1448.04 1171.51 Q1448.04 1164.34 1451.44 1160.09 Q1454.84 1155.82 1460.58 1155.82 Q1462.11 1155.82 1463.67 1156.12 Q1465.25 1156.42 1466.96 1157.03 Z\" fill=\"#000000\" fill-rule=\"evenodd\" fill-opacity=\"1\" /><path clip-path=\"url(#clip210)\" d=\"M1025.79 811.677 L1032.47 811.677 L1032.47 788.607 L1025.2 790.065 L1025.2 786.338 L1032.43 784.88 L1036.52 784.88 L1036.52 811.677 L1043.21 811.677 L1043.21 815.12 L1025.79 815.12 L1025.79 811.677 Z\" fill=\"#000000\" fill-rule=\"evenodd\" fill-opacity=\"1\" /><path clip-path=\"url(#clip210)\" d=\"M1060.22 800.76 Q1057.3 800.76 1055.62 802.319 Q1053.96 803.879 1053.96 806.613 Q1053.96 809.347 1055.62 810.907 Q1057.3 812.467 1060.22 812.467 Q1063.14 812.467 1064.82 810.907 Q1066.5 809.327 1066.5 806.613 Q1066.5 803.879 1064.82 802.319 Q1063.16 800.76 1060.22 800.76 M1056.13 799.018 Q1053.5 798.37 1052.02 796.567 Q1050.56 794.764 1050.56 792.172 Q1050.56 788.546 1053.13 786.44 Q1055.72 784.333 1060.22 784.333 Q1064.74 784.333 1067.31 786.44 Q1069.88 788.546 1069.88 792.172 Q1069.88 794.764 1068.4 796.567 Q1066.95 798.37 1064.33 799.018 Q1067.29 799.706 1068.93 801.712 Q1070.59 803.717 1070.59 806.613 Q1070.59 811.008 1067.9 813.358 Q1065.22 815.707 1060.22 815.707 Q1055.22 815.707 1052.52 813.358 Q1049.85 811.008 1049.85 806.613 Q1049.85 803.717 1051.51 801.712 Q1053.17 799.706 1056.13 799.018 M1054.63 792.556 Q1054.63 794.906 1056.09 796.223 Q1057.57 797.539 1060.22 797.539 Q1062.85 797.539 1064.33 796.223 Q1065.83 794.906 1065.83 792.556 Q1065.83 790.207 1064.33 788.89 Q1062.85 787.574 1060.22 787.574 Q1057.57 787.574 1056.09 788.89 Q1054.63 790.207 1054.63 792.556 Z\" fill=\"#000000\" fill-rule=\"evenodd\" fill-opacity=\"1\" /><path clip-path=\"url(#clip210)\" d=\"M1321.59 645.476 L1335.87 645.476 L1335.87 648.919 L1316.67 648.919 L1316.67 645.476 Q1319 643.066 1323.01 639.015 Q1327.04 634.944 1328.07 633.769 Q1330.04 631.561 1330.81 630.042 Q1331.6 628.503 1331.6 627.024 Q1331.6 624.614 1329.89 623.095 Q1328.21 621.576 1325.5 621.576 Q1323.58 621.576 1321.43 622.244 Q1319.3 622.912 1316.87 624.269 L1316.87 620.138 Q1319.34 619.145 1321.49 618.639 Q1323.64 618.132 1325.42 618.132 Q1330.12 618.132 1332.91 620.482 Q1335.71 622.831 1335.71 626.761 Q1335.71 628.624 1335 630.305 Q1334.31 631.966 1332.47 634.235 Q1331.96 634.822 1329.25 637.637 Q1326.53 640.433 1321.59 645.476 Z\" fill=\"#000000\" fill-rule=\"evenodd\" fill-opacity=\"1\" /><path clip-path=\"url(#clip210)\" d=\"M1347.98 645.476 L1362.26 645.476 L1362.26 648.919 L1343.06 648.919 L1343.06 645.476 Q1345.39 643.066 1349.4 639.015 Q1353.43 634.944 1354.46 633.769 Q1356.43 631.561 1357.2 630.042 Q1357.99 628.503 1357.99 627.024 Q1357.99 624.614 1356.29 623.095 Q1354.61 621.576 1351.89 621.576 Q1349.97 621.576 1347.82 622.244 Q1345.69 622.912 1343.26 624.269 L1343.26 620.138 Q1345.73 619.145 1347.88 618.639 Q1350.03 618.132 1351.81 618.132 Q1356.51 618.132 1359.3 620.482 Q1362.1 622.831 1362.1 626.761 Q1362.1 628.624 1361.39 630.305 Q1360.7 631.966 1358.86 634.235 Q1358.35 634.822 1355.64 637.637 Q1352.92 640.433 1347.98 645.476 Z\" fill=\"#000000\" fill-rule=\"evenodd\" fill-opacity=\"1\" /><path clip-path=\"url(#clip210)\" d=\"M1220.33 753.805 L1214.78 768.854 L1225.9 768.854 L1220.33 753.805 M1218.02 749.774 L1222.66 749.774 L1234.18 780.014 L1229.93 780.014 L1227.17 772.257 L1213.54 772.257 L1210.79 780.014 L1206.47 780.014 L1218.02 749.774 Z\" fill=\"#000000\" fill-rule=\"evenodd\" fill-opacity=\"1\" /><path clip-path=\"url(#clip210)\" d=\"M1599.22 341.351 L1599.22 352.43 L1605.79 352.43 Q1609.09 352.43 1610.67 351.073 Q1612.27 349.696 1612.27 346.881 Q1612.27 344.045 1610.67 342.708 Q1609.09 341.351 1605.79 341.351 L1599.22 341.351 M1599.22 328.915 L1599.22 338.029 L1605.28 338.029 Q1608.28 338.029 1609.74 336.915 Q1611.21 335.781 1611.21 333.472 Q1611.21 331.183 1609.74 330.049 Q1608.28 328.915 1605.28 328.915 L1599.22 328.915 M1595.13 325.553 L1605.58 325.553 Q1610.26 325.553 1612.79 327.497 Q1615.33 329.441 1615.33 333.026 Q1615.33 335.801 1614.03 337.442 Q1612.73 339.083 1610.22 339.488 Q1613.24 340.136 1614.9 342.202 Q1616.58 344.247 1616.58 347.326 Q1616.58 351.377 1613.83 353.585 Q1611.07 355.793 1605.99 355.793 L1595.13 355.793 L1595.13 325.553 Z\" fill=\"#000000\" fill-rule=\"evenodd\" fill-opacity=\"1\" /><path clip-path=\"url(#clip210)\" d=\"M674.51 865.713 L674.51 870.027 Q672.444 868.103 670.095 867.151 Q667.766 866.199 665.133 866.199 Q659.947 866.199 657.193 869.379 Q654.438 872.539 654.438 878.534 Q654.438 884.509 657.193 887.689 Q659.947 890.849 665.133 890.849 Q667.766 890.849 670.095 889.897 Q672.444 888.945 674.51 887.021 L674.51 891.294 Q672.363 892.753 669.953 893.482 Q667.563 894.211 664.89 894.211 Q658.023 894.211 654.074 890.018 Q650.124 885.805 650.124 878.534 Q650.124 871.242 654.074 867.05 Q658.023 862.837 664.89 862.837 Q667.604 862.837 669.994 863.566 Q672.404 864.275 674.51 865.713 Z\" fill=\"#000000\" fill-rule=\"evenodd\" fill-opacity=\"1\" /><path clip-path=\"url(#clip210)\" d=\"M1145.93 1325.93 L1145.93 1349.44 L1150.87 1349.44 Q1157.13 1349.44 1160.02 1346.6 Q1162.94 1343.77 1162.94 1337.65 Q1162.94 1331.58 1160.02 1328.76 Q1157.13 1325.93 1150.87 1325.93 L1145.93 1325.93 M1141.83 1322.56 L1150.24 1322.56 Q1159.03 1322.56 1163.14 1326.23 Q1167.25 1329.87 1167.25 1337.65 Q1167.25 1345.47 1163.12 1349.14 Q1158.99 1352.8 1150.24 1352.8 L1141.83 1352.8 L1141.83 1322.56 Z\" fill=\"#000000\" fill-rule=\"evenodd\" fill-opacity=\"1\" /><path clip-path=\"url(#clip210)\" d=\"M1727.94 990.161 L1747.06 990.161 L1747.06 993.604 L1732.03 993.604 L1732.03 1002.56 L1746.43 1002.56 L1746.43 1006 L1732.03 1006 L1732.03 1016.96 L1747.43 1016.96 L1747.43 1020.4 L1727.94 1020.4 L1727.94 990.161 Z\" fill=\"#000000\" fill-rule=\"evenodd\" fill-opacity=\"1\" /><path clip-path=\"url(#clip210)\" d=\"M932.558 247.197 L949.937 247.197 L949.937 250.64 L936.65 250.64 L936.65 259.552 L948.64 259.552 L948.64 262.996 L936.65 262.996 L936.65 277.437 L932.558 277.437 L932.558 247.197 Z\" fill=\"#000000\" fill-rule=\"evenodd\" fill-opacity=\"1\" /></svg>\n"
      ]
     },
     "execution_count": 115,
     "metadata": {},
     "output_type": "execute_result"
    }
   ],
   "source": [
    "graphplot(g3.graph,names=[\"A\",\"B\",\"C\",\"D\",\"E\",\"F\"],edgelabel = Dict((4, 5) => 16, (1, 2) => 9,\n",
    "  (2, 5) => 4,\n",
    "  (1, 3) => 10,\n",
    "  (1, 4) => 15,\n",
    "  (4, 6) => 18,\n",
    "  (2, 6) => 10,\n",
    "  (3, 4) => 15,\n",
    "  (5, 6) => 22,\n",
    "  (1, 5) => 8,\n",
    "  (1, 6) => 20,\n",
    "  (3, 5) => 12,\n",
    "  (2, 3) => 24,\n",
    "  (2, 4) => 2,\n",
    "  (3, 6) => 7) ,curves=false)"
   ]
  },
  {
   "cell_type": "code",
   "execution_count": 142,
   "id": "5f3a6989-0ac5-4f56-b002-1f332f151ec5",
   "metadata": {},
   "outputs": [
    {
     "data": {
      "image/svg+xml": [
       "<?xml version=\"1.0\" encoding=\"utf-8\"?>\n",
       "<svg xmlns=\"http://www.w3.org/2000/svg\" xmlns:xlink=\"http://www.w3.org/1999/xlink\" width=\"600\" height=\"400\" viewBox=\"0 0 2400 1600\">\n",
       "<defs>\n",
       "  <clipPath id=\"clip510\">\n",
       "    <rect x=\"0\" y=\"0\" width=\"2400\" height=\"1600\"/>\n",
       "  </clipPath>\n",
       "</defs>\n",
       "<path clip-path=\"url(#clip510)\" d=\"\n",
       "M0 1600 L2400 1600 L2400 0 L0 0  Z\n",
       "  \" fill=\"#ffffff\" fill-rule=\"evenodd\" fill-opacity=\"1\"/>\n",
       "<defs>\n",
       "  <clipPath id=\"clip511\">\n",
       "    <rect x=\"480\" y=\"0\" width=\"1681\" height=\"1600\"/>\n",
       "  </clipPath>\n",
       "</defs>\n",
       "<path clip-path=\"url(#clip510)\" d=\"\n",
       "M447.244 1552.76 L1952.76 1552.76 L1952.76 47.2441 L447.244 47.2441  Z\n",
       "  \" fill=\"#ffffff\" fill-rule=\"evenodd\" fill-opacity=\"1\"/>\n",
       "<defs>\n",
       "  <clipPath id=\"clip512\">\n",
       "    <rect x=\"447\" y=\"47\" width=\"1507\" height=\"1507\"/>\n",
       "  </clipPath>\n",
       "</defs>\n",
       "<polyline clip-path=\"url(#clip512)\" style=\"stroke:#000000; stroke-linecap:round; stroke-linejoin:round; stroke-width:4; stroke-opacity:1; fill:none\" points=\"\n",
       "  1033.8,262.317 1097.36,1337.68 \n",
       "  \"/>\n",
       "<polyline clip-path=\"url(#clip512)\" style=\"stroke:#000000; stroke-linecap:round; stroke-linejoin:round; stroke-width:4; stroke-opacity:1; fill:none\" points=\"\n",
       "  1033.8,262.317 1245.91,789.958 \n",
       "  \"/>\n",
       "<polyline clip-path=\"url(#clip512)\" style=\"stroke:#000000; stroke-linecap:round; stroke-linejoin:round; stroke-width:4; stroke-opacity:1; fill:none\" points=\"\n",
       "  1033.8,262.317 1737.68,1096.14 \n",
       "  \"/>\n",
       "<polyline clip-path=\"url(#clip512)\" style=\"stroke:#000000; stroke-linecap:round; stroke-linejoin:round; stroke-width:4; stroke-opacity:1; fill:none\" points=\"\n",
       "  1033.8,262.317 662.317,822.395 \n",
       "  \"/>\n",
       "<polyline clip-path=\"url(#clip512)\" style=\"stroke:#000000; stroke-linecap:round; stroke-linejoin:round; stroke-width:4; stroke-opacity:1; fill:none\" points=\"\n",
       "  1033.8,262.317 1698.45,431.534 \n",
       "  \"/>\n",
       "<polyline clip-path=\"url(#clip512)\" style=\"stroke:#000000; stroke-linecap:round; stroke-linejoin:round; stroke-width:4; stroke-opacity:1; fill:none\" points=\"\n",
       "  1097.36,1337.68 1245.91,789.958 \n",
       "  \"/>\n",
       "<polyline clip-path=\"url(#clip512)\" style=\"stroke:#000000; stroke-linecap:round; stroke-linejoin:round; stroke-width:4; stroke-opacity:1; fill:none\" points=\"\n",
       "  1097.36,1337.68 1737.68,1096.14 \n",
       "  \"/>\n",
       "<polyline clip-path=\"url(#clip512)\" style=\"stroke:#000000; stroke-linecap:round; stroke-linejoin:round; stroke-width:4; stroke-opacity:1; fill:none\" points=\"\n",
       "  1097.36,1337.68 662.317,822.395 \n",
       "  \"/>\n",
       "<polyline clip-path=\"url(#clip512)\" style=\"stroke:#000000; stroke-linecap:round; stroke-linejoin:round; stroke-width:4; stroke-opacity:1; fill:none\" points=\"\n",
       "  1097.36,1337.68 1698.45,431.534 \n",
       "  \"/>\n",
       "<polyline clip-path=\"url(#clip512)\" style=\"stroke:#000000; stroke-linecap:round; stroke-linejoin:round; stroke-width:4; stroke-opacity:1; fill:none\" points=\"\n",
       "  1245.91,789.958 1737.68,1096.14 \n",
       "  \"/>\n",
       "<polyline clip-path=\"url(#clip512)\" style=\"stroke:#000000; stroke-linecap:round; stroke-linejoin:round; stroke-width:4; stroke-opacity:1; fill:none\" points=\"\n",
       "  1245.91,789.958 662.317,822.395 \n",
       "  \"/>\n",
       "<polyline clip-path=\"url(#clip512)\" style=\"stroke:#000000; stroke-linecap:round; stroke-linejoin:round; stroke-width:4; stroke-opacity:1; fill:none\" points=\"\n",
       "  1245.91,789.958 1698.45,431.534 \n",
       "  \"/>\n",
       "<polyline clip-path=\"url(#clip512)\" style=\"stroke:#000000; stroke-linecap:round; stroke-linejoin:round; stroke-width:4; stroke-opacity:1; fill:none\" points=\"\n",
       "  1737.68,1096.14 662.317,822.395 \n",
       "  \"/>\n",
       "<polyline clip-path=\"url(#clip512)\" style=\"stroke:#000000; stroke-linecap:round; stroke-linejoin:round; stroke-width:4; stroke-opacity:1; fill:none\" points=\"\n",
       "  1737.68,1096.14 1698.45,431.534 \n",
       "  \"/>\n",
       "<polyline clip-path=\"url(#clip512)\" style=\"stroke:#000000; stroke-linecap:round; stroke-linejoin:round; stroke-width:4; stroke-opacity:1; fill:none\" points=\"\n",
       "  662.317,822.395 1698.45,431.534 \n",
       "  \"/>\n",
       "<path clip-path=\"url(#clip512)\" d=\"\n",
       "M1043 836.132 L1088.16 836.132 L1088.16 763.868 L1043 763.868 L1043 836.132 L1043 836.132  Z\n",
       "  \" fill=\"#ffffff\" fill-rule=\"evenodd\" fill-opacity=\"1\"/>\n",
       "<polyline clip-path=\"url(#clip512)\" style=\"stroke:#000000; stroke-linecap:round; stroke-linejoin:round; stroke-width:0; stroke-opacity:0; fill:none\" points=\"\n",
       "  1043,836.132 1088.16,836.132 1088.16,763.868 1043,763.868 1043,836.132 \n",
       "  \"/>\n",
       "<path clip-path=\"url(#clip512)\" d=\"\n",
       "M1100.53 562.27 L1179.17 562.27 L1179.17 490.005 L1100.53 490.005 L1100.53 562.27 L1100.53 562.27  Z\n",
       "  \" fill=\"#ffffff\" fill-rule=\"evenodd\" fill-opacity=\"1\"/>\n",
       "<polyline clip-path=\"url(#clip512)\" style=\"stroke:#000000; stroke-linecap:round; stroke-linejoin:round; stroke-width:0; stroke-opacity:0; fill:none\" points=\"\n",
       "  1100.53,562.27 1179.17,562.27 1179.17,490.005 1100.53,490.005 1100.53,562.27 \n",
       "  \"/>\n",
       "<path clip-path=\"url(#clip512)\" d=\"\n",
       "M1346.42 715.363 L1425.06 715.363 L1425.06 643.098 L1346.42 643.098 L1346.42 715.363 L1346.42 715.363  Z\n",
       "  \" fill=\"#ffffff\" fill-rule=\"evenodd\" fill-opacity=\"1\"/>\n",
       "<polyline clip-path=\"url(#clip512)\" style=\"stroke:#000000; stroke-linecap:round; stroke-linejoin:round; stroke-width:0; stroke-opacity:0; fill:none\" points=\"\n",
       "  1346.42,715.363 1425.06,715.363 1425.06,643.098 1346.42,643.098 1346.42,715.363 \n",
       "  \"/>\n",
       "<path clip-path=\"url(#clip512)\" d=\"\n",
       "M825.474 578.488 L870.639 578.488 L870.639 506.224 L825.474 506.224 L825.474 578.488 L825.474 578.488  Z\n",
       "  \" fill=\"#ffffff\" fill-rule=\"evenodd\" fill-opacity=\"1\"/>\n",
       "<polyline clip-path=\"url(#clip512)\" style=\"stroke:#000000; stroke-linecap:round; stroke-linejoin:round; stroke-width:0; stroke-opacity:0; fill:none\" points=\"\n",
       "  825.474,578.488 870.639,578.488 870.639,506.224 825.474,506.224 825.474,578.488 \n",
       "  \"/>\n",
       "<path clip-path=\"url(#clip512)\" d=\"\n",
       "M1326.8 383.058 L1405.44 383.058 L1405.44 310.793 L1326.8 310.793 L1326.8 383.058 L1326.8 383.058  Z\n",
       "  \" fill=\"#ffffff\" fill-rule=\"evenodd\" fill-opacity=\"1\"/>\n",
       "<polyline clip-path=\"url(#clip512)\" style=\"stroke:#000000; stroke-linecap:round; stroke-linejoin:round; stroke-width:0; stroke-opacity:0; fill:none\" points=\"\n",
       "  1326.8,383.058 1405.44,383.058 1405.44,310.793 1326.8,310.793 1326.8,383.058 \n",
       "  \"/>\n",
       "<path clip-path=\"url(#clip512)\" d=\"\n",
       "M1132.32 1099.95 L1210.95 1099.95 L1210.95 1027.69 L1132.32 1027.69 L1132.32 1099.95 L1132.32 1099.95  Z\n",
       "  \" fill=\"#ffffff\" fill-rule=\"evenodd\" fill-opacity=\"1\"/>\n",
       "<polyline clip-path=\"url(#clip512)\" style=\"stroke:#000000; stroke-linecap:round; stroke-linejoin:round; stroke-width:0; stroke-opacity:0; fill:none\" points=\"\n",
       "  1132.32,1099.95 1210.95,1099.95 1210.95,1027.69 1132.32,1027.69 1132.32,1099.95 \n",
       "  \"/>\n",
       "<path clip-path=\"url(#clip512)\" d=\"\n",
       "M1394.94 1253.05 L1440.1 1253.05 L1440.1 1180.78 L1394.94 1180.78 L1394.94 1253.05 L1394.94 1253.05  Z\n",
       "  \" fill=\"#ffffff\" fill-rule=\"evenodd\" fill-opacity=\"1\"/>\n",
       "<polyline clip-path=\"url(#clip512)\" style=\"stroke:#000000; stroke-linecap:round; stroke-linejoin:round; stroke-width:0; stroke-opacity:0; fill:none\" points=\"\n",
       "  1394.94,1253.05 1440.1,1253.05 1440.1,1180.78 1394.94,1180.78 1394.94,1253.05 \n",
       "  \"/>\n",
       "<path clip-path=\"url(#clip512)\" d=\"\n",
       "M857.257 1116.17 L902.422 1116.17 L902.422 1043.91 L857.257 1043.91 L857.257 1116.17 L857.257 1116.17  Z\n",
       "  \" fill=\"#ffffff\" fill-rule=\"evenodd\" fill-opacity=\"1\"/>\n",
       "<polyline clip-path=\"url(#clip512)\" style=\"stroke:#000000; stroke-linecap:round; stroke-linejoin:round; stroke-width:0; stroke-opacity:0; fill:none\" points=\"\n",
       "  857.257,1116.17 902.422,1116.17 902.422,1043.91 857.257,1043.91 857.257,1116.17 \n",
       "  \"/>\n",
       "<path clip-path=\"url(#clip512)\" d=\"\n",
       "M1358.59 920.741 L1437.22 920.741 L1437.22 848.476 L1358.59 848.476 L1358.59 920.741 L1358.59 920.741  Z\n",
       "  \" fill=\"#ffffff\" fill-rule=\"evenodd\" fill-opacity=\"1\"/>\n",
       "<polyline clip-path=\"url(#clip512)\" style=\"stroke:#000000; stroke-linecap:round; stroke-linejoin:round; stroke-width:0; stroke-opacity:0; fill:none\" points=\"\n",
       "  1358.59,920.741 1437.22,920.741 1437.22,848.476 1358.59,848.476 1358.59,920.741 \n",
       "  \"/>\n",
       "<path clip-path=\"url(#clip512)\" d=\"\n",
       "M1452.48 979.183 L1531.12 979.183 L1531.12 906.919 L1452.48 906.919 L1452.48 979.183 L1452.48 979.183  Z\n",
       "  \" fill=\"#ffffff\" fill-rule=\"evenodd\" fill-opacity=\"1\"/>\n",
       "<polyline clip-path=\"url(#clip512)\" style=\"stroke:#000000; stroke-linecap:round; stroke-linejoin:round; stroke-width:0; stroke-opacity:0; fill:none\" points=\"\n",
       "  1452.48,979.183 1531.12,979.183 1531.12,906.919 1452.48,906.919 1452.48,979.183 \n",
       "  \"/>\n",
       "<path clip-path=\"url(#clip512)\" d=\"\n",
       "M914.795 842.309 L993.433 842.309 L993.433 770.044 L914.795 770.044 L914.795 842.309 L914.795 842.309  Z\n",
       "  \" fill=\"#ffffff\" fill-rule=\"evenodd\" fill-opacity=\"1\"/>\n",
       "<polyline clip-path=\"url(#clip512)\" style=\"stroke:#000000; stroke-linecap:round; stroke-linejoin:round; stroke-width:0; stroke-opacity:0; fill:none\" points=\"\n",
       "  914.795,842.309 993.433,842.309 993.433,770.044 914.795,770.044 914.795,842.309 \n",
       "  \"/>\n",
       "<path clip-path=\"url(#clip512)\" d=\"\n",
       "M1449.6 646.878 L1494.76 646.878 L1494.76 574.614 L1449.6 574.614 L1449.6 646.878 L1449.6 646.878  Z\n",
       "  \" fill=\"#ffffff\" fill-rule=\"evenodd\" fill-opacity=\"1\"/>\n",
       "<polyline clip-path=\"url(#clip512)\" style=\"stroke:#000000; stroke-linecap:round; stroke-linejoin:round; stroke-width:0; stroke-opacity:0; fill:none\" points=\"\n",
       "  1449.6,646.878 1494.76,646.878 1494.76,574.614 1449.6,574.614 1449.6,646.878 \n",
       "  \"/>\n",
       "<path clip-path=\"url(#clip512)\" d=\"\n",
       "M1160.68 995.402 L1239.32 995.402 L1239.32 923.137 L1160.68 923.137 L1160.68 995.402 L1160.68 995.402  Z\n",
       "  \" fill=\"#ffffff\" fill-rule=\"evenodd\" fill-opacity=\"1\"/>\n",
       "<polyline clip-path=\"url(#clip512)\" style=\"stroke:#000000; stroke-linecap:round; stroke-linejoin:round; stroke-width:0; stroke-opacity:0; fill:none\" points=\"\n",
       "  1160.68,995.402 1239.32,995.402 1239.32,923.137 1160.68,923.137 1160.68,995.402 \n",
       "  \"/>\n",
       "<path clip-path=\"url(#clip512)\" d=\"\n",
       "M1678.75 799.971 L1757.38 799.971 L1757.38 727.706 L1678.75 727.706 L1678.75 799.971 L1678.75 799.971  Z\n",
       "  \" fill=\"#ffffff\" fill-rule=\"evenodd\" fill-opacity=\"1\"/>\n",
       "<polyline clip-path=\"url(#clip512)\" style=\"stroke:#000000; stroke-linecap:round; stroke-linejoin:round; stroke-width:0; stroke-opacity:0; fill:none\" points=\"\n",
       "  1678.75,799.971 1757.38,799.971 1757.38,727.706 1678.75,727.706 1678.75,799.971 \n",
       "  \"/>\n",
       "<path clip-path=\"url(#clip512)\" d=\"\n",
       "M1141.06 663.096 L1219.7 663.096 L1219.7 590.832 L1141.06 590.832 L1141.06 663.096 L1141.06 663.096  Z\n",
       "  \" fill=\"#ffffff\" fill-rule=\"evenodd\" fill-opacity=\"1\"/>\n",
       "<polyline clip-path=\"url(#clip512)\" style=\"stroke:#000000; stroke-linecap:round; stroke-linejoin:round; stroke-width:0; stroke-opacity:0; fill:none\" points=\"\n",
       "  1141.06,663.096 1219.7,663.096 1219.7,590.832 1141.06,590.832 1141.06,663.096 \n",
       "  \"/>\n",
       "<path clip-path=\"url(#clip512)\" d=\"\n",
       "M1057.88 262.317 L1045.84 241.456 L1021.75 241.456 L1009.71 262.317 L1021.75 283.178 L1045.84 283.178 L1057.88 262.317 L1057.88 262.317  Z\n",
       "  \" fill=\"#009af9\" fill-rule=\"evenodd\" fill-opacity=\"1\"/>\n",
       "<polyline clip-path=\"url(#clip512)\" style=\"stroke:#000000; stroke-linecap:round; stroke-linejoin:round; stroke-width:4; stroke-opacity:1; fill:none\" points=\"\n",
       "  1057.88,262.317 1045.84,241.456 1021.75,241.456 1009.71,262.317 1021.75,283.178 1045.84,283.178 1057.88,262.317 \n",
       "  \"/>\n",
       "<path clip-path=\"url(#clip512)\" d=\"\n",
       "M1121.45 1337.68 L1109.41 1316.82 L1085.32 1316.82 L1073.27 1337.68 L1085.32 1358.54 L1109.41 1358.54 L1121.45 1337.68 L1121.45 1337.68  Z\n",
       "  \" fill=\"#009af9\" fill-rule=\"evenodd\" fill-opacity=\"1\"/>\n",
       "<polyline clip-path=\"url(#clip512)\" style=\"stroke:#000000; stroke-linecap:round; stroke-linejoin:round; stroke-width:4; stroke-opacity:1; fill:none\" points=\"\n",
       "  1121.45,1337.68 1109.41,1316.82 1085.32,1316.82 1073.27,1337.68 1085.32,1358.54 1109.41,1358.54 1121.45,1337.68 \n",
       "  \"/>\n",
       "<path clip-path=\"url(#clip512)\" d=\"\n",
       "M1270 789.958 L1257.95 769.097 L1233.87 769.097 L1221.82 789.958 L1233.87 810.819 L1257.95 810.819 L1270 789.958 L1270 789.958  Z\n",
       "  \" fill=\"#009af9\" fill-rule=\"evenodd\" fill-opacity=\"1\"/>\n",
       "<polyline clip-path=\"url(#clip512)\" style=\"stroke:#000000; stroke-linecap:round; stroke-linejoin:round; stroke-width:4; stroke-opacity:1; fill:none\" points=\"\n",
       "  1270,789.958 1257.95,769.097 1233.87,769.097 1221.82,789.958 1233.87,810.819 1257.95,810.819 1270,789.958 \n",
       "  \"/>\n",
       "<path clip-path=\"url(#clip512)\" d=\"\n",
       "M1761.77 1096.14 L1749.73 1075.28 L1725.64 1075.28 L1713.59 1096.14 L1725.64 1117 L1749.73 1117 L1761.77 1096.14 L1761.77 1096.14  Z\n",
       "  \" fill=\"#009af9\" fill-rule=\"evenodd\" fill-opacity=\"1\"/>\n",
       "<polyline clip-path=\"url(#clip512)\" style=\"stroke:#000000; stroke-linecap:round; stroke-linejoin:round; stroke-width:4; stroke-opacity:1; fill:none\" points=\"\n",
       "  1761.77,1096.14 1749.73,1075.28 1725.64,1075.28 1713.59,1096.14 1725.64,1117 1749.73,1117 1761.77,1096.14 \n",
       "  \"/>\n",
       "<path clip-path=\"url(#clip512)\" d=\"\n",
       "M686.405 822.395 L674.361 801.534 L650.273 801.534 L638.229 822.395 L650.273 843.256 L674.361 843.256 L686.405 822.395 L686.405 822.395  Z\n",
       "  \" fill=\"#009af9\" fill-rule=\"evenodd\" fill-opacity=\"1\"/>\n",
       "<polyline clip-path=\"url(#clip512)\" style=\"stroke:#000000; stroke-linecap:round; stroke-linejoin:round; stroke-width:4; stroke-opacity:1; fill:none\" points=\"\n",
       "  686.405,822.395 674.361,801.534 650.273,801.534 638.229,822.395 650.273,843.256 674.361,843.256 686.405,822.395 \n",
       "  \"/>\n",
       "<path clip-path=\"url(#clip512)\" d=\"\n",
       "M1722.54 431.534 L1710.49 410.673 L1686.4 410.673 L1674.36 431.534 L1686.4 452.395 L1710.49 452.395 L1722.54 431.534 L1722.54 431.534  Z\n",
       "  \" fill=\"#009af9\" fill-rule=\"evenodd\" fill-opacity=\"1\"/>\n",
       "<polyline clip-path=\"url(#clip512)\" style=\"stroke:#000000; stroke-linecap:round; stroke-linejoin:round; stroke-width:4; stroke-opacity:1; fill:none\" points=\"\n",
       "  1722.54,431.534 1710.49,410.673 1686.4,410.673 1674.36,431.534 1686.4,452.395 1710.49,452.395 1722.54,431.534 \n",
       "  \"/>\n",
       "<path clip-path=\"url(#clip512)\" d=\"M1033.8 262.717 L1033.45 262.517 L1033.45 262.117 L1033.8 261.917 L1034.14 262.117 L1034.14 262.517 Z\" fill=\"#009af9\" fill-rule=\"evenodd\" fill-opacity=\"1\" stroke=\"#000000\" stroke-opacity=\"1\" stroke-width=\"3.2\"/>\n",
       "<path clip-path=\"url(#clip512)\" d=\"M1097.36 1338.08 L1097.02 1337.88 L1097.02 1337.48 L1097.36 1337.28 L1097.71 1337.48 L1097.71 1337.88 Z\" fill=\"#009af9\" fill-rule=\"evenodd\" fill-opacity=\"1\" stroke=\"#000000\" stroke-opacity=\"1\" stroke-width=\"3.2\"/>\n",
       "<path clip-path=\"url(#clip512)\" d=\"M1245.91 790.358 L1245.56 790.158 L1245.56 789.758 L1245.91 789.558 L1246.26 789.758 L1246.26 790.158 Z\" fill=\"#009af9\" fill-rule=\"evenodd\" fill-opacity=\"1\" stroke=\"#000000\" stroke-opacity=\"1\" stroke-width=\"3.2\"/>\n",
       "<path clip-path=\"url(#clip512)\" d=\"M1737.68 1096.54 L1737.34 1096.34 L1737.34 1095.94 L1737.68 1095.74 L1738.03 1095.94 L1738.03 1096.34 Z\" fill=\"#009af9\" fill-rule=\"evenodd\" fill-opacity=\"1\" stroke=\"#000000\" stroke-opacity=\"1\" stroke-width=\"3.2\"/>\n",
       "<path clip-path=\"url(#clip512)\" d=\"M662.317 822.795 L661.971 822.595 L661.971 822.195 L662.317 821.995 L662.664 822.195 L662.664 822.595 Z\" fill=\"#009af9\" fill-rule=\"evenodd\" fill-opacity=\"1\" stroke=\"#000000\" stroke-opacity=\"1\" stroke-width=\"3.2\"/>\n",
       "<path clip-path=\"url(#clip512)\" d=\"M1698.45 431.934 L1698.1 431.734 L1698.1 431.334 L1698.45 431.134 L1698.79 431.334 L1698.79 431.734 Z\" fill=\"#009af9\" fill-rule=\"evenodd\" fill-opacity=\"1\" stroke=\"#000000\" stroke-opacity=\"1\" stroke-width=\"3.2\"/>\n",
       "<path clip-path=\"url(#clip510)\" d=\"M1057.09 814.492 L1057.09 810.765 Q1058.63 811.494 1060.21 811.879 Q1061.79 812.264 1063.31 812.264 Q1067.36 812.264 1069.49 809.55 Q1071.63 806.816 1071.94 801.266 Q1070.76 803.008 1068.96 803.94 Q1067.16 804.871 1064.97 804.871 Q1060.43 804.871 1057.78 802.137 Q1055.15 799.382 1055.15 794.622 Q1055.15 789.964 1057.9 787.149 Q1060.66 784.333 1065.23 784.333 Q1070.48 784.333 1073.23 788.364 Q1076.01 792.374 1076.01 800.03 Q1076.01 807.18 1072.61 811.454 Q1069.22 815.707 1063.49 815.707 Q1061.95 815.707 1060.37 815.404 Q1058.79 815.1 1057.09 814.492 M1065.23 801.671 Q1067.99 801.671 1069.59 799.787 Q1071.21 797.904 1071.21 794.622 Q1071.21 791.361 1069.59 789.478 Q1067.99 787.574 1065.23 787.574 Q1062.48 787.574 1060.86 789.478 Q1059.26 791.361 1059.26 794.622 Q1059.26 797.904 1060.86 799.787 Q1062.48 801.671 1065.23 801.671 Z\" fill=\"#000000\" fill-rule=\"evenodd\" fill-opacity=\"1\" /><path clip-path=\"url(#clip510)\" d=\"M1117.7 537.814 L1124.39 537.814 L1124.39 514.744 L1117.12 516.203 L1117.12 512.476 L1124.35 511.018 L1128.44 511.018 L1128.44 537.814 L1135.12 537.814 L1135.12 541.258 L1117.7 541.258 L1117.7 537.814 Z\" fill=\"#000000\" fill-rule=\"evenodd\" fill-opacity=\"1\" /><path clip-path=\"url(#clip510)\" d=\"M1152.14 513.711 Q1148.98 513.711 1147.38 516.831 Q1145.8 519.93 1145.8 526.168 Q1145.8 532.386 1147.38 535.505 Q1148.98 538.604 1152.14 538.604 Q1155.32 538.604 1156.9 535.505 Q1158.5 532.386 1158.5 526.168 Q1158.5 519.93 1156.9 516.831 Q1155.32 513.711 1152.14 513.711 M1152.14 510.471 Q1157.22 510.471 1159.9 514.501 Q1162.59 518.512 1162.59 526.168 Q1162.59 533.804 1159.9 537.835 Q1157.22 541.845 1152.14 541.845 Q1147.05 541.845 1144.36 537.835 Q1141.69 533.804 1141.69 526.168 Q1141.69 518.512 1144.36 514.501 Q1147.05 510.471 1152.14 510.471 Z\" fill=\"#000000\" fill-rule=\"evenodd\" fill-opacity=\"1\" /><path clip-path=\"url(#clip510)\" d=\"M1364.03 690.907 L1370.71 690.907 L1370.71 667.837 L1363.44 669.296 L1363.44 665.569 L1370.67 664.111 L1374.76 664.111 L1374.76 690.907 L1381.45 690.907 L1381.45 694.351 L1364.03 694.351 L1364.03 690.907 Z\" fill=\"#000000\" fill-rule=\"evenodd\" fill-opacity=\"1\" /><path clip-path=\"url(#clip510)\" d=\"M1389.75 664.111 L1405.81 664.111 L1405.81 667.554 L1393.5 667.554 L1393.5 674.967 Q1394.39 674.663 1395.28 674.521 Q1396.17 674.359 1397.06 674.359 Q1402.13 674.359 1405.08 677.134 Q1408.04 679.909 1408.04 684.649 Q1408.04 689.53 1405 692.244 Q1401.96 694.938 1396.43 694.938 Q1394.53 694.938 1392.54 694.614 Q1390.58 694.29 1388.47 693.642 L1388.47 689.53 Q1390.3 690.522 1392.24 691.009 Q1394.19 691.495 1396.35 691.495 Q1399.86 691.495 1401.9 689.651 Q1403.95 687.808 1403.95 684.649 Q1403.95 681.489 1401.9 679.646 Q1399.86 677.803 1396.35 677.803 Q1394.71 677.803 1393.07 678.167 Q1391.45 678.532 1389.75 679.301 L1389.75 664.111 Z\" fill=\"#000000\" fill-rule=\"evenodd\" fill-opacity=\"1\" /><path clip-path=\"url(#clip510)\" d=\"M848.056 543.115 Q845.14 543.115 843.459 544.675 Q841.798 546.235 841.798 548.969 Q841.798 551.703 843.459 553.263 Q845.14 554.823 848.056 554.823 Q850.973 554.823 852.654 553.263 Q854.335 551.683 854.335 548.969 Q854.335 546.235 852.654 544.675 Q850.993 543.115 848.056 543.115 M843.965 541.374 Q841.332 540.725 839.853 538.923 Q838.395 537.12 838.395 534.528 Q838.395 530.902 840.967 528.796 Q843.56 526.689 848.056 526.689 Q852.573 526.689 855.146 528.796 Q857.718 530.902 857.718 534.528 Q857.718 537.12 856.239 538.923 Q854.781 540.725 852.168 541.374 Q855.125 542.062 856.766 544.067 Q858.427 546.073 858.427 548.969 Q858.427 553.364 855.733 555.714 Q853.059 558.063 848.056 558.063 Q843.054 558.063 840.36 555.714 Q837.686 553.364 837.686 548.969 Q837.686 546.073 839.347 544.067 Q841.008 542.062 843.965 541.374 M842.466 534.912 Q842.466 537.262 843.925 538.578 Q845.403 539.895 848.056 539.895 Q850.69 539.895 852.168 538.578 Q853.667 537.262 853.667 534.912 Q853.667 532.563 852.168 531.246 Q850.69 529.93 848.056 529.93 Q845.403 529.93 843.925 531.246 Q842.466 532.563 842.466 534.912 Z\" fill=\"#000000\" fill-rule=\"evenodd\" fill-opacity=\"1\" /><path clip-path=\"url(#clip510)\" d=\"M1347.55 358.602 L1361.83 358.602 L1361.83 362.045 L1342.63 362.045 L1342.63 358.602 Q1344.96 356.192 1348.97 352.141 Q1353 348.07 1354.03 346.895 Q1355.99 344.687 1356.76 343.168 Q1357.55 341.629 1357.55 340.15 Q1357.55 337.74 1355.85 336.221 Q1354.17 334.702 1351.46 334.702 Q1349.53 334.702 1347.39 335.37 Q1345.26 336.039 1342.83 337.396 L1342.83 333.264 Q1345.3 332.271 1347.45 331.765 Q1349.59 331.259 1351.38 331.259 Q1356.08 331.259 1358.87 333.608 Q1361.67 335.958 1361.67 339.887 Q1361.67 341.75 1360.96 343.432 Q1360.27 345.092 1358.42 347.361 Q1357.92 347.948 1355.2 350.764 Q1352.49 353.559 1347.55 358.602 Z\" fill=\"#000000\" fill-rule=\"evenodd\" fill-opacity=\"1\" /><path clip-path=\"url(#clip510)\" d=\"M1379.17 334.499 Q1376.01 334.499 1374.41 337.619 Q1372.83 340.717 1372.83 346.956 Q1372.83 353.174 1374.41 356.293 Q1376.01 359.392 1379.17 359.392 Q1382.35 359.392 1383.93 356.293 Q1385.53 353.174 1385.53 346.956 Q1385.53 340.717 1383.93 337.619 Q1382.35 334.499 1379.17 334.499 M1379.17 331.259 Q1384.25 331.259 1386.92 335.289 Q1389.62 339.3 1389.62 346.956 Q1389.62 354.592 1386.92 358.622 Q1384.25 362.633 1379.17 362.633 Q1374.08 362.633 1371.39 358.622 Q1368.71 354.592 1368.71 346.956 Q1368.71 339.3 1371.39 335.289 Q1374.08 331.259 1379.17 331.259 Z\" fill=\"#000000\" fill-rule=\"evenodd\" fill-opacity=\"1\" /><path clip-path=\"url(#clip510)\" d=\"M1152.85 1075.5 L1167.13 1075.5 L1167.13 1078.94 L1147.93 1078.94 L1147.93 1075.5 Q1150.26 1073.09 1154.27 1069.04 Q1158.3 1064.96 1159.33 1063.79 Q1161.3 1061.58 1162.07 1060.06 Q1162.86 1058.52 1162.86 1057.05 Q1162.86 1054.63 1161.15 1053.12 Q1159.47 1051.6 1156.76 1051.6 Q1154.83 1051.6 1152.69 1052.27 Q1150.56 1052.93 1148.13 1054.29 L1148.13 1050.16 Q1150.6 1049.17 1152.75 1048.66 Q1154.9 1048.15 1156.68 1048.15 Q1161.38 1048.15 1164.17 1050.5 Q1166.97 1052.85 1166.97 1056.78 Q1166.97 1058.65 1166.26 1060.33 Q1165.57 1061.99 1163.73 1064.26 Q1163.22 1064.84 1160.51 1067.66 Q1157.79 1070.45 1152.85 1075.5 Z\" fill=\"#000000\" fill-rule=\"evenodd\" fill-opacity=\"1\" /><path clip-path=\"url(#clip510)\" d=\"M1186.96 1052.27 L1176.63 1068.41 L1186.96 1068.41 L1186.96 1052.27 M1185.89 1048.7 L1191.03 1048.7 L1191.03 1068.41 L1195.34 1068.41 L1195.34 1071.81 L1191.03 1071.81 L1191.03 1078.94 L1186.96 1078.94 L1186.96 1071.81 L1173.31 1071.81 L1173.31 1067.86 L1185.89 1048.7 Z\" fill=\"#000000\" fill-rule=\"evenodd\" fill-opacity=\"1\" /><path clip-path=\"url(#clip510)\" d=\"M1412.84 1228.59 L1427.12 1228.59 L1427.12 1232.03 L1407.92 1232.03 L1407.92 1228.59 Q1410.25 1226.18 1414.26 1222.13 Q1418.29 1218.06 1419.32 1216.88 Q1421.29 1214.68 1422.06 1213.16 Q1422.85 1211.62 1422.85 1210.14 Q1422.85 1207.73 1421.15 1206.21 Q1419.47 1204.69 1416.75 1204.69 Q1414.83 1204.69 1412.68 1205.36 Q1410.55 1206.03 1408.12 1207.38 L1408.12 1203.25 Q1410.6 1202.26 1412.74 1201.75 Q1414.89 1201.25 1416.67 1201.25 Q1421.37 1201.25 1424.17 1203.6 Q1426.96 1205.95 1426.96 1209.87 Q1426.96 1211.74 1426.25 1213.42 Q1425.56 1215.08 1423.72 1217.35 Q1423.21 1217.94 1420.5 1220.75 Q1417.79 1223.55 1412.84 1228.59 Z\" fill=\"#000000\" fill-rule=\"evenodd\" fill-opacity=\"1\" /><path clip-path=\"url(#clip510)\" d=\"M882.472 1068.48 L872.143 1084.63 L882.472 1084.63 L882.472 1068.48 M881.399 1064.92 L886.544 1064.92 L886.544 1084.63 L890.858 1084.63 L890.858 1088.03 L886.544 1088.03 L886.544 1095.16 L882.472 1095.16 L882.472 1088.03 L868.821 1088.03 L868.821 1084.08 L881.399 1064.92 Z\" fill=\"#000000\" fill-rule=\"evenodd\" fill-opacity=\"1\" /><path clip-path=\"url(#clip510)\" d=\"M1375.76 896.285 L1382.44 896.285 L1382.44 873.215 L1375.17 874.673 L1375.17 870.947 L1382.4 869.488 L1386.49 869.488 L1386.49 896.285 L1393.18 896.285 L1393.18 899.728 L1375.76 899.728 L1375.76 896.285 Z\" fill=\"#000000\" fill-rule=\"evenodd\" fill-opacity=\"1\" /><path clip-path=\"url(#clip510)\" d=\"M1410.19 872.182 Q1407.03 872.182 1405.43 875.301 Q1403.85 878.4 1403.85 884.639 Q1403.85 890.857 1405.43 893.976 Q1407.03 897.075 1410.19 897.075 Q1413.37 897.075 1414.95 893.976 Q1416.55 890.857 1416.55 884.639 Q1416.55 878.4 1414.95 875.301 Q1413.37 872.182 1410.19 872.182 M1410.19 868.941 Q1415.27 868.941 1417.95 872.972 Q1420.64 876.982 1420.64 884.639 Q1420.64 892.275 1417.95 896.305 Q1415.27 900.316 1410.19 900.316 Q1405.1 900.316 1402.41 896.305 Q1399.74 892.275 1399.74 884.639 Q1399.74 876.982 1402.41 872.972 Q1405.1 868.941 1410.19 868.941 Z\" fill=\"#000000\" fill-rule=\"evenodd\" fill-opacity=\"1\" /><path clip-path=\"url(#clip510)\" d=\"M1470.08 954.728 L1476.77 954.728 L1476.77 931.658 L1469.5 933.116 L1469.5 929.389 L1476.73 927.931 L1480.82 927.931 L1480.82 954.728 L1487.5 954.728 L1487.5 958.171 L1470.08 958.171 L1470.08 954.728 Z\" fill=\"#000000\" fill-rule=\"evenodd\" fill-opacity=\"1\" /><path clip-path=\"url(#clip510)\" d=\"M1495.81 927.931 L1511.87 927.931 L1511.87 931.374 L1499.55 931.374 L1499.55 938.787 Q1500.45 938.484 1501.34 938.342 Q1502.23 938.18 1503.12 938.18 Q1508.18 938.18 1511.14 940.955 Q1514.1 943.729 1514.1 948.469 Q1514.1 953.35 1511.06 956.064 Q1508.02 958.758 1502.49 958.758 Q1500.59 958.758 1498.6 958.434 Q1496.64 958.11 1494.53 957.462 L1494.53 953.35 Q1496.35 954.343 1498.3 954.829 Q1500.24 955.315 1502.41 955.315 Q1505.91 955.315 1507.96 953.472 Q1510.01 951.629 1510.01 948.469 Q1510.01 945.309 1507.96 943.466 Q1505.91 941.623 1502.41 941.623 Q1500.77 941.623 1499.13 941.988 Q1497.51 942.352 1495.81 943.122 L1495.81 927.931 Z\" fill=\"#000000\" fill-rule=\"evenodd\" fill-opacity=\"1\" /><path clip-path=\"url(#clip510)\" d=\"M932.664 817.853 L939.348 817.853 L939.348 794.783 L932.077 796.242 L932.077 792.515 L939.308 791.056 L943.399 791.056 L943.399 817.853 L950.083 817.853 L950.083 821.296 L932.664 821.296 L932.664 817.853 Z\" fill=\"#000000\" fill-rule=\"evenodd\" fill-opacity=\"1\" /><path clip-path=\"url(#clip510)\" d=\"M961.871 817.853 L976.151 817.853 L976.151 821.296 L956.95 821.296 L956.95 817.853 Q959.279 815.443 963.289 811.392 Q967.32 807.321 968.353 806.146 Q970.318 803.938 971.087 802.419 Q971.877 800.88 971.877 799.401 Q971.877 796.991 970.176 795.472 Q968.495 793.953 965.781 793.953 Q963.856 793.953 961.709 794.621 Q959.583 795.29 957.152 796.647 L957.152 792.515 Q959.623 791.522 961.77 791.016 Q963.917 790.509 965.7 790.509 Q970.399 790.509 973.194 792.859 Q975.989 795.209 975.989 799.138 Q975.989 801.001 975.28 802.682 Q974.591 804.343 972.748 806.612 Q972.242 807.199 969.528 810.015 Q966.814 812.81 961.871 817.853 Z\" fill=\"#000000\" fill-rule=\"evenodd\" fill-opacity=\"1\" /><path clip-path=\"url(#clip510)\" d=\"M1462.46 595.626 L1481.9 595.626 L1481.9 597.368 L1470.92 625.866 L1466.65 625.866 L1476.98 599.069 L1462.46 599.069 L1462.46 595.626 Z\" fill=\"#000000\" fill-rule=\"evenodd\" fill-opacity=\"1\" /><path clip-path=\"url(#clip510)\" d=\"M1177.78 970.946 L1184.46 970.946 L1184.46 947.876 L1177.19 949.334 L1177.19 945.608 L1184.42 944.149 L1188.52 944.149 L1188.52 970.946 L1195.2 970.946 L1195.2 974.389 L1177.78 974.389 L1177.78 970.946 Z\" fill=\"#000000\" fill-rule=\"evenodd\" fill-opacity=\"1\" /><path clip-path=\"url(#clip510)\" d=\"M1212.72 957.639 Q1209.97 957.639 1208.34 959.522 Q1206.74 961.406 1206.74 964.687 Q1206.74 967.948 1208.34 969.852 Q1209.97 971.736 1212.72 971.736 Q1215.47 971.736 1217.07 969.852 Q1218.69 967.948 1218.69 964.687 Q1218.69 961.406 1217.07 959.522 Q1215.47 957.639 1212.72 957.639 M1220.84 944.818 L1220.84 948.544 Q1219.3 947.815 1217.72 947.43 Q1216.16 947.046 1214.62 947.046 Q1210.57 947.046 1208.43 949.78 Q1206.3 952.514 1206 958.044 Q1207.19 956.282 1208.99 955.35 Q1210.8 954.398 1212.96 954.398 Q1217.52 954.398 1220.15 957.173 Q1222.81 959.928 1222.81 964.687 Q1222.81 969.346 1220.05 972.161 Q1217.3 974.977 1212.72 974.977 Q1207.47 974.977 1204.7 970.966 Q1201.92 966.936 1201.92 959.3 Q1201.92 952.13 1205.33 947.876 Q1208.73 943.602 1214.46 943.602 Q1216 943.602 1217.56 943.906 Q1219.14 944.21 1220.84 944.818 Z\" fill=\"#000000\" fill-rule=\"evenodd\" fill-opacity=\"1\" /><path clip-path=\"url(#clip510)\" d=\"M1695.96 775.516 L1702.64 775.516 L1702.64 752.446 L1695.37 753.904 L1695.37 750.177 L1702.6 748.719 L1706.69 748.719 L1706.69 775.516 L1713.38 775.516 L1713.38 778.959 L1695.96 778.959 L1695.96 775.516 Z\" fill=\"#000000\" fill-rule=\"evenodd\" fill-opacity=\"1\" /><path clip-path=\"url(#clip510)\" d=\"M1730.39 764.598 Q1727.47 764.598 1725.79 766.158 Q1724.13 767.718 1724.13 770.452 Q1724.13 773.186 1725.79 774.746 Q1727.47 776.305 1730.39 776.305 Q1733.31 776.305 1734.99 774.746 Q1736.67 773.166 1736.67 770.452 Q1736.67 767.718 1734.99 766.158 Q1733.33 764.598 1730.39 764.598 M1726.3 762.856 Q1723.67 762.208 1722.19 760.406 Q1720.73 758.603 1720.73 756.01 Q1720.73 752.385 1723.3 750.278 Q1725.89 748.172 1730.39 748.172 Q1734.91 748.172 1737.48 750.278 Q1740.05 752.385 1740.05 756.01 Q1740.05 758.603 1738.57 760.406 Q1737.11 762.208 1734.5 762.856 Q1737.46 763.545 1739.1 765.55 Q1740.76 767.555 1740.76 770.452 Q1740.76 774.847 1738.07 777.197 Q1735.39 779.546 1730.39 779.546 Q1725.39 779.546 1722.69 777.197 Q1720.02 774.847 1720.02 770.452 Q1720.02 767.555 1721.68 765.55 Q1723.34 763.545 1726.3 762.856 M1724.8 756.395 Q1724.8 758.745 1726.26 760.061 Q1727.74 761.378 1730.39 761.378 Q1733.02 761.378 1734.5 760.061 Q1736 758.745 1736 756.395 Q1736 754.046 1734.5 752.729 Q1733.02 751.413 1730.39 751.413 Q1727.74 751.413 1726.26 752.729 Q1724.8 754.046 1724.8 756.395 Z\" fill=\"#000000\" fill-rule=\"evenodd\" fill-opacity=\"1\" /><path clip-path=\"url(#clip510)\" d=\"M1162.51 638.641 L1176.79 638.641 L1176.79 642.084 L1157.59 642.084 L1157.59 638.641 Q1159.92 636.231 1163.93 632.18 Q1167.96 628.109 1168.99 626.934 Q1170.95 624.726 1171.72 623.207 Q1172.51 621.668 1172.51 620.189 Q1172.51 617.779 1170.81 616.26 Q1169.13 614.741 1166.42 614.741 Q1164.49 614.741 1162.35 615.409 Q1160.22 616.077 1157.79 617.434 L1157.79 613.303 Q1160.26 612.31 1162.41 611.804 Q1164.55 611.297 1166.34 611.297 Q1171.03 611.297 1173.83 613.647 Q1176.63 615.996 1176.63 619.926 Q1176.63 621.789 1175.92 623.47 Q1175.23 625.131 1173.38 627.4 Q1172.88 627.987 1170.16 630.802 Q1167.45 633.598 1162.51 638.641 Z\" fill=\"#000000\" fill-rule=\"evenodd\" fill-opacity=\"1\" /><path clip-path=\"url(#clip510)\" d=\"M1188.9 638.641 L1203.18 638.641 L1203.18 642.084 L1183.98 642.084 L1183.98 638.641 Q1186.31 636.231 1190.32 632.18 Q1194.35 628.109 1195.38 626.934 Q1197.35 624.726 1198.12 623.207 Q1198.91 621.668 1198.91 620.189 Q1198.91 617.779 1197.2 616.26 Q1195.52 614.741 1192.81 614.741 Q1190.88 614.741 1188.74 615.409 Q1186.61 616.077 1184.18 617.434 L1184.18 613.303 Q1186.65 612.31 1188.8 611.804 Q1190.95 611.297 1192.73 611.297 Q1197.43 611.297 1200.22 613.647 Q1203.02 615.996 1203.02 619.926 Q1203.02 621.789 1202.31 623.47 Q1201.62 625.131 1199.78 627.4 Q1199.27 627.987 1196.56 630.802 Q1193.84 633.598 1188.9 638.641 Z\" fill=\"#000000\" fill-rule=\"evenodd\" fill-opacity=\"1\" /><path clip-path=\"url(#clip510)\" d=\"M1033.8 251.228 L1028.25 266.277 L1039.37 266.277 L1033.8 251.228 M1031.49 247.197 L1036.13 247.197 L1047.65 277.437 L1043.4 277.437 L1040.64 269.68 L1027.01 269.68 L1024.26 277.437 L1019.94 277.437 L1031.49 247.197 Z\" fill=\"#000000\" fill-rule=\"evenodd\" fill-opacity=\"1\" /><path clip-path=\"url(#clip510)\" d=\"M1090.73 1338.36 L1090.73 1349.44 L1097.29 1349.44 Q1100.59 1349.44 1102.17 1348.08 Q1103.77 1346.71 1103.77 1343.89 Q1103.77 1341.06 1102.17 1339.72 Q1100.59 1338.36 1097.29 1338.36 L1090.73 1338.36 M1090.73 1325.93 L1090.73 1335.04 L1096.78 1335.04 Q1099.78 1335.04 1101.24 1333.93 Q1102.72 1332.79 1102.72 1330.48 Q1102.72 1328.19 1101.24 1327.06 Q1099.78 1325.93 1096.78 1325.93 L1090.73 1325.93 M1086.64 1322.56 L1097.09 1322.56 Q1101.77 1322.56 1104.3 1324.51 Q1106.83 1326.45 1106.83 1330.04 Q1106.83 1332.81 1105.53 1334.45 Q1104.24 1336.09 1101.73 1336.5 Q1104.74 1337.15 1106.41 1339.21 Q1108.09 1341.26 1108.09 1344.34 Q1108.09 1348.39 1105.33 1350.6 Q1102.58 1352.8 1097.49 1352.8 L1086.64 1352.8 L1086.64 1322.56 Z\" fill=\"#000000\" fill-rule=\"evenodd\" fill-opacity=\"1\" /><path clip-path=\"url(#clip510)\" d=\"M1258.1 777.167 L1258.1 781.482 Q1256.04 779.557 1253.69 778.605 Q1251.36 777.653 1248.73 777.653 Q1243.54 777.653 1240.79 780.833 Q1238.03 783.993 1238.03 789.988 Q1238.03 795.964 1240.79 799.143 Q1243.54 802.303 1248.73 802.303 Q1251.36 802.303 1253.69 801.351 Q1256.04 800.399 1258.1 798.475 L1258.1 802.749 Q1255.96 804.207 1253.55 804.936 Q1251.16 805.665 1248.48 805.665 Q1241.62 805.665 1237.67 801.473 Q1233.72 797.26 1233.72 789.988 Q1233.72 782.697 1237.67 778.504 Q1241.62 774.291 1248.48 774.291 Q1251.2 774.291 1253.59 775.02 Q1256 775.729 1258.1 777.167 Z\" fill=\"#000000\" fill-rule=\"evenodd\" fill-opacity=\"1\" /><path clip-path=\"url(#clip510)\" d=\"M1729.06 1084.39 L1729.06 1107.9 L1734.01 1107.9 Q1740.27 1107.9 1743.16 1105.07 Q1746.08 1102.23 1746.08 1096.11 Q1746.08 1090.04 1743.16 1087.22 Q1740.27 1084.39 1734.01 1084.39 L1729.06 1084.39 M1724.97 1081.02 L1733.38 1081.02 Q1742.17 1081.02 1746.28 1084.69 Q1750.39 1088.34 1750.39 1096.11 Q1750.39 1103.93 1746.26 1107.6 Q1742.13 1111.26 1733.38 1111.26 L1724.97 1111.26 L1724.97 1081.02 Z\" fill=\"#000000\" fill-rule=\"evenodd\" fill-opacity=\"1\" /><path clip-path=\"url(#clip510)\" d=\"M652.575 807.275 L671.695 807.275 L671.695 810.718 L656.666 810.718 L656.666 819.67 L671.067 819.67 L671.067 823.114 L656.666 823.114 L656.666 834.071 L672.06 834.071 L672.06 837.515 L652.575 837.515 L652.575 807.275 Z\" fill=\"#000000\" fill-rule=\"evenodd\" fill-opacity=\"1\" /><path clip-path=\"url(#clip510)\" d=\"M1689.76 416.414 L1707.14 416.414 L1707.14 419.857 L1693.85 419.857 L1693.85 428.769 L1705.84 428.769 L1705.84 432.212 L1693.85 432.212 L1693.85 446.654 L1689.76 446.654 L1689.76 416.414 Z\" fill=\"#000000\" fill-rule=\"evenodd\" fill-opacity=\"1\" /></svg>\n"
      ]
     },
     "execution_count": 142,
     "metadata": {},
     "output_type": "execute_result"
    }
   ],
   "source": [
    "graphplot(g3.graph,names=names,edgelabel=edgelabel,curves=false)"
   ]
  },
  {
   "cell_type": "code",
   "execution_count": 118,
   "id": "bee75355-262d-4769-9507-ae89fa9b6aba",
   "metadata": {},
   "outputs": [
    {
     "data": {
      "text/plain": [
       "Dict{Tuple{Int64, Int64}, Int64} with 7 entries:\n",
       "  (4, 5) => 7\n",
       "  (1, 2) => 3\n",
       "  (1, 3) => 7\n",
       "  (6, 1) => 5\n",
       "  (3, 4) => 7\n",
       "  (5, 6) => 7\n",
       "  (2, 3) => 5"
      ]
     },
     "execution_count": 118,
     "metadata": {},
     "output_type": "execute_result"
    }
   ],
   "source": [
    "edgelabel3 = Dict((1,2)=>3,(2,3)=>5,(1,3) => 7,(3,4) => 7,(4,5) => 7,(5,6) => 7,(6,1) => 5)"
   ]
  },
  {
   "cell_type": "code",
   "execution_count": 125,
   "id": "9116d8c1-30dd-4898-9a0e-67f6c97ac38d",
   "metadata": {},
   "outputs": [
    {
     "data": {
      "text/plain": [
       "7"
      ]
     },
     "execution_count": 125,
     "metadata": {},
     "output_type": "execute_result"
    }
   ],
   "source": [
    "edgelabel3[(4,5)]"
   ]
  },
  {
   "cell_type": "code",
   "execution_count": 129,
   "id": "873f9b83-4bee-4ec9-994f-8f74f9421121",
   "metadata": {},
   "outputs": [
    {
     "data": {
      "text/plain": [
       "Int64"
      ]
     },
     "execution_count": 129,
     "metadata": {},
     "output_type": "execute_result"
    }
   ],
   "source": [
    "typeof(edgelabel3[(4,5)])"
   ]
  },
  {
   "cell_type": "code",
   "execution_count": 130,
   "id": "0318aa4e-c270-4923-a001-4dff656ce955",
   "metadata": {},
   "outputs": [
    {
     "data": {
      "text/plain": [
       "Tuple{Int64, Int64}"
      ]
     },
     "execution_count": 130,
     "metadata": {},
     "output_type": "execute_result"
    }
   ],
   "source": [
    "typeof((4,5))"
   ]
  },
  {
   "cell_type": "code",
   "execution_count": 213,
   "id": "4f84fbe2-0704-411d-88fa-12a84b746e2f",
   "metadata": {},
   "outputs": [
    {
     "data": {
      "image/svg+xml": [
       "<?xml version=\"1.0\" encoding=\"utf-8\"?>\n",
       "<svg xmlns=\"http://www.w3.org/2000/svg\" xmlns:xlink=\"http://www.w3.org/1999/xlink\" width=\"600\" height=\"400\" viewBox=\"0 0 2400 1600\">\n",
       "<defs>\n",
       "  <clipPath id=\"clip720\">\n",
       "    <rect x=\"0\" y=\"0\" width=\"2400\" height=\"1600\"/>\n",
       "  </clipPath>\n",
       "</defs>\n",
       "<path clip-path=\"url(#clip720)\" d=\"\n",
       "M0 1600 L2400 1600 L2400 0 L0 0  Z\n",
       "  \" fill=\"#ffffff\" fill-rule=\"evenodd\" fill-opacity=\"1\"/>\n",
       "<defs>\n",
       "  <clipPath id=\"clip721\">\n",
       "    <rect x=\"480\" y=\"0\" width=\"1681\" height=\"1600\"/>\n",
       "  </clipPath>\n",
       "</defs>\n",
       "<path clip-path=\"url(#clip720)\" d=\"\n",
       "M447.244 1552.76 L1952.76 1552.76 L1952.76 47.2441 L447.244 47.2441  Z\n",
       "  \" fill=\"#ffffff\" fill-rule=\"evenodd\" fill-opacity=\"1\"/>\n",
       "<defs>\n",
       "  <clipPath id=\"clip722\">\n",
       "    <rect x=\"447\" y=\"47\" width=\"1507\" height=\"1507\"/>\n",
       "  </clipPath>\n",
       "</defs>\n",
       "<polyline clip-path=\"url(#clip722)\" style=\"stroke:#000000; stroke-linecap:round; stroke-linejoin:round; stroke-width:4; stroke-opacity:1; fill:none\" points=\"\n",
       "  1170.2,774.444 1737.68,857.141 \n",
       "  \"/>\n",
       "<polyline clip-path=\"url(#clip722)\" style=\"stroke:#000000; stroke-linecap:round; stroke-linejoin:round; stroke-width:4; stroke-opacity:1; fill:none\" points=\"\n",
       "  1170.2,774.444 1266.62,1337.68 \n",
       "  \"/>\n",
       "<polyline clip-path=\"url(#clip722)\" style=\"stroke:#000000; stroke-linecap:round; stroke-linejoin:round; stroke-width:4; stroke-opacity:1; fill:none\" points=\"\n",
       "  1170.2,774.444 759.896,375.236 \n",
       "  \"/>\n",
       "<polyline clip-path=\"url(#clip722)\" style=\"stroke:#000000; stroke-linecap:round; stroke-linejoin:round; stroke-width:4; stroke-opacity:1; fill:none\" points=\"\n",
       "  1170.2,774.444 1424.51,262.317 \n",
       "  \"/>\n",
       "<polyline clip-path=\"url(#clip722)\" style=\"stroke:#000000; stroke-linecap:round; stroke-linejoin:round; stroke-width:4; stroke-opacity:1; fill:none\" points=\"\n",
       "  1170.2,774.444 662.317,1039.85 \n",
       "  \"/>\n",
       "<polyline clip-path=\"url(#clip722)\" style=\"stroke:#000000; stroke-linecap:round; stroke-linejoin:round; stroke-width:4; stroke-opacity:1; fill:none\" points=\"\n",
       "  1737.68,857.141 1266.62,1337.68 \n",
       "  \"/>\n",
       "<polyline clip-path=\"url(#clip722)\" style=\"stroke:#000000; stroke-linecap:round; stroke-linejoin:round; stroke-width:4; stroke-opacity:1; fill:none\" points=\"\n",
       "  1737.68,857.141 759.896,375.236 \n",
       "  \"/>\n",
       "<polyline clip-path=\"url(#clip722)\" style=\"stroke:#000000; stroke-linecap:round; stroke-linejoin:round; stroke-width:4; stroke-opacity:1; fill:none\" points=\"\n",
       "  1737.68,857.141 1424.51,262.317 \n",
       "  \"/>\n",
       "<polyline clip-path=\"url(#clip722)\" style=\"stroke:#000000; stroke-linecap:round; stroke-linejoin:round; stroke-width:4; stroke-opacity:1; fill:none\" points=\"\n",
       "  1737.68,857.141 662.317,1039.85 \n",
       "  \"/>\n",
       "<polyline clip-path=\"url(#clip722)\" style=\"stroke:#000000; stroke-linecap:round; stroke-linejoin:round; stroke-width:4; stroke-opacity:1; fill:none\" points=\"\n",
       "  1266.62,1337.68 759.896,375.236 \n",
       "  \"/>\n",
       "<polyline clip-path=\"url(#clip722)\" style=\"stroke:#000000; stroke-linecap:round; stroke-linejoin:round; stroke-width:4; stroke-opacity:1; fill:none\" points=\"\n",
       "  1266.62,1337.68 1424.51,262.317 \n",
       "  \"/>\n",
       "<polyline clip-path=\"url(#clip722)\" style=\"stroke:#000000; stroke-linecap:round; stroke-linejoin:round; stroke-width:4; stroke-opacity:1; fill:none\" points=\"\n",
       "  1266.62,1337.68 662.317,1039.85 \n",
       "  \"/>\n",
       "<polyline clip-path=\"url(#clip722)\" style=\"stroke:#000000; stroke-linecap:round; stroke-linejoin:round; stroke-width:4; stroke-opacity:1; fill:none\" points=\"\n",
       "  759.896,375.236 1424.51,262.317 \n",
       "  \"/>\n",
       "<polyline clip-path=\"url(#clip722)\" style=\"stroke:#000000; stroke-linecap:round; stroke-linejoin:round; stroke-width:4; stroke-opacity:1; fill:none\" points=\"\n",
       "  759.896,375.236 662.317,1039.85 \n",
       "  \"/>\n",
       "<polyline clip-path=\"url(#clip722)\" style=\"stroke:#000000; stroke-linecap:round; stroke-linejoin:round; stroke-width:4; stroke-opacity:1; fill:none\" points=\"\n",
       "  1424.51,262.317 662.317,1039.85 \n",
       "  \"/>\n",
       "<path clip-path=\"url(#clip722)\" d=\"\n",
       "M1431.36 851.925 L1476.53 851.925 L1476.53 779.66 L1431.36 779.66 L1431.36 851.925 L1431.36 851.925  Z\n",
       "  \" fill=\"#ffffff\" fill-rule=\"evenodd\" fill-opacity=\"1\"/>\n",
       "<polyline clip-path=\"url(#clip722)\" style=\"stroke:#000000; stroke-linecap:round; stroke-linejoin:round; stroke-width:0; stroke-opacity:0; fill:none\" points=\"\n",
       "  1431.36,851.925 1476.53,851.925 1476.53,779.66 1431.36,779.66 1431.36,851.925 \n",
       "  \"/>\n",
       "<path clip-path=\"url(#clip722)\" d=\"\n",
       "M1179.09 1092.2 L1257.73 1092.2 L1257.73 1019.93 L1179.09 1019.93 L1179.09 1092.2 L1179.09 1092.2  Z\n",
       "  \" fill=\"#ffffff\" fill-rule=\"evenodd\" fill-opacity=\"1\"/>\n",
       "<polyline clip-path=\"url(#clip722)\" style=\"stroke:#000000; stroke-linecap:round; stroke-linejoin:round; stroke-width:0; stroke-opacity:0; fill:none\" points=\"\n",
       "  1179.09,1092.2 1257.73,1092.2 1257.73,1019.93 1179.09,1019.93 1179.09,1092.2 \n",
       "  \"/>\n",
       "<path clip-path=\"url(#clip722)\" d=\"\n",
       "M925.73 610.972 L1004.37 610.972 L1004.37 538.708 L925.73 538.708 L925.73 610.972 L925.73 610.972  Z\n",
       "  \" fill=\"#ffffff\" fill-rule=\"evenodd\" fill-opacity=\"1\"/>\n",
       "<polyline clip-path=\"url(#clip722)\" style=\"stroke:#000000; stroke-linecap:round; stroke-linejoin:round; stroke-width:0; stroke-opacity:0; fill:none\" points=\"\n",
       "  925.73,610.972 1004.37,610.972 1004.37,538.708 925.73,538.708 925.73,610.972 \n",
       "  \"/>\n",
       "<path clip-path=\"url(#clip722)\" d=\"\n",
       "M1274.77 554.513 L1319.94 554.513 L1319.94 482.248 L1274.77 482.248 L1274.77 554.513 L1274.77 554.513  Z\n",
       "  \" fill=\"#ffffff\" fill-rule=\"evenodd\" fill-opacity=\"1\"/>\n",
       "<polyline clip-path=\"url(#clip722)\" style=\"stroke:#000000; stroke-linecap:round; stroke-linejoin:round; stroke-width:0; stroke-opacity:0; fill:none\" points=\"\n",
       "  1274.77,554.513 1319.94,554.513 1319.94,482.248 1274.77,482.248 1274.77,554.513 \n",
       "  \"/>\n",
       "<path clip-path=\"url(#clip722)\" d=\"\n",
       "M876.941 943.28 L955.578 943.28 L955.578 871.016 L876.941 871.016 L876.941 943.28 L876.941 943.28  Z\n",
       "  \" fill=\"#ffffff\" fill-rule=\"evenodd\" fill-opacity=\"1\"/>\n",
       "<polyline clip-path=\"url(#clip722)\" style=\"stroke:#000000; stroke-linecap:round; stroke-linejoin:round; stroke-width:0; stroke-opacity:0; fill:none\" points=\"\n",
       "  876.941,943.28 955.578,943.28 955.578,871.016 876.941,871.016 876.941,943.28 \n",
       "  \"/>\n",
       "<path clip-path=\"url(#clip722)\" d=\"\n",
       "M1462.83 1133.54 L1541.47 1133.54 L1541.47 1061.28 L1462.83 1061.28 L1462.83 1133.54 L1462.83 1133.54  Z\n",
       "  \" fill=\"#ffffff\" fill-rule=\"evenodd\" fill-opacity=\"1\"/>\n",
       "<polyline clip-path=\"url(#clip722)\" style=\"stroke:#000000; stroke-linecap:round; stroke-linejoin:round; stroke-width:0; stroke-opacity:0; fill:none\" points=\"\n",
       "  1462.83,1133.54 1541.47,1133.54 1541.47,1061.28 1462.83,1061.28 1462.83,1133.54 \n",
       "  \"/>\n",
       "<path clip-path=\"url(#clip722)\" d=\"\n",
       "M1226.21 652.321 L1271.37 652.321 L1271.37 580.056 L1226.21 580.056 L1226.21 652.321 L1226.21 652.321  Z\n",
       "  \" fill=\"#ffffff\" fill-rule=\"evenodd\" fill-opacity=\"1\"/>\n",
       "<polyline clip-path=\"url(#clip722)\" style=\"stroke:#000000; stroke-linecap:round; stroke-linejoin:round; stroke-width:0; stroke-opacity:0; fill:none\" points=\"\n",
       "  1226.21,652.321 1271.37,652.321 1271.37,580.056 1226.21,580.056 1226.21,652.321 \n",
       "  \"/>\n",
       "<path clip-path=\"url(#clip722)\" d=\"\n",
       "M1558.51 595.862 L1603.68 595.862 L1603.68 523.597 L1558.51 523.597 L1558.51 595.862 L1558.51 595.862  Z\n",
       "  \" fill=\"#ffffff\" fill-rule=\"evenodd\" fill-opacity=\"1\"/>\n",
       "<polyline clip-path=\"url(#clip722)\" style=\"stroke:#000000; stroke-linecap:round; stroke-linejoin:round; stroke-width:0; stroke-opacity:0; fill:none\" points=\"\n",
       "  1558.51,595.862 1603.68,595.862 1603.68,523.597 1558.51,523.597 1558.51,595.862 \n",
       "  \"/>\n",
       "<path clip-path=\"url(#clip722)\" d=\"\n",
       "M1160.68 984.629 L1239.32 984.629 L1239.32 912.365 L1160.68 912.365 L1160.68 984.629 L1160.68 984.629  Z\n",
       "  \" fill=\"#ffffff\" fill-rule=\"evenodd\" fill-opacity=\"1\"/>\n",
       "<polyline clip-path=\"url(#clip722)\" style=\"stroke:#000000; stroke-linecap:round; stroke-linejoin:round; stroke-width:0; stroke-opacity:0; fill:none\" points=\"\n",
       "  1160.68,984.629 1239.32,984.629 1239.32,912.365 1160.68,912.365 1160.68,984.629 \n",
       "  \"/>\n",
       "<path clip-path=\"url(#clip722)\" d=\"\n",
       "M973.942 892.592 L1052.58 892.592 L1052.58 820.327 L973.942 820.327 L973.942 892.592 L973.942 892.592  Z\n",
       "  \" fill=\"#ffffff\" fill-rule=\"evenodd\" fill-opacity=\"1\"/>\n",
       "<polyline clip-path=\"url(#clip722)\" style=\"stroke:#000000; stroke-linecap:round; stroke-linejoin:round; stroke-width:0; stroke-opacity:0; fill:none\" points=\"\n",
       "  973.942,892.592 1052.58,892.592 1052.58,820.327 973.942,820.327 973.942,892.592 \n",
       "  \"/>\n",
       "<path clip-path=\"url(#clip722)\" d=\"\n",
       "M1306.25 836.132 L1384.89 836.132 L1384.89 763.868 L1306.25 763.868 L1306.25 836.132 L1306.25 836.132  Z\n",
       "  \" fill=\"#ffffff\" fill-rule=\"evenodd\" fill-opacity=\"1\"/>\n",
       "<polyline clip-path=\"url(#clip722)\" style=\"stroke:#000000; stroke-linecap:round; stroke-linejoin:round; stroke-width:0; stroke-opacity:0; fill:none\" points=\"\n",
       "  1306.25,836.132 1384.89,836.132 1384.89,763.868 1306.25,763.868 1306.25,836.132 \n",
       "  \"/>\n",
       "<path clip-path=\"url(#clip722)\" d=\"\n",
       "M941.888 1224.9 L987.054 1224.9 L987.054 1152.64 L941.888 1152.64 L941.888 1224.9 L941.888 1224.9  Z\n",
       "  \" fill=\"#ffffff\" fill-rule=\"evenodd\" fill-opacity=\"1\"/>\n",
       "<polyline clip-path=\"url(#clip722)\" style=\"stroke:#000000; stroke-linecap:round; stroke-linejoin:round; stroke-width:0; stroke-opacity:0; fill:none\" points=\"\n",
       "  941.888,1224.9 987.054,1224.9 987.054,1152.64 941.888,1152.64 941.888,1224.9 \n",
       "  \"/>\n",
       "<path clip-path=\"url(#clip722)\" d=\"\n",
       "M1052.89 354.909 L1131.52 354.909 L1131.52 282.644 L1052.89 282.644 L1052.89 354.909 L1052.89 354.909  Z\n",
       "  \" fill=\"#ffffff\" fill-rule=\"evenodd\" fill-opacity=\"1\"/>\n",
       "<polyline clip-path=\"url(#clip722)\" style=\"stroke:#000000; stroke-linecap:round; stroke-linejoin:round; stroke-width:0; stroke-opacity:0; fill:none\" points=\"\n",
       "  1052.89,354.909 1131.52,354.909 1131.52,282.644 1052.89,282.644 1052.89,354.909 \n",
       "  \"/>\n",
       "<path clip-path=\"url(#clip722)\" d=\"\n",
       "M671.788 743.676 L750.425 743.676 L750.425 671.412 L671.788 671.412 L671.788 743.676 L671.788 743.676  Z\n",
       "  \" fill=\"#ffffff\" fill-rule=\"evenodd\" fill-opacity=\"1\"/>\n",
       "<polyline clip-path=\"url(#clip722)\" style=\"stroke:#000000; stroke-linecap:round; stroke-linejoin:round; stroke-width:0; stroke-opacity:0; fill:none\" points=\"\n",
       "  671.788,743.676 750.425,743.676 750.425,671.412 671.788,671.412 671.788,743.676 \n",
       "  \"/>\n",
       "<path clip-path=\"url(#clip722)\" d=\"\n",
       "M1004.1 687.217 L1082.73 687.217 L1082.73 614.953 L1004.1 614.953 L1004.1 687.217 L1004.1 687.217  Z\n",
       "  \" fill=\"#ffffff\" fill-rule=\"evenodd\" fill-opacity=\"1\"/>\n",
       "<polyline clip-path=\"url(#clip722)\" style=\"stroke:#000000; stroke-linecap:round; stroke-linejoin:round; stroke-width:0; stroke-opacity:0; fill:none\" points=\"\n",
       "  1004.1,687.217 1082.73,687.217 1082.73,614.953 1004.1,614.953 1004.1,687.217 \n",
       "  \"/>\n",
       "<path clip-path=\"url(#clip722)\" d=\"\n",
       "M1194.29 774.444 L1182.25 753.583 L1158.16 753.583 L1146.11 774.444 L1158.16 795.305 L1182.25 795.305 L1194.29 774.444 L1194.29 774.444  Z\n",
       "  \" fill=\"#009af9\" fill-rule=\"evenodd\" fill-opacity=\"1\"/>\n",
       "<polyline clip-path=\"url(#clip722)\" style=\"stroke:#000000; stroke-linecap:round; stroke-linejoin:round; stroke-width:4; stroke-opacity:1; fill:none\" points=\"\n",
       "  1194.29,774.444 1182.25,753.583 1158.16,753.583 1146.11,774.444 1158.16,795.305 1182.25,795.305 1194.29,774.444 \n",
       "  \"/>\n",
       "<path clip-path=\"url(#clip722)\" d=\"\n",
       "M1761.77 857.141 L1749.73 836.28 L1725.64 836.28 L1713.59 857.141 L1725.64 878.002 L1749.73 878.002 L1761.77 857.141 L1761.77 857.141  Z\n",
       "  \" fill=\"#009af9\" fill-rule=\"evenodd\" fill-opacity=\"1\"/>\n",
       "<polyline clip-path=\"url(#clip722)\" style=\"stroke:#000000; stroke-linecap:round; stroke-linejoin:round; stroke-width:4; stroke-opacity:1; fill:none\" points=\"\n",
       "  1761.77,857.141 1749.73,836.28 1725.64,836.28 1713.59,857.141 1725.64,878.002 1749.73,878.002 1761.77,857.141 \n",
       "  \"/>\n",
       "<path clip-path=\"url(#clip722)\" d=\"\n",
       "M1290.71 1337.68 L1278.67 1316.82 L1254.58 1316.82 L1242.54 1337.68 L1254.58 1358.54 L1278.67 1358.54 L1290.71 1337.68 L1290.71 1337.68  Z\n",
       "  \" fill=\"#009af9\" fill-rule=\"evenodd\" fill-opacity=\"1\"/>\n",
       "<polyline clip-path=\"url(#clip722)\" style=\"stroke:#000000; stroke-linecap:round; stroke-linejoin:round; stroke-width:4; stroke-opacity:1; fill:none\" points=\"\n",
       "  1290.71,1337.68 1278.67,1316.82 1254.58,1316.82 1242.54,1337.68 1254.58,1358.54 1278.67,1358.54 1290.71,1337.68 \n",
       "  \"/>\n",
       "<path clip-path=\"url(#clip722)\" d=\"\n",
       "M783.984 375.236 L771.94 354.375 L747.852 354.375 L735.808 375.236 L747.852 396.097 L771.94 396.097 L783.984 375.236 L783.984 375.236  Z\n",
       "  \" fill=\"#009af9\" fill-rule=\"evenodd\" fill-opacity=\"1\"/>\n",
       "<polyline clip-path=\"url(#clip722)\" style=\"stroke:#000000; stroke-linecap:round; stroke-linejoin:round; stroke-width:4; stroke-opacity:1; fill:none\" points=\"\n",
       "  783.984,375.236 771.94,354.375 747.852,354.375 735.808,375.236 747.852,396.097 771.94,396.097 783.984,375.236 \n",
       "  \"/>\n",
       "<path clip-path=\"url(#clip722)\" d=\"\n",
       "M1448.6 262.317 L1436.56 241.456 L1412.47 241.456 L1400.42 262.317 L1412.47 283.178 L1436.56 283.178 L1448.6 262.317 L1448.6 262.317  Z\n",
       "  \" fill=\"#009af9\" fill-rule=\"evenodd\" fill-opacity=\"1\"/>\n",
       "<polyline clip-path=\"url(#clip722)\" style=\"stroke:#000000; stroke-linecap:round; stroke-linejoin:round; stroke-width:4; stroke-opacity:1; fill:none\" points=\"\n",
       "  1448.6,262.317 1436.56,241.456 1412.47,241.456 1400.42,262.317 1412.47,283.178 1436.56,283.178 1448.6,262.317 \n",
       "  \"/>\n",
       "<path clip-path=\"url(#clip722)\" d=\"\n",
       "M686.405 1039.85 L674.361 1018.99 L650.273 1018.99 L638.229 1039.85 L650.273 1060.71 L674.361 1060.71 L686.405 1039.85 L686.405 1039.85  Z\n",
       "  \" fill=\"#009af9\" fill-rule=\"evenodd\" fill-opacity=\"1\"/>\n",
       "<polyline clip-path=\"url(#clip722)\" style=\"stroke:#000000; stroke-linecap:round; stroke-linejoin:round; stroke-width:4; stroke-opacity:1; fill:none\" points=\"\n",
       "  686.405,1039.85 674.361,1018.99 650.273,1018.99 638.229,1039.85 650.273,1060.71 674.361,1060.71 686.405,1039.85 \n",
       "  \"/>\n",
       "<path clip-path=\"url(#clip722)\" d=\"M1170.2 774.844 L1169.86 774.644 L1169.86 774.244 L1170.2 774.044 L1170.55 774.244 L1170.55 774.644 Z\" fill=\"#009af9\" fill-rule=\"evenodd\" fill-opacity=\"1\" stroke=\"#000000\" stroke-opacity=\"1\" stroke-width=\"3.2\"/>\n",
       "<path clip-path=\"url(#clip722)\" d=\"M1737.68 857.541 L1737.34 857.341 L1737.34 856.941 L1737.68 856.741 L1738.03 856.941 L1738.03 857.341 Z\" fill=\"#009af9\" fill-rule=\"evenodd\" fill-opacity=\"1\" stroke=\"#000000\" stroke-opacity=\"1\" stroke-width=\"3.2\"/>\n",
       "<path clip-path=\"url(#clip722)\" d=\"M1266.62 1338.08 L1266.28 1337.88 L1266.28 1337.48 L1266.62 1337.28 L1266.97 1337.48 L1266.97 1337.88 Z\" fill=\"#009af9\" fill-rule=\"evenodd\" fill-opacity=\"1\" stroke=\"#000000\" stroke-opacity=\"1\" stroke-width=\"3.2\"/>\n",
       "<path clip-path=\"url(#clip722)\" d=\"M759.896 375.636 L759.55 375.436 L759.55 375.036 L759.896 374.836 L760.243 375.036 L760.243 375.436 Z\" fill=\"#009af9\" fill-rule=\"evenodd\" fill-opacity=\"1\" stroke=\"#000000\" stroke-opacity=\"1\" stroke-width=\"3.2\"/>\n",
       "<path clip-path=\"url(#clip722)\" d=\"M1424.51 262.717 L1424.16 262.517 L1424.16 262.117 L1424.51 261.917 L1424.86 262.117 L1424.86 262.517 Z\" fill=\"#009af9\" fill-rule=\"evenodd\" fill-opacity=\"1\" stroke=\"#000000\" stroke-opacity=\"1\" stroke-width=\"3.2\"/>\n",
       "<path clip-path=\"url(#clip722)\" d=\"M662.317 1040.25 L661.971 1040.05 L661.971 1039.65 L662.317 1039.45 L662.664 1039.65 L662.664 1040.05 Z\" fill=\"#009af9\" fill-rule=\"evenodd\" fill-opacity=\"1\" stroke=\"#000000\" stroke-opacity=\"1\" stroke-width=\"3.2\"/>\n",
       "<path clip-path=\"url(#clip720)\" d=\"M1445.46 830.285 L1445.46 826.558 Q1447 827.287 1448.57 827.672 Q1450.15 828.057 1451.67 828.057 Q1455.72 828.057 1457.85 825.343 Q1460 822.608 1460.3 817.059 Q1459.13 818.8 1457.32 819.732 Q1455.52 820.664 1453.33 820.664 Q1448.8 820.664 1446.14 817.93 Q1443.51 815.175 1443.51 810.415 Q1443.51 805.757 1446.27 802.941 Q1449.02 800.126 1453.6 800.126 Q1458.84 800.126 1461.6 804.156 Q1464.37 808.167 1464.37 815.823 Q1464.37 822.973 1460.97 827.247 Q1457.59 831.5 1451.86 831.5 Q1450.32 831.5 1448.74 831.196 Q1447.16 830.892 1445.46 830.285 M1453.6 817.464 Q1456.35 817.464 1457.95 815.58 Q1459.57 813.696 1459.57 810.415 Q1459.57 807.154 1457.95 805.27 Q1456.35 803.367 1453.6 803.367 Q1450.84 803.367 1449.22 805.27 Q1447.62 807.154 1447.62 810.415 Q1447.62 813.696 1449.22 815.58 Q1450.84 817.464 1453.6 817.464 Z\" fill=\"#000000\" fill-rule=\"evenodd\" fill-opacity=\"1\" /><path clip-path=\"url(#clip720)\" d=\"M1196.96 1067.74 L1203.65 1067.74 L1203.65 1044.67 L1196.38 1046.13 L1196.38 1042.4 L1203.61 1040.94 L1207.7 1040.94 L1207.7 1067.74 L1214.38 1067.74 L1214.38 1071.18 L1196.96 1071.18 L1196.96 1067.74 Z\" fill=\"#000000\" fill-rule=\"evenodd\" fill-opacity=\"1\" /><path clip-path=\"url(#clip720)\" d=\"M1226.17 1067.74 L1240.45 1067.74 L1240.45 1071.18 L1221.25 1071.18 L1221.25 1067.74 Q1223.58 1065.33 1227.59 1061.28 Q1231.62 1057.21 1232.65 1056.03 Q1234.62 1053.83 1235.39 1052.31 Q1236.18 1050.77 1236.18 1049.29 Q1236.18 1046.88 1234.48 1045.36 Q1232.79 1043.84 1230.08 1043.84 Q1228.16 1043.84 1226.01 1044.51 Q1223.88 1045.18 1221.45 1046.53 L1221.45 1042.4 Q1223.92 1041.41 1226.07 1040.9 Q1228.22 1040.4 1230 1040.4 Q1234.7 1040.4 1237.49 1042.75 Q1240.29 1045.1 1240.29 1049.02 Q1240.29 1050.89 1239.58 1052.57 Q1238.89 1054.23 1237.05 1056.5 Q1236.54 1057.09 1233.83 1059.9 Q1231.11 1062.7 1226.17 1067.74 Z\" fill=\"#000000\" fill-rule=\"evenodd\" fill-opacity=\"1\" /><path clip-path=\"url(#clip720)\" d=\"M943.336 586.517 L950.02 586.517 L950.02 563.447 L942.749 564.905 L942.749 561.178 L949.98 559.72 L954.071 559.72 L954.071 586.517 L960.755 586.517 L960.755 589.96 L943.336 589.96 L943.336 586.517 Z\" fill=\"#000000\" fill-rule=\"evenodd\" fill-opacity=\"1\" /><path clip-path=\"url(#clip720)\" d=\"M969.059 559.72 L985.121 559.72 L985.121 563.163 L972.806 563.163 L972.806 570.576 Q973.698 570.273 974.589 570.131 Q975.48 569.969 976.371 569.969 Q981.435 569.969 984.392 572.744 Q987.349 575.518 987.349 580.258 Q987.349 585.139 984.311 587.853 Q981.273 590.547 975.743 590.547 Q973.839 590.547 971.855 590.223 Q969.89 589.899 967.783 589.251 L967.783 585.139 Q969.606 586.132 971.551 586.618 Q973.495 587.104 975.662 587.104 Q979.166 587.104 981.212 585.261 Q983.258 583.418 983.258 580.258 Q983.258 577.098 981.212 575.255 Q979.166 573.412 975.662 573.412 Q974.022 573.412 972.381 573.777 Q970.761 574.141 969.059 574.911 L969.059 559.72 Z\" fill=\"#000000\" fill-rule=\"evenodd\" fill-opacity=\"1\" /><path clip-path=\"url(#clip720)\" d=\"M1297.36 519.14 Q1294.44 519.14 1292.76 520.7 Q1291.1 522.259 1291.1 524.994 Q1291.1 527.728 1292.76 529.288 Q1294.44 530.847 1297.36 530.847 Q1300.27 530.847 1301.95 529.288 Q1303.64 527.708 1303.64 524.994 Q1303.64 522.259 1301.95 520.7 Q1300.29 519.14 1297.36 519.14 M1293.27 517.398 Q1290.63 516.75 1289.15 514.947 Q1287.7 513.145 1287.7 510.552 Q1287.7 506.927 1290.27 504.82 Q1292.86 502.714 1297.36 502.714 Q1301.87 502.714 1304.45 504.82 Q1307.02 506.927 1307.02 510.552 Q1307.02 513.145 1305.54 514.947 Q1304.08 516.75 1301.47 517.398 Q1304.43 518.087 1306.07 520.092 Q1307.73 522.097 1307.73 524.994 Q1307.73 529.389 1305.03 531.738 Q1302.36 534.088 1297.36 534.088 Q1292.35 534.088 1289.66 531.738 Q1286.99 529.389 1286.99 524.994 Q1286.99 522.097 1288.65 520.092 Q1290.31 518.087 1293.27 517.398 M1291.77 510.937 Q1291.77 513.287 1293.22 514.603 Q1294.7 515.92 1297.36 515.92 Q1299.99 515.92 1301.47 514.603 Q1302.97 513.287 1302.97 510.937 Q1302.97 508.588 1301.47 507.271 Q1299.99 505.954 1297.36 505.954 Q1294.7 505.954 1293.22 507.271 Q1291.77 508.588 1291.77 510.937 Z\" fill=\"#000000\" fill-rule=\"evenodd\" fill-opacity=\"1\" /><path clip-path=\"url(#clip720)\" d=\"M897.686 918.825 L911.966 918.825 L911.966 922.268 L892.764 922.268 L892.764 918.825 Q895.094 916.415 899.104 912.364 Q903.135 908.293 904.168 907.118 Q906.132 904.91 906.902 903.391 Q907.692 901.852 907.692 900.373 Q907.692 897.963 905.991 896.444 Q904.309 894.925 901.595 894.925 Q899.671 894.925 897.524 895.593 Q895.397 896.261 892.967 897.618 L892.967 893.486 Q895.438 892.494 897.585 891.988 Q899.732 891.481 901.514 891.481 Q906.213 891.481 909.008 893.831 Q911.804 896.18 911.804 900.11 Q911.804 901.973 911.095 903.654 Q910.406 905.315 908.563 907.584 Q908.056 908.171 905.342 910.986 Q902.628 913.782 897.686 918.825 Z\" fill=\"#000000\" fill-rule=\"evenodd\" fill-opacity=\"1\" /><path clip-path=\"url(#clip720)\" d=\"M929.303 894.722 Q926.144 894.722 924.544 897.841 Q922.964 900.94 922.964 907.179 Q922.964 913.397 924.544 916.516 Q926.144 919.615 929.303 919.615 Q932.483 919.615 934.063 916.516 Q935.663 913.397 935.663 907.179 Q935.663 900.94 934.063 897.841 Q932.483 894.722 929.303 894.722 M929.303 891.481 Q934.387 891.481 937.061 895.512 Q939.755 899.522 939.755 907.179 Q939.755 914.815 937.061 918.845 Q934.387 922.856 929.303 922.856 Q924.22 922.856 921.526 918.845 Q918.852 914.815 918.852 907.179 Q918.852 899.522 921.526 895.512 Q924.22 891.481 929.303 891.481 Z\" fill=\"#000000\" fill-rule=\"evenodd\" fill-opacity=\"1\" /><path clip-path=\"url(#clip720)\" d=\"M1483.37 1109.09 L1497.65 1109.09 L1497.65 1112.53 L1478.45 1112.53 L1478.45 1109.09 Q1480.78 1106.68 1484.79 1102.63 Q1488.82 1098.56 1489.85 1097.38 Q1491.81 1095.17 1492.58 1093.65 Q1493.37 1092.12 1493.37 1090.64 Q1493.37 1088.23 1491.67 1086.71 Q1489.99 1085.19 1487.28 1085.19 Q1485.35 1085.19 1483.21 1085.86 Q1481.08 1086.53 1478.65 1087.88 L1478.65 1083.75 Q1481.12 1082.76 1483.27 1082.25 Q1485.41 1081.75 1487.2 1081.75 Q1491.89 1081.75 1494.69 1084.09 Q1497.49 1086.44 1497.49 1090.37 Q1497.49 1092.24 1496.78 1093.92 Q1496.09 1095.58 1494.24 1097.85 Q1493.74 1098.43 1491.02 1101.25 Q1488.31 1104.05 1483.37 1109.09 Z\" fill=\"#000000\" fill-rule=\"evenodd\" fill-opacity=\"1\" /><path clip-path=\"url(#clip720)\" d=\"M1517.48 1085.86 L1507.15 1102 L1517.48 1102 L1517.48 1085.86 M1516.4 1082.29 L1521.55 1082.29 L1521.55 1102 L1525.86 1102 L1525.86 1105.4 L1521.55 1105.4 L1521.55 1112.53 L1517.48 1112.53 L1517.48 1105.4 L1503.82 1105.4 L1503.82 1101.45 L1516.4 1082.29 Z\" fill=\"#000000\" fill-rule=\"evenodd\" fill-opacity=\"1\" /><path clip-path=\"url(#clip720)\" d=\"M1244.11 627.865 L1258.39 627.865 L1258.39 631.309 L1239.19 631.309 L1239.19 627.865 Q1241.52 625.455 1245.53 621.404 Q1249.56 617.333 1250.59 616.158 Q1252.56 613.951 1253.33 612.431 Q1254.12 610.892 1254.12 609.413 Q1254.12 607.003 1252.42 605.484 Q1250.73 603.965 1248.02 603.965 Q1246.1 603.965 1243.95 604.633 Q1241.82 605.302 1239.39 606.659 L1239.39 602.527 Q1241.86 601.534 1244.01 601.028 Q1246.16 600.522 1247.94 600.522 Q1252.64 600.522 1255.43 602.871 Q1258.23 605.221 1258.23 609.15 Q1258.23 611.014 1257.52 612.695 Q1256.83 614.356 1254.99 616.624 Q1254.48 617.211 1251.77 620.027 Q1249.05 622.822 1244.11 627.865 Z\" fill=\"#000000\" fill-rule=\"evenodd\" fill-opacity=\"1\" /><path clip-path=\"url(#clip720)\" d=\"M1583.73 548.174 L1573.4 564.317 L1583.73 564.317 L1583.73 548.174 M1582.66 544.609 L1587.8 544.609 L1587.8 564.317 L1592.12 564.317 L1592.12 567.72 L1587.8 567.72 L1587.8 574.849 L1583.73 574.849 L1583.73 567.72 L1570.08 567.72 L1570.08 563.77 L1582.66 544.609 Z\" fill=\"#000000\" fill-rule=\"evenodd\" fill-opacity=\"1\" /><path clip-path=\"url(#clip720)\" d=\"M1177.85 960.174 L1184.54 960.174 L1184.54 937.104 L1177.26 938.562 L1177.26 934.835 L1184.5 933.377 L1188.59 933.377 L1188.59 960.174 L1195.27 960.174 L1195.27 963.617 L1177.85 963.617 L1177.85 960.174 Z\" fill=\"#000000\" fill-rule=\"evenodd\" fill-opacity=\"1\" /><path clip-path=\"url(#clip720)\" d=\"M1212.28 936.071 Q1209.12 936.071 1207.52 939.19 Q1205.94 942.289 1205.94 948.527 Q1205.94 954.745 1207.52 957.865 Q1209.12 960.964 1212.28 960.964 Q1215.46 960.964 1217.04 957.865 Q1218.64 954.745 1218.64 948.527 Q1218.64 942.289 1217.04 939.19 Q1215.46 936.071 1212.28 936.071 M1212.28 932.83 Q1217.37 932.83 1220.04 936.861 Q1222.74 940.871 1222.74 948.527 Q1222.74 956.163 1220.04 960.194 Q1217.37 964.204 1212.28 964.204 Q1207.2 964.204 1204.51 960.194 Q1201.83 956.163 1201.83 948.527 Q1201.83 940.871 1204.51 936.861 Q1207.2 932.83 1212.28 932.83 Z\" fill=\"#000000\" fill-rule=\"evenodd\" fill-opacity=\"1\" /><path clip-path=\"url(#clip720)\" d=\"M991.547 868.136 L998.231 868.136 L998.231 845.066 L990.96 846.525 L990.96 842.798 L998.191 841.339 L1002.28 841.339 L1002.28 868.136 L1008.97 868.136 L1008.97 871.579 L991.547 871.579 L991.547 868.136 Z\" fill=\"#000000\" fill-rule=\"evenodd\" fill-opacity=\"1\" /><path clip-path=\"url(#clip720)\" d=\"M1017.27 841.339 L1033.33 841.339 L1033.33 844.783 L1021.02 844.783 L1021.02 852.196 Q1021.91 851.892 1022.8 851.75 Q1023.69 851.588 1024.58 851.588 Q1029.65 851.588 1032.6 854.363 Q1035.56 857.138 1035.56 861.877 Q1035.56 866.759 1032.52 869.473 Q1029.48 872.167 1023.95 872.167 Q1022.05 872.167 1020.07 871.843 Q1018.1 871.519 1015.99 870.87 L1015.99 866.759 Q1017.82 867.751 1019.76 868.237 Q1021.71 868.723 1023.87 868.723 Q1027.38 868.723 1029.42 866.88 Q1031.47 865.037 1031.47 861.877 Q1031.47 858.718 1029.42 856.875 Q1027.38 855.031 1023.87 855.031 Q1022.23 855.031 1020.59 855.396 Q1018.97 855.761 1017.27 856.53 L1017.27 841.339 Z\" fill=\"#000000\" fill-rule=\"evenodd\" fill-opacity=\"1\" /><path clip-path=\"url(#clip720)\" d=\"M1324.12 811.677 L1330.8 811.677 L1330.8 788.607 L1323.53 790.065 L1323.53 786.338 L1330.76 784.88 L1334.85 784.88 L1334.85 811.677 L1341.54 811.677 L1341.54 815.12 L1324.12 815.12 L1324.12 811.677 Z\" fill=\"#000000\" fill-rule=\"evenodd\" fill-opacity=\"1\" /><path clip-path=\"url(#clip720)\" d=\"M1353.33 811.677 L1367.6 811.677 L1367.6 815.12 L1348.4 815.12 L1348.4 811.677 Q1350.73 809.266 1354.74 805.216 Q1358.77 801.144 1359.81 799.97 Q1361.77 797.762 1362.54 796.243 Q1363.33 794.703 1363.33 793.225 Q1363.33 790.815 1361.63 789.295 Q1359.95 787.776 1357.23 787.776 Q1355.31 787.776 1353.16 788.445 Q1351.04 789.113 1348.61 790.47 L1348.61 786.338 Q1351.08 785.346 1353.22 784.839 Q1355.37 784.333 1357.15 784.333 Q1361.85 784.333 1364.65 786.683 Q1367.44 789.032 1367.44 792.962 Q1367.44 794.825 1366.73 796.506 Q1366.05 798.167 1364.2 800.435 Q1363.7 801.023 1360.98 803.838 Q1358.27 806.633 1353.33 811.677 Z\" fill=\"#000000\" fill-rule=\"evenodd\" fill-opacity=\"1\" /><path clip-path=\"url(#clip720)\" d=\"M954.749 1173.65 L974.193 1173.65 L974.193 1175.39 L963.215 1203.89 L958.941 1203.89 L969.271 1177.09 L954.749 1177.09 L954.749 1173.65 Z\" fill=\"#000000\" fill-rule=\"evenodd\" fill-opacity=\"1\" /><path clip-path=\"url(#clip720)\" d=\"M1069.98 330.453 L1076.67 330.453 L1076.67 307.383 L1069.4 308.842 L1069.4 305.115 L1076.63 303.657 L1080.72 303.657 L1080.72 330.453 L1087.4 330.453 L1087.4 333.897 L1069.98 333.897 L1069.98 330.453 Z\" fill=\"#000000\" fill-rule=\"evenodd\" fill-opacity=\"1\" /><path clip-path=\"url(#clip720)\" d=\"M1104.92 317.146 Q1102.17 317.146 1100.55 319.03 Q1098.95 320.913 1098.95 324.195 Q1098.95 327.456 1100.55 329.36 Q1102.17 331.243 1104.92 331.243 Q1107.68 331.243 1109.28 329.36 Q1110.9 327.456 1110.9 324.195 Q1110.9 320.913 1109.28 319.03 Q1107.68 317.146 1104.92 317.146 M1113.05 304.325 L1113.05 308.052 Q1111.51 307.323 1109.93 306.938 Q1108.37 306.553 1106.83 306.553 Q1102.78 306.553 1100.63 309.287 Q1098.5 312.022 1098.2 317.551 Q1099.39 315.789 1101.2 314.857 Q1103 313.905 1105.17 313.905 Q1109.72 313.905 1112.36 316.68 Q1115.01 319.435 1115.01 324.195 Q1115.01 328.853 1112.26 331.669 Q1109.5 334.484 1104.92 334.484 Q1099.68 334.484 1096.9 330.474 Q1094.13 326.443 1094.13 318.807 Q1094.13 311.637 1097.53 307.383 Q1100.93 303.11 1106.67 303.11 Q1108.2 303.11 1109.76 303.414 Q1111.34 303.717 1113.05 304.325 Z\" fill=\"#000000\" fill-rule=\"evenodd\" fill-opacity=\"1\" /><path clip-path=\"url(#clip720)\" d=\"M688.999 719.221 L695.683 719.221 L695.683 696.151 L688.411 697.609 L688.411 693.882 L695.642 692.424 L699.734 692.424 L699.734 719.221 L706.418 719.221 L706.418 722.664 L688.999 722.664 L688.999 719.221 Z\" fill=\"#000000\" fill-rule=\"evenodd\" fill-opacity=\"1\" /><path clip-path=\"url(#clip720)\" d=\"M723.432 708.304 Q720.515 708.304 718.834 709.863 Q717.173 711.423 717.173 714.157 Q717.173 716.892 718.834 718.451 Q720.515 720.011 723.432 720.011 Q726.348 720.011 728.029 718.451 Q729.71 716.871 729.71 714.157 Q729.71 711.423 728.029 709.863 Q726.368 708.304 723.432 708.304 M719.34 706.562 Q716.707 705.914 715.228 704.111 Q713.77 702.308 713.77 699.716 Q713.77 696.09 716.342 693.984 Q718.935 691.877 723.432 691.877 Q727.948 691.877 730.521 693.984 Q733.093 696.09 733.093 699.716 Q733.093 702.308 731.614 704.111 Q730.156 705.914 727.543 706.562 Q730.5 707.25 732.141 709.256 Q733.802 711.261 733.802 714.157 Q733.802 718.552 731.108 720.902 Q728.434 723.252 723.432 723.252 Q718.429 723.252 715.735 720.902 Q713.061 718.552 713.061 714.157 Q713.061 711.261 714.722 709.256 Q716.383 707.25 719.34 706.562 M717.841 700.101 Q717.841 702.45 719.3 703.767 Q720.778 705.083 723.432 705.083 Q726.065 705.083 727.543 703.767 Q729.042 702.45 729.042 700.101 Q729.042 697.751 727.543 696.435 Q726.065 695.118 723.432 695.118 Q720.778 695.118 719.3 696.435 Q717.841 697.751 717.841 700.101 Z\" fill=\"#000000\" fill-rule=\"evenodd\" fill-opacity=\"1\" /><path clip-path=\"url(#clip720)\" d=\"M1025.54 662.762 L1039.82 662.762 L1039.82 666.205 L1020.62 666.205 L1020.62 662.762 Q1022.95 660.351 1026.96 656.3 Q1030.99 652.229 1032.02 651.054 Q1033.99 648.847 1034.76 647.328 Q1035.55 645.788 1035.55 644.31 Q1035.55 641.899 1033.84 640.38 Q1032.16 638.861 1029.45 638.861 Q1027.52 638.861 1025.38 639.53 Q1023.25 640.198 1020.82 641.555 L1020.82 637.423 Q1023.29 636.431 1025.44 635.924 Q1027.59 635.418 1029.37 635.418 Q1034.07 635.418 1036.86 637.767 Q1039.66 640.117 1039.66 644.046 Q1039.66 645.91 1038.95 647.591 Q1038.26 649.252 1036.42 651.52 Q1035.91 652.108 1033.2 654.923 Q1030.48 657.718 1025.54 662.762 Z\" fill=\"#000000\" fill-rule=\"evenodd\" fill-opacity=\"1\" /><path clip-path=\"url(#clip720)\" d=\"M1051.93 662.762 L1066.21 662.762 L1066.21 666.205 L1047.01 666.205 L1047.01 662.762 Q1049.34 660.351 1053.35 656.3 Q1057.38 652.229 1058.41 651.054 Q1060.38 648.847 1061.15 647.328 Q1061.94 645.788 1061.94 644.31 Q1061.94 641.899 1060.24 640.38 Q1058.55 638.861 1055.84 638.861 Q1053.92 638.861 1051.77 639.53 Q1049.64 640.198 1047.21 641.555 L1047.21 637.423 Q1049.68 636.431 1051.83 635.924 Q1053.98 635.418 1055.76 635.418 Q1060.46 635.418 1063.25 637.767 Q1066.05 640.117 1066.05 644.046 Q1066.05 645.91 1065.34 647.591 Q1064.65 649.252 1062.81 651.52 Q1062.3 652.108 1059.59 654.923 Q1056.87 657.718 1051.93 662.762 Z\" fill=\"#000000\" fill-rule=\"evenodd\" fill-opacity=\"1\" /><path clip-path=\"url(#clip720)\" d=\"M1170.2 763.355 L1164.65 778.404 L1175.77 778.404 L1170.2 763.355 M1167.89 759.324 L1172.53 759.324 L1184.06 789.564 L1179.8 789.564 L1177.05 781.806 L1163.42 781.806 L1160.66 789.564 L1156.35 789.564 L1167.89 759.324 Z\" fill=\"#000000\" fill-rule=\"evenodd\" fill-opacity=\"1\" /><path clip-path=\"url(#clip720)\" d=\"M1731.05 857.82 L1731.05 868.899 L1737.61 868.899 Q1740.91 868.899 1742.49 867.542 Q1744.09 866.165 1744.09 863.349 Q1744.09 860.514 1742.49 859.177 Q1740.91 857.82 1737.61 857.82 L1731.05 857.82 M1731.05 845.384 L1731.05 854.498 L1737.11 854.498 Q1740.1 854.498 1741.56 853.384 Q1743.04 852.25 1743.04 849.941 Q1743.04 847.652 1741.56 846.518 Q1740.1 845.384 1737.11 845.384 L1731.05 845.384 M1726.96 842.021 L1737.41 842.021 Q1742.09 842.021 1744.62 843.966 Q1747.15 845.91 1747.15 849.495 Q1747.15 852.27 1745.86 853.911 Q1744.56 855.551 1742.05 855.956 Q1745.07 856.605 1746.73 858.671 Q1748.41 860.716 1748.41 863.795 Q1748.41 867.846 1745.65 870.054 Q1742.9 872.261 1737.81 872.261 L1726.96 872.261 L1726.96 842.021 Z\" fill=\"#000000\" fill-rule=\"evenodd\" fill-opacity=\"1\" /><path clip-path=\"url(#clip720)\" d=\"M1278.82 1324.89 L1278.82 1329.21 Q1276.75 1327.28 1274.4 1326.33 Q1272.07 1325.38 1269.44 1325.38 Q1264.25 1325.38 1261.5 1328.56 Q1258.75 1331.72 1258.75 1337.71 Q1258.75 1343.69 1261.5 1346.87 Q1264.25 1350.03 1269.44 1350.03 Q1272.07 1350.03 1274.4 1349.08 Q1276.75 1348.12 1278.82 1346.2 L1278.82 1350.47 Q1276.67 1351.93 1274.26 1352.66 Q1271.87 1353.39 1269.2 1353.39 Q1262.33 1353.39 1258.38 1349.2 Q1254.43 1344.98 1254.43 1337.71 Q1254.43 1330.42 1258.38 1326.23 Q1262.33 1322.02 1269.2 1322.02 Q1271.91 1322.02 1274.3 1322.75 Q1276.71 1323.45 1278.82 1324.89 Z\" fill=\"#000000\" fill-rule=\"evenodd\" fill-opacity=\"1\" /><path clip-path=\"url(#clip720)\" d=\"M751.278 363.478 L751.278 386.994 L756.22 386.994 Q762.479 386.994 765.375 384.158 Q768.292 381.322 768.292 375.206 Q768.292 369.129 765.375 366.314 Q762.479 363.478 756.22 363.478 L751.278 363.478 M747.186 360.116 L755.592 360.116 Q764.382 360.116 768.494 363.782 Q772.606 367.428 772.606 375.206 Q772.606 383.024 768.474 386.69 Q764.342 390.356 755.592 390.356 L747.186 390.356 L747.186 360.116 Z\" fill=\"#000000\" fill-rule=\"evenodd\" fill-opacity=\"1\" /><path clip-path=\"url(#clip720)\" d=\"M1414.77 247.197 L1433.89 247.197 L1433.89 250.64 L1418.86 250.64 L1418.86 259.593 L1433.26 259.593 L1433.26 263.036 L1418.86 263.036 L1418.86 273.994 L1434.25 273.994 L1434.25 277.437 L1414.77 277.437 L1414.77 247.197 Z\" fill=\"#000000\" fill-rule=\"evenodd\" fill-opacity=\"1\" /><path clip-path=\"url(#clip720)\" d=\"M653.628 1024.73 L671.006 1024.73 L671.006 1028.18 L657.719 1028.18 L657.719 1037.09 L669.71 1037.09 L669.71 1040.53 L657.719 1040.53 L657.719 1054.97 L653.628 1054.97 L653.628 1024.73 Z\" fill=\"#000000\" fill-rule=\"evenodd\" fill-opacity=\"1\" /></svg>\n"
      ]
     },
     "execution_count": 213,
     "metadata": {},
     "output_type": "execute_result"
    }
   ],
   "source": [
    "plotWeightedGraph(g3)"
   ]
  },
  {
   "cell_type": "code",
   "execution_count": 144,
   "id": "57a21cc0-d214-43ef-abd5-24defe4c9ec0",
   "metadata": {},
   "outputs": [
    {
     "data": {
      "text/plain": [
       "4-element Vector{Vertex}:\n",
       " C\n",
       " A\n",
       " F\n",
       " B"
      ]
     },
     "execution_count": 144,
     "metadata": {},
     "output_type": "execute_result"
    }
   ],
   "source": [
    "P = [Vertex(:C), Vertex(:A), Vertex(:F), Vertex(:B)]"
   ]
  },
  {
   "cell_type": "code",
   "execution_count": 193,
   "id": "908519c9-2dcd-4d14-a548-78e067b4e970",
   "metadata": {},
   "outputs": [
    {
     "data": {
      "text/plain": [
       "Vertex[C, A, F, B]"
      ]
     },
     "execution_count": 193,
     "metadata": {},
     "output_type": "execute_result"
    }
   ],
   "source": [
    "r=Path(P,g3)"
   ]
  },
  {
   "cell_type": "code",
   "execution_count": 183,
   "id": "04685e25-12a4-4ae8-930d-6bac4c19201a",
   "metadata": {},
   "outputs": [
    {
     "data": {
      "text/plain": [
       "Path"
      ]
     },
     "execution_count": 183,
     "metadata": {},
     "output_type": "execute_result"
    }
   ],
   "source": [
    "typeof(r)"
   ]
  },
  {
   "cell_type": "code",
   "execution_count": 217,
   "id": "9c4498d5-6a61-4d8e-aa23-66f2a976b486",
   "metadata": {},
   "outputs": [
    {
     "data": {
      "text/plain": [
       "4"
      ]
     },
     "execution_count": 217,
     "metadata": {},
     "output_type": "execute_result"
    }
   ],
   "source": [
    "length(r.path)"
   ]
  },
  {
   "cell_type": "code",
   "execution_count": 224,
   "id": "86b9976b-6dea-4354-9b9c-b793cc955f39",
   "metadata": {},
   "outputs": [
    {
     "data": {
      "text/plain": [
       "15"
      ]
     },
     "execution_count": 224,
     "metadata": {},
     "output_type": "execute_result"
    }
   ],
   "source": [
    "length(r.graph.edges)"
   ]
  },
  {
   "cell_type": "code",
   "execution_count": 231,
   "id": "b4174217-2588-4fc6-8455-0f30f572cc79",
   "metadata": {},
   "outputs": [
    {
     "ename": "LoadError",
     "evalue": "UndefVarError: j not defined",
     "output_type": "error",
     "traceback": [
      "UndefVarError: j not defined",
      "",
      "Stacktrace:",
      " [1] distance(P::Path)",
      "   @ Main.WeightedGraphs C:\\Users\\Camer\\Documents\\My-Repositories\\Sci-Comp-ShortestPath\\WeightedGraphs.jl:193",
      " [2] top-level scope",
      "   @ In[231]:1",
      " [3] eval",
      "   @ .\\boot.jl:368 [inlined]",
      " [4] include_string(mapexpr::typeof(REPL.softscope), mod::Module, code::String, filename::String)",
      "   @ Base .\\loading.jl:1428"
     ]
    }
   ],
   "source": [
    "distance(r)"
   ]
  },
  {
   "cell_type": "code",
   "execution_count": 227,
   "id": "2fb5d8d8-1f04-47f0-b8ee-ac3708576954",
   "metadata": {},
   "outputs": [
    {
     "name": "stdout",
     "output_type": "stream",
     "text": [
      "Distance = Distance + (r.graph.edges[i]).weight = 12\n",
      "Distance = Distance + (r.graph.edges[i]).weight = 32\n",
      "Distance = Distance + (r.graph.edges[i]).weight = 42\n"
     ]
    },
    {
     "data": {
      "text/plain": [
       "42"
      ]
     },
     "execution_count": 227,
     "metadata": {},
     "output_type": "execute_result"
    }
   ],
   "source": [
    "Distance = 0\n",
    "for i in 1:length(r.graph.edges)\n",
    "    #for s in 1:(length(r.path)-1)\n",
    "       for f in 2:length(r.path)\n",
    "            if ((Symbol(r.path[f-1]) == r.graph.edges[i].start) && (Symbol(r.path[f]) == r.graph.edges[i].finish)) || ((Symbol(r.path[f]) == r.graph.edges[i].start) && (Symbol(r.path[f-1]) == r.graph.edges[i].finish))\n",
    "                @show Distance = Distance + r.graph.edges[i].weight\n",
    "            end\n",
    "        end\n",
    "    #end\n",
    "end\n",
    "Distance"
   ]
  },
  {
   "cell_type": "code",
   "execution_count": 200,
   "id": "b6d70ac2-f1c2-42f5-9a3f-53de866aa17e",
   "metadata": {},
   "outputs": [
    {
     "data": {
      "text/plain": [
       ":C"
      ]
     },
     "execution_count": 200,
     "metadata": {},
     "output_type": "execute_result"
    }
   ],
   "source": [
    "Symbol(r.path[1])"
   ]
  },
  {
   "cell_type": "code",
   "execution_count": 225,
   "id": "1c251a44-82c3-4052-b027-663268e6e83d",
   "metadata": {},
   "outputs": [
    {
     "data": {
      "text/plain": [
       "Vertex[A, B, C, D, E, F]Main.WeightedGraphs.Edge[(:A, :B, 9), (:A, :C, 12), (:A, :D, 15), (:A, :E, 8), (:A, :F, 20), (:B, :C, 24), (:B, :D, 2), (:B, :E, 4), (:B, :F, 10), (:C, :D, 15), (:C, :E, 12), (:C, :F, 7), (:D, :E, 16), (:D, :F, 18), (:E, :F, 22)]"
      ]
     },
     "execution_count": 225,
     "metadata": {},
     "output_type": "execute_result"
    }
   ],
   "source": [
    "g3"
   ]
  }
 ],
 "metadata": {
  "kernelspec": {
   "display_name": "Julia 1.8.0",
   "language": "julia",
   "name": "julia-1.8"
  },
  "language_info": {
   "file_extension": ".jl",
   "mimetype": "application/julia",
   "name": "julia",
   "version": "1.8.0"
  }
 },
 "nbformat": 4,
 "nbformat_minor": 5
}
