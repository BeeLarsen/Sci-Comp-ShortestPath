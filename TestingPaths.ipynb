{
 "cells": [
  {
   "cell_type": "code",
   "execution_count": 1,
   "id": "c42c3530-d183-49a1-8936-a59aa7031df7",
   "metadata": {},
   "outputs": [],
   "source": [
    "using Revise\n",
    "includet(\"../Sci-Comp-ShortestPath/WeightedGraphs.jl\")\n",
    "using .WeightedGraphs"
   ]
  },
  {
   "cell_type": "code",
   "execution_count": 2,
   "id": "05d77c30-96f0-41c9-bcee-dd3bd1826631",
   "metadata": {},
   "outputs": [],
   "source": [
    "using Graphs, Plots, GraphRecipes"
   ]
  },
  {
   "cell_type": "code",
   "execution_count": 3,
   "id": "b7d0f1da-d673-44ad-9ac5-f454c2131101",
   "metadata": {},
   "outputs": [
    {
     "data": {
      "text/plain": [
       "Vertex[]Main.WeightedGraphs.Edge[]"
      ]
     },
     "execution_count": 3,
     "metadata": {},
     "output_type": "execute_result"
    }
   ],
   "source": [
    "v1 = Vertex(:A)\n",
    "v2 = Vertex(:B)\n",
    "v3 = Vertex(:C)\n",
    "v4 = Vertex(:D)\n",
    "v5 = Vertex(:E)\n",
    "v6 = Vertex(:F)\n",
    "e1 = WeightedGraphs.Edge(:A,:B,3)\n",
    "e2 = WeightedGraphs.Edge(:B,:C,5)\n",
    "e3 = WeightedGraphs.Edge(:C,:A,7)\n",
    "e4 = WeightedGraphs.Edge(:C,:D,7)\n",
    "e5 = WeightedGraphs.Edge(:D,:E,7)\n",
    "e6 = WeightedGraphs.Edge(:E,:F,7)\n",
    "e7 = WeightedGraphs.Edge(:F,:A,5)\n",
    "g = WeightedGraph()\n",
    "g2 = WeightedGraph()"
   ]
  },
  {
   "cell_type": "code",
   "execution_count": 4,
   "id": "64ef69d7-e214-4c31-a6ab-d14bb8435f68",
   "metadata": {},
   "outputs": [],
   "source": [
    "addVertices!(g,v1,v2,v3)\n",
    "#addVertex!(g,v2)\n",
    "#addVertex!(g,v3)"
   ]
  },
  {
   "cell_type": "code",
   "execution_count": 5,
   "id": "02820158-4c89-45ca-8ef9-6f5579c4feb1",
   "metadata": {},
   "outputs": [],
   "source": [
    "addEdges!(g,e1,e2,e3)\n",
    "#addEdge!(g,e2)\n",
    "#addEdge!(g,e3)"
   ]
  },
  {
   "cell_type": "code",
   "execution_count": 6,
   "id": "b4e07cf5-3078-44ec-be69-d5bfbae16e6c",
   "metadata": {},
   "outputs": [],
   "source": [
    "addVertices!(g2,v1,v2,v3,v4,v5,v6)"
   ]
  },
  {
   "cell_type": "code",
   "execution_count": 7,
   "id": "ec37ea88-b893-40c6-b701-b89a3e54a031",
   "metadata": {},
   "outputs": [],
   "source": [
    "addEdges!(g2,e1,e2,e3,e4,e5,e6,e7)"
   ]
  },
  {
   "cell_type": "code",
   "execution_count": 8,
   "id": "6ecd56fd-dc01-4a60-b85d-f207c1d42d36",
   "metadata": {},
   "outputs": [
    {
     "data": {
      "image/svg+xml": [
       "<?xml version=\"1.0\" encoding=\"utf-8\"?>\n",
       "<svg xmlns=\"http://www.w3.org/2000/svg\" xmlns:xlink=\"http://www.w3.org/1999/xlink\" width=\"600\" height=\"400\" viewBox=\"0 0 2400 1600\">\n",
       "<defs>\n",
       "  <clipPath id=\"clip000\">\n",
       "    <rect x=\"0\" y=\"0\" width=\"2400\" height=\"1600\"/>\n",
       "  </clipPath>\n",
       "</defs>\n",
       "<path clip-path=\"url(#clip000)\" d=\"\n",
       "M0 1600 L2400 1600 L2400 0 L0 0  Z\n",
       "  \" fill=\"#ffffff\" fill-rule=\"evenodd\" fill-opacity=\"1\"/>\n",
       "<defs>\n",
       "  <clipPath id=\"clip001\">\n",
       "    <rect x=\"480\" y=\"0\" width=\"1681\" height=\"1600\"/>\n",
       "  </clipPath>\n",
       "</defs>\n",
       "<path clip-path=\"url(#clip000)\" d=\"\n",
       "M447.244 1552.76 L1952.76 1552.76 L1952.76 47.2441 L447.244 47.2441  Z\n",
       "  \" fill=\"#ffffff\" fill-rule=\"evenodd\" fill-opacity=\"1\"/>\n",
       "<defs>\n",
       "  <clipPath id=\"clip002\">\n",
       "    <rect x=\"447\" y=\"47\" width=\"1507\" height=\"1507\"/>\n",
       "  </clipPath>\n",
       "</defs>\n",
       "<polyline clip-path=\"url(#clip002)\" style=\"stroke:#000000; stroke-linecap:round; stroke-linejoin:round; stroke-width:4; stroke-opacity:1; fill:none\" points=\"\n",
       "  1451.09,262.317 1453.76,285.111 1456.44,307.901 1459.14,330.686 1461.87,353.463 1464.65,376.228 1467.48,398.979 1470.37,421.714 1473.33,444.428 1476.39,467.12 \n",
       "  1479.53,489.786 1482.79,512.424 1486.15,535.032 1489.65,557.605 1493.29,580.141 1497.07,602.638 1501.01,625.093 1505.12,647.502 1509.41,669.863 1513.89,692.174 \n",
       "  1518.58,714.431 1523.47,736.631 1528.59,758.772 1533.94,780.851 1539.54,802.865 1545.39,824.811 1551.49,846.69 1557.84,868.503 1564.42,890.255 1571.22,911.947 \n",
       "  1578.23,933.582 1585.45,955.164 1592.85,976.696 1600.44,998.179 1608.2,1019.62 1616.11,1041.01 1624.18,1062.37 1632.38,1083.69 1640.71,1104.97 1649.15,1126.23 \n",
       "  1657.7,1147.45 1666.35,1168.65 1675.08,1189.83 1683.89,1210.99 1692.75,1232.13 1701.68,1253.26 1710.64,1274.37 1719.64,1295.48 1728.65,1316.58 1737.68,1337.68 \n",
       "  \n",
       "  \"/>\n",
       "<polyline clip-path=\"url(#clip002)\" style=\"stroke:#000000; stroke-linecap:round; stroke-linejoin:round; stroke-width:4; stroke-opacity:1; fill:none\" points=\"\n",
       "  1451.09,262.317 1437.31,280.682 1423.53,299.04 1409.73,317.382 1395.91,335.7 1382.05,353.988 1368.16,372.237 1354.22,390.439 1340.23,408.586 1326.18,426.672 \n",
       "  1312.05,444.687 1297.85,462.625 1283.57,480.478 1269.19,498.237 1254.71,515.895 1240.12,533.444 1225.42,550.877 1210.59,568.185 1195.63,585.361 1180.53,602.398 \n",
       "  1165.28,619.286 1149.88,636.02 1134.32,652.59 1118.58,668.989 1102.67,685.209 1086.57,701.244 1070.29,717.092 1053.83,732.761 1037.2,748.259 1020.41,763.594 \n",
       "  1003.46,778.774 986.362,793.806 969.127,808.698 951.761,823.459 934.271,838.094 916.664,852.613 898.949,867.024 881.134,881.333 863.226,895.549 845.232,909.68 \n",
       "  827.161,923.733 809.021,937.716 790.818,951.637 772.562,965.503 754.258,979.323 735.917,993.104 717.544,1006.85 699.148,1020.58 680.736,1034.29 662.317,1047.99 \n",
       "  \n",
       "  \"/>\n",
       "<polyline clip-path=\"url(#clip002)\" style=\"stroke:#000000; stroke-linecap:round; stroke-linejoin:round; stroke-width:4; stroke-opacity:1; fill:none\" points=\"\n",
       "  1737.68,1337.68 1714.88,1334.95 1692.08,1332.2 1669.29,1329.43 1646.5,1326.64 1623.73,1323.8 1600.97,1320.9 1578.23,1317.94 1555.51,1314.91 1532.81,1311.8 \n",
       "  1510.13,1308.58 1487.49,1305.27 1464.87,1301.83 1442.29,1298.27 1419.75,1294.57 1397.25,1290.72 1374.79,1286.72 1352.38,1282.54 1330.01,1278.19 1307.7,1273.64 \n",
       "  1285.44,1268.89 1263.23,1263.93 1241.09,1258.75 1219.01,1253.34 1197,1247.68 1175.05,1241.77 1153.17,1235.6 1131.36,1229.19 1109.61,1222.55 1087.92,1215.69 \n",
       "  1066.29,1208.61 1044.71,1201.33 1023.18,1193.86 1001.7,1186.21 980.271,1178.4 958.881,1170.42 937.531,1162.29 916.218,1154.03 894.94,1145.64 873.692,1137.14 \n",
       "  852.473,1128.52 831.28,1119.82 810.11,1111.02 788.96,1102.16 767.826,1093.23 746.707,1084.24 725.6,1075.22 704.501,1066.16 683.408,1057.08 662.317,1047.99 \n",
       "  \n",
       "  \"/>\n",
       "<path clip-path=\"url(#clip002)\" d=\"\n",
       "M1519.85 849.979 L1565.01 849.979 L1565.01 777.714 L1519.85 777.714 L1519.85 849.979 L1519.85 849.979  Z\n",
       "  \" fill=\"#ffffff\" fill-rule=\"evenodd\" fill-opacity=\"1\"/>\n",
       "<polyline clip-path=\"url(#clip002)\" style=\"stroke:#000000; stroke-linecap:round; stroke-linejoin:round; stroke-width:0; stroke-opacity:0; fill:none\" points=\"\n",
       "  1519.85,849.979 1565.01,849.979 1565.01,777.714 1519.85,777.714 1519.85,849.979 \n",
       "  \"/>\n",
       "<path clip-path=\"url(#clip002)\" d=\"\n",
       "M1072.06 729.382 L1117.23 729.382 L1117.23 657.118 L1072.06 657.118 L1072.06 729.382 L1072.06 729.382  Z\n",
       "  \" fill=\"#ffffff\" fill-rule=\"evenodd\" fill-opacity=\"1\"/>\n",
       "<polyline clip-path=\"url(#clip002)\" style=\"stroke:#000000; stroke-linecap:round; stroke-linejoin:round; stroke-width:0; stroke-opacity:0; fill:none\" points=\"\n",
       "  1072.06,729.382 1117.23,729.382 1117.23,657.118 1072.06,657.118 1072.06,729.382 \n",
       "  \"/>\n",
       "<path clip-path=\"url(#clip002)\" d=\"\n",
       "M1163.43 1280.89 L1208.6 1280.89 L1208.6 1208.62 L1163.43 1208.62 L1163.43 1280.89 L1163.43 1280.89  Z\n",
       "  \" fill=\"#ffffff\" fill-rule=\"evenodd\" fill-opacity=\"1\"/>\n",
       "<polyline clip-path=\"url(#clip002)\" style=\"stroke:#000000; stroke-linecap:round; stroke-linejoin:round; stroke-width:0; stroke-opacity:0; fill:none\" points=\"\n",
       "  1163.43,1280.89 1208.6,1280.89 1208.6,1208.62 1163.43,1208.62 1163.43,1280.89 \n",
       "  \"/>\n",
       "<path clip-path=\"url(#clip002)\" d=\"\n",
       "M1490.23 262.317 L1470.66 228.418 L1431.51 228.418 L1411.94 262.317 L1431.51 296.216 L1470.66 296.216 L1490.23 262.317 L1490.23 262.317  Z\n",
       "  \" fill=\"#009af9\" fill-rule=\"evenodd\" fill-opacity=\"1\"/>\n",
       "<polyline clip-path=\"url(#clip002)\" style=\"stroke:#000000; stroke-linecap:round; stroke-linejoin:round; stroke-width:4; stroke-opacity:1; fill:none\" points=\"\n",
       "  1490.23,262.317 1470.66,228.418 1431.51,228.418 1411.94,262.317 1431.51,296.216 1470.66,296.216 1490.23,262.317 \n",
       "  \"/>\n",
       "<path clip-path=\"url(#clip002)\" d=\"\n",
       "M1776.83 1337.68 L1757.25 1303.78 L1718.11 1303.78 L1698.54 1337.68 L1718.11 1371.58 L1757.25 1371.58 L1776.83 1337.68 L1776.83 1337.68  Z\n",
       "  \" fill=\"#009af9\" fill-rule=\"evenodd\" fill-opacity=\"1\"/>\n",
       "<polyline clip-path=\"url(#clip002)\" style=\"stroke:#000000; stroke-linecap:round; stroke-linejoin:round; stroke-width:4; stroke-opacity:1; fill:none\" points=\"\n",
       "  1776.83,1337.68 1757.25,1303.78 1718.11,1303.78 1698.54,1337.68 1718.11,1371.58 1757.25,1371.58 1776.83,1337.68 \n",
       "  \"/>\n",
       "<path clip-path=\"url(#clip002)\" d=\"\n",
       "M701.461 1047.99 L681.889 1014.1 L642.746 1014.1 L623.174 1047.99 L642.746 1081.89 L681.889 1081.89 L701.461 1047.99 L701.461 1047.99  Z\n",
       "  \" fill=\"#009af9\" fill-rule=\"evenodd\" fill-opacity=\"1\"/>\n",
       "<polyline clip-path=\"url(#clip002)\" style=\"stroke:#000000; stroke-linecap:round; stroke-linejoin:round; stroke-width:4; stroke-opacity:1; fill:none\" points=\"\n",
       "  701.461,1047.99 681.889,1014.1 642.746,1014.1 623.174,1047.99 642.746,1081.89 681.889,1081.89 701.461,1047.99 \n",
       "  \"/>\n",
       "<path clip-path=\"url(#clip002)\" d=\"M1451.09 262.717 L1450.74 262.517 L1450.74 262.117 L1451.09 261.917 L1451.43 262.117 L1451.43 262.517 Z\" fill=\"#009af9\" fill-rule=\"evenodd\" fill-opacity=\"1\" stroke=\"#000000\" stroke-opacity=\"1\" stroke-width=\"3.2\"/>\n",
       "<path clip-path=\"url(#clip002)\" d=\"M1737.68 1338.08 L1737.34 1337.88 L1737.34 1337.48 L1737.68 1337.28 L1738.03 1337.48 L1738.03 1337.88 Z\" fill=\"#009af9\" fill-rule=\"evenodd\" fill-opacity=\"1\" stroke=\"#000000\" stroke-opacity=\"1\" stroke-width=\"3.2\"/>\n",
       "<path clip-path=\"url(#clip002)\" d=\"M662.317 1048.39 L661.971 1048.19 L661.971 1047.79 L662.317 1047.59 L662.664 1047.79 L662.664 1048.19 Z\" fill=\"#009af9\" fill-rule=\"evenodd\" fill-opacity=\"1\" stroke=\"#000000\" stroke-opacity=\"1\" stroke-width=\"3.2\"/>\n",
       "<path clip-path=\"url(#clip000)\" d=\"M1546.15 812.662 Q1549.08 813.29 1550.72 815.274 Q1552.38 817.259 1552.38 820.176 Q1552.38 824.652 1549.31 827.103 Q1546.23 829.554 1540.56 829.554 Q1538.65 829.554 1536.63 829.169 Q1534.62 828.804 1532.47 828.055 L1532.47 824.105 Q1534.18 825.098 1536.2 825.604 Q1538.23 826.111 1540.43 826.111 Q1544.28 826.111 1546.29 824.592 Q1548.31 823.072 1548.31 820.176 Q1548.31 817.502 1546.43 816.004 Q1544.57 814.485 1541.22 814.485 L1537.7 814.485 L1537.7 811.122 L1541.39 811.122 Q1544.4 811.122 1546 809.927 Q1547.6 808.712 1547.6 806.443 Q1547.6 804.114 1545.94 802.879 Q1544.3 801.623 1541.22 801.623 Q1539.54 801.623 1537.62 801.988 Q1535.69 802.352 1533.39 803.122 L1533.39 799.476 Q1535.72 798.828 1537.74 798.504 Q1539.79 798.18 1541.59 798.18 Q1546.25 798.18 1548.96 800.306 Q1551.68 802.413 1551.68 806.018 Q1551.68 808.53 1550.24 810.272 Q1548.8 811.993 1546.15 812.662 Z\" fill=\"#000000\" fill-rule=\"evenodd\" fill-opacity=\"1\" /><path clip-path=\"url(#clip000)\" d=\"M1084.92 678.13 L1104.37 678.13 L1104.37 679.872 L1093.39 708.37 L1089.12 708.37 L1099.45 681.573 L1084.92 681.573 L1084.92 678.13 Z\" fill=\"#000000\" fill-rule=\"evenodd\" fill-opacity=\"1\" /><path clip-path=\"url(#clip000)\" d=\"M1177.51 1229.64 L1193.57 1229.64 L1193.57 1233.08 L1181.25 1233.08 L1181.25 1240.49 Q1182.15 1240.19 1183.04 1240.05 Q1183.93 1239.88 1184.82 1239.88 Q1189.88 1239.88 1192.84 1242.66 Q1195.8 1245.43 1195.8 1250.17 Q1195.8 1255.06 1192.76 1257.77 Q1189.72 1260.46 1184.19 1260.46 Q1182.29 1260.46 1180.3 1260.14 Q1178.34 1259.82 1176.23 1259.17 L1176.23 1255.06 Q1178.05 1256.05 1180 1256.53 Q1181.94 1257.02 1184.11 1257.02 Q1187.61 1257.02 1189.66 1255.18 Q1191.71 1253.33 1191.71 1250.17 Q1191.71 1247.01 1189.66 1245.17 Q1187.61 1243.33 1184.11 1243.33 Q1182.47 1243.33 1180.83 1243.69 Q1179.21 1244.06 1177.51 1244.83 L1177.51 1229.64 Z\" fill=\"#000000\" fill-rule=\"evenodd\" fill-opacity=\"1\" /><path clip-path=\"url(#clip000)\" d=\"M1451.09 251.228 L1445.54 266.277 L1456.66 266.277 L1451.09 251.228 M1448.78 247.197 L1453.42 247.197 L1464.94 277.437 L1460.69 277.437 L1457.93 269.68 L1444.3 269.68 L1441.55 277.437 L1437.23 277.437 L1448.78 247.197 Z\" fill=\"#000000\" fill-rule=\"evenodd\" fill-opacity=\"1\" /><path clip-path=\"url(#clip000)\" d=\"M1731.05 1338.36 L1731.05 1349.44 L1737.61 1349.44 Q1740.91 1349.44 1742.49 1348.08 Q1744.09 1346.71 1744.09 1343.89 Q1744.09 1341.06 1742.49 1339.72 Q1740.91 1338.36 1737.61 1338.36 L1731.05 1338.36 M1731.05 1325.93 L1731.05 1335.04 L1737.11 1335.04 Q1740.1 1335.04 1741.56 1333.93 Q1743.04 1332.79 1743.04 1330.48 Q1743.04 1328.19 1741.56 1327.06 Q1740.1 1325.93 1737.11 1325.93 L1731.05 1325.93 M1726.96 1322.56 L1737.41 1322.56 Q1742.09 1322.56 1744.62 1324.51 Q1747.15 1326.45 1747.15 1330.04 Q1747.15 1332.81 1745.86 1334.45 Q1744.56 1336.09 1742.05 1336.5 Q1745.07 1337.15 1746.73 1339.21 Q1748.41 1341.26 1748.41 1344.34 Q1748.41 1348.39 1745.65 1350.6 Q1742.9 1352.8 1737.81 1352.8 L1726.96 1352.8 L1726.96 1322.56 Z\" fill=\"#000000\" fill-rule=\"evenodd\" fill-opacity=\"1\" /><path clip-path=\"url(#clip000)\" d=\"M674.51 1035.2 L674.51 1039.52 Q672.444 1037.59 670.095 1036.64 Q667.766 1035.69 665.133 1035.69 Q659.947 1035.69 657.193 1038.87 Q654.438 1042.03 654.438 1048.02 Q654.438 1054 657.193 1057.18 Q659.947 1060.34 665.133 1060.34 Q667.766 1060.34 670.095 1059.39 Q672.444 1058.44 674.51 1056.51 L674.51 1060.78 Q672.363 1062.24 669.953 1062.97 Q667.563 1063.7 664.89 1063.7 Q658.023 1063.7 654.074 1059.51 Q650.124 1055.3 650.124 1048.02 Q650.124 1040.73 654.074 1036.54 Q658.023 1032.33 664.89 1032.33 Q667.604 1032.33 669.994 1033.06 Q672.404 1033.77 674.51 1035.2 Z\" fill=\"#000000\" fill-rule=\"evenodd\" fill-opacity=\"1\" /></svg>\n"
      ]
     },
     "execution_count": 8,
     "metadata": {},
     "output_type": "execute_result"
    }
   ],
   "source": [
    "graphplot(g.graph, names=[\"A\",\"B\",\"C\"], edgelabel = Dict((1,2)=>3,(2,3)=>5,(1,3) => 7))"
   ]
  },
  {
   "cell_type": "code",
   "execution_count": 9,
   "id": "539a3dab-f59f-447f-bdbe-0ebc9acaa65d",
   "metadata": {},
   "outputs": [
    {
     "data": {
      "text/plain": [
       "Vertex[A, B, C]Main.WeightedGraphs.Edge[(:A, :B, 3), (:B, :C, 5), (:C, :A, 7)]"
      ]
     },
     "execution_count": 9,
     "metadata": {},
     "output_type": "execute_result"
    }
   ],
   "source": [
    "g"
   ]
  },
  {
   "cell_type": "code",
   "execution_count": 10,
   "id": "0fa0033b-32ac-4bc2-a0b3-3f9a7947e75d",
   "metadata": {},
   "outputs": [
    {
     "data": {
      "text/plain": [
       "3-element Vector{Vertex}:\n",
       " A\n",
       " B\n",
       " C"
      ]
     },
     "execution_count": 10,
     "metadata": {},
     "output_type": "execute_result"
    }
   ],
   "source": [
    "p = [Vertex(:A), Vertex(:B), Vertex(:C)]"
   ]
  },
  {
   "cell_type": "code",
   "execution_count": 11,
   "id": "9d9a3ae6-1792-4d6d-baa0-33cef4cca06f",
   "metadata": {},
   "outputs": [
    {
     "ename": "LoadError",
     "evalue": "UndefVarError: UnweightedEdges not defined",
     "output_type": "error",
     "traceback": [
      "UndefVarError: UnweightedEdges not defined",
      "",
      "Stacktrace:",
      " [1] top-level scope",
      "   @ In[11]:1",
      " [2] eval",
      "   @ .\\boot.jl:368 [inlined]",
      " [3] include_string(mapexpr::typeof(REPL.softscope), mod::Module, code::String, filename::String)",
      "   @ Base .\\loading.jl:1428"
     ]
    }
   ],
   "source": [
    "u = UnweightedEdges(g)"
   ]
  },
  {
   "cell_type": "code",
   "execution_count": 12,
   "id": "de1ed541-d86a-4b57-985a-140a241fe1a8",
   "metadata": {},
   "outputs": [
    {
     "ename": "LoadError",
     "evalue": "UndefVarError: u not defined",
     "output_type": "error",
     "traceback": [
      "UndefVarError: u not defined",
      "",
      "Stacktrace:",
      " [1] top-level scope",
      "   @ :0",
      " [2] eval",
      "   @ .\\boot.jl:368 [inlined]",
      " [3] include_string(mapexpr::typeof(REPL.softscope), mod::Module, code::String, filename::String)",
      "   @ Base .\\loading.jl:1428"
     ]
    }
   ],
   "source": [
    "u"
   ]
  },
  {
   "cell_type": "code",
   "execution_count": 13,
   "id": "e1dcd070-9574-4047-a518-69579721dcbb",
   "metadata": {},
   "outputs": [
    {
     "ename": "LoadError",
     "evalue": "UndefVarError: u not defined",
     "output_type": "error",
     "traceback": [
      "UndefVarError: u not defined",
      "",
      "Stacktrace:",
      " [1] top-level scope",
      "   @ .\\In[13]:2",
      " [2] eval",
      "   @ .\\boot.jl:368 [inlined]",
      " [3] include_string(mapexpr::typeof(REPL.softscope), mod::Module, code::String, filename::String)",
      "   @ Base .\\loading.jl:1428"
     ]
    }
   ],
   "source": [
    "for i in 2:length(p)\n",
    "    if (p[i-1],p[i]) in u\n",
    "      return true\n",
    "    else return false\n",
    "    end\n",
    "end"
   ]
  },
  {
   "cell_type": "code",
   "execution_count": 14,
   "id": "2fc18b24-bf04-494c-ae2a-d82afd7a90c6",
   "metadata": {},
   "outputs": [
    {
     "ename": "LoadError",
     "evalue": "UndefVarError: u not defined",
     "output_type": "error",
     "traceback": [
      "UndefVarError: u not defined",
      "",
      "Stacktrace:",
      " [1] macro expansion",
      "   @ .\\show.jl:1047 [inlined]",
      " [2] top-level scope",
      "   @ .\\In[14]:2",
      " [3] eval",
      "   @ .\\boot.jl:368 [inlined]",
      " [4] include_string(mapexpr::typeof(REPL.softscope), mod::Module, code::String, filename::String)",
      "   @ Base .\\loading.jl:1428"
     ]
    }
   ],
   "source": [
    "for i in 2:length(p)\n",
    "  @show if (p[i-1],p[i]) in u\n",
    "    end\n",
    "end"
   ]
  },
  {
   "cell_type": "code",
   "execution_count": 15,
   "id": "1d95e35a-537a-4e53-a80c-6c594e4232f2",
   "metadata": {},
   "outputs": [
    {
     "ename": "LoadError",
     "evalue": "UndefVarError: u not defined",
     "output_type": "error",
     "traceback": [
      "UndefVarError: u not defined",
      "",
      "Stacktrace:",
      " [1] top-level scope",
      "   @ .\\In[15]:3",
      " [2] eval",
      "   @ .\\boot.jl:368 [inlined]",
      " [3] include_string(mapexpr::typeof(REPL.softscope), mod::Module, code::String, filename::String)",
      "   @ Base .\\loading.jl:1428"
     ]
    }
   ],
   "source": [
    "x=0\n",
    "for i in 2:length(p)\n",
    "  if (p[i-1],p[i]) in u\n",
    "    x=x+1\n",
    "    end\n",
    "end\n",
    "x"
   ]
  },
  {
   "cell_type": "code",
   "execution_count": 16,
   "id": "b04b87f6-d529-459f-9332-887b3cf7f89d",
   "metadata": {},
   "outputs": [
    {
     "data": {
      "text/plain": [
       "true"
      ]
     },
     "execution_count": 16,
     "metadata": {},
     "output_type": "execute_result"
    }
   ],
   "source": [
    "arePathVerticesOnGraph(p,g)"
   ]
  },
  {
   "cell_type": "code",
   "execution_count": 17,
   "id": "750c6d93-c6cb-4fa2-9147-847d27cbfc31",
   "metadata": {},
   "outputs": [
    {
     "data": {
      "text/plain": [
       "true"
      ]
     },
     "execution_count": 17,
     "metadata": {},
     "output_type": "execute_result"
    }
   ],
   "source": [
    "doPathVerticesHaveEdgesOnGraph(p,g)"
   ]
  },
  {
   "cell_type": "code",
   "execution_count": 18,
   "id": "9d2a490e-52f3-41c5-bf30-1708b371deb8",
   "metadata": {},
   "outputs": [
    {
     "data": {
      "text/plain": [
       "Vertex[A, B, C]"
      ]
     },
     "execution_count": 18,
     "metadata": {},
     "output_type": "execute_result"
    }
   ],
   "source": [
    "d1 = Path(p,g)"
   ]
  },
  {
   "cell_type": "code",
   "execution_count": 19,
   "id": "713f4f3d-59d1-489b-a641-0a488dc03e99",
   "metadata": {},
   "outputs": [
    {
     "data": {
      "text/plain": [
       "8"
      ]
     },
     "execution_count": 19,
     "metadata": {},
     "output_type": "execute_result"
    }
   ],
   "source": [
    "distance(d1)"
   ]
  },
  {
   "cell_type": "code",
   "execution_count": 20,
   "id": "3329f481-de65-4e96-a5a0-4c6c58814416",
   "metadata": {},
   "outputs": [
    {
     "data": {
      "image/svg+xml": [
       "<?xml version=\"1.0\" encoding=\"utf-8\"?>\n",
       "<svg xmlns=\"http://www.w3.org/2000/svg\" xmlns:xlink=\"http://www.w3.org/1999/xlink\" width=\"600\" height=\"400\" viewBox=\"0 0 2400 1600\">\n",
       "<defs>\n",
       "  <clipPath id=\"clip030\">\n",
       "    <rect x=\"0\" y=\"0\" width=\"2400\" height=\"1600\"/>\n",
       "  </clipPath>\n",
       "</defs>\n",
       "<path clip-path=\"url(#clip030)\" d=\"\n",
       "M0 1600 L2400 1600 L2400 0 L0 0  Z\n",
       "  \" fill=\"#ffffff\" fill-rule=\"evenodd\" fill-opacity=\"1\"/>\n",
       "<defs>\n",
       "  <clipPath id=\"clip031\">\n",
       "    <rect x=\"480\" y=\"0\" width=\"1681\" height=\"1600\"/>\n",
       "  </clipPath>\n",
       "</defs>\n",
       "<path clip-path=\"url(#clip030)\" d=\"\n",
       "M447.244 1552.76 L1952.76 1552.76 L1952.76 47.2441 L447.244 47.2441  Z\n",
       "  \" fill=\"#ffffff\" fill-rule=\"evenodd\" fill-opacity=\"1\"/>\n",
       "<defs>\n",
       "  <clipPath id=\"clip032\">\n",
       "    <rect x=\"447\" y=\"47\" width=\"1507\" height=\"1507\"/>\n",
       "  </clipPath>\n",
       "</defs>\n",
       "<polyline clip-path=\"url(#clip032)\" style=\"stroke:#000000; stroke-linecap:round; stroke-linejoin:round; stroke-width:4; stroke-opacity:1; fill:none\" points=\"\n",
       "  957.676,627.06 662.317,1099.56 \n",
       "  \"/>\n",
       "<polyline clip-path=\"url(#clip032)\" style=\"stroke:#000000; stroke-linecap:round; stroke-linejoin:round; stroke-width:4; stroke-opacity:1; fill:none\" points=\"\n",
       "  957.676,627.06 1072.98,1303.35 \n",
       "  \"/>\n",
       "<polyline clip-path=\"url(#clip032)\" style=\"stroke:#000000; stroke-linecap:round; stroke-linejoin:round; stroke-width:4; stroke-opacity:1; fill:none\" points=\"\n",
       "  957.676,627.06 1357.73,262.317 \n",
       "  \"/>\n",
       "<polyline clip-path=\"url(#clip032)\" style=\"stroke:#000000; stroke-linecap:round; stroke-linejoin:round; stroke-width:4; stroke-opacity:1; fill:none\" points=\"\n",
       "  662.317,1099.56 1072.98,1303.35 \n",
       "  \"/>\n",
       "<polyline clip-path=\"url(#clip032)\" style=\"stroke:#000000; stroke-linecap:round; stroke-linejoin:round; stroke-width:4; stroke-opacity:1; fill:none\" points=\"\n",
       "  1072.98,1303.35 1541.07,1337.68 \n",
       "  \"/>\n",
       "<polyline clip-path=\"url(#clip032)\" style=\"stroke:#000000; stroke-linecap:round; stroke-linejoin:round; stroke-width:4; stroke-opacity:1; fill:none\" points=\"\n",
       "  1541.07,1337.68 1737.68,690.279 \n",
       "  \"/>\n",
       "<polyline clip-path=\"url(#clip032)\" style=\"stroke:#000000; stroke-linecap:round; stroke-linejoin:round; stroke-width:4; stroke-opacity:1; fill:none\" points=\"\n",
       "  1737.68,690.279 1357.73,262.317 \n",
       "  \"/>\n",
       "<path clip-path=\"url(#clip032)\" d=\"\n",
       "M787.414 899.444 L832.579 899.444 L832.579 827.179 L787.414 827.179 L787.414 899.444 L787.414 899.444  Z\n",
       "  \" fill=\"#ffffff\" fill-rule=\"evenodd\" fill-opacity=\"1\"/>\n",
       "<polyline clip-path=\"url(#clip032)\" style=\"stroke:#000000; stroke-linecap:round; stroke-linejoin:round; stroke-width:0; stroke-opacity:0; fill:none\" points=\"\n",
       "  787.414,899.444 832.579,899.444 832.579,827.179 787.414,827.179 787.414,899.444 \n",
       "  \"/>\n",
       "<path clip-path=\"url(#clip032)\" d=\"\n",
       "M992.747 1001.34 L1037.91 1001.34 L1037.91 929.074 L992.747 929.074 L992.747 1001.34 L992.747 1001.34  Z\n",
       "  \" fill=\"#ffffff\" fill-rule=\"evenodd\" fill-opacity=\"1\"/>\n",
       "<polyline clip-path=\"url(#clip032)\" style=\"stroke:#000000; stroke-linecap:round; stroke-linejoin:round; stroke-width:0; stroke-opacity:0; fill:none\" points=\"\n",
       "  992.747,1001.34 1037.91,1001.34 1037.91,929.074 992.747,929.074 992.747,1001.34 \n",
       "  \"/>\n",
       "<path clip-path=\"url(#clip032)\" d=\"\n",
       "M845.067 1237.59 L890.232 1237.59 L890.232 1165.33 L845.067 1165.33 L845.067 1237.59 L845.067 1237.59  Z\n",
       "  \" fill=\"#ffffff\" fill-rule=\"evenodd\" fill-opacity=\"1\"/>\n",
       "<polyline clip-path=\"url(#clip032)\" style=\"stroke:#000000; stroke-linecap:round; stroke-linejoin:round; stroke-width:0; stroke-opacity:0; fill:none\" points=\"\n",
       "  845.067,1237.59 890.232,1237.59 890.232,1165.33 845.067,1165.33 845.067,1237.59 \n",
       "  \"/>\n",
       "<path clip-path=\"url(#clip032)\" d=\"\n",
       "M1284.44 1356.65 L1329.61 1356.65 L1329.61 1284.39 L1284.44 1284.39 L1284.44 1356.65 L1284.44 1356.65  Z\n",
       "  \" fill=\"#ffffff\" fill-rule=\"evenodd\" fill-opacity=\"1\"/>\n",
       "<polyline clip-path=\"url(#clip032)\" style=\"stroke:#000000; stroke-linecap:round; stroke-linejoin:round; stroke-width:0; stroke-opacity:0; fill:none\" points=\"\n",
       "  1284.44,1356.65 1329.61,1356.65 1329.61,1284.39 1284.44,1284.39 1284.44,1356.65 \n",
       "  \"/>\n",
       "<path clip-path=\"url(#clip032)\" d=\"\n",
       "M1616.79 1050.11 L1661.96 1050.11 L1661.96 977.849 L1616.79 977.849 L1616.79 1050.11 L1616.79 1050.11  Z\n",
       "  \" fill=\"#ffffff\" fill-rule=\"evenodd\" fill-opacity=\"1\"/>\n",
       "<polyline clip-path=\"url(#clip032)\" style=\"stroke:#000000; stroke-linecap:round; stroke-linejoin:round; stroke-width:0; stroke-opacity:0; fill:none\" points=\"\n",
       "  1616.79,1050.11 1661.96,1050.11 1661.96,977.849 1616.79,977.849 1616.79,1050.11 \n",
       "  \"/>\n",
       "<path clip-path=\"url(#clip032)\" d=\"\n",
       "M1525.12 512.431 L1570.29 512.431 L1570.29 440.166 L1525.12 440.166 L1525.12 512.431 L1525.12 512.431  Z\n",
       "  \" fill=\"#ffffff\" fill-rule=\"evenodd\" fill-opacity=\"1\"/>\n",
       "<polyline clip-path=\"url(#clip032)\" style=\"stroke:#000000; stroke-linecap:round; stroke-linejoin:round; stroke-width:0; stroke-opacity:0; fill:none\" points=\"\n",
       "  1525.12,512.431 1570.29,512.431 1570.29,440.166 1525.12,440.166 1525.12,512.431 \n",
       "  \"/>\n",
       "<path clip-path=\"url(#clip032)\" d=\"\n",
       "M981.765 627.06 L969.72 606.199 L945.632 606.199 L933.588 627.06 L945.632 647.921 L969.72 647.921 L981.765 627.06 L981.765 627.06  Z\n",
       "  \" fill=\"#009af9\" fill-rule=\"evenodd\" fill-opacity=\"1\"/>\n",
       "<polyline clip-path=\"url(#clip032)\" style=\"stroke:#000000; stroke-linecap:round; stroke-linejoin:round; stroke-width:4; stroke-opacity:1; fill:none\" points=\"\n",
       "  981.765,627.06 969.72,606.199 945.632,606.199 933.588,627.06 945.632,647.921 969.72,647.921 981.765,627.06 \n",
       "  \"/>\n",
       "<path clip-path=\"url(#clip032)\" d=\"\n",
       "M686.405 1099.56 L674.361 1078.7 L650.273 1078.7 L638.229 1099.56 L650.273 1120.42 L674.361 1120.42 L686.405 1099.56 L686.405 1099.56  Z\n",
       "  \" fill=\"#009af9\" fill-rule=\"evenodd\" fill-opacity=\"1\"/>\n",
       "<polyline clip-path=\"url(#clip032)\" style=\"stroke:#000000; stroke-linecap:round; stroke-linejoin:round; stroke-width:4; stroke-opacity:1; fill:none\" points=\"\n",
       "  686.405,1099.56 674.361,1078.7 650.273,1078.7 638.229,1099.56 650.273,1120.42 674.361,1120.42 686.405,1099.56 \n",
       "  \"/>\n",
       "<path clip-path=\"url(#clip032)\" d=\"\n",
       "M1097.07 1303.35 L1085.03 1282.49 L1060.94 1282.49 L1048.89 1303.35 L1060.94 1324.21 L1085.03 1324.21 L1097.07 1303.35 L1097.07 1303.35  Z\n",
       "  \" fill=\"#009af9\" fill-rule=\"evenodd\" fill-opacity=\"1\"/>\n",
       "<polyline clip-path=\"url(#clip032)\" style=\"stroke:#000000; stroke-linecap:round; stroke-linejoin:round; stroke-width:4; stroke-opacity:1; fill:none\" points=\"\n",
       "  1097.07,1303.35 1085.03,1282.49 1060.94,1282.49 1048.89,1303.35 1060.94,1324.21 1085.03,1324.21 1097.07,1303.35 \n",
       "  \"/>\n",
       "<path clip-path=\"url(#clip032)\" d=\"\n",
       "M1565.16 1337.68 L1553.12 1316.82 L1529.03 1316.82 L1516.98 1337.68 L1529.03 1358.54 L1553.12 1358.54 L1565.16 1337.68 L1565.16 1337.68  Z\n",
       "  \" fill=\"#009af9\" fill-rule=\"evenodd\" fill-opacity=\"1\"/>\n",
       "<polyline clip-path=\"url(#clip032)\" style=\"stroke:#000000; stroke-linecap:round; stroke-linejoin:round; stroke-width:4; stroke-opacity:1; fill:none\" points=\"\n",
       "  1565.16,1337.68 1553.12,1316.82 1529.03,1316.82 1516.98,1337.68 1529.03,1358.54 1553.12,1358.54 1565.16,1337.68 \n",
       "  \"/>\n",
       "<path clip-path=\"url(#clip032)\" d=\"\n",
       "M1761.77 690.279 L1749.73 669.418 L1725.64 669.418 L1713.59 690.279 L1725.64 711.14 L1749.73 711.14 L1761.77 690.279 L1761.77 690.279  Z\n",
       "  \" fill=\"#009af9\" fill-rule=\"evenodd\" fill-opacity=\"1\"/>\n",
       "<polyline clip-path=\"url(#clip032)\" style=\"stroke:#000000; stroke-linecap:round; stroke-linejoin:round; stroke-width:4; stroke-opacity:1; fill:none\" points=\"\n",
       "  1761.77,690.279 1749.73,669.418 1725.64,669.418 1713.59,690.279 1725.64,711.14 1749.73,711.14 1761.77,690.279 \n",
       "  \"/>\n",
       "<path clip-path=\"url(#clip032)\" d=\"\n",
       "M1381.81 262.317 L1369.77 241.456 L1345.68 241.456 L1333.64 262.317 L1345.68 283.178 L1369.77 283.178 L1381.81 262.317 L1381.81 262.317  Z\n",
       "  \" fill=\"#009af9\" fill-rule=\"evenodd\" fill-opacity=\"1\"/>\n",
       "<polyline clip-path=\"url(#clip032)\" style=\"stroke:#000000; stroke-linecap:round; stroke-linejoin:round; stroke-width:4; stroke-opacity:1; fill:none\" points=\"\n",
       "  1381.81,262.317 1369.77,241.456 1345.68,241.456 1333.64,262.317 1345.68,283.178 1369.77,283.178 1381.81,262.317 \n",
       "  \"/>\n",
       "<path clip-path=\"url(#clip032)\" d=\"M957.676 627.46 L957.33 627.26 L957.33 626.86 L957.676 626.66 L958.023 626.86 L958.023 627.26 Z\" fill=\"#009af9\" fill-rule=\"evenodd\" fill-opacity=\"1\" stroke=\"#000000\" stroke-opacity=\"1\" stroke-width=\"3.2\"/>\n",
       "<path clip-path=\"url(#clip032)\" d=\"M662.317 1099.96 L661.971 1099.76 L661.971 1099.36 L662.317 1099.16 L662.664 1099.36 L662.664 1099.76 Z\" fill=\"#009af9\" fill-rule=\"evenodd\" fill-opacity=\"1\" stroke=\"#000000\" stroke-opacity=\"1\" stroke-width=\"3.2\"/>\n",
       "<path clip-path=\"url(#clip032)\" d=\"M1072.98 1303.75 L1072.64 1303.55 L1072.64 1303.15 L1072.98 1302.95 L1073.33 1303.15 L1073.33 1303.55 Z\" fill=\"#009af9\" fill-rule=\"evenodd\" fill-opacity=\"1\" stroke=\"#000000\" stroke-opacity=\"1\" stroke-width=\"3.2\"/>\n",
       "<path clip-path=\"url(#clip032)\" d=\"M1541.07 1338.08 L1540.73 1337.88 L1540.73 1337.48 L1541.07 1337.28 L1541.42 1337.48 L1541.42 1337.88 Z\" fill=\"#009af9\" fill-rule=\"evenodd\" fill-opacity=\"1\" stroke=\"#000000\" stroke-opacity=\"1\" stroke-width=\"3.2\"/>\n",
       "<path clip-path=\"url(#clip032)\" d=\"M1737.68 690.679 L1737.34 690.479 L1737.34 690.079 L1737.68 689.879 L1738.03 690.079 L1738.03 690.479 Z\" fill=\"#009af9\" fill-rule=\"evenodd\" fill-opacity=\"1\" stroke=\"#000000\" stroke-opacity=\"1\" stroke-width=\"3.2\"/>\n",
       "<path clip-path=\"url(#clip032)\" d=\"M1357.73 262.717 L1357.38 262.517 L1357.38 262.117 L1357.73 261.917 L1358.07 262.117 L1358.07 262.517 Z\" fill=\"#009af9\" fill-rule=\"evenodd\" fill-opacity=\"1\" stroke=\"#000000\" stroke-opacity=\"1\" stroke-width=\"3.2\"/>\n",
       "<path clip-path=\"url(#clip030)\" d=\"M813.714 862.126 Q816.65 862.754 818.291 864.739 Q819.952 866.724 819.952 869.641 Q819.952 874.117 816.873 876.568 Q813.795 879.019 808.123 879.019 Q806.219 879.019 804.194 878.634 Q802.189 878.269 800.042 877.52 L800.042 873.57 Q801.743 874.563 803.769 875.069 Q805.794 875.575 808.002 875.575 Q811.85 875.575 813.855 874.056 Q815.881 872.537 815.881 869.641 Q815.881 866.967 813.997 865.468 Q812.134 863.949 808.792 863.949 L805.267 863.949 L805.267 860.587 L808.954 860.587 Q811.972 860.587 813.572 859.392 Q815.172 858.177 815.172 855.908 Q815.172 853.579 813.511 852.344 Q811.87 851.088 808.792 851.088 Q807.111 851.088 805.186 851.452 Q803.262 851.817 800.953 852.587 L800.953 848.941 Q803.282 848.293 805.308 847.969 Q807.354 847.644 809.156 847.644 Q813.815 847.644 816.529 849.771 Q819.243 851.878 819.243 855.483 Q819.243 857.995 817.805 859.736 Q816.367 861.458 813.714 862.126 Z\" fill=\"#000000\" fill-rule=\"evenodd\" fill-opacity=\"1\" /><path clip-path=\"url(#clip030)\" d=\"M1005.61 950.086 L1025.05 950.086 L1025.05 951.828 L1014.07 980.326 L1009.8 980.326 L1020.13 953.53 L1005.61 953.53 L1005.61 950.086 Z\" fill=\"#000000\" fill-rule=\"evenodd\" fill-opacity=\"1\" /><path clip-path=\"url(#clip030)\" d=\"M859.143 1186.34 L875.205 1186.34 L875.205 1189.78 L862.89 1189.78 L862.89 1197.19 Q863.781 1196.89 864.672 1196.75 Q865.563 1196.59 866.455 1196.59 Q871.518 1196.59 874.475 1199.36 Q877.433 1202.14 877.433 1206.88 Q877.433 1211.76 874.394 1214.47 Q871.356 1217.16 865.827 1217.16 Q863.923 1217.16 861.938 1216.84 Q859.973 1216.52 857.867 1215.87 L857.867 1211.76 Q859.69 1212.75 861.634 1213.24 Q863.578 1213.72 865.746 1213.72 Q869.25 1213.72 871.295 1211.88 Q873.341 1210.04 873.341 1206.88 Q873.341 1203.72 871.295 1201.87 Q869.25 1200.03 865.746 1200.03 Q864.105 1200.03 862.464 1200.39 Q860.844 1200.76 859.143 1201.53 L859.143 1186.34 Z\" fill=\"#000000\" fill-rule=\"evenodd\" fill-opacity=\"1\" /><path clip-path=\"url(#clip030)\" d=\"M1297.3 1305.4 L1316.75 1305.4 L1316.75 1307.14 L1305.77 1335.64 L1301.5 1335.64 L1311.83 1308.84 L1297.3 1308.84 L1297.3 1305.4 Z\" fill=\"#000000\" fill-rule=\"evenodd\" fill-opacity=\"1\" /><path clip-path=\"url(#clip030)\" d=\"M1629.66 998.861 L1649.1 998.861 L1649.1 1000.6 L1638.12 1029.1 L1633.85 1029.1 L1644.18 1002.3 L1629.66 1002.3 L1629.66 998.861 Z\" fill=\"#000000\" fill-rule=\"evenodd\" fill-opacity=\"1\" /><path clip-path=\"url(#clip030)\" d=\"M1537.98 461.178 L1557.43 461.178 L1557.43 462.92 L1546.45 491.418 L1542.17 491.418 L1552.5 464.622 L1537.98 464.622 L1537.98 461.178 Z\" fill=\"#000000\" fill-rule=\"evenodd\" fill-opacity=\"1\" /><path clip-path=\"url(#clip030)\" d=\"M957.676 615.971 L952.127 631.02 L963.246 631.02 L957.676 615.971 M955.367 611.94 L960.006 611.94 L971.53 642.18 L967.277 642.18 L964.522 634.423 L950.891 634.423 L948.137 642.18 L943.822 642.18 L955.367 611.94 Z\" fill=\"#000000\" fill-rule=\"evenodd\" fill-opacity=\"1\" /><path clip-path=\"url(#clip030)\" d=\"M655.684 1100.24 L655.684 1111.32 L662.246 1111.32 Q665.548 1111.32 667.128 1109.96 Q668.728 1108.59 668.728 1105.77 Q668.728 1102.93 667.128 1101.6 Q665.548 1100.24 662.246 1100.24 L655.684 1100.24 M655.684 1087.8 L655.684 1096.92 L661.74 1096.92 Q664.738 1096.92 666.196 1095.81 Q667.675 1094.67 667.675 1092.36 Q667.675 1090.07 666.196 1088.94 Q664.738 1087.8 661.74 1087.8 L655.684 1087.8 M651.592 1084.44 L662.044 1084.44 Q666.723 1084.44 669.254 1086.39 Q671.786 1088.33 671.786 1091.92 Q671.786 1094.69 670.49 1096.33 Q669.194 1097.97 666.682 1098.38 Q669.7 1099.03 671.361 1101.09 Q673.042 1103.14 673.042 1106.22 Q673.042 1110.27 670.287 1112.47 Q667.533 1114.68 662.449 1114.68 L651.592 1114.68 L651.592 1084.44 Z\" fill=\"#000000\" fill-rule=\"evenodd\" fill-opacity=\"1\" /><path clip-path=\"url(#clip030)\" d=\"M1085.18 1290.56 L1085.18 1294.88 Q1083.11 1292.95 1080.76 1292 Q1078.43 1291.05 1075.8 1291.05 Q1070.61 1291.05 1067.86 1294.23 Q1065.1 1297.39 1065.1 1303.38 Q1065.1 1309.36 1067.86 1312.54 Q1070.61 1315.7 1075.8 1315.7 Q1078.43 1315.7 1080.76 1314.75 Q1083.11 1313.79 1085.18 1311.87 L1085.18 1316.14 Q1083.03 1317.6 1080.62 1318.33 Q1078.23 1319.06 1075.55 1319.06 Q1068.69 1319.06 1064.74 1314.87 Q1060.79 1310.65 1060.79 1303.38 Q1060.79 1296.09 1064.74 1291.9 Q1068.69 1287.69 1075.55 1287.69 Q1078.27 1287.69 1080.66 1288.41 Q1083.07 1289.12 1085.18 1290.56 Z\" fill=\"#000000\" fill-rule=\"evenodd\" fill-opacity=\"1\" /><path clip-path=\"url(#clip030)\" d=\"M1532.45 1325.93 L1532.45 1349.44 L1537.4 1349.44 Q1543.65 1349.44 1546.55 1346.6 Q1549.47 1343.77 1549.47 1337.65 Q1549.47 1331.58 1546.55 1328.76 Q1543.65 1325.93 1537.4 1325.93 L1532.45 1325.93 M1528.36 1322.56 L1536.77 1322.56 Q1545.56 1322.56 1549.67 1326.23 Q1553.78 1329.87 1553.78 1337.65 Q1553.78 1345.47 1549.65 1349.14 Q1545.52 1352.8 1536.77 1352.8 L1528.36 1352.8 L1528.36 1322.56 Z\" fill=\"#000000\" fill-rule=\"evenodd\" fill-opacity=\"1\" /><path clip-path=\"url(#clip030)\" d=\"M1727.94 675.159 L1747.06 675.159 L1747.06 678.603 L1732.03 678.603 L1732.03 687.555 L1746.43 687.555 L1746.43 690.998 L1732.03 690.998 L1732.03 701.956 L1747.43 701.956 L1747.43 705.399 L1727.94 705.399 L1727.94 675.159 Z\" fill=\"#000000\" fill-rule=\"evenodd\" fill-opacity=\"1\" /><path clip-path=\"url(#clip030)\" d=\"M1349.04 247.197 L1366.41 247.197 L1366.41 250.64 L1353.13 250.64 L1353.13 259.552 L1365.12 259.552 L1365.12 262.996 L1353.13 262.996 L1353.13 277.437 L1349.04 277.437 L1349.04 247.197 Z\" fill=\"#000000\" fill-rule=\"evenodd\" fill-opacity=\"1\" /></svg>\n"
      ]
     },
     "execution_count": 20,
     "metadata": {},
     "output_type": "execute_result"
    }
   ],
   "source": [
    "graphplot(g2.graph, names=[\"A\",\"B\",\"C\",\"D\",\"E\",\"F\"], edgelabel = Dict((1,2)=>3,(2,3)=>5,(1,3) => 7,(3,4) => 7,(4,5) => 7,(5,6) => 7,(6,1) => 5),curves=false)"
   ]
  },
  {
   "cell_type": "code",
   "execution_count": 21,
   "id": "118a6728-ef1c-4ee6-bb2f-7a4f6f76796d",
   "metadata": {},
   "outputs": [
    {
     "data": {
      "text/plain": [
       "3-element Vector{Main.WeightedGraphs.Edge}:\n",
       " (:A, :B, 3)\n",
       " (:B, :C, 5)\n",
       " (:C, :A, 7)"
      ]
     },
     "execution_count": 21,
     "metadata": {},
     "output_type": "execute_result"
    }
   ],
   "source": [
    "g.edges"
   ]
  },
  {
   "cell_type": "code",
   "execution_count": 22,
   "id": "9be14e6e-5149-4efd-b653-574282fe12e8",
   "metadata": {},
   "outputs": [
    {
     "data": {
      "text/plain": [
       "7-element Vector{Main.WeightedGraphs.Edge}:\n",
       " (:A, :B, 3)\n",
       " (:B, :C, 5)\n",
       " (:C, :A, 7)\n",
       " (:C, :D, 7)\n",
       " (:D, :E, 7)\n",
       " (:E, :F, 7)\n",
       " (:F, :A, 5)"
      ]
     },
     "execution_count": 22,
     "metadata": {},
     "output_type": "execute_result"
    }
   ],
   "source": [
    "g2.edges"
   ]
  },
  {
   "cell_type": "code",
   "execution_count": 23,
   "id": "2092fbf3-3078-4c11-905d-f2fdcb0b5a51",
   "metadata": {},
   "outputs": [
    {
     "data": {
      "text/plain": [
       "6-element Vector{Vertex}:\n",
       " A\n",
       " B\n",
       " C\n",
       " D\n",
       " C\n",
       " A"
      ]
     },
     "execution_count": 23,
     "metadata": {},
     "output_type": "execute_result"
    }
   ],
   "source": [
    "p2 = [Vertex(:A), Vertex(:B), Vertex(:C), Vertex(:D), Vertex(:C), Vertex(:A)]"
   ]
  },
  {
   "cell_type": "code",
   "execution_count": 24,
   "id": "6176907b-d502-437d-aff1-44820c9aeb28",
   "metadata": {},
   "outputs": [
    {
     "ename": "LoadError",
     "evalue": "ArgumentError: Two of the vertices in the path do not share an edge on the the graph",
     "output_type": "error",
     "traceback": [
      "ArgumentError: Two of the vertices in the path do not share an edge on the the graph",
      "",
      "Stacktrace:",
      " [1] Path(p::Vector{Vertex}, g::WeightedGraph)",
      "   @ Main.WeightedGraphs C:\\Users\\Camer\\Documents\\My-Repositories\\Sci-Comp-ShortestPath\\WeightedGraphs.jl:88",
      " [2] top-level scope",
      "   @ In[24]:1",
      " [3] eval",
      "   @ .\\boot.jl:368 [inlined]",
      " [4] include_string(mapexpr::typeof(REPL.softscope), mod::Module, code::String, filename::String)",
      "   @ Base .\\loading.jl:1428"
     ]
    }
   ],
   "source": [
    "d2 = Path(p2,g2)"
   ]
  },
  {
   "cell_type": "code",
   "execution_count": 25,
   "id": "4c1c22d4-097c-49f0-b3b6-9a88b33bcb8b",
   "metadata": {},
   "outputs": [
    {
     "ename": "LoadError",
     "evalue": "UndefVarError: d2 not defined",
     "output_type": "error",
     "traceback": [
      "UndefVarError: d2 not defined",
      "",
      "Stacktrace:",
      " [1] top-level scope",
      "   @ In[25]:1",
      " [2] eval",
      "   @ .\\boot.jl:368 [inlined]",
      " [3] include_string(mapexpr::typeof(REPL.softscope), mod::Module, code::String, filename::String)",
      "   @ Base .\\loading.jl:1428"
     ]
    }
   ],
   "source": [
    "distance(d2)"
   ]
  },
  {
   "cell_type": "code",
   "execution_count": 26,
   "id": "7ce4cc96-0c01-4dc9-8bf5-7553eeee85bf",
   "metadata": {},
   "outputs": [
    {
     "data": {
      "text/plain": [
       "4-element Vector{Vertex}:\n",
       " A\n",
       " D\n",
       " E\n",
       " F"
      ]
     },
     "execution_count": 26,
     "metadata": {},
     "output_type": "execute_result"
    }
   ],
   "source": [
    "p3 = [v1,v4,v5,v6]"
   ]
  },
  {
   "cell_type": "code",
   "execution_count": 27,
   "id": "8436352e-6ec1-432f-aef1-9be9e1c37f5f",
   "metadata": {},
   "outputs": [
    {
     "ename": "LoadError",
     "evalue": "ArgumentError: Two of the vertices in the path do not share an edge on the the graph",
     "output_type": "error",
     "traceback": [
      "ArgumentError: Two of the vertices in the path do not share an edge on the the graph",
      "",
      "Stacktrace:",
      " [1] Path(p::Vector{Vertex}, g::WeightedGraph)",
      "   @ Main.WeightedGraphs C:\\Users\\Camer\\Documents\\My-Repositories\\Sci-Comp-ShortestPath\\WeightedGraphs.jl:88",
      " [2] top-level scope",
      "   @ In[27]:1",
      " [3] eval",
      "   @ .\\boot.jl:368 [inlined]",
      " [4] include_string(mapexpr::typeof(REPL.softscope), mod::Module, code::String, filename::String)",
      "   @ Base .\\loading.jl:1428"
     ]
    }
   ],
   "source": [
    "d3 = Path(p3,g2)"
   ]
  },
  {
   "cell_type": "code",
   "execution_count": 28,
   "id": "f9da6fb0-39a9-497d-919f-3a0bdbcef463",
   "metadata": {},
   "outputs": [
    {
     "ename": "LoadError",
     "evalue": "ArgumentError: Two of the vertices in the path do not share an edge on the the graph",
     "output_type": "error",
     "traceback": [
      "ArgumentError: Two of the vertices in the path do not share an edge on the the graph",
      "",
      "Stacktrace:",
      " [1] Path(p::Vector{Vertex}, g::WeightedGraph)",
      "   @ Main.WeightedGraphs C:\\Users\\Camer\\Documents\\My-Repositories\\Sci-Comp-ShortestPath\\WeightedGraphs.jl:88",
      " [2] top-level scope",
      "   @ In[28]:1",
      " [3] eval",
      "   @ .\\boot.jl:368 [inlined]",
      " [4] include_string(mapexpr::typeof(REPL.softscope), mod::Module, code::String, filename::String)",
      "   @ Base .\\loading.jl:1428"
     ]
    }
   ],
   "source": [
    "distance(Path(p3,g2))"
   ]
  },
  {
   "cell_type": "code",
   "execution_count": 29,
   "id": "6cf093ab-4b6a-4237-8d3e-e6720b24fced",
   "metadata": {},
   "outputs": [
    {
     "data": {
      "text/plain": [
       "5-element Vector{Vertex}:\n",
       " B\n",
       " A\n",
       " C\n",
       " A\n",
       " B"
      ]
     },
     "execution_count": 29,
     "metadata": {},
     "output_type": "execute_result"
    }
   ],
   "source": [
    "p4 = [v2,v1,v3,v1,v2]"
   ]
  },
  {
   "cell_type": "code",
   "execution_count": 30,
   "id": "fe0724a7-fc77-4e1a-8b4d-2ce6c8f25185",
   "metadata": {},
   "outputs": [
    {
     "ename": "LoadError",
     "evalue": "BoundsError: attempt to access 3-element Vector{Main.WeightedGraphs.Edge} at index [4]",
     "output_type": "error",
     "traceback": [
      "BoundsError: attempt to access 3-element Vector{Main.WeightedGraphs.Edge} at index [4]",
      "",
      "Stacktrace:",
      " [1] getindex",
      "   @ .\\array.jl:924 [inlined]",
      " [2] doPathVerticesHaveEdgesOnGraph",
      "   @ C:\\Users\\Camer\\Documents\\My-Repositories\\Sci-Comp-ShortestPath\\WeightedGraphs.jl:136 [inlined]",
      " [3] Path(p::Vector{Vertex}, g::WeightedGraph)",
      "   @ Main.WeightedGraphs C:\\Users\\Camer\\Documents\\My-Repositories\\Sci-Comp-ShortestPath\\WeightedGraphs.jl:88",
      " [4] top-level scope",
      "   @ In[30]:1",
      " [5] eval",
      "   @ .\\boot.jl:368 [inlined]",
      " [6] include_string(mapexpr::typeof(REPL.softscope), mod::Module, code::String, filename::String)",
      "   @ Base .\\loading.jl:1428"
     ]
    }
   ],
   "source": [
    "d4 = Path(p4,g)"
   ]
  },
  {
   "cell_type": "code",
   "execution_count": 31,
   "id": "60c7b332-823c-4f6d-8e36-e03a25e8e610",
   "metadata": {},
   "outputs": [
    {
     "ename": "LoadError",
     "evalue": "UndefVarError: d4 not defined",
     "output_type": "error",
     "traceback": [
      "UndefVarError: d4 not defined",
      "",
      "Stacktrace:",
      " [1] top-level scope",
      "   @ In[31]:1",
      " [2] eval",
      "   @ .\\boot.jl:368 [inlined]",
      " [3] include_string(mapexpr::typeof(REPL.softscope), mod::Module, code::String, filename::String)",
      "   @ Base .\\loading.jl:1428"
     ]
    }
   ],
   "source": [
    "distance(d4)"
   ]
  },
  {
   "cell_type": "code",
   "execution_count": 32,
   "id": "a37800e6-eb28-4b97-8126-22efb4645b36",
   "metadata": {},
   "outputs": [
    {
     "data": {
      "text/plain": [
       "Vertex[A, B, C]Main.WeightedGraphs.Edge[(:A, :B, 3), (:B, :C, 5), (:C, :A, 7)]"
      ]
     },
     "execution_count": 32,
     "metadata": {},
     "output_type": "execute_result"
    }
   ],
   "source": [
    "g"
   ]
  }
 ],
 "metadata": {
  "kernelspec": {
   "display_name": "Julia 1.8.0",
   "language": "julia",
   "name": "julia-1.8"
  },
  "language_info": {
   "file_extension": ".jl",
   "mimetype": "application/julia",
   "name": "julia",
   "version": "1.8.0"
  }
 },
 "nbformat": 4,
 "nbformat_minor": 5
}
