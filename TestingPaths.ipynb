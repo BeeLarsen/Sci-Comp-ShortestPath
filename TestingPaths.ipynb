{
 "cells": [
  {
   "cell_type": "code",
   "execution_count": 1,
   "id": "c42c3530-d183-49a1-8936-a59aa7031df7",
   "metadata": {},
   "outputs": [],
   "source": [
    "using Revise\n",
    "includet(\"../Sci-Comp-ShortestPath/WeightedGraphs.jl\")\n",
    "using .WeightedGraphs"
   ]
  },
  {
   "cell_type": "code",
   "execution_count": 2,
   "id": "05d77c30-96f0-41c9-bcee-dd3bd1826631",
   "metadata": {},
   "outputs": [],
   "source": [
    "using Graphs, Plots, GraphRecipes"
   ]
  },
  {
   "cell_type": "code",
   "execution_count": 3,
   "id": "b7d0f1da-d673-44ad-9ac5-f454c2131101",
   "metadata": {},
   "outputs": [
    {
     "data": {
      "text/plain": [
       "()"
      ]
     },
     "execution_count": 3,
     "metadata": {},
     "output_type": "execute_result"
    }
   ],
   "source": [
    "v1 = Vertex(:A)\n",
    "v2 = Vertex(:B)\n",
    "v3 = Vertex(:C)\n",
    "v4 = Vertex(:D)\n",
    "v5 = Vertex(:E)\n",
    "v6 = Vertex(:F)\n",
    "e1 = WeightedGraphs.Edge(:A,:B,3)\n",
    "e2 = WeightedGraphs.Edge(:B,:C,5)\n",
    "e3 = WeightedGraphs.Edge(:C,:A,7)\n",
    "e4 = WeightedGraphs.Edge(:C,:D,7)\n",
    "e5 = WeightedGraphs.Edge(:D,:E,7)\n",
    "e6 = WeightedGraphs.Edge(:E,:F,7)\n",
    "e7 = WeightedGraphs.Edge(:F,:A,5)\n",
    "g = WeightedGraph()\n",
    "g2 = WeightedGraph()"
   ]
  },
  {
   "cell_type": "code",
   "execution_count": 4,
   "id": "64ef69d7-e214-4c31-a6ab-d14bb8435f68",
   "metadata": {},
   "outputs": [],
   "source": [
    "addVertices!(g,v1,v2,v3)\n",
    "#addVertex!(g,v2)\n",
    "#addVertex!(g,v3)"
   ]
  },
  {
   "cell_type": "code",
   "execution_count": 5,
   "id": "02820158-4c89-45ca-8ef9-6f5579c4feb1",
   "metadata": {},
   "outputs": [],
   "source": [
    "addEdges!(g,e1,e2,e3)\n",
    "#addEdge!(g,e2)\n",
    "#addEdge!(g,e3)"
   ]
  },
  {
   "cell_type": "code",
   "execution_count": 6,
   "id": "b4e07cf5-3078-44ec-be69-d5bfbae16e6c",
   "metadata": {},
   "outputs": [],
   "source": [
    "addVertices!(g2,v1,v2,v3,v4,v5,v6)"
   ]
  },
  {
   "cell_type": "code",
   "execution_count": 7,
   "id": "ec37ea88-b893-40c6-b701-b89a3e54a031",
   "metadata": {},
   "outputs": [],
   "source": [
    "addEdges!(g2,e1,e2,e3,e4,e5,e6,e7)"
   ]
  },
  {
   "cell_type": "code",
   "execution_count": 8,
   "id": "6ecd56fd-dc01-4a60-b85d-f207c1d42d36",
   "metadata": {},
   "outputs": [
    {
     "data": {
      "image/svg+xml": [
       "<?xml version=\"1.0\" encoding=\"utf-8\"?>\n",
       "<svg xmlns=\"http://www.w3.org/2000/svg\" xmlns:xlink=\"http://www.w3.org/1999/xlink\" width=\"600\" height=\"400\" viewBox=\"0 0 2400 1600\">\n",
       "<defs>\n",
       "  <clipPath id=\"clip580\">\n",
       "    <rect x=\"0\" y=\"0\" width=\"2400\" height=\"1600\"/>\n",
       "  </clipPath>\n",
       "</defs>\n",
       "<path clip-path=\"url(#clip580)\" d=\"\n",
       "M0 1600 L2400 1600 L2400 0 L0 0  Z\n",
       "  \" fill=\"#ffffff\" fill-rule=\"evenodd\" fill-opacity=\"1\"/>\n",
       "<defs>\n",
       "  <clipPath id=\"clip581\">\n",
       "    <rect x=\"480\" y=\"0\" width=\"1681\" height=\"1600\"/>\n",
       "  </clipPath>\n",
       "</defs>\n",
       "<path clip-path=\"url(#clip580)\" d=\"\n",
       "M447.244 1552.76 L1952.76 1552.76 L1952.76 47.2441 L447.244 47.2441  Z\n",
       "  \" fill=\"#ffffff\" fill-rule=\"evenodd\" fill-opacity=\"1\"/>\n",
       "<defs>\n",
       "  <clipPath id=\"clip582\">\n",
       "    <rect x=\"447\" y=\"47\" width=\"1507\" height=\"1507\"/>\n",
       "  </clipPath>\n",
       "</defs>\n",
       "<polyline clip-path=\"url(#clip582)\" style=\"stroke:#000000; stroke-linecap:round; stroke-linejoin:round; stroke-width:4; stroke-opacity:1; fill:none\" points=\"\n",
       "  662.317,913.738 683.255,903.142 704.186,892.537 725.105,881.914 746.005,871.264 766.88,860.578 787.724,849.847 808.53,839.062 829.292,828.214 850.004,817.294 \n",
       "  870.659,806.294 891.251,795.203 911.775,784.013 932.223,772.715 952.59,761.301 972.868,749.76 993.053,738.085 1013.14,726.266 1033.11,714.293 1052.98,702.159 \n",
       "  1072.72,689.854 1092.34,677.369 1111.83,664.695 1131.18,651.823 1150.39,638.744 1169.44,625.45 1188.35,611.94 1207.11,598.223 1225.73,584.309 1244.22,570.205 \n",
       "  1262.59,555.922 1280.83,541.467 1298.96,526.851 1316.99,512.082 1334.92,497.169 1352.75,482.121 1370.49,466.947 1388.15,451.656 1405.74,436.257 1423.26,420.759 \n",
       "  1440.71,405.171 1458.11,389.502 1475.46,373.762 1492.77,357.958 1510.03,342.1 1527.27,326.198 1544.48,310.259 1561.67,294.293 1578.85,278.31 1596.02,262.317 \n",
       "  \n",
       "  \"/>\n",
       "<polyline clip-path=\"url(#clip582)\" style=\"stroke:#000000; stroke-linecap:round; stroke-linejoin:round; stroke-width:4; stroke-opacity:1; fill:none\" points=\"\n",
       "  662.317,913.738 683.057,925.451 703.8,937.153 724.552,948.835 745.316,960.487 766.095,972.098 786.895,983.657 807.719,995.156 828.572,1006.58 849.456,1017.93 \n",
       "  870.377,1029.18 891.337,1040.33 912.342,1051.37 933.396,1062.29 954.501,1073.07 975.663,1083.72 996.886,1094.2 1018.17,1104.53 1039.53,1114.68 1060.95,1124.65 \n",
       "  1082.46,1134.42 1104.04,1143.99 1125.71,1153.35 1147.47,1162.48 1169.32,1171.37 1191.27,1180.03 1213.31,1188.43 1235.44,1196.61 1257.67,1204.56 1279.97,1212.29 \n",
       "  1302.36,1219.82 1324.83,1227.16 1347.37,1234.31 1369.97,1241.29 1392.64,1248.1 1415.37,1254.76 1438.16,1261.28 1461,1267.67 1483.89,1273.94 1506.82,1280.09 \n",
       "  1529.79,1286.14 1552.8,1292.1 1575.84,1297.97 1598.91,1303.78 1622,1309.52 1645.11,1315.22 1668.24,1320.87 1691.38,1326.49 1714.53,1332.09 1737.68,1337.68 \n",
       "  \n",
       "  \"/>\n",
       "<polyline clip-path=\"url(#clip582)\" style=\"stroke:#000000; stroke-linecap:round; stroke-linejoin:round; stroke-width:4; stroke-opacity:1; fill:none\" points=\"\n",
       "  1596.02,262.317 1595.65,284.693 1595.29,307.068 1594.95,329.439 1594.65,351.807 1594.38,374.168 1594.18,396.523 1594.03,418.869 1593.97,441.204 1593.99,463.529 \n",
       "  1594.11,485.84 1594.33,508.137 1594.68,530.419 1595.16,552.683 1595.78,574.929 1596.55,597.154 1597.48,619.358 1598.59,641.539 1599.88,663.696 1601.37,685.827 \n",
       "  1603.07,707.931 1604.98,730.006 1607.12,752.051 1609.5,774.064 1612.13,796.045 1615.02,817.991 1618.17,839.903 1621.58,861.782 1625.22,883.63 1629.09,905.447 \n",
       "  1633.17,927.236 1637.47,948.997 1641.96,970.733 1646.63,992.444 1651.48,1014.13 1656.49,1035.8 1661.65,1057.45 1666.96,1079.07 1672.39,1100.69 1677.95,1122.28 \n",
       "  1683.61,1143.86 1689.37,1165.43 1695.22,1186.99 1701.15,1208.53 1707.14,1230.07 1713.18,1251.6 1719.27,1273.13 1725.39,1294.65 1731.53,1316.17 1737.68,1337.68 \n",
       "  \n",
       "  \"/>\n",
       "<path clip-path=\"url(#clip582)\" d=\"\n",
       "M1137.35 668.257 L1182.52 668.257 L1182.52 595.992 L1137.35 595.992 L1137.35 668.257 L1137.35 668.257  Z\n",
       "  \" fill=\"#ffffff\" fill-rule=\"evenodd\" fill-opacity=\"1\"/>\n",
       "<polyline clip-path=\"url(#clip582)\" style=\"stroke:#000000; stroke-linecap:round; stroke-linejoin:round; stroke-width:0; stroke-opacity:0; fill:none\" points=\"\n",
       "  1137.35,668.257 1182.52,668.257 1182.52,595.992 1137.35,595.992 1137.35,668.257 \n",
       "  \"/>\n",
       "<path clip-path=\"url(#clip582)\" d=\"\n",
       "M1157.7 1211.86 L1202.86 1211.86 L1202.86 1139.6 L1157.7 1139.6 L1157.7 1211.86 L1157.7 1211.86  Z\n",
       "  \" fill=\"#ffffff\" fill-rule=\"evenodd\" fill-opacity=\"1\"/>\n",
       "<polyline clip-path=\"url(#clip582)\" style=\"stroke:#000000; stroke-linecap:round; stroke-linejoin:round; stroke-width:0; stroke-opacity:0; fill:none\" points=\"\n",
       "  1157.7,1211.86 1202.86,1211.86 1202.86,1139.6 1157.7,1139.6 1157.7,1211.86 \n",
       "  \"/>\n",
       "<path clip-path=\"url(#clip582)\" d=\"\n",
       "M1590.96 843.155 L1636.13 843.155 L1636.13 770.89 L1590.96 770.89 L1590.96 843.155 L1590.96 843.155  Z\n",
       "  \" fill=\"#ffffff\" fill-rule=\"evenodd\" fill-opacity=\"1\"/>\n",
       "<polyline clip-path=\"url(#clip582)\" style=\"stroke:#000000; stroke-linecap:round; stroke-linejoin:round; stroke-width:0; stroke-opacity:0; fill:none\" points=\"\n",
       "  1590.96,843.155 1636.13,843.155 1636.13,770.89 1590.96,770.89 1590.96,843.155 \n",
       "  \"/>\n",
       "<path clip-path=\"url(#clip582)\" d=\"\n",
       "M701.461 913.738 L681.889 879.839 L642.746 879.839 L623.174 913.738 L642.746 947.637 L681.889 947.637 L701.461 913.738 L701.461 913.738  Z\n",
       "  \" fill=\"#009af9\" fill-rule=\"evenodd\" fill-opacity=\"1\"/>\n",
       "<polyline clip-path=\"url(#clip582)\" style=\"stroke:#000000; stroke-linecap:round; stroke-linejoin:round; stroke-width:4; stroke-opacity:1; fill:none\" points=\"\n",
       "  701.461,913.738 681.889,879.839 642.746,879.839 623.174,913.738 642.746,947.637 681.889,947.637 701.461,913.738 \n",
       "  \"/>\n",
       "<path clip-path=\"url(#clip582)\" d=\"\n",
       "M1635.16 262.317 L1615.59 228.418 L1576.45 228.418 L1556.88 262.317 L1576.45 296.216 L1615.59 296.216 L1635.16 262.317 L1635.16 262.317  Z\n",
       "  \" fill=\"#009af9\" fill-rule=\"evenodd\" fill-opacity=\"1\"/>\n",
       "<polyline clip-path=\"url(#clip582)\" style=\"stroke:#000000; stroke-linecap:round; stroke-linejoin:round; stroke-width:4; stroke-opacity:1; fill:none\" points=\"\n",
       "  1635.16,262.317 1615.59,228.418 1576.45,228.418 1556.88,262.317 1576.45,296.216 1615.59,296.216 1635.16,262.317 \n",
       "  \"/>\n",
       "<path clip-path=\"url(#clip582)\" d=\"\n",
       "M1776.83 1337.68 L1757.25 1303.78 L1718.11 1303.78 L1698.54 1337.68 L1718.11 1371.58 L1757.25 1371.58 L1776.83 1337.68 L1776.83 1337.68  Z\n",
       "  \" fill=\"#009af9\" fill-rule=\"evenodd\" fill-opacity=\"1\"/>\n",
       "<polyline clip-path=\"url(#clip582)\" style=\"stroke:#000000; stroke-linecap:round; stroke-linejoin:round; stroke-width:4; stroke-opacity:1; fill:none\" points=\"\n",
       "  1776.83,1337.68 1757.25,1303.78 1718.11,1303.78 1698.54,1337.68 1718.11,1371.58 1757.25,1371.58 1776.83,1337.68 \n",
       "  \"/>\n",
       "<path clip-path=\"url(#clip582)\" d=\"M662.317 914.138 L661.971 913.938 L661.971 913.538 L662.317 913.338 L662.664 913.538 L662.664 913.938 Z\" fill=\"#009af9\" fill-rule=\"evenodd\" fill-opacity=\"1\" stroke=\"#000000\" stroke-opacity=\"1\" stroke-width=\"3.2\"/>\n",
       "<path clip-path=\"url(#clip582)\" d=\"M1596.02 262.717 L1595.67 262.517 L1595.67 262.117 L1596.02 261.917 L1596.37 262.117 L1596.37 262.517 Z\" fill=\"#009af9\" fill-rule=\"evenodd\" fill-opacity=\"1\" stroke=\"#000000\" stroke-opacity=\"1\" stroke-width=\"3.2\"/>\n",
       "<path clip-path=\"url(#clip582)\" d=\"M1737.68 1338.08 L1737.34 1337.88 L1737.34 1337.48 L1737.68 1337.28 L1738.03 1337.48 L1738.03 1337.88 Z\" fill=\"#009af9\" fill-rule=\"evenodd\" fill-opacity=\"1\" stroke=\"#000000\" stroke-opacity=\"1\" stroke-width=\"3.2\"/>\n",
       "<path clip-path=\"url(#clip580)\" d=\"M1163.65 630.939 Q1166.59 631.567 1168.23 633.552 Q1169.89 635.537 1169.89 638.454 Q1169.89 642.93 1166.81 645.381 Q1163.73 647.832 1158.06 647.832 Q1156.16 647.832 1154.13 647.447 Q1152.13 647.082 1149.98 646.333 L1149.98 642.383 Q1151.68 643.376 1153.71 643.882 Q1155.73 644.388 1157.94 644.388 Q1161.79 644.388 1163.79 642.869 Q1165.82 641.35 1165.82 638.454 Q1165.82 635.78 1163.93 634.281 Q1162.07 632.762 1158.73 632.762 L1155.2 632.762 L1155.2 629.4 L1158.89 629.4 Q1161.91 629.4 1163.51 628.205 Q1165.11 626.99 1165.11 624.721 Q1165.11 622.392 1163.45 621.156 Q1161.81 619.901 1158.73 619.901 Q1157.05 619.901 1155.12 620.265 Q1153.2 620.63 1150.89 621.4 L1150.89 617.754 Q1153.22 617.106 1155.25 616.782 Q1157.29 616.457 1159.09 616.457 Q1163.75 616.457 1166.47 618.584 Q1169.18 620.691 1169.18 624.296 Q1169.18 626.808 1167.74 628.549 Q1166.3 630.271 1163.65 630.939 Z\" fill=\"#000000\" fill-rule=\"evenodd\" fill-opacity=\"1\" /><path clip-path=\"url(#clip580)\" d=\"M1170.56 1160.61 L1190 1160.61 L1190 1162.35 L1179.02 1190.85 L1174.75 1190.85 L1185.08 1164.05 L1170.56 1164.05 L1170.56 1160.61 Z\" fill=\"#000000\" fill-rule=\"evenodd\" fill-opacity=\"1\" /><path clip-path=\"url(#clip580)\" d=\"M1605.04 791.902 L1621.1 791.902 L1621.1 795.346 L1608.78 795.346 L1608.78 802.759 Q1609.68 802.455 1610.57 802.313 Q1611.46 802.151 1612.35 802.151 Q1617.41 802.151 1620.37 804.926 Q1623.33 807.701 1623.33 812.44 Q1623.33 817.322 1620.29 820.036 Q1617.25 822.73 1611.72 822.73 Q1609.82 822.73 1607.83 822.406 Q1605.87 822.082 1603.76 821.434 L1603.76 817.322 Q1605.58 818.314 1607.53 818.8 Q1609.47 819.287 1611.64 819.287 Q1615.14 819.287 1617.19 817.443 Q1619.24 815.6 1619.24 812.44 Q1619.24 809.281 1617.19 807.438 Q1615.14 805.594 1611.64 805.594 Q1610 805.594 1608.36 805.959 Q1606.74 806.324 1605.04 807.093 L1605.04 791.902 Z\" fill=\"#000000\" fill-rule=\"evenodd\" fill-opacity=\"1\" /><path clip-path=\"url(#clip580)\" d=\"M662.317 902.648 L656.767 917.698 L667.887 917.698 L662.317 902.648 M660.008 898.618 L664.646 898.618 L676.171 928.858 L671.918 928.858 L669.163 921.1 L655.532 921.1 L652.777 928.858 L648.463 928.858 L660.008 898.618 Z\" fill=\"#000000\" fill-rule=\"evenodd\" fill-opacity=\"1\" /><path clip-path=\"url(#clip580)\" d=\"M1589.39 262.996 L1589.39 274.075 L1595.95 274.075 Q1599.25 274.075 1600.83 272.718 Q1602.43 271.341 1602.43 268.525 Q1602.43 265.69 1600.83 264.353 Q1599.25 262.996 1595.95 262.996 L1589.39 262.996 M1589.39 250.559 L1589.39 259.674 L1595.44 259.674 Q1598.44 259.674 1599.9 258.56 Q1601.38 257.426 1601.38 255.117 Q1601.38 252.828 1599.9 251.694 Q1598.44 250.559 1595.44 250.559 L1589.39 250.559 M1585.3 247.197 L1595.75 247.197 Q1600.43 247.197 1602.96 249.142 Q1605.49 251.086 1605.49 254.671 Q1605.49 257.446 1604.19 259.087 Q1602.9 260.727 1600.39 261.132 Q1603.4 261.78 1605.06 263.846 Q1606.75 265.892 1606.75 268.971 Q1606.75 273.022 1603.99 275.229 Q1601.24 277.437 1596.15 277.437 L1585.3 277.437 L1585.3 247.197 Z\" fill=\"#000000\" fill-rule=\"evenodd\" fill-opacity=\"1\" /><path clip-path=\"url(#clip580)\" d=\"M1749.88 1324.89 L1749.88 1329.21 Q1747.81 1327.28 1745.46 1326.33 Q1743.13 1325.38 1740.5 1325.38 Q1735.31 1325.38 1732.56 1328.56 Q1729.8 1331.72 1729.8 1337.71 Q1729.8 1343.69 1732.56 1346.87 Q1735.31 1350.03 1740.5 1350.03 Q1743.13 1350.03 1745.46 1349.08 Q1747.81 1348.12 1749.88 1346.2 L1749.88 1350.47 Q1747.73 1351.93 1745.32 1352.66 Q1742.93 1353.39 1740.26 1353.39 Q1733.39 1353.39 1729.44 1349.2 Q1725.49 1344.98 1725.49 1337.71 Q1725.49 1330.42 1729.44 1326.23 Q1733.39 1322.02 1740.26 1322.02 Q1742.97 1322.02 1745.36 1322.75 Q1747.77 1323.45 1749.88 1324.89 Z\" fill=\"#000000\" fill-rule=\"evenodd\" fill-opacity=\"1\" /></svg>\n"
      ]
     },
     "execution_count": 8,
     "metadata": {},
     "output_type": "execute_result"
    }
   ],
   "source": [
    "graphplot(g.graph, names=[\"A\",\"B\",\"C\"], edgelabel = Dict((1,2)=>3,(2,3)=>5,(1,3) => 7))"
   ]
  },
  {
   "cell_type": "code",
   "execution_count": 9,
   "id": "539a3dab-f59f-447f-bdbe-0ebc9acaa65d",
   "metadata": {},
   "outputs": [
    {
     "data": {
      "text/plain": [
       "()"
      ]
     },
     "execution_count": 9,
     "metadata": {},
     "output_type": "execute_result"
    }
   ],
   "source": [
    "g"
   ]
  },
  {
   "cell_type": "code",
   "execution_count": 10,
   "id": "0fa0033b-32ac-4bc2-a0b3-3f9a7947e75d",
   "metadata": {},
   "outputs": [
    {
     "data": {
      "text/plain": [
       "3-element Vector{Vertex}:\n",
       " Vertex(:A)\n",
       " Vertex(:B)\n",
       " Vertex(:C)"
      ]
     },
     "execution_count": 10,
     "metadata": {},
     "output_type": "execute_result"
    }
   ],
   "source": [
    "p = [Vertex(:A), Vertex(:B), Vertex(:C)]"
   ]
  },
  {
   "cell_type": "code",
   "execution_count": 11,
   "id": "9d9a3ae6-1792-4d6d-baa0-33cef4cca06f",
   "metadata": {},
   "outputs": [
    {
     "data": {
      "text/plain": [
       "3-element Vector{Any}:\n",
       " (Vertex(:A), Vertex(:B))\n",
       " (Vertex(:B), Vertex(:C))\n",
       " (Vertex(:C), Vertex(:A))"
      ]
     },
     "execution_count": 11,
     "metadata": {},
     "output_type": "execute_result"
    }
   ],
   "source": [
    "u = UnweightedEdges(g)"
   ]
  },
  {
   "cell_type": "code",
   "execution_count": 12,
   "id": "de1ed541-d86a-4b57-985a-140a241fe1a8",
   "metadata": {},
   "outputs": [
    {
     "data": {
      "text/plain": [
       "3-element Vector{Any}:\n",
       " (Vertex(:A), Vertex(:B))\n",
       " (Vertex(:B), Vertex(:C))\n",
       " (Vertex(:C), Vertex(:A))"
      ]
     },
     "execution_count": 12,
     "metadata": {},
     "output_type": "execute_result"
    }
   ],
   "source": [
    "u"
   ]
  },
  {
   "cell_type": "code",
   "execution_count": 13,
   "id": "e1dcd070-9574-4047-a518-69579721dcbb",
   "metadata": {},
   "outputs": [
    {
     "data": {
      "text/plain": [
       "true"
      ]
     },
     "execution_count": 13,
     "metadata": {},
     "output_type": "execute_result"
    }
   ],
   "source": [
    "for i in 2:length(p)\n",
    "    if (p[i-1],p[i]) in u\n",
    "      return true\n",
    "    else return false\n",
    "    end\n",
    "end"
   ]
  },
  {
   "cell_type": "code",
   "execution_count": 14,
   "id": "2fc18b24-bf04-494c-ae2a-d82afd7a90c6",
   "metadata": {},
   "outputs": [
    {
     "name": "stdout",
     "output_type": "stream",
     "text": [
      "if (p[i - 1], p[i]) in u\n",
      "    #= In[14]:3 =#\n",
      "end = nothing\n",
      "if (p[i - 1], p[i]) in u\n",
      "    #= In[14]:3 =#\n",
      "end = nothing\n"
     ]
    }
   ],
   "source": [
    "for i in 2:length(p)\n",
    "  @show if (p[i-1],p[i]) in u\n",
    "    end\n",
    "end"
   ]
  },
  {
   "cell_type": "code",
   "execution_count": 15,
   "id": "1d95e35a-537a-4e53-a80c-6c594e4232f2",
   "metadata": {},
   "outputs": [
    {
     "data": {
      "text/plain": [
       "2"
      ]
     },
     "execution_count": 15,
     "metadata": {},
     "output_type": "execute_result"
    }
   ],
   "source": [
    "x=0\n",
    "for i in 2:length(p)\n",
    "  if (p[i-1],p[i]) in u\n",
    "    x=x+1\n",
    "    end\n",
    "end\n",
    "x"
   ]
  },
  {
   "cell_type": "code",
   "execution_count": 16,
   "id": "b04b87f6-d529-459f-9332-887b3cf7f89d",
   "metadata": {},
   "outputs": [
    {
     "data": {
      "text/plain": [
       "true"
      ]
     },
     "execution_count": 16,
     "metadata": {},
     "output_type": "execute_result"
    }
   ],
   "source": [
    "arePathVerticesOnGraph(p,g)"
   ]
  },
  {
   "cell_type": "code",
   "execution_count": 17,
   "id": "750c6d93-c6cb-4fa2-9147-847d27cbfc31",
   "metadata": {},
   "outputs": [
    {
     "data": {
      "text/plain": [
       "true"
      ]
     },
     "execution_count": 17,
     "metadata": {},
     "output_type": "execute_result"
    }
   ],
   "source": [
    "doPathVerticesHaveEdgesOnGraph(p,g)"
   ]
  },
  {
   "cell_type": "code",
   "execution_count": 18,
   "id": "9d2a490e-52f3-41c5-bf30-1708b371deb8",
   "metadata": {},
   "outputs": [
    {
     "data": {
      "text/plain": [
       "Vertex[Vertex(:A), Vertex(:B), Vertex(:C)]"
      ]
     },
     "execution_count": 18,
     "metadata": {},
     "output_type": "execute_result"
    }
   ],
   "source": [
    "d1 = Path(p,g)"
   ]
  },
  {
   "cell_type": "code",
   "execution_count": 19,
   "id": "713f4f3d-59d1-489b-a641-0a488dc03e99",
   "metadata": {},
   "outputs": [
    {
     "data": {
      "text/plain": [
       "8"
      ]
     },
     "execution_count": 19,
     "metadata": {},
     "output_type": "execute_result"
    }
   ],
   "source": [
    "distance(d1)"
   ]
  },
  {
   "cell_type": "code",
   "execution_count": 20,
   "id": "3329f481-de65-4e96-a5a0-4c6c58814416",
   "metadata": {},
   "outputs": [
    {
     "data": {
      "image/svg+xml": [
       "<?xml version=\"1.0\" encoding=\"utf-8\"?>\n",
       "<svg xmlns=\"http://www.w3.org/2000/svg\" xmlns:xlink=\"http://www.w3.org/1999/xlink\" width=\"600\" height=\"400\" viewBox=\"0 0 2400 1600\">\n",
       "<defs>\n",
       "  <clipPath id=\"clip610\">\n",
       "    <rect x=\"0\" y=\"0\" width=\"2400\" height=\"1600\"/>\n",
       "  </clipPath>\n",
       "</defs>\n",
       "<path clip-path=\"url(#clip610)\" d=\"\n",
       "M0 1600 L2400 1600 L2400 0 L0 0  Z\n",
       "  \" fill=\"#ffffff\" fill-rule=\"evenodd\" fill-opacity=\"1\"/>\n",
       "<defs>\n",
       "  <clipPath id=\"clip611\">\n",
       "    <rect x=\"480\" y=\"0\" width=\"1681\" height=\"1600\"/>\n",
       "  </clipPath>\n",
       "</defs>\n",
       "<path clip-path=\"url(#clip610)\" d=\"\n",
       "M447.244 1552.76 L1952.76 1552.76 L1952.76 47.2441 L447.244 47.2441  Z\n",
       "  \" fill=\"#ffffff\" fill-rule=\"evenodd\" fill-opacity=\"1\"/>\n",
       "<defs>\n",
       "  <clipPath id=\"clip612\">\n",
       "    <rect x=\"447\" y=\"47\" width=\"1507\" height=\"1507\"/>\n",
       "  </clipPath>\n",
       "</defs>\n",
       "<polyline clip-path=\"url(#clip612)\" style=\"stroke:#000000; stroke-linecap:round; stroke-linejoin:round; stroke-width:4; stroke-opacity:1; fill:none\" points=\"\n",
       "  1021.29,1155.21 662.317,830.949 \n",
       "  \"/>\n",
       "<polyline clip-path=\"url(#clip612)\" style=\"stroke:#000000; stroke-linecap:round; stroke-linejoin:round; stroke-width:4; stroke-opacity:1; fill:none\" points=\"\n",
       "  1021.29,1155.21 1009.37,478.922 \n",
       "  \"/>\n",
       "<polyline clip-path=\"url(#clip612)\" style=\"stroke:#000000; stroke-linecap:round; stroke-linejoin:round; stroke-width:4; stroke-opacity:1; fill:none\" points=\"\n",
       "  1021.29,1155.21 1458.87,1337.68 \n",
       "  \"/>\n",
       "<polyline clip-path=\"url(#clip612)\" style=\"stroke:#000000; stroke-linecap:round; stroke-linejoin:round; stroke-width:4; stroke-opacity:1; fill:none\" points=\"\n",
       "  662.317,830.949 1009.37,478.922 \n",
       "  \"/>\n",
       "<polyline clip-path=\"url(#clip612)\" style=\"stroke:#000000; stroke-linecap:round; stroke-linejoin:round; stroke-width:4; stroke-opacity:1; fill:none\" points=\"\n",
       "  1009.37,478.922 1439.93,262.317 \n",
       "  \"/>\n",
       "<polyline clip-path=\"url(#clip612)\" style=\"stroke:#000000; stroke-linecap:round; stroke-linejoin:round; stroke-width:4; stroke-opacity:1; fill:none\" points=\"\n",
       "  1439.93,262.317 1737.68,788.664 \n",
       "  \"/>\n",
       "<polyline clip-path=\"url(#clip612)\" style=\"stroke:#000000; stroke-linecap:round; stroke-linejoin:round; stroke-width:4; stroke-opacity:1; fill:none\" points=\"\n",
       "  1737.68,788.664 1458.87,1337.68 \n",
       "  \"/>\n",
       "<path clip-path=\"url(#clip612)\" d=\"\n",
       "M819.219 1029.21 L864.384 1029.21 L864.384 956.949 L819.219 956.949 L819.219 1029.21 L819.219 1029.21  Z\n",
       "  \" fill=\"#ffffff\" fill-rule=\"evenodd\" fill-opacity=\"1\"/>\n",
       "<polyline clip-path=\"url(#clip612)\" style=\"stroke:#000000; stroke-linecap:round; stroke-linejoin:round; stroke-width:0; stroke-opacity:0; fill:none\" points=\"\n",
       "  819.219,1029.21 864.384,1029.21 864.384,956.949 819.219,956.949 819.219,1029.21 \n",
       "  \"/>\n",
       "<path clip-path=\"url(#clip612)\" d=\"\n",
       "M992.747 853.201 L1037.91 853.201 L1037.91 780.936 L992.747 780.936 L992.747 853.201 L992.747 853.201  Z\n",
       "  \" fill=\"#ffffff\" fill-rule=\"evenodd\" fill-opacity=\"1\"/>\n",
       "<polyline clip-path=\"url(#clip612)\" style=\"stroke:#000000; stroke-linecap:round; stroke-linejoin:round; stroke-width:0; stroke-opacity:0; fill:none\" points=\"\n",
       "  992.747,853.201 1037.91,853.201 1037.91,780.936 992.747,780.936 992.747,853.201 \n",
       "  \"/>\n",
       "<path clip-path=\"url(#clip612)\" d=\"\n",
       "M813.262 691.068 L858.428 691.068 L858.428 618.803 L813.262 618.803 L813.262 691.068 L813.262 691.068  Z\n",
       "  \" fill=\"#ffffff\" fill-rule=\"evenodd\" fill-opacity=\"1\"/>\n",
       "<polyline clip-path=\"url(#clip612)\" style=\"stroke:#000000; stroke-linecap:round; stroke-linejoin:round; stroke-width:0; stroke-opacity:0; fill:none\" points=\"\n",
       "  813.262,691.068 858.428,691.068 858.428,618.803 813.262,618.803 813.262,691.068 \n",
       "  \"/>\n",
       "<path clip-path=\"url(#clip612)\" d=\"\n",
       "M1202.07 406.752 L1247.23 406.752 L1247.23 334.487 L1202.07 334.487 L1202.07 406.752 L1202.07 406.752  Z\n",
       "  \" fill=\"#ffffff\" fill-rule=\"evenodd\" fill-opacity=\"1\"/>\n",
       "<polyline clip-path=\"url(#clip612)\" style=\"stroke:#000000; stroke-linecap:round; stroke-linejoin:round; stroke-width:0; stroke-opacity:0; fill:none\" points=\"\n",
       "  1202.07,406.752 1247.23,406.752 1247.23,334.487 1202.07,334.487 1202.07,406.752 \n",
       "  \"/>\n",
       "<path clip-path=\"url(#clip612)\" d=\"\n",
       "M1566.22 561.623 L1611.39 561.623 L1611.39 489.358 L1566.22 489.358 L1566.22 561.623 L1566.22 561.623  Z\n",
       "  \" fill=\"#ffffff\" fill-rule=\"evenodd\" fill-opacity=\"1\"/>\n",
       "<polyline clip-path=\"url(#clip612)\" style=\"stroke:#000000; stroke-linecap:round; stroke-linejoin:round; stroke-width:0; stroke-opacity:0; fill:none\" points=\"\n",
       "  1566.22,561.623 1611.39,561.623 1611.39,489.358 1566.22,489.358 1566.22,561.623 \n",
       "  \"/>\n",
       "<path clip-path=\"url(#clip612)\" d=\"\n",
       "M1575.69 1099.31 L1620.86 1099.31 L1620.86 1027.04 L1575.69 1027.04 L1575.69 1099.31 L1575.69 1099.31  Z\n",
       "  \" fill=\"#ffffff\" fill-rule=\"evenodd\" fill-opacity=\"1\"/>\n",
       "<polyline clip-path=\"url(#clip612)\" style=\"stroke:#000000; stroke-linecap:round; stroke-linejoin:round; stroke-width:0; stroke-opacity:0; fill:none\" points=\"\n",
       "  1575.69,1099.31 1620.86,1099.31 1620.86,1027.04 1575.69,1027.04 1575.69,1099.31 \n",
       "  \"/>\n",
       "<path clip-path=\"url(#clip612)\" d=\"\n",
       "M1045.37 1155.21 L1033.33 1134.35 L1009.24 1134.35 L997.197 1155.21 L1009.24 1176.08 L1033.33 1176.08 L1045.37 1155.21 L1045.37 1155.21  Z\n",
       "  \" fill=\"#009af9\" fill-rule=\"evenodd\" fill-opacity=\"1\"/>\n",
       "<polyline clip-path=\"url(#clip612)\" style=\"stroke:#000000; stroke-linecap:round; stroke-linejoin:round; stroke-width:4; stroke-opacity:1; fill:none\" points=\"\n",
       "  1045.37,1155.21 1033.33,1134.35 1009.24,1134.35 997.197,1155.21 1009.24,1176.08 1033.33,1176.08 1045.37,1155.21 \n",
       "  \"/>\n",
       "<path clip-path=\"url(#clip612)\" d=\"\n",
       "M686.405 830.949 L674.361 810.088 L650.273 810.088 L638.229 830.949 L650.273 851.81 L674.361 851.81 L686.405 830.949 L686.405 830.949  Z\n",
       "  \" fill=\"#009af9\" fill-rule=\"evenodd\" fill-opacity=\"1\"/>\n",
       "<polyline clip-path=\"url(#clip612)\" style=\"stroke:#000000; stroke-linecap:round; stroke-linejoin:round; stroke-width:4; stroke-opacity:1; fill:none\" points=\"\n",
       "  686.405,830.949 674.361,810.088 650.273,810.088 638.229,830.949 650.273,851.81 674.361,851.81 686.405,830.949 \n",
       "  \"/>\n",
       "<path clip-path=\"url(#clip612)\" d=\"\n",
       "M1033.46 478.922 L1021.42 458.061 L997.329 458.061 L985.285 478.922 L997.329 499.783 L1021.42 499.783 L1033.46 478.922 L1033.46 478.922  Z\n",
       "  \" fill=\"#009af9\" fill-rule=\"evenodd\" fill-opacity=\"1\"/>\n",
       "<polyline clip-path=\"url(#clip612)\" style=\"stroke:#000000; stroke-linecap:round; stroke-linejoin:round; stroke-width:4; stroke-opacity:1; fill:none\" points=\"\n",
       "  1033.46,478.922 1021.42,458.061 997.329,458.061 985.285,478.922 997.329,499.783 1021.42,499.783 1033.46,478.922 \n",
       "  \"/>\n",
       "<path clip-path=\"url(#clip612)\" d=\"\n",
       "M1464.02 262.317 L1451.97 241.456 L1427.88 241.456 L1415.84 262.317 L1427.88 283.178 L1451.97 283.178 L1464.02 262.317 L1464.02 262.317  Z\n",
       "  \" fill=\"#009af9\" fill-rule=\"evenodd\" fill-opacity=\"1\"/>\n",
       "<polyline clip-path=\"url(#clip612)\" style=\"stroke:#000000; stroke-linecap:round; stroke-linejoin:round; stroke-width:4; stroke-opacity:1; fill:none\" points=\"\n",
       "  1464.02,262.317 1451.97,241.456 1427.88,241.456 1415.84,262.317 1427.88,283.178 1451.97,283.178 1464.02,262.317 \n",
       "  \"/>\n",
       "<path clip-path=\"url(#clip612)\" d=\"\n",
       "M1761.77 788.664 L1749.73 767.803 L1725.64 767.803 L1713.59 788.664 L1725.64 809.525 L1749.73 809.525 L1761.77 788.664 L1761.77 788.664  Z\n",
       "  \" fill=\"#009af9\" fill-rule=\"evenodd\" fill-opacity=\"1\"/>\n",
       "<polyline clip-path=\"url(#clip612)\" style=\"stroke:#000000; stroke-linecap:round; stroke-linejoin:round; stroke-width:4; stroke-opacity:1; fill:none\" points=\"\n",
       "  1761.77,788.664 1749.73,767.803 1725.64,767.803 1713.59,788.664 1725.64,809.525 1749.73,809.525 1761.77,788.664 \n",
       "  \"/>\n",
       "<path clip-path=\"url(#clip612)\" d=\"\n",
       "M1482.96 1337.68 L1470.91 1316.82 L1446.83 1316.82 L1434.78 1337.68 L1446.83 1358.54 L1470.91 1358.54 L1482.96 1337.68 L1482.96 1337.68  Z\n",
       "  \" fill=\"#009af9\" fill-rule=\"evenodd\" fill-opacity=\"1\"/>\n",
       "<polyline clip-path=\"url(#clip612)\" style=\"stroke:#000000; stroke-linecap:round; stroke-linejoin:round; stroke-width:4; stroke-opacity:1; fill:none\" points=\"\n",
       "  1482.96,1337.68 1470.91,1316.82 1446.83,1316.82 1434.78,1337.68 1446.83,1358.54 1470.91,1358.54 1482.96,1337.68 \n",
       "  \"/>\n",
       "<path clip-path=\"url(#clip612)\" d=\"M1021.29 1155.61 L1020.94 1155.41 L1020.94 1155.01 L1021.29 1154.81 L1021.63 1155.01 L1021.63 1155.41 Z\" fill=\"#009af9\" fill-rule=\"evenodd\" fill-opacity=\"1\" stroke=\"#000000\" stroke-opacity=\"1\" stroke-width=\"3.2\"/>\n",
       "<path clip-path=\"url(#clip612)\" d=\"M662.317 831.349 L661.971 831.149 L661.971 830.749 L662.317 830.549 L662.664 830.749 L662.664 831.149 Z\" fill=\"#009af9\" fill-rule=\"evenodd\" fill-opacity=\"1\" stroke=\"#000000\" stroke-opacity=\"1\" stroke-width=\"3.2\"/>\n",
       "<path clip-path=\"url(#clip612)\" d=\"M1009.37 479.322 L1009.03 479.122 L1009.03 478.722 L1009.37 478.522 L1009.72 478.722 L1009.72 479.122 Z\" fill=\"#009af9\" fill-rule=\"evenodd\" fill-opacity=\"1\" stroke=\"#000000\" stroke-opacity=\"1\" stroke-width=\"3.2\"/>\n",
       "<path clip-path=\"url(#clip612)\" d=\"M1439.93 262.717 L1439.58 262.517 L1439.58 262.117 L1439.93 261.917 L1440.27 262.117 L1440.27 262.517 Z\" fill=\"#009af9\" fill-rule=\"evenodd\" fill-opacity=\"1\" stroke=\"#000000\" stroke-opacity=\"1\" stroke-width=\"3.2\"/>\n",
       "<path clip-path=\"url(#clip612)\" d=\"M1737.68 789.064 L1737.34 788.864 L1737.34 788.464 L1737.68 788.264 L1738.03 788.464 L1738.03 788.864 Z\" fill=\"#009af9\" fill-rule=\"evenodd\" fill-opacity=\"1\" stroke=\"#000000\" stroke-opacity=\"1\" stroke-width=\"3.2\"/>\n",
       "<path clip-path=\"url(#clip612)\" d=\"M1458.87 1338.08 L1458.52 1337.88 L1458.52 1337.48 L1458.87 1337.28 L1459.22 1337.48 L1459.22 1337.88 Z\" fill=\"#009af9\" fill-rule=\"evenodd\" fill-opacity=\"1\" stroke=\"#000000\" stroke-opacity=\"1\" stroke-width=\"3.2\"/>\n",
       "<path clip-path=\"url(#clip610)\" d=\"M845.518 991.897 Q848.455 992.525 850.096 994.51 Q851.756 996.495 851.756 999.411 Q851.756 1003.89 848.678 1006.34 Q845.599 1008.79 839.928 1008.79 Q838.024 1008.79 835.998 1008.4 Q833.993 1008.04 831.846 1007.29 L831.846 1003.34 Q833.548 1004.33 835.573 1004.84 Q837.599 1005.35 839.806 1005.35 Q843.655 1005.35 845.66 1003.83 Q847.685 1002.31 847.685 999.411 Q847.685 996.738 845.802 995.239 Q843.938 993.72 840.596 993.72 L837.072 993.72 L837.072 990.357 L840.758 990.357 Q843.776 990.357 845.376 989.162 Q846.976 987.947 846.976 985.679 Q846.976 983.349 845.316 982.114 Q843.675 980.858 840.596 980.858 Q838.915 980.858 836.991 981.223 Q835.067 981.587 832.758 982.357 L832.758 978.711 Q835.087 978.063 837.112 977.739 Q839.158 977.415 840.961 977.415 Q845.619 977.415 848.333 979.542 Q851.048 981.648 851.048 985.253 Q851.048 987.765 849.61 989.507 Q848.171 991.228 845.518 991.897 Z\" fill=\"#000000\" fill-rule=\"evenodd\" fill-opacity=\"1\" /><path clip-path=\"url(#clip610)\" d=\"M1005.61 801.948 L1025.05 801.948 L1025.05 803.69 L1014.07 832.188 L1009.8 832.188 L1020.13 805.392 L1005.61 805.392 L1005.61 801.948 Z\" fill=\"#000000\" fill-rule=\"evenodd\" fill-opacity=\"1\" /><path clip-path=\"url(#clip610)\" d=\"M827.338 639.816 L843.4 639.816 L843.4 643.259 L831.085 643.259 L831.085 650.672 Q831.976 650.368 832.868 650.227 Q833.759 650.065 834.65 650.065 Q839.714 650.065 842.671 652.839 Q845.628 655.614 845.628 660.354 Q845.628 665.235 842.59 667.949 Q839.552 670.643 834.022 670.643 Q832.118 670.643 830.133 670.319 Q828.169 669.995 826.062 669.347 L826.062 665.235 Q827.885 666.228 829.829 666.714 Q831.774 667.2 833.941 667.2 Q837.445 667.2 839.491 665.357 Q841.537 663.514 841.537 660.354 Q841.537 657.194 839.491 655.351 Q837.445 653.508 833.941 653.508 Q832.3 653.508 830.66 653.872 Q829.04 654.237 827.338 655.007 L827.338 639.816 Z\" fill=\"#000000\" fill-rule=\"evenodd\" fill-opacity=\"1\" /><path clip-path=\"url(#clip610)\" d=\"M1214.93 355.5 L1234.37 355.5 L1234.37 357.242 L1223.39 385.74 L1219.12 385.74 L1229.45 358.943 L1214.93 358.943 L1214.93 355.5 Z\" fill=\"#000000\" fill-rule=\"evenodd\" fill-opacity=\"1\" /><path clip-path=\"url(#clip610)\" d=\"M1579.08 510.371 L1598.53 510.371 L1598.53 512.113 L1587.55 540.611 L1583.28 540.611 L1593.61 513.814 L1579.08 513.814 L1579.08 510.371 Z\" fill=\"#000000\" fill-rule=\"evenodd\" fill-opacity=\"1\" /><path clip-path=\"url(#clip610)\" d=\"M1588.55 1048.05 L1608 1048.05 L1608 1049.8 L1597.02 1078.29 L1592.75 1078.29 L1603.08 1051.5 L1588.55 1051.5 L1588.55 1048.05 Z\" fill=\"#000000\" fill-rule=\"evenodd\" fill-opacity=\"1\" /><path clip-path=\"url(#clip610)\" d=\"M1021.29 1144.12 L1015.74 1159.17 L1026.86 1159.17 L1021.29 1144.12 M1018.98 1140.09 L1023.61 1140.09 L1035.14 1170.33 L1030.89 1170.33 L1028.13 1162.58 L1014.5 1162.58 L1011.75 1170.33 L1007.43 1170.33 L1018.98 1140.09 Z\" fill=\"#000000\" fill-rule=\"evenodd\" fill-opacity=\"1\" /><path clip-path=\"url(#clip610)\" d=\"M655.684 831.628 L655.684 842.707 L662.246 842.707 Q665.548 842.707 667.128 841.35 Q668.728 839.973 668.728 837.157 Q668.728 834.322 667.128 832.985 Q665.548 831.628 662.246 831.628 L655.684 831.628 M655.684 819.191 L655.684 828.306 L661.74 828.306 Q664.738 828.306 666.196 827.192 Q667.675 826.058 667.675 823.749 Q667.675 821.46 666.196 820.326 Q664.738 819.191 661.74 819.191 L655.684 819.191 M651.592 815.829 L662.044 815.829 Q666.723 815.829 669.254 817.774 Q671.786 819.718 671.786 823.303 Q671.786 826.078 670.49 827.719 Q669.194 829.359 666.682 829.764 Q669.7 830.412 671.361 832.478 Q673.042 834.524 673.042 837.603 Q673.042 841.654 670.287 843.861 Q667.533 846.069 662.449 846.069 L651.592 846.069 L651.592 815.829 Z\" fill=\"#000000\" fill-rule=\"evenodd\" fill-opacity=\"1\" /><path clip-path=\"url(#clip610)\" d=\"M1021.57 466.132 L1021.57 470.446 Q1019.5 468.522 1017.15 467.57 Q1014.82 466.618 1012.19 466.618 Q1007 466.618 1004.25 469.798 Q1001.49 472.957 1001.49 478.953 Q1001.49 484.928 1004.25 488.108 Q1007 491.267 1012.19 491.267 Q1014.82 491.267 1017.15 490.315 Q1019.5 489.364 1021.57 487.439 L1021.57 491.713 Q1019.42 493.171 1017.01 493.901 Q1014.62 494.63 1011.95 494.63 Q1005.08 494.63 1001.13 490.437 Q997.18 486.224 997.18 478.953 Q997.18 471.661 1001.13 467.468 Q1005.08 463.255 1011.95 463.255 Q1014.66 463.255 1017.05 463.985 Q1019.46 464.694 1021.57 466.132 Z\" fill=\"#000000\" fill-rule=\"evenodd\" fill-opacity=\"1\" /><path clip-path=\"url(#clip610)\" d=\"M1431.31 250.559 L1431.31 274.075 L1436.25 274.075 Q1442.51 274.075 1445.41 271.239 Q1448.32 268.404 1448.32 262.287 Q1448.32 256.21 1445.41 253.395 Q1442.51 250.559 1436.25 250.559 L1431.31 250.559 M1427.22 247.197 L1435.62 247.197 Q1444.41 247.197 1448.53 250.863 Q1452.64 254.509 1452.64 262.287 Q1452.64 270.105 1448.51 273.771 Q1444.37 277.437 1435.62 277.437 L1427.22 277.437 L1427.22 247.197 Z\" fill=\"#000000\" fill-rule=\"evenodd\" fill-opacity=\"1\" /><path clip-path=\"url(#clip610)\" d=\"M1727.94 773.544 L1747.06 773.544 L1747.06 776.988 L1732.03 776.988 L1732.03 785.94 L1746.43 785.94 L1746.43 789.383 L1732.03 789.383 L1732.03 800.341 L1747.43 800.341 L1747.43 803.784 L1727.94 803.784 L1727.94 773.544 Z\" fill=\"#000000\" fill-rule=\"evenodd\" fill-opacity=\"1\" /><path clip-path=\"url(#clip610)\" d=\"M1450.18 1322.56 L1467.56 1322.56 L1467.56 1326.01 L1454.27 1326.01 L1454.27 1334.92 L1466.26 1334.92 L1466.26 1338.36 L1454.27 1338.36 L1454.27 1352.8 L1450.18 1352.8 L1450.18 1322.56 Z\" fill=\"#000000\" fill-rule=\"evenodd\" fill-opacity=\"1\" /></svg>\n"
      ]
     },
     "execution_count": 20,
     "metadata": {},
     "output_type": "execute_result"
    }
   ],
   "source": [
    "graphplot(g2.graph, names=[\"A\",\"B\",\"C\",\"D\",\"E\",\"F\"], edgelabel = Dict((1,2)=>3,(2,3)=>5,(1,3) => 7,(3,4) => 7,(4,5) => 7,(5,6) => 7,(6,1) => 5),curves=false)"
   ]
  },
  {
   "cell_type": "code",
   "execution_count": 33,
   "id": "118a6728-ef1c-4ee6-bb2f-7a4f6f76796d",
   "metadata": {},
   "outputs": [
    {
     "data": {
      "text/plain": [
       "3-element Vector{Main.WeightedGraphs.Edge}:\n",
       " Main.WeightedGraphs.Edge(:A, :B, 3)\n",
       " Main.WeightedGraphs.Edge(:B, :C, 5)\n",
       " Main.WeightedGraphs.Edge(:C, :A, 7)"
      ]
     },
     "execution_count": 33,
     "metadata": {},
     "output_type": "execute_result"
    }
   ],
   "source": [
    "g.edges"
   ]
  },
  {
   "cell_type": "code",
   "execution_count": 22,
   "id": "9be14e6e-5149-4efd-b653-574282fe12e8",
   "metadata": {},
   "outputs": [
    {
     "data": {
      "text/plain": [
       "7-element Vector{Main.WeightedGraphs.Edge}:\n",
       " Main.WeightedGraphs.Edge(:A, :B, 3)\n",
       " Main.WeightedGraphs.Edge(:B, :C, 5)\n",
       " Main.WeightedGraphs.Edge(:C, :A, 7)\n",
       " Main.WeightedGraphs.Edge(:C, :D, 7)\n",
       " Main.WeightedGraphs.Edge(:D, :E, 7)\n",
       " Main.WeightedGraphs.Edge(:E, :F, 7)\n",
       " Main.WeightedGraphs.Edge(:F, :A, 5)"
      ]
     },
     "execution_count": 22,
     "metadata": {},
     "output_type": "execute_result"
    }
   ],
   "source": [
    "g2.edges"
   ]
  },
  {
   "cell_type": "code",
   "execution_count": 23,
   "id": "2092fbf3-3078-4c11-905d-f2fdcb0b5a51",
   "metadata": {},
   "outputs": [
    {
     "data": {
      "text/plain": [
       "6-element Vector{Vertex}:\n",
       " Vertex(:A)\n",
       " Vertex(:B)\n",
       " Vertex(:C)\n",
       " Vertex(:D)\n",
       " Vertex(:C)\n",
       " Vertex(:A)"
      ]
     },
     "execution_count": 23,
     "metadata": {},
     "output_type": "execute_result"
    }
   ],
   "source": [
    "p2 = [Vertex(:A), Vertex(:B), Vertex(:C), Vertex(:D), Vertex(:C), Vertex(:A)]"
   ]
  },
  {
   "cell_type": "code",
   "execution_count": 24,
   "id": "6176907b-d502-437d-aff1-44820c9aeb28",
   "metadata": {},
   "outputs": [
    {
     "data": {
      "text/plain": [
       "Vertex[Vertex(:A), Vertex(:B), Vertex(:C), Vertex(:D), Vertex(:C), Vertex(:A)]"
      ]
     },
     "execution_count": 24,
     "metadata": {},
     "output_type": "execute_result"
    }
   ],
   "source": [
    "d2 = Path(p2,g2)"
   ]
  },
  {
   "cell_type": "code",
   "execution_count": 25,
   "id": "4c1c22d4-097c-49f0-b3b6-9a88b33bcb8b",
   "metadata": {},
   "outputs": [
    {
     "data": {
      "text/plain": [
       "29"
      ]
     },
     "execution_count": 25,
     "metadata": {},
     "output_type": "execute_result"
    }
   ],
   "source": [
    "distance(d2)"
   ]
  },
  {
   "cell_type": "code",
   "execution_count": 26,
   "id": "7ce4cc96-0c01-4dc9-8bf5-7553eeee85bf",
   "metadata": {},
   "outputs": [
    {
     "data": {
      "text/plain": [
       "4-element Vector{Vertex}:\n",
       " Vertex(:A)\n",
       " Vertex(:D)\n",
       " Vertex(:E)\n",
       " Vertex(:F)"
      ]
     },
     "execution_count": 26,
     "metadata": {},
     "output_type": "execute_result"
    }
   ],
   "source": [
    "p3 = [v1,v4,v5,v6]"
   ]
  },
  {
   "cell_type": "code",
   "execution_count": 27,
   "id": "8436352e-6ec1-432f-aef1-9be9e1c37f5f",
   "metadata": {},
   "outputs": [
    {
     "ename": "LoadError",
     "evalue": "ArgumentError: Two of the vertices in the path do not share an edge on the the graph",
     "output_type": "error",
     "traceback": [
      "ArgumentError: Two of the vertices in the path do not share an edge on the the graph",
      "",
      "Stacktrace:",
      " [1] Path(p::Vector{Vertex}, g::WeightedGraph)",
      "   @ Main.WeightedGraphs C:\\Users\\Camer\\Documents\\My-Repositories\\Sci-Comp-ShortestPath\\WeightedGraphs.jl:79",
      " [2] top-level scope",
      "   @ In[27]:1",
      " [3] eval",
      "   @ .\\boot.jl:368 [inlined]",
      " [4] include_string(mapexpr::typeof(REPL.softscope), mod::Module, code::String, filename::String)",
      "   @ Base .\\loading.jl:1428"
     ]
    }
   ],
   "source": [
    "d3 = Path(p3,g2)"
   ]
  },
  {
   "cell_type": "code",
   "execution_count": 28,
   "id": "f9da6fb0-39a9-497d-919f-3a0bdbcef463",
   "metadata": {},
   "outputs": [
    {
     "ename": "LoadError",
     "evalue": "ArgumentError: Two of the vertices in the path do not share an edge on the the graph",
     "output_type": "error",
     "traceback": [
      "ArgumentError: Two of the vertices in the path do not share an edge on the the graph",
      "",
      "Stacktrace:",
      " [1] Path(p::Vector{Vertex}, g::WeightedGraph)",
      "   @ Main.WeightedGraphs C:\\Users\\Camer\\Documents\\My-Repositories\\Sci-Comp-ShortestPath\\WeightedGraphs.jl:79",
      " [2] top-level scope",
      "   @ In[28]:1",
      " [3] eval",
      "   @ .\\boot.jl:368 [inlined]",
      " [4] include_string(mapexpr::typeof(REPL.softscope), mod::Module, code::String, filename::String)",
      "   @ Base .\\loading.jl:1428"
     ]
    }
   ],
   "source": [
    "distance(Path(p3,g2))"
   ]
  },
  {
   "cell_type": "code",
   "execution_count": 29,
   "id": "6cf093ab-4b6a-4237-8d3e-e6720b24fced",
   "metadata": {},
   "outputs": [
    {
     "data": {
      "text/plain": [
       "5-element Vector{Vertex}:\n",
       " Vertex(:B)\n",
       " Vertex(:A)\n",
       " Vertex(:C)\n",
       " Vertex(:A)\n",
       " Vertex(:B)"
      ]
     },
     "execution_count": 29,
     "metadata": {},
     "output_type": "execute_result"
    }
   ],
   "source": [
    "p4 = [v2,v1,v3,v1,v2]"
   ]
  },
  {
   "cell_type": "code",
   "execution_count": 39,
   "id": "fe0724a7-fc77-4e1a-8b4d-2ce6c8f25185",
   "metadata": {},
   "outputs": [
    {
     "data": {
      "text/plain": [
       "Vertex[B, A, C, A, B]"
      ]
     },
     "execution_count": 39,
     "metadata": {},
     "output_type": "execute_result"
    }
   ],
   "source": [
    "d4 = Path(p4,g)"
   ]
  },
  {
   "cell_type": "code",
   "execution_count": 40,
   "id": "60c7b332-823c-4f6d-8e36-e03a25e8e610",
   "metadata": {},
   "outputs": [
    {
     "ename": "LoadError",
     "evalue": "BoundsError: attempt to access 3-element Vector{Main.WeightedGraphs.Edge} at index [4]",
     "output_type": "error",
     "traceback": [
      "BoundsError: attempt to access 3-element Vector{Main.WeightedGraphs.Edge} at index [4]",
      "",
      "Stacktrace:",
      " [1] getindex",
      "   @ .\\array.jl:924 [inlined]",
      " [2] distance(Path::Path)",
      "   @ Main.WeightedGraphs C:\\Users\\Camer\\Documents\\My-Repositories\\Sci-Comp-ShortestPath\\WeightedGraphs.jl:138",
      " [3] top-level scope",
      "   @ In[40]:1",
      " [4] eval",
      "   @ .\\boot.jl:368 [inlined]",
      " [5] include_string(mapexpr::typeof(REPL.softscope), mod::Module, code::String, filename::String)",
      "   @ Base .\\loading.jl:1428"
     ]
    }
   ],
   "source": [
    "distance(d4)"
   ]
  },
  {
   "cell_type": "code",
   "execution_count": 38,
   "id": "a37800e6-eb28-4b97-8126-22efb4645b36",
   "metadata": {},
   "outputs": [
    {
     "data": {
      "text/plain": [
       "Vertex[A, B, C]Main.WeightedGraphs.Edge[(:A, :B, 3), (:B, :C, 5), (:C, :A, 7)]"
      ]
     },
     "execution_count": 38,
     "metadata": {},
     "output_type": "execute_result"
    }
   ],
   "source": [
    "g"
   ]
  }
 ],
 "metadata": {
  "kernelspec": {
   "display_name": "Julia 1.8.0",
   "language": "julia",
   "name": "julia-1.8"
  },
  "language_info": {
   "file_extension": ".jl",
   "mimetype": "application/julia",
   "name": "julia",
   "version": "1.8.0"
  }
 },
 "nbformat": 4,
 "nbformat_minor": 5
}
