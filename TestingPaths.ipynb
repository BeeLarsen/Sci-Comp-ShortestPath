{
 "cells": [
  {
   "cell_type": "code",
   "execution_count": 1,
   "id": "c42c3530-d183-49a1-8936-a59aa7031df7",
   "metadata": {},
   "outputs": [],
   "source": [
    "using Revise\n",
    "includet(\"../Sci-Comp-ShortestPath/WeightedGraphs.jl\")\n",
    "using .WeightedGraphs"
   ]
  },
  {
   "cell_type": "code",
   "execution_count": 7,
   "id": "05d77c30-96f0-41c9-bcee-dd3bd1826631",
   "metadata": {},
   "outputs": [
    {
     "name": "stderr",
     "output_type": "stream",
     "text": [
      "WARNING: using Graphs.Edge in module Main conflicts with an existing identifier.\n"
     ]
    }
   ],
   "source": [
    "using Graphs, Plots, GraphRecipes"
   ]
  },
  {
   "cell_type": "code",
   "execution_count": 2,
   "id": "b7d0f1da-d673-44ad-9ac5-f454c2131101",
   "metadata": {},
   "outputs": [
    {
     "data": {
      "text/plain": [
       "WeightedGraph(Vertex[], Edge[], Graphs.SimpleGraphs.SimpleGraph{Int64}(0, Vector{Int64}[]))"
      ]
     },
     "execution_count": 2,
     "metadata": {},
     "output_type": "execute_result"
    }
   ],
   "source": [
    "v1 = Vertex(:A)\n",
    "v2 = Vertex(:B)\n",
    "v3 = Vertex(:C)\n",
    "e1 = WeightedGraphs.Edge(:A,:B,3)\n",
    "e2 = WeightedGraphs.Edge(:B,:C,5)\n",
    "e3 = WeightedGraphs.Edge(:C,:A,7)\n",
    "g = WeightedGraph()"
   ]
  },
  {
   "cell_type": "code",
   "execution_count": 4,
   "id": "64ef69d7-e214-4c31-a6ab-d14bb8435f68",
   "metadata": {},
   "outputs": [],
   "source": [
    "addVertices!(g,v1,v2,v3)\n",
    "#addVertex!(g,v2)\n",
    "#addVertex!(g,v3)"
   ]
  },
  {
   "cell_type": "code",
   "execution_count": 5,
   "id": "02820158-4c89-45ca-8ef9-6f5579c4feb1",
   "metadata": {},
   "outputs": [],
   "source": [
    "addEdges!(g,e1,e2,e3)\n",
    "#addEdge!(g,e2)\n",
    "#addEdge!(g,e3)"
   ]
  },
  {
   "cell_type": "code",
   "execution_count": 8,
   "id": "6ecd56fd-dc01-4a60-b85d-f207c1d42d36",
   "metadata": {},
   "outputs": [
    {
     "data": {
      "image/svg+xml": [
       "<?xml version=\"1.0\" encoding=\"utf-8\"?>\n",
       "<svg xmlns=\"http://www.w3.org/2000/svg\" xmlns:xlink=\"http://www.w3.org/1999/xlink\" width=\"600\" height=\"400\" viewBox=\"0 0 2400 1600\">\n",
       "<defs>\n",
       "  <clipPath id=\"clip590\">\n",
       "    <rect x=\"0\" y=\"0\" width=\"2400\" height=\"1600\"/>\n",
       "  </clipPath>\n",
       "</defs>\n",
       "<path clip-path=\"url(#clip590)\" d=\"\n",
       "M0 1600 L2400 1600 L2400 0 L0 0  Z\n",
       "  \" fill=\"#ffffff\" fill-rule=\"evenodd\" fill-opacity=\"1\"/>\n",
       "<defs>\n",
       "  <clipPath id=\"clip591\">\n",
       "    <rect x=\"480\" y=\"0\" width=\"1681\" height=\"1600\"/>\n",
       "  </clipPath>\n",
       "</defs>\n",
       "<path clip-path=\"url(#clip590)\" d=\"\n",
       "M447.244 1552.76 L1952.76 1552.76 L1952.76 47.2441 L447.244 47.2441  Z\n",
       "  \" fill=\"#ffffff\" fill-rule=\"evenodd\" fill-opacity=\"1\"/>\n",
       "<defs>\n",
       "  <clipPath id=\"clip592\">\n",
       "    <rect x=\"447\" y=\"47\" width=\"1507\" height=\"1507\"/>\n",
       "  </clipPath>\n",
       "</defs>\n",
       "<polyline clip-path=\"url(#clip592)\" style=\"stroke:#000000; stroke-linecap:round; stroke-linejoin:round; stroke-width:4; stroke-opacity:1; fill:none\" points=\"\n",
       "  1179.24,262.317 1187.74,285.253 1196.24,308.184 1204.76,331.104 1213.31,354.009 1221.9,376.893 1230.54,399.751 1239.24,422.579 1248,445.37 1256.84,468.12 \n",
       "  1265.77,490.824 1274.8,513.476 1283.93,536.071 1293.18,558.604 1302.55,581.071 1312.06,603.465 1321.71,625.782 1331.52,648.016 1341.5,670.163 1351.65,692.216 \n",
       "  1361.98,714.172 1372.5,736.025 1383.23,757.769 1394.18,779.4 1405.34,800.912 1416.74,822.3 1428.37,843.565 1440.22,864.712 1452.28,885.745 1464.55,906.669 \n",
       "  1477.01,927.49 1489.66,948.214 1502.48,968.844 1515.46,989.387 1528.6,1009.85 1541.88,1030.23 1555.3,1050.54 1568.85,1070.79 1582.51,1090.97 1596.28,1111.09 \n",
       "  1610.14,1131.17 1624.09,1151.19 1638.12,1171.18 1652.22,1191.13 1666.37,1211.05 1680.58,1230.94 1694.82,1250.81 1709.09,1270.67 1723.38,1290.52 1737.68,1310.36 \n",
       "  \n",
       "  \"/>\n",
       "<polyline clip-path=\"url(#clip592)\" style=\"stroke:#000000; stroke-linecap:round; stroke-linejoin:round; stroke-width:4; stroke-opacity:1; fill:none\" points=\"\n",
       "  1179.24,262.317 1171.66,285.689 1164.06,309.056 1156.45,332.413 1148.81,355.756 1141.12,379.08 1133.39,402.381 1125.6,425.653 1117.74,448.891 1109.8,472.092 \n",
       "  1101.77,495.25 1093.64,518.36 1085.4,541.418 1077.05,564.419 1068.57,587.358 1059.94,610.231 1051.17,633.032 1042.24,655.758 1033.15,678.402 1023.87,700.961 \n",
       "  1014.41,723.43 1004.75,745.804 994.882,768.078 984.797,790.247 974.484,812.307 963.935,834.253 953.149,856.086 942.135,877.809 930.904,899.427 919.465,920.946 \n",
       "  907.828,942.37 896.004,963.703 884.002,984.951 871.831,1006.12 859.503,1027.21 847.026,1048.23 834.411,1069.18 821.667,1090.07 808.805,1110.91 795.834,1131.69 \n",
       "  782.764,1152.43 769.605,1173.12 756.367,1193.77 743.06,1214.39 729.693,1234.98 716.277,1255.55 702.822,1276.1 689.337,1296.64 675.832,1317.16 662.317,1337.68 \n",
       "  \n",
       "  \"/>\n",
       "<polyline clip-path=\"url(#clip592)\" style=\"stroke:#000000; stroke-linecap:round; stroke-linejoin:round; stroke-width:4; stroke-opacity:1; fill:none\" points=\"\n",
       "  1737.68,1310.36 1715.82,1314.2 1693.96,1318.04 1672.09,1321.85 1650.23,1325.63 1628.36,1329.37 1606.5,1333.05 1584.63,1336.67 1562.76,1340.21 1540.89,1343.66 \n",
       "  1519.01,1347.01 1497.13,1350.26 1475.25,1353.38 1453.37,1356.37 1431.48,1359.22 1409.59,1361.92 1387.69,1364.45 1365.79,1366.8 1343.88,1368.97 1321.97,1370.94 \n",
       "  1300.06,1372.71 1278.14,1374.25 1256.21,1375.57 1234.28,1376.64 1212.34,1377.46 1190.39,1378.02 1168.44,1378.31 1146.48,1378.35 1124.51,1378.16 1102.54,1377.73 \n",
       "  1080.57,1377.08 1058.58,1376.22 1036.6,1375.17 1014.6,1373.93 992.608,1372.51 970.608,1370.93 948.603,1369.2 926.595,1367.32 904.584,1365.32 882.569,1363.19 \n",
       "  860.552,1360.95 838.532,1358.61 816.51,1356.19 794.486,1353.69 772.461,1351.12 750.434,1348.5 728.406,1345.83 706.377,1343.13 684.347,1340.41 662.317,1337.68 \n",
       "  \n",
       "  \"/>\n",
       "<path clip-path=\"url(#clip592)\" d=\"\n",
       "M1388.43 847.754 L1433.59 847.754 L1433.59 775.489 L1388.43 775.489 L1388.43 847.754 L1388.43 847.754  Z\n",
       "  \" fill=\"#ffffff\" fill-rule=\"evenodd\" fill-opacity=\"1\"/>\n",
       "<polyline clip-path=\"url(#clip592)\" style=\"stroke:#000000; stroke-linecap:round; stroke-linejoin:round; stroke-width:0; stroke-opacity:0; fill:none\" points=\"\n",
       "  1388.43,847.754 1433.59,847.754 1433.59,775.489 1388.43,775.489 1388.43,847.754 \n",
       "  \"/>\n",
       "<path clip-path=\"url(#clip592)\" d=\"\n",
       "M946.657 859.427 L991.822 859.427 L991.822 787.162 L946.657 787.162 L946.657 859.427 L946.657 859.427  Z\n",
       "  \" fill=\"#ffffff\" fill-rule=\"evenodd\" fill-opacity=\"1\"/>\n",
       "<polyline clip-path=\"url(#clip592)\" style=\"stroke:#000000; stroke-linecap:round; stroke-linejoin:round; stroke-width:0; stroke-opacity:0; fill:none\" points=\"\n",
       "  946.657,859.427 991.822,859.427 991.822,787.162 946.657,787.162 946.657,859.427 \n",
       "  \"/>\n",
       "<path clip-path=\"url(#clip592)\" d=\"\n",
       "M1178.78 1413.9 L1223.95 1413.9 L1223.95 1341.64 L1178.78 1341.64 L1178.78 1413.9 L1178.78 1413.9  Z\n",
       "  \" fill=\"#ffffff\" fill-rule=\"evenodd\" fill-opacity=\"1\"/>\n",
       "<polyline clip-path=\"url(#clip592)\" style=\"stroke:#000000; stroke-linecap:round; stroke-linejoin:round; stroke-width:0; stroke-opacity:0; fill:none\" points=\"\n",
       "  1178.78,1413.9 1223.95,1413.9 1223.95,1341.64 1178.78,1341.64 1178.78,1413.9 \n",
       "  \"/>\n",
       "<path clip-path=\"url(#clip592)\" d=\"\n",
       "M1218.39 262.317 L1198.81 228.418 L1159.67 228.418 L1140.1 262.317 L1159.67 296.216 L1198.81 296.216 L1218.39 262.317 L1218.39 262.317  Z\n",
       "  \" fill=\"#009af9\" fill-rule=\"evenodd\" fill-opacity=\"1\"/>\n",
       "<polyline clip-path=\"url(#clip592)\" style=\"stroke:#000000; stroke-linecap:round; stroke-linejoin:round; stroke-width:4; stroke-opacity:1; fill:none\" points=\"\n",
       "  1218.39,262.317 1198.81,228.418 1159.67,228.418 1140.1,262.317 1159.67,296.216 1198.81,296.216 1218.39,262.317 \n",
       "  \"/>\n",
       "<path clip-path=\"url(#clip592)\" d=\"\n",
       "M1776.83 1310.36 L1757.25 1276.46 L1718.11 1276.46 L1698.54 1310.36 L1718.11 1344.26 L1757.25 1344.26 L1776.83 1310.36 L1776.83 1310.36  Z\n",
       "  \" fill=\"#009af9\" fill-rule=\"evenodd\" fill-opacity=\"1\"/>\n",
       "<polyline clip-path=\"url(#clip592)\" style=\"stroke:#000000; stroke-linecap:round; stroke-linejoin:round; stroke-width:4; stroke-opacity:1; fill:none\" points=\"\n",
       "  1776.83,1310.36 1757.25,1276.46 1718.11,1276.46 1698.54,1310.36 1718.11,1344.26 1757.25,1344.26 1776.83,1310.36 \n",
       "  \"/>\n",
       "<path clip-path=\"url(#clip592)\" d=\"\n",
       "M701.461 1337.68 L681.889 1303.78 L642.746 1303.78 L623.174 1337.68 L642.746 1371.58 L681.889 1371.58 L701.461 1337.68 L701.461 1337.68  Z\n",
       "  \" fill=\"#009af9\" fill-rule=\"evenodd\" fill-opacity=\"1\"/>\n",
       "<polyline clip-path=\"url(#clip592)\" style=\"stroke:#000000; stroke-linecap:round; stroke-linejoin:round; stroke-width:4; stroke-opacity:1; fill:none\" points=\"\n",
       "  701.461,1337.68 681.889,1303.78 642.746,1303.78 623.174,1337.68 642.746,1371.58 681.889,1371.58 701.461,1337.68 \n",
       "  \"/>\n",
       "<path clip-path=\"url(#clip592)\" d=\"M1179.24 262.717 L1178.9 262.517 L1178.9 262.117 L1179.24 261.917 L1179.59 262.117 L1179.59 262.517 Z\" fill=\"#009af9\" fill-rule=\"evenodd\" fill-opacity=\"1\" stroke=\"#000000\" stroke-opacity=\"1\" stroke-width=\"3.2\"/>\n",
       "<path clip-path=\"url(#clip592)\" d=\"M1737.68 1310.76 L1737.34 1310.56 L1737.34 1310.16 L1737.68 1309.96 L1738.03 1310.16 L1738.03 1310.56 Z\" fill=\"#009af9\" fill-rule=\"evenodd\" fill-opacity=\"1\" stroke=\"#000000\" stroke-opacity=\"1\" stroke-width=\"3.2\"/>\n",
       "<path clip-path=\"url(#clip592)\" d=\"M662.317 1338.08 L661.971 1337.88 L661.971 1337.48 L662.317 1337.28 L662.664 1337.48 L662.664 1337.88 Z\" fill=\"#009af9\" fill-rule=\"evenodd\" fill-opacity=\"1\" stroke=\"#000000\" stroke-opacity=\"1\" stroke-width=\"3.2\"/>\n",
       "<path clip-path=\"url(#clip590)\" d=\"M1414.73 810.437 Q1417.66 811.065 1419.3 813.05 Q1420.97 815.035 1420.97 817.951 Q1420.97 822.427 1417.89 824.878 Q1414.81 827.329 1409.14 827.329 Q1407.23 827.329 1405.21 826.944 Q1403.2 826.58 1401.05 825.83 L1401.05 821.881 Q1402.76 822.873 1404.78 823.379 Q1406.81 823.886 1409.02 823.886 Q1412.86 823.886 1414.87 822.367 Q1416.89 820.848 1416.89 817.951 Q1416.89 815.278 1415.01 813.779 Q1413.15 812.26 1409.8 812.26 L1406.28 812.26 L1406.28 808.897 L1409.97 808.897 Q1412.98 808.897 1414.59 807.702 Q1416.19 806.487 1416.19 804.219 Q1416.19 801.889 1414.52 800.654 Q1412.88 799.398 1409.8 799.398 Q1408.12 799.398 1406.2 799.763 Q1404.28 800.127 1401.97 800.897 L1401.97 797.251 Q1404.3 796.603 1406.32 796.279 Q1408.37 795.955 1410.17 795.955 Q1414.83 795.955 1417.54 798.082 Q1420.26 800.188 1420.26 803.793 Q1420.26 806.305 1418.82 808.047 Q1417.38 809.768 1414.73 810.437 Z\" fill=\"#000000\" fill-rule=\"evenodd\" fill-opacity=\"1\" /><path clip-path=\"url(#clip590)\" d=\"M959.518 808.175 L978.962 808.175 L978.962 809.917 L967.984 838.415 L963.71 838.415 L974.04 811.618 L959.518 811.618 L959.518 808.175 Z\" fill=\"#000000\" fill-rule=\"evenodd\" fill-opacity=\"1\" /><path clip-path=\"url(#clip590)\" d=\"M1192.86 1362.65 L1208.92 1362.65 L1208.92 1366.09 L1196.61 1366.09 L1196.61 1373.51 Q1197.5 1373.2 1198.39 1373.06 Q1199.28 1372.9 1200.17 1372.9 Q1205.23 1372.9 1208.19 1375.67 Q1211.15 1378.45 1211.15 1383.19 Q1211.15 1388.07 1208.11 1390.78 Q1205.07 1393.48 1199.54 1393.48 Q1197.64 1393.48 1195.65 1393.15 Q1193.69 1392.83 1191.58 1392.18 L1191.58 1388.07 Q1193.41 1389.06 1195.35 1389.55 Q1197.29 1390.03 1199.46 1390.03 Q1202.97 1390.03 1205.01 1388.19 Q1207.06 1386.35 1207.06 1383.19 Q1207.06 1380.03 1205.01 1378.19 Q1202.97 1376.34 1199.46 1376.34 Q1197.82 1376.34 1196.18 1376.71 Q1194.56 1377.07 1192.86 1377.84 L1192.86 1362.65 Z\" fill=\"#000000\" fill-rule=\"evenodd\" fill-opacity=\"1\" /><path clip-path=\"url(#clip590)\" d=\"M1179.24 251.228 L1173.69 266.277 L1184.81 266.277 L1179.24 251.228 M1176.93 247.197 L1181.57 247.197 L1193.1 277.437 L1188.84 277.437 L1186.09 269.68 L1172.46 269.68 L1169.7 277.437 L1165.39 277.437 L1176.93 247.197 Z\" fill=\"#000000\" fill-rule=\"evenodd\" fill-opacity=\"1\" /><path clip-path=\"url(#clip590)\" d=\"M1731.05 1311.04 L1731.05 1322.11 L1737.61 1322.11 Q1740.91 1322.11 1742.49 1320.76 Q1744.09 1319.38 1744.09 1316.56 Q1744.09 1313.73 1742.49 1312.39 Q1740.91 1311.04 1737.61 1311.04 L1731.05 1311.04 M1731.05 1298.6 L1731.05 1307.71 L1737.11 1307.71 Q1740.1 1307.71 1741.56 1306.6 Q1743.04 1305.47 1743.04 1303.16 Q1743.04 1300.87 1741.56 1299.73 Q1740.1 1298.6 1737.11 1298.6 L1731.05 1298.6 M1726.96 1295.24 L1737.41 1295.24 Q1742.09 1295.24 1744.62 1297.18 Q1747.15 1299.13 1747.15 1302.71 Q1747.15 1305.49 1745.86 1307.13 Q1744.56 1308.77 1742.05 1309.17 Q1745.07 1309.82 1746.73 1311.89 Q1748.41 1313.93 1748.41 1317.01 Q1748.41 1321.06 1745.65 1323.27 Q1742.9 1325.48 1737.81 1325.48 L1726.96 1325.48 L1726.96 1295.24 Z\" fill=\"#000000\" fill-rule=\"evenodd\" fill-opacity=\"1\" /><path clip-path=\"url(#clip590)\" d=\"M674.51 1324.89 L674.51 1329.21 Q672.444 1327.28 670.095 1326.33 Q667.766 1325.38 665.133 1325.38 Q659.947 1325.38 657.193 1328.56 Q654.438 1331.72 654.438 1337.71 Q654.438 1343.69 657.193 1346.87 Q659.947 1350.03 665.133 1350.03 Q667.766 1350.03 670.095 1349.08 Q672.444 1348.12 674.51 1346.2 L674.51 1350.47 Q672.363 1351.93 669.953 1352.66 Q667.563 1353.39 664.89 1353.39 Q658.023 1353.39 654.074 1349.2 Q650.124 1344.98 650.124 1337.71 Q650.124 1330.42 654.074 1326.23 Q658.023 1322.02 664.89 1322.02 Q667.604 1322.02 669.994 1322.75 Q672.404 1323.45 674.51 1324.89 Z\" fill=\"#000000\" fill-rule=\"evenodd\" fill-opacity=\"1\" /></svg>\n"
      ]
     },
     "execution_count": 8,
     "metadata": {},
     "output_type": "execute_result"
    }
   ],
   "source": [
    "graphplot(g.graph, names=[\"A\",\"B\",\"C\"], edgelabel = Dict((1,2)=>3,(2,3)=>5,(1,3) => 7))"
   ]
  },
  {
   "cell_type": "code",
   "execution_count": 83,
   "id": "539a3dab-f59f-447f-bdbe-0ebc9acaa65d",
   "metadata": {},
   "outputs": [
    {
     "data": {
      "text/plain": [
       "WeightedGraph(Vertex[Vertex(:A), Vertex(:B), Vertex(:C)], Edge[Edge(:A, :B, 3), Edge(:B, :C, 5), Edge(:C, :A, 7)], SimpleGraph{Int64}(3, [[2, 3], [1, 3], [1, 2]]))"
      ]
     },
     "execution_count": 83,
     "metadata": {},
     "output_type": "execute_result"
    }
   ],
   "source": [
    "g"
   ]
  },
  {
   "cell_type": "code",
   "execution_count": 92,
   "id": "9d2a490e-52f3-41c5-bf30-1708b371deb8",
   "metadata": {},
   "outputs": [
    {
     "data": {
      "text/plain": [
       "3-element Vector{Vertex}:\n",
       " Vertex(:A)\n",
       " Vertex(:B)\n",
       " Vertex(:C)"
      ]
     },
     "execution_count": 92,
     "metadata": {},
     "output_type": "execute_result"
    }
   ],
   "source": [
    "Path(p,g)"
   ]
  },
  {
   "cell_type": "code",
   "execution_count": 84,
   "id": "9d9a3ae6-1792-4d6d-baa0-33cef4cca06f",
   "metadata": {},
   "outputs": [
    {
     "data": {
      "text/plain": [
       "3-element Vector{Any}:\n",
       " (Vertex(:A), Vertex(:B))\n",
       " (Vertex(:B), Vertex(:C))\n",
       " (Vertex(:C), Vertex(:A))"
      ]
     },
     "execution_count": 84,
     "metadata": {},
     "output_type": "execute_result"
    }
   ],
   "source": [
    "u = UnweightedEdges(g)"
   ]
  },
  {
   "cell_type": "code",
   "execution_count": 88,
   "id": "750c6d93-c6cb-4fa2-9147-847d27cbfc31",
   "metadata": {},
   "outputs": [
    {
     "data": {
      "text/plain": [
       "true"
      ]
     },
     "execution_count": 88,
     "metadata": {},
     "output_type": "execute_result"
    }
   ],
   "source": [
    "doPathVerticesHaveEdgesOnGraph(p,g)"
   ]
  },
  {
   "cell_type": "code",
   "execution_count": 80,
   "id": "0fa0033b-32ac-4bc2-a0b3-3f9a7947e75d",
   "metadata": {},
   "outputs": [
    {
     "data": {
      "text/plain": [
       "3-element Vector{Vertex}:\n",
       " Vertex(:A)\n",
       " Vertex(:B)\n",
       " Vertex(:C)"
      ]
     },
     "execution_count": 80,
     "metadata": {},
     "output_type": "execute_result"
    }
   ],
   "source": [
    "p = [Vertex(:A), Vertex(:B), Vertex(:C)]"
   ]
  },
  {
   "cell_type": "code",
   "execution_count": 41,
   "id": "e1dcd070-9574-4047-a518-69579721dcbb",
   "metadata": {},
   "outputs": [
    {
     "data": {
      "text/plain": [
       "true"
      ]
     },
     "execution_count": 41,
     "metadata": {},
     "output_type": "execute_result"
    }
   ],
   "source": [
    "for i in 2:length(p)\n",
    "    if (p[i-1],p[i]) in u\n",
    "      return true\n",
    "    else return false\n",
    "    end\n",
    "end"
   ]
  },
  {
   "cell_type": "code",
   "execution_count": 72,
   "id": "2fc18b24-bf04-494c-ae2a-d82afd7a90c6",
   "metadata": {},
   "outputs": [
    {
     "name": "stdout",
     "output_type": "stream",
     "text": [
      "if (p[i - 1], p[i]) in u\n",
      "    #= In[72]:3 =#\n",
      "end = nothing\n",
      "if (p[i - 1], p[i]) in u\n",
      "    #= In[72]:3 =#\n",
      "end = nothing\n"
     ]
    }
   ],
   "source": [
    "for i in 2:length(p)\n",
    "  @show if (p[i-1],p[i]) in u\n",
    "    end\n",
    "end"
   ]
  },
  {
   "cell_type": "code",
   "execution_count": 66,
   "id": "1d95e35a-537a-4e53-a80c-6c594e4232f2",
   "metadata": {},
   "outputs": [
    {
     "data": {
      "text/plain": [
       "1"
      ]
     },
     "execution_count": 66,
     "metadata": {},
     "output_type": "execute_result"
    }
   ],
   "source": [
    "x=0\n",
    "for i in 2:length(p)\n",
    "  if (p[i-1],p[i]) in u\n",
    "    x=x+1\n",
    "    end\n",
    "end\n",
    "x"
   ]
  },
  {
   "cell_type": "code",
   "execution_count": 39,
   "id": "de1ed541-d86a-4b57-985a-140a241fe1a8",
   "metadata": {},
   "outputs": [
    {
     "data": {
      "text/plain": [
       "3-element Vector{Any}:\n",
       " (Vertex(:A), Vertex(:B))\n",
       " (Vertex(:B), Vertex(:C))\n",
       " (Vertex(:C), Vertex(:A))"
      ]
     },
     "execution_count": 39,
     "metadata": {},
     "output_type": "execute_result"
    }
   ],
   "source": [
    "u"
   ]
  },
  {
   "cell_type": "code",
   "execution_count": 50,
   "id": "b04b87f6-d529-459f-9332-887b3cf7f89d",
   "metadata": {},
   "outputs": [
    {
     "data": {
      "text/plain": [
       "true"
      ]
     },
     "execution_count": 50,
     "metadata": {},
     "output_type": "execute_result"
    }
   ],
   "source": [
    "arePathVerticesOnGraph(p,g)"
   ]
  }
 ],
 "metadata": {
  "kernelspec": {
   "display_name": "Julia 1.8.0",
   "language": "julia",
   "name": "julia-1.8"
  },
  "language_info": {
   "file_extension": ".jl",
   "mimetype": "application/julia",
   "name": "julia",
   "version": "1.8.0"
  }
 },
 "nbformat": 4,
 "nbformat_minor": 5
}
