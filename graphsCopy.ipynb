{
 "cells": [
  {
   "cell_type": "markdown",
   "id": "9cc52fbf-f839-4b5c-aa95-eb3d87baedff",
   "metadata": {},
   "source": [
    "## Graphs"
   ]
  },
  {
   "cell_type": "markdown",
   "id": "b3ad5787-b2f2-44a7-ae56-e2ec948e721a",
   "metadata": {},
   "source": [
    "This is mainly for the shortest path project, but is helpful in general. There are both information here for existing modules (packages) and a user-defined one. \n",
    "\n",
    "First, let's look at the Graph package"
   ]
  },
  {
   "cell_type": "code",
   "execution_count": 1,
   "id": "3dfd7b6d-eb76-42e2-b2a5-8094ea5b8f6a",
   "metadata": {},
   "outputs": [],
   "source": [
    "using Graphs, Plots, GraphRecipes"
   ]
  },
  {
   "cell_type": "code",
   "execution_count": 2,
   "id": "d50ae830-9cd3-42f4-95dc-80f6166950fe",
   "metadata": {},
   "outputs": [
    {
     "data": {
      "text/plain": [
       "{5, 10} undirected simple Int64 graph"
      ]
     },
     "execution_count": 2,
     "metadata": {},
     "output_type": "execute_result"
    }
   ],
   "source": [
    "g = complete_graph(5)"
   ]
  },
  {
   "cell_type": "code",
   "execution_count": 3,
   "id": "fa33beef-4e09-4634-9a99-50a850be2f04",
   "metadata": {},
   "outputs": [
    {
     "data": {
      "image/svg+xml": [
       "<?xml version=\"1.0\" encoding=\"utf-8\"?>\n",
       "<svg xmlns=\"http://www.w3.org/2000/svg\" xmlns:xlink=\"http://www.w3.org/1999/xlink\" width=\"600\" height=\"400\" viewBox=\"0 0 2400 1600\">\n",
       "<defs>\n",
       "  <clipPath id=\"clip710\">\n",
       "    <rect x=\"0\" y=\"0\" width=\"2400\" height=\"1600\"/>\n",
       "  </clipPath>\n",
       "</defs>\n",
       "<path clip-path=\"url(#clip710)\" d=\"\n",
       "M0 1600 L2400 1600 L2400 0 L0 0  Z\n",
       "  \" fill=\"#ffffff\" fill-rule=\"evenodd\" fill-opacity=\"1\"/>\n",
       "<defs>\n",
       "  <clipPath id=\"clip711\">\n",
       "    <rect x=\"480\" y=\"0\" width=\"1681\" height=\"1600\"/>\n",
       "  </clipPath>\n",
       "</defs>\n",
       "<path clip-path=\"url(#clip710)\" d=\"\n",
       "M447.244 1552.76 L1952.76 1552.76 L1952.76 47.2441 L447.244 47.2441  Z\n",
       "  \" fill=\"#ffffff\" fill-rule=\"evenodd\" fill-opacity=\"1\"/>\n",
       "<defs>\n",
       "  <clipPath id=\"clip712\">\n",
       "    <rect x=\"447\" y=\"47\" width=\"1507\" height=\"1507\"/>\n",
       "  </clipPath>\n",
       "</defs>\n",
       "<polyline clip-path=\"url(#clip712)\" style=\"stroke:#000000; stroke-linecap:round; stroke-linejoin:round; stroke-width:4; stroke-opacity:1; fill:none\" points=\"\n",
       "  1171.16,1337.68 914.407,262.317 \n",
       "  \"/>\n",
       "<polyline clip-path=\"url(#clip712)\" style=\"stroke:#000000; stroke-linecap:round; stroke-linejoin:round; stroke-width:4; stroke-opacity:1; fill:none\" points=\"\n",
       "  1171.16,1337.68 662.317,895.752 \n",
       "  \"/>\n",
       "<polyline clip-path=\"url(#clip712)\" style=\"stroke:#000000; stroke-linecap:round; stroke-linejoin:round; stroke-width:4; stroke-opacity:1; fill:none\" points=\"\n",
       "  1171.16,1337.68 1579.05,312.703 \n",
       "  \"/>\n",
       "<polyline clip-path=\"url(#clip712)\" style=\"stroke:#000000; stroke-linecap:round; stroke-linejoin:round; stroke-width:4; stroke-opacity:1; fill:none\" points=\"\n",
       "  1171.16,1337.68 1737.68,977.327 \n",
       "  \"/>\n",
       "<polyline clip-path=\"url(#clip712)\" style=\"stroke:#000000; stroke-linecap:round; stroke-linejoin:round; stroke-width:4; stroke-opacity:1; fill:none\" points=\"\n",
       "  914.407,262.317 662.317,895.752 \n",
       "  \"/>\n",
       "<polyline clip-path=\"url(#clip712)\" style=\"stroke:#000000; stroke-linecap:round; stroke-linejoin:round; stroke-width:4; stroke-opacity:1; fill:none\" points=\"\n",
       "  914.407,262.317 1579.05,312.703 \n",
       "  \"/>\n",
       "<polyline clip-path=\"url(#clip712)\" style=\"stroke:#000000; stroke-linecap:round; stroke-linejoin:round; stroke-width:4; stroke-opacity:1; fill:none\" points=\"\n",
       "  914.407,262.317 1737.68,977.327 \n",
       "  \"/>\n",
       "<polyline clip-path=\"url(#clip712)\" style=\"stroke:#000000; stroke-linecap:round; stroke-linejoin:round; stroke-width:4; stroke-opacity:1; fill:none\" points=\"\n",
       "  662.317,895.752 1579.05,312.703 \n",
       "  \"/>\n",
       "<polyline clip-path=\"url(#clip712)\" style=\"stroke:#000000; stroke-linecap:round; stroke-linejoin:round; stroke-width:4; stroke-opacity:1; fill:none\" points=\"\n",
       "  662.317,895.752 1737.68,977.327 \n",
       "  \"/>\n",
       "<polyline clip-path=\"url(#clip712)\" style=\"stroke:#000000; stroke-linecap:round; stroke-linejoin:round; stroke-width:4; stroke-opacity:1; fill:none\" points=\"\n",
       "  1579.05,312.703 1737.68,977.327 \n",
       "  \"/>\n",
       "<path clip-path=\"url(#clip712)\" d=\"\n",
       "M1203.42 1337.68 L1187.29 1309.74 L1155.03 1309.74 L1138.9 1337.68 L1155.03 1365.62 L1187.29 1365.62 L1203.42 1337.68 L1203.42 1337.68  Z\n",
       "  \" fill=\"#009af9\" fill-rule=\"evenodd\" fill-opacity=\"1\"/>\n",
       "<polyline clip-path=\"url(#clip712)\" style=\"stroke:#000000; stroke-linecap:round; stroke-linejoin:round; stroke-width:4; stroke-opacity:1; fill:none\" points=\"\n",
       "  1203.42,1337.68 1187.29,1309.74 1155.03,1309.74 1138.9,1337.68 1155.03,1365.62 1187.29,1365.62 1203.42,1337.68 \n",
       "  \"/>\n",
       "<path clip-path=\"url(#clip712)\" d=\"\n",
       "M946.668 262.317 L930.537 234.378 L898.276 234.378 L882.146 262.317 L898.276 290.256 L930.537 290.256 L946.668 262.317 L946.668 262.317  Z\n",
       "  \" fill=\"#009af9\" fill-rule=\"evenodd\" fill-opacity=\"1\"/>\n",
       "<polyline clip-path=\"url(#clip712)\" style=\"stroke:#000000; stroke-linecap:round; stroke-linejoin:round; stroke-width:4; stroke-opacity:1; fill:none\" points=\"\n",
       "  946.668,262.317 930.537,234.378 898.276,234.378 882.146,262.317 898.276,290.256 930.537,290.256 946.668,262.317 \n",
       "  \"/>\n",
       "<path clip-path=\"url(#clip712)\" d=\"\n",
       "M694.578 895.752 L678.448 867.813 L646.187 867.813 L630.056 895.752 L646.187 923.691 L678.448 923.691 L694.578 895.752 L694.578 895.752  Z\n",
       "  \" fill=\"#009af9\" fill-rule=\"evenodd\" fill-opacity=\"1\"/>\n",
       "<polyline clip-path=\"url(#clip712)\" style=\"stroke:#000000; stroke-linecap:round; stroke-linejoin:round; stroke-width:4; stroke-opacity:1; fill:none\" points=\"\n",
       "  694.578,895.752 678.448,867.813 646.187,867.813 630.056,895.752 646.187,923.691 678.448,923.691 694.578,895.752 \n",
       "  \"/>\n",
       "<path clip-path=\"url(#clip712)\" d=\"\n",
       "M1611.31 312.703 L1595.18 284.764 L1562.92 284.764 L1546.79 312.703 L1562.92 340.642 L1595.18 340.642 L1611.31 312.703 L1611.31 312.703  Z\n",
       "  \" fill=\"#009af9\" fill-rule=\"evenodd\" fill-opacity=\"1\"/>\n",
       "<polyline clip-path=\"url(#clip712)\" style=\"stroke:#000000; stroke-linecap:round; stroke-linejoin:round; stroke-width:4; stroke-opacity:1; fill:none\" points=\"\n",
       "  1611.31,312.703 1595.18,284.764 1562.92,284.764 1546.79,312.703 1562.92,340.642 1595.18,340.642 1611.31,312.703 \n",
       "  \"/>\n",
       "<path clip-path=\"url(#clip712)\" d=\"\n",
       "M1769.94 977.327 L1753.81 949.389 L1721.55 949.389 L1705.42 977.327 L1721.55 1005.27 L1753.81 1005.27 L1769.94 977.327 L1769.94 977.327  Z\n",
       "  \" fill=\"#009af9\" fill-rule=\"evenodd\" fill-opacity=\"1\"/>\n",
       "<polyline clip-path=\"url(#clip712)\" style=\"stroke:#000000; stroke-linecap:round; stroke-linejoin:round; stroke-width:4; stroke-opacity:1; fill:none\" points=\"\n",
       "  1769.94,977.327 1753.81,949.389 1721.55,949.389 1705.42,977.327 1721.55,1005.27 1753.81,1005.27 1769.94,977.327 \n",
       "  \"/>\n",
       "<path clip-path=\"url(#clip712)\" d=\"M1171.16 1338.08 L1170.82 1337.88 L1170.82 1337.48 L1171.16 1337.28 L1171.51 1337.48 L1171.51 1337.88 Z\" fill=\"#009af9\" fill-rule=\"evenodd\" fill-opacity=\"1\" stroke=\"#000000\" stroke-opacity=\"1\" stroke-width=\"3.2\"/>\n",
       "<path clip-path=\"url(#clip712)\" d=\"M914.407 262.717 L914.06 262.517 L914.06 262.117 L914.407 261.917 L914.753 262.117 L914.753 262.517 Z\" fill=\"#009af9\" fill-rule=\"evenodd\" fill-opacity=\"1\" stroke=\"#000000\" stroke-opacity=\"1\" stroke-width=\"3.2\"/>\n",
       "<path clip-path=\"url(#clip712)\" d=\"M662.317 896.152 L661.971 895.952 L661.971 895.552 L662.317 895.352 L662.664 895.552 L662.664 895.952 Z\" fill=\"#009af9\" fill-rule=\"evenodd\" fill-opacity=\"1\" stroke=\"#000000\" stroke-opacity=\"1\" stroke-width=\"3.2\"/>\n",
       "<path clip-path=\"url(#clip712)\" d=\"M1579.05 313.103 L1578.7 312.903 L1578.7 312.503 L1579.05 312.303 L1579.39 312.503 L1579.39 312.903 Z\" fill=\"#009af9\" fill-rule=\"evenodd\" fill-opacity=\"1\" stroke=\"#000000\" stroke-opacity=\"1\" stroke-width=\"3.2\"/>\n",
       "<path clip-path=\"url(#clip712)\" d=\"M1737.68 977.727 L1737.34 977.527 L1737.34 977.127 L1737.68 976.927 L1738.03 977.127 L1738.03 977.527 Z\" fill=\"#009af9\" fill-rule=\"evenodd\" fill-opacity=\"1\" stroke=\"#000000\" stroke-opacity=\"1\" stroke-width=\"3.2\"/>\n",
       "</svg>\n"
      ]
     },
     "execution_count": 3,
     "metadata": {},
     "output_type": "execute_result"
    }
   ],
   "source": [
    "graphplot(g, curves=false)"
   ]
  },
  {
   "cell_type": "code",
   "execution_count": 4,
   "id": "2e5b024a-03c2-4dce-8f16-4b657fb0baef",
   "metadata": {},
   "outputs": [
    {
     "data": {
      "text/plain": [
       "{0, 0} undirected simple Int64 graph"
      ]
     },
     "execution_count": 4,
     "metadata": {},
     "output_type": "execute_result"
    }
   ],
   "source": [
    "g2 = SimpleGraph()"
   ]
  },
  {
   "cell_type": "code",
   "execution_count": 5,
   "id": "dfe8def4-d51c-4ea0-ac1a-e0fbb78b5638",
   "metadata": {},
   "outputs": [
    {
     "ename": "LoadError",
     "evalue": "MethodError: reducing over an empty collection is not allowed; consider supplying `init` to the reducer",
     "output_type": "error",
     "traceback": [
      "MethodError: reducing over an empty collection is not allowed; consider supplying `init` to the reducer",
      "",
      "Stacktrace:",
      "  [1] mapreduce_empty(#unused#::typeof(identity), op::Function, T::Type)",
      "    @ Base .\\reduce.jl:359",
      "  [2] reduce_empty(op::Base.MappingRF{typeof(identity), typeof(max)}, #unused#::Type{Int64})",
      "    @ Base .\\reduce.jl:348",
      "  [3] reduce_empty_iter",
      "    @ .\\reduce.jl:371 [inlined]",
      "  [4] mapreduce_empty_iter(f::Function, op::Function, itr::Vector{Int64}, ItrEltype::Base.HasEltype)",
      "    @ Base .\\reduce.jl:367",
      "  [5] _mapreduce",
      "    @ .\\reduce.jl:419 [inlined]",
      "  [6] _mapreduce_dim",
      "    @ .\\reducedim.jl:365 [inlined]",
      "  [7] #mapreduce#764",
      "    @ .\\reducedim.jl:357 [inlined]",
      "  [8] mapreduce",
      "    @ .\\reducedim.jl:357 [inlined]",
      "  [9] #_maximum#782",
      "    @ .\\reducedim.jl:999 [inlined]",
      " [10] _maximum",
      "    @ .\\reducedim.jl:999 [inlined]",
      " [11] #_maximum#781",
      "    @ .\\reducedim.jl:998 [inlined]",
      " [12] _maximum",
      "    @ .\\reducedim.jl:998 [inlined]",
      " [13] #maximum#779",
      "    @ .\\reducedim.jl:994 [inlined]",
      " [14] maximum",
      "    @ .\\reducedim.jl:994 [inlined]",
      " [15] _broadcast_getindex_evalf",
      "    @ .\\broadcast.jl:670 [inlined]",
      " [16] _broadcast_getindex",
      "    @ .\\broadcast.jl:643 [inlined]",
      " [17] #29",
      "    @ .\\broadcast.jl:1075 [inlined]",
      " [18] ntuple",
      "    @ .\\ntuple.jl:49 [inlined]",
      " [19] copy(bc::Base.Broadcast.Broadcasted{Base.Broadcast.Style{Tuple}, Nothing, typeof(maximum), Tuple{Tuple{Vector{Int64}, Vector{Int64}}}})",
      "    @ Base.Broadcast .\\broadcast.jl:1075",
      " [20] materialize",
      "    @ .\\broadcast.jl:860 [inlined]",
      " [21] infer_size_from(::Vector{Int64}, ::Vararg{Vector{Int64}})",
      "    @ GraphRecipes C:\\Users\\Camer\\.julia\\packages\\GraphRecipes\\rzVTu\\src\\graph_layouts.jl:3",
      " [22] macro expansion",
      "    @ C:\\Users\\Camer\\.julia\\packages\\GraphRecipes\\rzVTu\\src\\graphs.jl:432 [inlined]",
      " [23] apply_recipe(plotattributes::AbstractDict{Symbol, Any}, g::GraphRecipes.GraphPlot)",
      "    @ GraphRecipes C:\\Users\\Camer\\.julia\\packages\\RecipesBase\\6AijY\\src\\RecipesBase.jl:299",
      " [24] _process_userrecipes!(plt::Any, plotattributes::Any, args::Any)",
      "    @ RecipesPipeline C:\\Users\\Camer\\.julia\\packages\\RecipesPipeline\\o2vnV\\src\\user_recipe.jl:38",
      " [25] recipe_pipeline!(plt::Any, plotattributes::Any, args::Any)",
      "    @ RecipesPipeline C:\\Users\\Camer\\.julia\\packages\\RecipesPipeline\\o2vnV\\src\\RecipesPipeline.jl:72",
      " [26] _plot!(plt::Plots.Plot, plotattributes::Any, args::Any)",
      "    @ Plots C:\\Users\\Camer\\.julia\\packages\\Plots\\AAjgN\\src\\plot.jl:232",
      " [27] plot(args::Any; kw::Base.Pairs{Symbol, V, Tuple{Vararg{Symbol, N}}, NamedTuple{names, T}} where {V, N, names, T<:Tuple{Vararg{Any, N}}})",
      "    @ Plots C:\\Users\\Camer\\.julia\\packages\\Plots\\AAjgN\\src\\plot.jl:107",
      " [28] plot",
      "    @ C:\\Users\\Camer\\.julia\\packages\\Plots\\AAjgN\\src\\plot.jl:98 [inlined]",
      " [29] #graphplot#80",
      "    @ C:\\Users\\Camer\\.julia\\packages\\RecipesBase\\6AijY\\src\\RecipesBase.jl:379 [inlined]",
      " [30] graphplot(args::SimpleGraph{Int64})",
      "    @ GraphRecipes C:\\Users\\Camer\\.julia\\packages\\RecipesBase\\6AijY\\src\\RecipesBase.jl:379",
      " [31] top-level scope",
      "    @ In[5]:1",
      " [32] eval",
      "    @ .\\boot.jl:368 [inlined]",
      " [33] include_string(mapexpr::typeof(REPL.softscope), mod::Module, code::String, filename::String)",
      "    @ Base .\\loading.jl:1428"
     ]
    }
   ],
   "source": [
    "graphplot(g2)"
   ]
  },
  {
   "cell_type": "code",
   "execution_count": 6,
   "id": "e7353b1b-6494-44a8-8f85-149ebb1b013b",
   "metadata": {},
   "outputs": [
    {
     "data": {
      "text/plain": [
       "true"
      ]
     },
     "execution_count": 6,
     "metadata": {},
     "output_type": "execute_result"
    }
   ],
   "source": [
    "add_vertices!(g2,3)\n",
    "add_edge!(g2,1,2)\n",
    "add_edge!(g2,2,3)\n",
    "add_edge!(g2,3,1)"
   ]
  },
  {
   "cell_type": "code",
   "execution_count": 7,
   "id": "f32fab16-539a-4787-8ee9-01f7c46ebeee",
   "metadata": {},
   "outputs": [
    {
     "data": {
      "image/svg+xml": [
       "<?xml version=\"1.0\" encoding=\"utf-8\"?>\n",
       "<svg xmlns=\"http://www.w3.org/2000/svg\" xmlns:xlink=\"http://www.w3.org/1999/xlink\" width=\"600\" height=\"400\" viewBox=\"0 0 2400 1600\">\n",
       "<defs>\n",
       "  <clipPath id=\"clip740\">\n",
       "    <rect x=\"0\" y=\"0\" width=\"2400\" height=\"1600\"/>\n",
       "  </clipPath>\n",
       "</defs>\n",
       "<path clip-path=\"url(#clip740)\" d=\"\n",
       "M0 1600 L2400 1600 L2400 0 L0 0  Z\n",
       "  \" fill=\"#ffffff\" fill-rule=\"evenodd\" fill-opacity=\"1\"/>\n",
       "<defs>\n",
       "  <clipPath id=\"clip741\">\n",
       "    <rect x=\"480\" y=\"0\" width=\"1681\" height=\"1600\"/>\n",
       "  </clipPath>\n",
       "</defs>\n",
       "<path clip-path=\"url(#clip740)\" d=\"\n",
       "M447.244 1552.76 L1952.76 1552.76 L1952.76 47.2441 L447.244 47.2441  Z\n",
       "  \" fill=\"#ffffff\" fill-rule=\"evenodd\" fill-opacity=\"1\"/>\n",
       "<defs>\n",
       "  <clipPath id=\"clip742\">\n",
       "    <rect x=\"447\" y=\"47\" width=\"1507\" height=\"1507\"/>\n",
       "  </clipPath>\n",
       "</defs>\n",
       "<polyline clip-path=\"url(#clip742)\" style=\"stroke:#000000; stroke-linecap:round; stroke-linejoin:round; stroke-width:4; stroke-opacity:1; fill:none\" points=\"\n",
       "  1737.68,262.317 1737.05,284.835 1736.41,307.35 1735.75,329.862 1735.06,352.368 1734.32,374.867 1733.53,397.356 1732.67,419.833 1731.74,442.297 1730.72,464.746 \n",
       "  1729.61,487.178 1728.38,509.591 1727.04,531.983 1725.57,554.352 1723.96,576.696 1722.2,599.013 1720.27,621.302 1718.17,643.561 1715.89,665.787 1713.41,687.979 \n",
       "  1710.73,710.134 1707.83,732.252 1704.71,754.329 1701.35,776.365 1697.74,798.357 1693.87,820.303 1689.74,842.204 1685.36,864.061 1680.75,885.876 1675.91,907.65 \n",
       "  1670.85,929.387 1665.59,951.088 1660.13,972.754 1654.49,994.388 1648.68,1015.99 1642.7,1037.57 1636.58,1059.11 1630.31,1080.64 1623.91,1102.14 1617.4,1123.62 \n",
       "  1610.77,1145.08 1604.05,1166.52 1597.25,1187.95 1590.36,1209.37 1583.42,1230.77 1576.41,1252.16 1569.37,1273.55 1562.29,1294.93 1555.19,1316.31 1548.08,1337.68 \n",
       "  \n",
       "  \"/>\n",
       "<polyline clip-path=\"url(#clip742)\" style=\"stroke:#000000; stroke-linecap:round; stroke-linejoin:round; stroke-width:4; stroke-opacity:1; fill:none\" points=\"\n",
       "  1737.68,262.317 1716.84,273.208 1695.99,284.089 1675.13,294.949 1654.26,305.778 1633.38,316.566 1612.48,327.302 1591.56,337.976 1570.61,348.578 1549.63,359.097 \n",
       "  1528.62,369.523 1507.57,379.845 1486.49,390.054 1465.35,400.139 1444.17,410.089 1422.94,419.895 1401.66,429.546 1380.31,439.031 1358.91,448.341 1337.43,457.464 \n",
       "  1315.89,466.391 1294.27,475.112 1272.58,483.615 1250.81,491.891 1228.95,499.929 1207,507.72 1184.97,515.262 1162.85,522.568 1140.65,529.645 1118.37,536.506 \n",
       "  1096.02,543.16 1073.61,549.618 1051.12,555.889 1028.57,561.985 1005.97,567.915 983.304,573.69 960.591,579.321 937.83,584.817 915.026,590.19 892.181,595.448 \n",
       "  869.299,600.603 846.384,605.665 823.44,610.645 800.47,615.552 777.478,620.397 754.468,625.19 731.443,629.942 708.407,634.663 685.364,639.363 662.317,644.053 \n",
       "  \n",
       "  \"/>\n",
       "<polyline clip-path=\"url(#clip742)\" style=\"stroke:#000000; stroke-linecap:round; stroke-linejoin:round; stroke-width:4; stroke-opacity:1; fill:none\" points=\"\n",
       "  1548.08,1337.68 1527.98,1326.12 1507.88,1314.54 1487.8,1302.95 1467.73,1291.34 1447.69,1279.68 1427.69,1267.99 1407.73,1256.24 1387.81,1244.43 1367.95,1232.56 \n",
       "  1348.15,1220.6 1328.41,1208.56 1308.75,1196.43 1289.18,1184.19 1269.69,1171.84 1250.29,1159.37 1231,1146.77 1211.81,1134.03 1192.74,1121.14 1173.79,1108.1 \n",
       "  1154.97,1094.89 1136.29,1081.51 1117.74,1067.95 1099.35,1054.2 1081.11,1040.25 1063.03,1026.1 1045.12,1011.73 1027.36,997.173 1009.75,982.422 992.279,967.489 \n",
       "  974.946,952.384 957.741,937.115 940.658,921.69 923.69,906.118 906.83,890.409 890.072,874.569 873.408,858.609 856.832,842.537 840.337,826.36 823.917,810.089 \n",
       "  807.564,793.732 791.272,777.297 775.035,760.792 758.844,744.228 742.694,727.611 726.578,710.951 710.489,694.257 694.421,677.537 678.366,660.8 662.317,644.053 \n",
       "  \n",
       "  \"/>\n",
       "<path clip-path=\"url(#clip742)\" d=\"\n",
       "M1784.28 262.317 L1760.98 221.961 L1714.38 221.961 L1691.08 262.317 L1714.38 302.673 L1760.98 302.673 L1784.28 262.317 L1784.28 262.317  Z\n",
       "  \" fill=\"#009af9\" fill-rule=\"evenodd\" fill-opacity=\"1\"/>\n",
       "<polyline clip-path=\"url(#clip742)\" style=\"stroke:#000000; stroke-linecap:round; stroke-linejoin:round; stroke-width:4; stroke-opacity:1; fill:none\" points=\"\n",
       "  1784.28,262.317 1760.98,221.961 1714.38,221.961 1691.08,262.317 1714.38,302.673 1760.98,302.673 1784.28,262.317 \n",
       "  \"/>\n",
       "<path clip-path=\"url(#clip742)\" d=\"\n",
       "M1594.68 1337.68 L1571.38 1297.33 L1524.78 1297.33 L1501.48 1337.68 L1524.78 1378.04 L1571.38 1378.04 L1594.68 1337.68 L1594.68 1337.68  Z\n",
       "  \" fill=\"#009af9\" fill-rule=\"evenodd\" fill-opacity=\"1\"/>\n",
       "<polyline clip-path=\"url(#clip742)\" style=\"stroke:#000000; stroke-linecap:round; stroke-linejoin:round; stroke-width:4; stroke-opacity:1; fill:none\" points=\"\n",
       "  1594.68,1337.68 1571.38,1297.33 1524.78,1297.33 1501.48,1337.68 1524.78,1378.04 1571.38,1378.04 1594.68,1337.68 \n",
       "  \"/>\n",
       "<path clip-path=\"url(#clip742)\" d=\"\n",
       "M708.916 644.053 L685.617 603.697 L639.018 603.697 L615.718 644.053 L639.018 684.41 L685.617 684.41 L708.916 644.053 L708.916 644.053  Z\n",
       "  \" fill=\"#009af9\" fill-rule=\"evenodd\" fill-opacity=\"1\"/>\n",
       "<polyline clip-path=\"url(#clip742)\" style=\"stroke:#000000; stroke-linecap:round; stroke-linejoin:round; stroke-width:4; stroke-opacity:1; fill:none\" points=\"\n",
       "  708.916,644.053 685.617,603.697 639.018,603.697 615.718,644.053 639.018,684.41 685.617,684.41 708.916,644.053 \n",
       "  \"/>\n",
       "<path clip-path=\"url(#clip742)\" d=\"M1737.68 262.717 L1737.34 262.517 L1737.34 262.117 L1737.68 261.917 L1738.03 262.117 L1738.03 262.517 Z\" fill=\"#009af9\" fill-rule=\"evenodd\" fill-opacity=\"1\" stroke=\"#000000\" stroke-opacity=\"1\" stroke-width=\"3.2\"/>\n",
       "<path clip-path=\"url(#clip742)\" d=\"M1548.08 1338.08 L1547.74 1337.88 L1547.74 1337.48 L1548.08 1337.28 L1548.43 1337.48 L1548.43 1337.88 Z\" fill=\"#009af9\" fill-rule=\"evenodd\" fill-opacity=\"1\" stroke=\"#000000\" stroke-opacity=\"1\" stroke-width=\"3.2\"/>\n",
       "<path clip-path=\"url(#clip742)\" d=\"M662.317 644.453 L661.971 644.253 L661.971 643.853 L662.317 643.653 L662.664 643.853 L662.664 644.253 Z\" fill=\"#009af9\" fill-rule=\"evenodd\" fill-opacity=\"1\" stroke=\"#000000\" stroke-opacity=\"1\" stroke-width=\"3.2\"/>\n",
       "</svg>\n"
      ]
     },
     "execution_count": 7,
     "metadata": {},
     "output_type": "execute_result"
    }
   ],
   "source": [
    "graphplot(g2)"
   ]
  },
  {
   "cell_type": "markdown",
   "id": "7f5f5a6f-dee6-432c-91b1-1b461eba91c2",
   "metadata": {},
   "source": [
    "Now we will use a user-defined package to handle weighted graphs. Take a look at the code."
   ]
  },
  {
   "cell_type": "code",
   "execution_count": 8,
   "id": "90be380d-e935-4044-a3fa-ece4675bb6e6",
   "metadata": {
    "tags": []
   },
   "outputs": [],
   "source": [
    "using Revise"
   ]
  },
  {
   "cell_type": "code",
   "execution_count": 9,
   "id": "42b79e80-1ae0-41ef-907c-e7b98c79a8da",
   "metadata": {},
   "outputs": [],
   "source": [
    "includet(\"../julia-files/WeightedGraphs.jl\")\n",
    "using .WeightedGraphs"
   ]
  },
  {
   "cell_type": "markdown",
   "id": "1579ad3d-6121-45df-9eb7-f094c5c314eb",
   "metadata": {},
   "source": [
    "The package has a Vertex, which has a name (as a Symbol)"
   ]
  },
  {
   "cell_type": "code",
   "execution_count": 10,
   "id": "079f0609-1402-4cf1-8afa-d4443d08dbdf",
   "metadata": {},
   "outputs": [
    {
     "data": {
      "text/plain": [
       "Vertex(:C)"
      ]
     },
     "execution_count": 10,
     "metadata": {},
     "output_type": "execute_result"
    }
   ],
   "source": [
    "v1 = Vertex(:A)\n",
    "v2 = Vertex(:B)\n",
    "v3 = Vertex(:C)"
   ]
  },
  {
   "cell_type": "markdown",
   "id": "76eff765-eb9c-4710-b673-0e8fab980884",
   "metadata": {},
   "source": [
    "Consider a `WeightedGraph`"
   ]
  },
  {
   "cell_type": "code",
   "execution_count": 11,
   "id": "764048ff-269c-498e-a0e9-fc9b0b3c15cb",
   "metadata": {},
   "outputs": [
    {
     "data": {
      "text/plain": [
       "WeightedGraph(Vertex[], Main.WeightedGraphs.Edge[], SimpleGraph{Int64}(0, Vector{Int64}[]))"
      ]
     },
     "execution_count": 11,
     "metadata": {},
     "output_type": "execute_result"
    }
   ],
   "source": [
    "g = WeightedGraph()"
   ]
  },
  {
   "cell_type": "markdown",
   "id": "74fb05a0-ad2e-4995-bcb4-7a05c5a195b3",
   "metadata": {},
   "source": [
    "Add the three vertices defined above."
   ]
  },
  {
   "cell_type": "code",
   "execution_count": 12,
   "id": "0d74bca6-fcb2-4b5d-8612-37cd26164ca3",
   "metadata": {},
   "outputs": [
    {
     "data": {
      "text/plain": [
       "3-element Vector{Vertex}:\n",
       " Vertex(:A)\n",
       " Vertex(:B)\n",
       " Vertex(:C)"
      ]
     },
     "execution_count": 12,
     "metadata": {},
     "output_type": "execute_result"
    }
   ],
   "source": [
    "addVertex!(g,v1)\n",
    "addVertex!(g,v2)\n",
    "addVertex!(g,v3)"
   ]
  },
  {
   "cell_type": "markdown",
   "id": "b3b17fa3-e906-4208-9e11-3c910621181b",
   "metadata": {},
   "source": [
    "Since `Edge` is also in the `Graphs` package, we clarify that we want the one in the `WeightedGraphs` package:"
   ]
  },
  {
   "cell_type": "code",
   "execution_count": 13,
   "id": "f1aaa369-e742-4d07-a6a6-720a8ce59884",
   "metadata": {},
   "outputs": [
    {
     "data": {
      "text/plain": [
       "Main.WeightedGraphs.Edge(:C, :A, 7)"
      ]
     },
     "execution_count": 13,
     "metadata": {},
     "output_type": "execute_result"
    }
   ],
   "source": [
    "e1 = WeightedGraphs.Edge(:A,:B,3)\n",
    "e2 = WeightedGraphs.Edge(:B,:C,5)\n",
    "e3 = WeightedGraphs.Edge(:C,:A,7)"
   ]
  },
  {
   "cell_type": "markdown",
   "id": "7ccd2c84-96f0-4ce6-8140-c45297aaa629",
   "metadata": {},
   "source": [
    "Add the three edges"
   ]
  },
  {
   "cell_type": "code",
   "execution_count": 14,
   "id": "d76c6cad-3ceb-45cd-9735-304b28ac87b0",
   "metadata": {},
   "outputs": [
    {
     "data": {
      "text/plain": [
       "true"
      ]
     },
     "execution_count": 14,
     "metadata": {},
     "output_type": "execute_result"
    }
   ],
   "source": [
    "addEdge!(g,e1)\n",
    "addEdge!(g,e2)\n",
    "addEdge!(g,e3)"
   ]
  },
  {
   "cell_type": "code",
   "execution_count": 15,
   "id": "6cca4339-2627-4ddb-a2f5-89f30ab49586",
   "metadata": {},
   "outputs": [
    {
     "data": {
      "image/svg+xml": [
       "<?xml version=\"1.0\" encoding=\"utf-8\"?>\n",
       "<svg xmlns=\"http://www.w3.org/2000/svg\" xmlns:xlink=\"http://www.w3.org/1999/xlink\" width=\"600\" height=\"400\" viewBox=\"0 0 2400 1600\">\n",
       "<defs>\n",
       "  <clipPath id=\"clip770\">\n",
       "    <rect x=\"0\" y=\"0\" width=\"2400\" height=\"1600\"/>\n",
       "  </clipPath>\n",
       "</defs>\n",
       "<path clip-path=\"url(#clip770)\" d=\"\n",
       "M0 1600 L2400 1600 L2400 0 L0 0  Z\n",
       "  \" fill=\"#ffffff\" fill-rule=\"evenodd\" fill-opacity=\"1\"/>\n",
       "<defs>\n",
       "  <clipPath id=\"clip771\">\n",
       "    <rect x=\"480\" y=\"0\" width=\"1681\" height=\"1600\"/>\n",
       "  </clipPath>\n",
       "</defs>\n",
       "<path clip-path=\"url(#clip770)\" d=\"\n",
       "M447.244 1552.76 L1952.76 1552.76 L1952.76 47.2441 L447.244 47.2441  Z\n",
       "  \" fill=\"#ffffff\" fill-rule=\"evenodd\" fill-opacity=\"1\"/>\n",
       "<defs>\n",
       "  <clipPath id=\"clip772\">\n",
       "    <rect x=\"447\" y=\"47\" width=\"1507\" height=\"1507\"/>\n",
       "  </clipPath>\n",
       "</defs>\n",
       "<polyline clip-path=\"url(#clip772)\" style=\"stroke:#000000; stroke-linecap:round; stroke-linejoin:round; stroke-width:4; stroke-opacity:1; fill:none\" points=\"\n",
       "  662.317,262.317 683.731,269.164 705.146,276 726.565,282.814 747.99,289.595 769.421,296.334 790.861,303.018 812.312,309.637 833.776,316.181 855.253,322.638 \n",
       "  876.747,328.997 898.258,335.249 919.789,341.381 941.341,347.383 962.916,353.245 984.517,358.955 1006.14,364.503 1027.8,369.877 1049.48,375.068 1071.2,380.064 \n",
       "  1092.95,384.854 1114.74,389.427 1136.56,393.774 1158.43,397.882 1180.33,401.741 1202.28,405.341 1224.26,408.681 1246.29,411.773 1268.36,414.626 1290.47,417.253 \n",
       "  1312.61,419.662 1334.78,421.866 1356.99,423.876 1379.23,425.701 1401.5,427.353 1423.79,428.843 1446.1,430.181 1468.44,431.378 1490.81,432.446 1513.19,433.394 \n",
       "  1535.59,434.234 1558,434.977 1580.43,435.634 1602.87,436.214 1625.32,436.73 1647.79,437.191 1670.25,437.609 1692.73,437.995 1715.2,438.359 1737.68,438.712 \n",
       "  \n",
       "  \"/>\n",
       "<polyline clip-path=\"url(#clip772)\" style=\"stroke:#000000; stroke-linecap:round; stroke-linejoin:round; stroke-width:4; stroke-opacity:1; fill:none\" points=\"\n",
       "  662.317,262.317 667.26,285.394 672.212,308.467 677.185,331.533 682.189,354.588 687.235,377.627 692.331,400.647 697.49,423.645 702.721,446.617 708.034,469.558 \n",
       "  713.44,492.465 718.949,515.335 724.571,538.163 730.316,560.946 736.196,583.68 742.22,606.361 748.398,628.986 754.741,651.55 761.26,674.051 767.963,696.483 \n",
       "  774.863,718.844 781.968,741.129 789.29,763.335 796.838,785.458 804.623,807.495 812.655,829.441 820.934,851.297 829.45,873.066 838.192,894.753 847.15,916.36 \n",
       "  856.315,937.892 865.675,959.352 875.221,980.744 884.942,1002.07 894.827,1023.34 904.868,1044.55 915.052,1065.71 925.37,1086.82 935.812,1107.88 946.367,1128.91 \n",
       "  957.025,1149.89 967.776,1170.84 978.609,1191.76 989.515,1212.66 1000.48,1233.53 1011.5,1254.38 1022.56,1275.22 1033.65,1296.05 1044.76,1316.87 1055.88,1337.68 \n",
       "  \n",
       "  \"/>\n",
       "<polyline clip-path=\"url(#clip772)\" style=\"stroke:#000000; stroke-linecap:round; stroke-linejoin:round; stroke-width:4; stroke-opacity:1; fill:none\" points=\"\n",
       "  1737.68,438.712 1726.39,459.046 1715.09,479.374 1703.77,499.689 1692.42,519.984 1681.04,540.252 1669.62,560.487 1658.14,580.682 1646.61,600.831 1635,620.927 \n",
       "  1623.31,640.963 1611.54,660.933 1599.67,680.83 1587.7,700.648 1575.61,720.379 1563.4,740.018 1551.06,759.557 1538.57,778.99 1525.94,798.31 1513.16,817.512 \n",
       "  1500.2,836.587 1487.08,855.529 1473.76,874.333 1460.26,892.99 1446.55,911.495 1432.64,929.842 1418.52,948.029 1404.19,966.064 1389.68,983.954 1374.97,1001.7 \n",
       "  1360.1,1019.32 1345.06,1036.81 1329.86,1054.19 1314.51,1071.44 1299.03,1088.6 1283.41,1105.65 1267.67,1122.61 1251.81,1139.49 1235.85,1156.28 1219.8,1173.01 \n",
       "  1203.66,1189.66 1187.44,1206.26 1171.14,1222.8 1154.79,1239.3 1138.39,1255.76 1121.94,1272.18 1105.46,1288.58 1088.95,1304.96 1072.42,1321.32 1055.88,1337.68 \n",
       "  \n",
       "  \"/>\n",
       "<path clip-path=\"url(#clip772)\" d=\"\n",
       "M1168.71 439.706 L1213.88 439.706 L1213.88 367.441 L1168.71 367.441 L1168.71 439.706 L1168.71 439.706  Z\n",
       "  \" fill=\"#ffffff\" fill-rule=\"evenodd\" fill-opacity=\"1\"/>\n",
       "<polyline clip-path=\"url(#clip772)\" style=\"stroke:#000000; stroke-linecap:round; stroke-linejoin:round; stroke-width:0; stroke-opacity:0; fill:none\" points=\"\n",
       "  1168.71,439.706 1213.88,439.706 1213.88,367.441 1168.71,367.441 1168.71,439.706 \n",
       "  \"/>\n",
       "<path clip-path=\"url(#clip772)\" d=\"\n",
       "M786.025 854.612 L831.19 854.612 L831.19 782.347 L786.025 782.347 L786.025 854.612 L786.025 854.612  Z\n",
       "  \" fill=\"#ffffff\" fill-rule=\"evenodd\" fill-opacity=\"1\"/>\n",
       "<polyline clip-path=\"url(#clip772)\" style=\"stroke:#000000; stroke-linecap:round; stroke-linejoin:round; stroke-width:0; stroke-opacity:0; fill:none\" points=\"\n",
       "  786.025,854.612 831.19,854.612 831.19,782.347 786.025,782.347 786.025,854.612 \n",
       "  \"/>\n",
       "<path clip-path=\"url(#clip772)\" d=\"\n",
       "M1417.04 956.821 L1462.21 956.821 L1462.21 884.556 L1417.04 884.556 L1417.04 956.821 L1417.04 956.821  Z\n",
       "  \" fill=\"#ffffff\" fill-rule=\"evenodd\" fill-opacity=\"1\"/>\n",
       "<polyline clip-path=\"url(#clip772)\" style=\"stroke:#000000; stroke-linecap:round; stroke-linejoin:round; stroke-width:0; stroke-opacity:0; fill:none\" points=\"\n",
       "  1417.04,956.821 1462.21,956.821 1462.21,884.556 1417.04,884.556 1417.04,956.821 \n",
       "  \"/>\n",
       "<path clip-path=\"url(#clip772)\" d=\"\n",
       "M701.461 262.317 L681.889 228.418 L642.746 228.418 L623.174 262.317 L642.746 296.216 L681.889 296.216 L701.461 262.317 L701.461 262.317  Z\n",
       "  \" fill=\"#009af9\" fill-rule=\"evenodd\" fill-opacity=\"1\"/>\n",
       "<polyline clip-path=\"url(#clip772)\" style=\"stroke:#000000; stroke-linecap:round; stroke-linejoin:round; stroke-width:4; stroke-opacity:1; fill:none\" points=\"\n",
       "  701.461,262.317 681.889,228.418 642.746,228.418 623.174,262.317 642.746,296.216 681.889,296.216 701.461,262.317 \n",
       "  \"/>\n",
       "<path clip-path=\"url(#clip772)\" d=\"\n",
       "M1776.83 438.712 L1757.25 404.813 L1718.11 404.813 L1698.54 438.712 L1718.11 472.611 L1757.25 472.611 L1776.83 438.712 L1776.83 438.712  Z\n",
       "  \" fill=\"#009af9\" fill-rule=\"evenodd\" fill-opacity=\"1\"/>\n",
       "<polyline clip-path=\"url(#clip772)\" style=\"stroke:#000000; stroke-linecap:round; stroke-linejoin:round; stroke-width:4; stroke-opacity:1; fill:none\" points=\"\n",
       "  1776.83,438.712 1757.25,404.813 1718.11,404.813 1698.54,438.712 1718.11,472.611 1757.25,472.611 1776.83,438.712 \n",
       "  \"/>\n",
       "<path clip-path=\"url(#clip772)\" d=\"\n",
       "M1095.03 1337.68 L1075.46 1303.78 L1036.31 1303.78 L1016.74 1337.68 L1036.31 1371.58 L1075.46 1371.58 L1095.03 1337.68 L1095.03 1337.68  Z\n",
       "  \" fill=\"#009af9\" fill-rule=\"evenodd\" fill-opacity=\"1\"/>\n",
       "<polyline clip-path=\"url(#clip772)\" style=\"stroke:#000000; stroke-linecap:round; stroke-linejoin:round; stroke-width:4; stroke-opacity:1; fill:none\" points=\"\n",
       "  1095.03,1337.68 1075.46,1303.78 1036.31,1303.78 1016.74,1337.68 1036.31,1371.58 1075.46,1371.58 1095.03,1337.68 \n",
       "  \"/>\n",
       "<path clip-path=\"url(#clip772)\" d=\"M662.317 262.717 L661.971 262.517 L661.971 262.117 L662.317 261.917 L662.664 262.117 L662.664 262.517 Z\" fill=\"#009af9\" fill-rule=\"evenodd\" fill-opacity=\"1\" stroke=\"#000000\" stroke-opacity=\"1\" stroke-width=\"3.2\"/>\n",
       "<path clip-path=\"url(#clip772)\" d=\"M1737.68 439.112 L1737.34 438.912 L1737.34 438.512 L1737.68 438.312 L1738.03 438.512 L1738.03 438.912 Z\" fill=\"#009af9\" fill-rule=\"evenodd\" fill-opacity=\"1\" stroke=\"#000000\" stroke-opacity=\"1\" stroke-width=\"3.2\"/>\n",
       "<path clip-path=\"url(#clip772)\" d=\"M1055.88 1338.08 L1055.54 1337.88 L1055.54 1337.48 L1055.88 1337.28 L1056.23 1337.48 L1056.23 1337.88 Z\" fill=\"#009af9\" fill-rule=\"evenodd\" fill-opacity=\"1\" stroke=\"#000000\" stroke-opacity=\"1\" stroke-width=\"3.2\"/>\n",
       "<path clip-path=\"url(#clip770)\" d=\"M1195.01 402.389 Q1197.95 403.017 1199.59 405.002 Q1201.25 406.987 1201.25 409.903 Q1201.25 414.38 1198.17 416.83 Q1195.09 419.281 1189.42 419.281 Q1187.52 419.281 1185.49 418.896 Q1183.49 418.532 1181.34 417.782 L1181.34 413.833 Q1183.04 414.825 1185.07 415.332 Q1187.09 415.838 1189.3 415.838 Q1193.15 415.838 1195.16 414.319 Q1197.18 412.8 1197.18 409.903 Q1197.18 407.23 1195.3 405.731 Q1193.43 404.212 1190.09 404.212 L1186.57 404.212 L1186.57 400.85 L1190.25 400.85 Q1193.27 400.85 1194.87 399.655 Q1196.47 398.439 1196.47 396.171 Q1196.47 393.841 1194.81 392.606 Q1193.17 391.35 1190.09 391.35 Q1188.41 391.35 1186.49 391.715 Q1184.56 392.079 1182.25 392.849 L1182.25 389.203 Q1184.58 388.555 1186.61 388.231 Q1188.65 387.907 1190.46 387.907 Q1195.11 387.907 1197.83 390.034 Q1200.54 392.14 1200.54 395.745 Q1200.54 398.257 1199.1 399.999 Q1197.67 401.72 1195.01 402.389 Z\" fill=\"#000000\" fill-rule=\"evenodd\" fill-opacity=\"1\" /><path clip-path=\"url(#clip770)\" d=\"M798.886 803.36 L818.33 803.36 L818.33 805.101 L807.352 833.6 L803.078 833.6 L813.408 806.803 L798.886 806.803 L798.886 803.36 Z\" fill=\"#000000\" fill-rule=\"evenodd\" fill-opacity=\"1\" /><path clip-path=\"url(#clip770)\" d=\"M1431.12 905.569 L1447.18 905.569 L1447.18 909.012 L1434.86 909.012 L1434.86 916.425 Q1435.76 916.121 1436.65 915.98 Q1437.54 915.818 1438.43 915.818 Q1443.49 915.818 1446.45 918.592 Q1449.41 921.367 1449.41 926.107 Q1449.41 930.988 1446.37 933.702 Q1443.33 936.396 1437.8 936.396 Q1435.9 936.396 1433.91 936.072 Q1431.95 935.748 1429.84 935.1 L1429.84 930.988 Q1431.66 931.981 1433.61 932.467 Q1435.55 932.953 1437.72 932.953 Q1441.22 932.953 1443.27 931.11 Q1445.32 929.267 1445.32 926.107 Q1445.32 922.947 1443.27 921.104 Q1441.22 919.261 1437.72 919.261 Q1436.08 919.261 1434.44 919.625 Q1432.82 919.99 1431.12 920.76 L1431.12 905.569 Z\" fill=\"#000000\" fill-rule=\"evenodd\" fill-opacity=\"1\" /><path clip-path=\"url(#clip770)\" d=\"M662.317 251.228 L656.767 266.277 L667.887 266.277 L662.317 251.228 M660.008 247.197 L664.646 247.197 L676.171 277.437 L671.918 277.437 L669.163 269.68 L655.532 269.68 L652.777 277.437 L648.463 277.437 L660.008 247.197 Z\" fill=\"#000000\" fill-rule=\"evenodd\" fill-opacity=\"1\" /><path clip-path=\"url(#clip770)\" d=\"M1731.05 439.39 L1731.05 450.47 L1737.61 450.47 Q1740.91 450.47 1742.49 449.113 Q1744.09 447.735 1744.09 444.92 Q1744.09 442.084 1742.49 440.747 Q1740.91 439.39 1737.61 439.39 L1731.05 439.39 M1731.05 426.954 L1731.05 436.069 L1737.11 436.069 Q1740.1 436.069 1741.56 434.955 Q1743.04 433.82 1743.04 431.511 Q1743.04 429.223 1741.56 428.088 Q1740.1 426.954 1737.11 426.954 L1731.05 426.954 M1726.96 423.592 L1737.41 423.592 Q1742.09 423.592 1744.62 425.536 Q1747.15 427.481 1747.15 431.066 Q1747.15 433.841 1745.86 435.481 Q1744.56 437.122 1742.05 437.527 Q1745.07 438.175 1746.73 440.241 Q1748.41 442.287 1748.41 445.366 Q1748.41 449.416 1745.65 451.624 Q1742.9 453.832 1737.81 453.832 L1726.96 453.832 L1726.96 423.592 Z\" fill=\"#000000\" fill-rule=\"evenodd\" fill-opacity=\"1\" /><path clip-path=\"url(#clip770)\" d=\"M1068.08 1324.89 L1068.08 1329.21 Q1066.01 1327.28 1063.66 1326.33 Q1061.33 1325.38 1058.7 1325.38 Q1053.51 1325.38 1050.76 1328.56 Q1048.01 1331.72 1048.01 1337.71 Q1048.01 1343.69 1050.76 1346.87 Q1053.51 1350.03 1058.7 1350.03 Q1061.33 1350.03 1063.66 1349.08 Q1066.01 1348.12 1068.08 1346.2 L1068.08 1350.47 Q1065.93 1351.93 1063.52 1352.66 Q1061.13 1353.39 1058.46 1353.39 Q1051.59 1353.39 1047.64 1349.2 Q1043.69 1344.98 1043.69 1337.71 Q1043.69 1330.42 1047.64 1326.23 Q1051.59 1322.02 1058.46 1322.02 Q1061.17 1322.02 1063.56 1322.75 Q1065.97 1323.45 1068.08 1324.89 Z\" fill=\"#000000\" fill-rule=\"evenodd\" fill-opacity=\"1\" /></svg>\n"
      ]
     },
     "execution_count": 15,
     "metadata": {},
     "output_type": "execute_result"
    }
   ],
   "source": [
    "graphplot(g.graph, names=[\"A\",\"B\",\"C\"], edgelabel = Dict((1,2)=>3,(2,3)=>5,(1,3) => 7))"
   ]
  },
  {
   "cell_type": "markdown",
   "id": "27796611-83dc-4dc0-b853-8f10016c6611",
   "metadata": {},
   "source": [
    "One of the things to do in the project is to plot a graph with `plotgraph(g)` and it should add the vertex labels and the edge labels."
   ]
  },
  {
   "cell_type": "code",
   "execution_count": null,
   "id": "2e1afb95-a6ec-4192-9662-46ce0d79921f",
   "metadata": {},
   "outputs": [],
   "source": []
  }
 ],
 "metadata": {
  "kernelspec": {
   "display_name": "Julia 1.8.0",
   "language": "julia",
   "name": "julia-1.8"
  },
  "language_info": {
   "file_extension": ".jl",
   "mimetype": "application/julia",
   "name": "julia",
   "version": "1.8.0"
  }
 },
 "nbformat": 4,
 "nbformat_minor": 5
}
