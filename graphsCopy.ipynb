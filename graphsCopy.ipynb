{
 "cells": [
  {
   "cell_type": "markdown",
   "id": "9cc52fbf-f839-4b5c-aa95-eb3d87baedff",
   "metadata": {},
   "source": [
    "## Graphs"
   ]
  },
  {
   "cell_type": "markdown",
   "id": "b3ad5787-b2f2-44a7-ae56-e2ec948e721a",
   "metadata": {},
   "source": [
    "This is mainly for the shortest path project, but is helpful in general. There are both information here for existing modules (packages) and a user-defined one. \n",
    "\n",
    "First, let's look at the Graph package"
   ]
  },
  {
   "cell_type": "code",
   "execution_count": 1,
   "id": "3dfd7b6d-eb76-42e2-b2a5-8094ea5b8f6a",
   "metadata": {},
   "outputs": [],
   "source": [
    "using Graphs, Plots, GraphRecipes"
   ]
  },
  {
   "cell_type": "code",
   "execution_count": 2,
   "id": "d50ae830-9cd3-42f4-95dc-80f6166950fe",
   "metadata": {},
   "outputs": [
    {
     "data": {
      "text/plain": [
       "{5, 10} undirected simple Int64 graph"
      ]
     },
     "execution_count": 2,
     "metadata": {},
     "output_type": "execute_result"
    }
   ],
   "source": [
    "g = complete_graph(5)"
   ]
  },
  {
   "cell_type": "code",
   "execution_count": 3,
   "id": "fa33beef-4e09-4634-9a99-50a850be2f04",
   "metadata": {},
   "outputs": [
    {
     "data": {
      "image/svg+xml": "<?xml version=\"1.0\" encoding=\"utf-8\"?>\n<svg xmlns=\"http://www.w3.org/2000/svg\" xmlns:xlink=\"http://www.w3.org/1999/xlink\" width=\"600\" height=\"400\" viewBox=\"0 0 2400 1600\">\n<defs>\n  <clipPath id=\"clip710\">\n    <rect x=\"0\" y=\"0\" width=\"2400\" height=\"1600\"/>\n  </clipPath>\n</defs>\n<path clip-path=\"url(#clip710)\" d=\"\nM0 1600 L2400 1600 L2400 0 L0 0  Z\n  \" fill=\"#ffffff\" fill-rule=\"evenodd\" fill-opacity=\"1\"/>\n<defs>\n  <clipPath id=\"clip711\">\n    <rect x=\"480\" y=\"0\" width=\"1681\" height=\"1600\"/>\n  </clipPath>\n</defs>\n<path clip-path=\"url(#clip710)\" d=\"\nM447.244 1552.76 L1952.76 1552.76 L1952.76 47.2441 L447.244 47.2441  Z\n  \" fill=\"#ffffff\" fill-rule=\"evenodd\" fill-opacity=\"1\"/>\n<defs>\n  <clipPath id=\"clip712\">\n    <rect x=\"447\" y=\"47\" width=\"1507\" height=\"1507\"/>\n  </clipPath>\n</defs>\n<polyline clip-path=\"url(#clip712)\" style=\"stroke:#000000; stroke-linecap:round; stroke-linejoin:round; stroke-width:4; stroke-opacity:1; fill:none\" points=\"\n  1171.16,1337.68 914.407,262.317 \n  \"/>\n<polyline clip-path=\"url(#clip712)\" style=\"stroke:#000000; stroke-linecap:round; stroke-linejoin:round; stroke-width:4; stroke-opacity:1; fill:none\" points=\"\n  1171.16,1337.68 662.317,895.752 \n  \"/>\n<polyline clip-path=\"url(#clip712)\" style=\"stroke:#000000; stroke-linecap:round; stroke-linejoin:round; stroke-width:4; stroke-opacity:1; fill:none\" points=\"\n  1171.16,1337.68 1579.05,312.703 \n  \"/>\n<polyline clip-path=\"url(#clip712)\" style=\"stroke:#000000; stroke-linecap:round; stroke-linejoin:round; stroke-width:4; stroke-opacity:1; fill:none\" points=\"\n  1171.16,1337.68 1737.68,977.327 \n  \"/>\n<polyline clip-path=\"url(#clip712)\" style=\"stroke:#000000; stroke-linecap:round; stroke-linejoin:round; stroke-width:4; stroke-opacity:1; fill:none\" points=\"\n  914.407,262.317 662.317,895.752 \n  \"/>\n<polyline clip-path=\"url(#clip712)\" style=\"stroke:#000000; stroke-linecap:round; stroke-linejoin:round; stroke-width:4; stroke-opacity:1; fill:none\" points=\"\n  914.407,262.317 1579.05,312.703 \n  \"/>\n<polyline clip-path=\"url(#clip712)\" style=\"stroke:#000000; stroke-linecap:round; stroke-linejoin:round; stroke-width:4; stroke-opacity:1; fill:none\" points=\"\n  914.407,262.317 1737.68,977.327 \n  \"/>\n<polyline clip-path=\"url(#clip712)\" style=\"stroke:#000000; stroke-linecap:round; stroke-linejoin:round; stroke-width:4; stroke-opacity:1; fill:none\" points=\"\n  662.317,895.752 1579.05,312.703 \n  \"/>\n<polyline clip-path=\"url(#clip712)\" style=\"stroke:#000000; stroke-linecap:round; stroke-linejoin:round; stroke-width:4; stroke-opacity:1; fill:none\" points=\"\n  662.317,895.752 1737.68,977.327 \n  \"/>\n<polyline clip-path=\"url(#clip712)\" style=\"stroke:#000000; stroke-linecap:round; stroke-linejoin:round; stroke-width:4; stroke-opacity:1; fill:none\" points=\"\n  1579.05,312.703 1737.68,977.327 \n  \"/>\n<path clip-path=\"url(#clip712)\" d=\"\nM1203.42 1337.68 L1187.29 1309.74 L1155.03 1309.74 L1138.9 1337.68 L1155.03 1365.62 L1187.29 1365.62 L1203.42 1337.68 L1203.42 1337.68  Z\n  \" fill=\"#009af9\" fill-rule=\"evenodd\" fill-opacity=\"1\"/>\n<polyline clip-path=\"url(#clip712)\" style=\"stroke:#000000; stroke-linecap:round; stroke-linejoin:round; stroke-width:4; stroke-opacity:1; fill:none\" points=\"\n  1203.42,1337.68 1187.29,1309.74 1155.03,1309.74 1138.9,1337.68 1155.03,1365.62 1187.29,1365.62 1203.42,1337.68 \n  \"/>\n<path clip-path=\"url(#clip712)\" d=\"\nM946.668 262.317 L930.537 234.378 L898.276 234.378 L882.146 262.317 L898.276 290.256 L930.537 290.256 L946.668 262.317 L946.668 262.317  Z\n  \" fill=\"#009af9\" fill-rule=\"evenodd\" fill-opacity=\"1\"/>\n<polyline clip-path=\"url(#clip712)\" style=\"stroke:#000000; stroke-linecap:round; stroke-linejoin:round; stroke-width:4; stroke-opacity:1; fill:none\" points=\"\n  946.668,262.317 930.537,234.378 898.276,234.378 882.146,262.317 898.276,290.256 930.537,290.256 946.668,262.317 \n  \"/>\n<path clip-path=\"url(#clip712)\" d=\"\nM694.578 895.752 L678.448 867.813 L646.187 867.813 L630.056 895.752 L646.187 923.691 L678.448 923.691 L694.578 895.752 L694.578 895.752  Z\n  \" fill=\"#009af9\" fill-rule=\"evenodd\" fill-opacity=\"1\"/>\n<polyline clip-path=\"url(#clip712)\" style=\"stroke:#000000; stroke-linecap:round; stroke-linejoin:round; stroke-width:4; stroke-opacity:1; fill:none\" points=\"\n  694.578,895.752 678.448,867.813 646.187,867.813 630.056,895.752 646.187,923.691 678.448,923.691 694.578,895.752 \n  \"/>\n<path clip-path=\"url(#clip712)\" d=\"\nM1611.31 312.703 L1595.18 284.764 L1562.92 284.764 L1546.79 312.703 L1562.92 340.642 L1595.18 340.642 L1611.31 312.703 L1611.31 312.703  Z\n  \" fill=\"#009af9\" fill-rule=\"evenodd\" fill-opacity=\"1\"/>\n<polyline clip-path=\"url(#clip712)\" style=\"stroke:#000000; stroke-linecap:round; stroke-linejoin:round; stroke-width:4; stroke-opacity:1; fill:none\" points=\"\n  1611.31,312.703 1595.18,284.764 1562.92,284.764 1546.79,312.703 1562.92,340.642 1595.18,340.642 1611.31,312.703 \n  \"/>\n<path clip-path=\"url(#clip712)\" d=\"\nM1769.94 977.327 L1753.81 949.389 L1721.55 949.389 L1705.42 977.327 L1721.55 1005.27 L1753.81 1005.27 L1769.94 977.327 L1769.94 977.327  Z\n  \" fill=\"#009af9\" fill-rule=\"evenodd\" fill-opacity=\"1\"/>\n<polyline clip-path=\"url(#clip712)\" style=\"stroke:#000000; stroke-linecap:round; stroke-linejoin:round; stroke-width:4; stroke-opacity:1; fill:none\" points=\"\n  1769.94,977.327 1753.81,949.389 1721.55,949.389 1705.42,977.327 1721.55,1005.27 1753.81,1005.27 1769.94,977.327 \n  \"/>\n<path clip-path=\"url(#clip712)\" d=\"M1171.16 1338.08 L1170.82 1337.88 L1170.82 1337.48 L1171.16 1337.28 L1171.51 1337.48 L1171.51 1337.88 Z\" fill=\"#009af9\" fill-rule=\"evenodd\" fill-opacity=\"1\" stroke=\"#000000\" stroke-opacity=\"1\" stroke-width=\"3.2\"/>\n<path clip-path=\"url(#clip712)\" d=\"M914.407 262.717 L914.06 262.517 L914.06 262.117 L914.407 261.917 L914.753 262.117 L914.753 262.517 Z\" fill=\"#009af9\" fill-rule=\"evenodd\" fill-opacity=\"1\" stroke=\"#000000\" stroke-opacity=\"1\" stroke-width=\"3.2\"/>\n<path clip-path=\"url(#clip712)\" d=\"M662.317 896.152 L661.971 895.952 L661.971 895.552 L662.317 895.352 L662.664 895.552 L662.664 895.952 Z\" fill=\"#009af9\" fill-rule=\"evenodd\" fill-opacity=\"1\" stroke=\"#000000\" stroke-opacity=\"1\" stroke-width=\"3.2\"/>\n<path clip-path=\"url(#clip712)\" d=\"M1579.05 313.103 L1578.7 312.903 L1578.7 312.503 L1579.05 312.303 L1579.39 312.503 L1579.39 312.903 Z\" fill=\"#009af9\" fill-rule=\"evenodd\" fill-opacity=\"1\" stroke=\"#000000\" stroke-opacity=\"1\" stroke-width=\"3.2\"/>\n<path clip-path=\"url(#clip712)\" d=\"M1737.68 977.727 L1737.34 977.527 L1737.34 977.127 L1737.68 976.927 L1738.03 977.127 L1738.03 977.527 Z\" fill=\"#009af9\" fill-rule=\"evenodd\" fill-opacity=\"1\" stroke=\"#000000\" stroke-opacity=\"1\" stroke-width=\"3.2\"/>\n</svg>\n"
      "image/svg+xml": [
       "<?xml version=\"1.0\" encoding=\"utf-8\"?>\n",
       "<svg xmlns=\"http://www.w3.org/2000/svg\" xmlns:xlink=\"http://www.w3.org/1999/xlink\" width=\"600\" height=\"400\" viewBox=\"0 0 2400 1600\">\n",
       "<defs>\n",
       "  <clipPath id=\"clip380\">\n",
       "    <rect x=\"0\" y=\"0\" width=\"2400\" height=\"1600\"/>\n",
       "  </clipPath>\n",
       "</defs>\n",
       "<path clip-path=\"url(#clip380)\" d=\"\n",
       "M0 1600 L2400 1600 L2400 0 L0 0  Z\n",
       "  \" fill=\"#ffffff\" fill-rule=\"evenodd\" fill-opacity=\"1\"/>\n",
       "<defs>\n",
       "  <clipPath id=\"clip381\">\n",
       "    <rect x=\"480\" y=\"0\" width=\"1681\" height=\"1600\"/>\n",
       "  </clipPath>\n",
       "</defs>\n",
       "<path clip-path=\"url(#clip380)\" d=\"\n",
       "M447.244 1552.76 L1952.76 1552.76 L1952.76 47.2441 L447.244 47.2441  Z\n",
       "  \" fill=\"#ffffff\" fill-rule=\"evenodd\" fill-opacity=\"1\"/>\n",
       "<defs>\n",
       "  <clipPath id=\"clip382\">\n",
       "    <rect x=\"447\" y=\"47\" width=\"1507\" height=\"1507\"/>\n",
       "  </clipPath>\n",
       "</defs>\n",
       "<polyline clip-path=\"url(#clip382)\" style=\"stroke:#000000; stroke-linecap:round; stroke-linejoin:round; stroke-width:4; stroke-opacity:1; fill:none\" points=\"\n",
       "  1737.68,518.02 1018.83,1337.68 \n",
       "  \"/>\n",
       "<polyline clip-path=\"url(#clip382)\" style=\"stroke:#000000; stroke-linecap:round; stroke-linejoin:round; stroke-width:4; stroke-opacity:1; fill:none\" points=\"\n",
       "  1737.68,518.02 1683.45,1182.63 \n",
       "  \"/>\n",
       "<polyline clip-path=\"url(#clip382)\" style=\"stroke:#000000; stroke-linecap:round; stroke-linejoin:round; stroke-width:4; stroke-opacity:1; fill:none\" points=\"\n",
       "  1737.68,518.02 662.317,768.897 \n",
       "  \"/>\n",
       "<polyline clip-path=\"url(#clip382)\" style=\"stroke:#000000; stroke-linecap:round; stroke-linejoin:round; stroke-width:4; stroke-opacity:1; fill:none\" points=\"\n",
       "  1737.68,518.02 1106.59,262.317 \n",
       "  \"/>\n",
       "<polyline clip-path=\"url(#clip382)\" style=\"stroke:#000000; stroke-linecap:round; stroke-linejoin:round; stroke-width:4; stroke-opacity:1; fill:none\" points=\"\n",
       "  1018.83,1337.68 1683.45,1182.63 \n",
       "  \"/>\n",
       "<polyline clip-path=\"url(#clip382)\" style=\"stroke:#000000; stroke-linecap:round; stroke-linejoin:round; stroke-width:4; stroke-opacity:1; fill:none\" points=\"\n",
       "  1018.83,1337.68 662.317,768.897 \n",
       "  \"/>\n",
       "<polyline clip-path=\"url(#clip382)\" style=\"stroke:#000000; stroke-linecap:round; stroke-linejoin:round; stroke-width:4; stroke-opacity:1; fill:none\" points=\"\n",
       "  1018.83,1337.68 1106.59,262.317 \n",
       "  \"/>\n",
       "<polyline clip-path=\"url(#clip382)\" style=\"stroke:#000000; stroke-linecap:round; stroke-linejoin:round; stroke-width:4; stroke-opacity:1; fill:none\" points=\"\n",
       "  1683.45,1182.63 662.317,768.897 \n",
       "  \"/>\n",
       "<polyline clip-path=\"url(#clip382)\" style=\"stroke:#000000; stroke-linecap:round; stroke-linejoin:round; stroke-width:4; stroke-opacity:1; fill:none\" points=\"\n",
       "  1683.45,1182.63 1106.59,262.317 \n",
       "  \"/>\n",
       "<polyline clip-path=\"url(#clip382)\" style=\"stroke:#000000; stroke-linecap:round; stroke-linejoin:round; stroke-width:4; stroke-opacity:1; fill:none\" points=\"\n",
       "  662.317,768.897 1106.59,262.317 \n",
       "  \"/>\n",
       "<path clip-path=\"url(#clip382)\" d=\"\n",
       "M1769.94 518.02 L1753.81 490.081 L1721.55 490.081 L1705.42 518.02 L1721.55 545.959 L1753.81 545.959 L1769.94 518.02 L1769.94 518.02  Z\n",
       "  \" fill=\"#009af9\" fill-rule=\"evenodd\" fill-opacity=\"1\"/>\n",
       "<polyline clip-path=\"url(#clip382)\" style=\"stroke:#000000; stroke-linecap:round; stroke-linejoin:round; stroke-width:4; stroke-opacity:1; fill:none\" points=\"\n",
       "  1769.94,518.02 1753.81,490.081 1721.55,490.081 1705.42,518.02 1721.55,545.959 1753.81,545.959 1769.94,518.02 \n",
       "  \"/>\n",
       "<path clip-path=\"url(#clip382)\" d=\"\n",
       "M1051.09 1337.68 L1034.96 1309.74 L1002.7 1309.74 L986.573 1337.68 L1002.7 1365.62 L1034.96 1365.62 L1051.09 1337.68 L1051.09 1337.68  Z\n",
       "  \" fill=\"#009af9\" fill-rule=\"evenodd\" fill-opacity=\"1\"/>\n",
       "<polyline clip-path=\"url(#clip382)\" style=\"stroke:#000000; stroke-linecap:round; stroke-linejoin:round; stroke-width:4; stroke-opacity:1; fill:none\" points=\"\n",
       "  1051.09,1337.68 1034.96,1309.74 1002.7,1309.74 986.573,1337.68 1002.7,1365.62 1034.96,1365.62 1051.09,1337.68 \n",
       "  \"/>\n",
       "<path clip-path=\"url(#clip382)\" d=\"\n",
       "M1715.71 1182.63 L1699.58 1154.69 L1667.32 1154.69 L1651.19 1182.63 L1667.32 1210.57 L1699.58 1210.57 L1715.71 1182.63 L1715.71 1182.63  Z\n",
       "  \" fill=\"#009af9\" fill-rule=\"evenodd\" fill-opacity=\"1\"/>\n",
       "<polyline clip-path=\"url(#clip382)\" style=\"stroke:#000000; stroke-linecap:round; stroke-linejoin:round; stroke-width:4; stroke-opacity:1; fill:none\" points=\"\n",
       "  1715.71,1182.63 1699.58,1154.69 1667.32,1154.69 1651.19,1182.63 1667.32,1210.57 1699.58,1210.57 1715.71,1182.63 \n",
       "  \"/>\n",
       "<path clip-path=\"url(#clip382)\" d=\"\n",
       "M694.578 768.897 L678.448 740.958 L646.187 740.958 L630.056 768.897 L646.187 796.835 L678.448 796.835 L694.578 768.897 L694.578 768.897  Z\n",
       "  \" fill=\"#009af9\" fill-rule=\"evenodd\" fill-opacity=\"1\"/>\n",
       "<polyline clip-path=\"url(#clip382)\" style=\"stroke:#000000; stroke-linecap:round; stroke-linejoin:round; stroke-width:4; stroke-opacity:1; fill:none\" points=\"\n",
       "  694.578,768.897 678.448,740.958 646.187,740.958 630.056,768.897 646.187,796.835 678.448,796.835 694.578,768.897 \n",
       "  \"/>\n",
       "<path clip-path=\"url(#clip382)\" d=\"\n",
       "M1138.85 262.317 L1122.72 234.378 L1090.46 234.378 L1074.33 262.317 L1090.46 290.256 L1122.72 290.256 L1138.85 262.317 L1138.85 262.317  Z\n",
       "  \" fill=\"#009af9\" fill-rule=\"evenodd\" fill-opacity=\"1\"/>\n",
       "<polyline clip-path=\"url(#clip382)\" style=\"stroke:#000000; stroke-linecap:round; stroke-linejoin:round; stroke-width:4; stroke-opacity:1; fill:none\" points=\"\n",
       "  1138.85,262.317 1122.72,234.378 1090.46,234.378 1074.33,262.317 1090.46,290.256 1122.72,290.256 1138.85,262.317 \n",
       "  \"/>\n",
       "<path clip-path=\"url(#clip382)\" d=\"M1737.68 518.42 L1737.34 518.22 L1737.34 517.82 L1737.68 517.62 L1738.03 517.82 L1738.03 518.22 Z\" fill=\"#009af9\" fill-rule=\"evenodd\" fill-opacity=\"1\" stroke=\"#000000\" stroke-opacity=\"1\" stroke-width=\"3.2\"/>\n",
       "<path clip-path=\"url(#clip382)\" d=\"M1018.83 1338.08 L1018.49 1337.88 L1018.49 1337.48 L1018.83 1337.28 L1019.18 1337.48 L1019.18 1337.88 Z\" fill=\"#009af9\" fill-rule=\"evenodd\" fill-opacity=\"1\" stroke=\"#000000\" stroke-opacity=\"1\" stroke-width=\"3.2\"/>\n",
       "<path clip-path=\"url(#clip382)\" d=\"M1683.45 1183.03 L1683.1 1182.83 L1683.1 1182.43 L1683.45 1182.23 L1683.79 1182.43 L1683.79 1182.83 Z\" fill=\"#009af9\" fill-rule=\"evenodd\" fill-opacity=\"1\" stroke=\"#000000\" stroke-opacity=\"1\" stroke-width=\"3.2\"/>\n",
       "<path clip-path=\"url(#clip382)\" d=\"M662.317 769.297 L661.971 769.097 L661.971 768.697 L662.317 768.497 L662.664 768.697 L662.664 769.097 Z\" fill=\"#009af9\" fill-rule=\"evenodd\" fill-opacity=\"1\" stroke=\"#000000\" stroke-opacity=\"1\" stroke-width=\"3.2\"/>\n",
       "<path clip-path=\"url(#clip382)\" d=\"M1106.59 262.717 L1106.24 262.517 L1106.24 262.117 L1106.59 261.917 L1106.94 262.117 L1106.94 262.517 Z\" fill=\"#009af9\" fill-rule=\"evenodd\" fill-opacity=\"1\" stroke=\"#000000\" stroke-opacity=\"1\" stroke-width=\"3.2\"/>\n",
       "</svg>\n"
      ]
     },
     "execution_count": 3,
     "metadata": {},
     "output_type": "execute_result"
    }
   ],
   "source": [
    "graphplot(g, curves=false)"
   ]
  },
  {
   "cell_type": "code",
   "execution_count": 4,
   "id": "2e5b024a-03c2-4dce-8f16-4b657fb0baef",
   "metadata": {},
   "outputs": [
    {
     "data": {
      "text/plain": [
       "{0, 0} undirected simple Int64 graph"
      ]
     },
     "execution_count": 4,
     "metadata": {},
     "output_type": "execute_result"
    }
   ],
   "source": [
    "g2 = SimpleGraph()"
   ]
  },
  {
   "cell_type": "code",
   "execution_count": 5,
   "id": "dfe8def4-d51c-4ea0-ac1a-e0fbb78b5638",
   "metadata": {
    "collapsed": true,
    "jupyter": {
     "outputs_hidden": true
    },
    "tags": []
   },
   "outputs": [
    {
     "ename": "LoadError",
     "evalue": "MethodError: reducing over an empty collection is not allowed; consider supplying `init` to the reducer",
     "output_type": "error",
     "traceback": [
      "MethodError: reducing over an empty collection is not allowed; consider supplying `init` to the reducer",
      "",
      "Stacktrace:",
      "  [1] mapreduce_empty(#unused#::typeof(identity), op::Function, T::Type)",
      "    @ Base .\\reduce.jl:359",
      "  [2] reduce_empty(op::Base.MappingRF{typeof(identity), typeof(max)}, #unused#::Type{Int64})",
      "    @ Base .\\reduce.jl:348",
      "  [3] reduce_empty_iter",
      "    @ .\\reduce.jl:371 [inlined]",
      "  [4] mapreduce_empty_iter(f::Function, op::Function, itr::Vector{Int64}, ItrEltype::Base.HasEltype)",
      "    @ Base .\\reduce.jl:367",
      "  [5] _mapreduce",
      "    @ .\\reduce.jl:419 [inlined]",
      "  [6] _mapreduce_dim",
      "    @ .\\reducedim.jl:365 [inlined]",
      "  [7] #mapreduce#764",
      "    @ .\\reducedim.jl:357 [inlined]",
      "  [8] mapreduce",
      "    @ .\\reducedim.jl:357 [inlined]",
      "  [9] #_maximum#782",
      "    @ .\\reducedim.jl:999 [inlined]",
      " [10] _maximum",
      "    @ .\\reducedim.jl:999 [inlined]",
      " [11] #_maximum#781",
      "    @ .\\reducedim.jl:998 [inlined]",
      " [12] _maximum",
      "    @ .\\reducedim.jl:998 [inlined]",
      " [13] #maximum#779",
      "    @ .\\reducedim.jl:994 [inlined]",
      " [14] maximum",
      "    @ .\\reducedim.jl:994 [inlined]",
      " [15] _broadcast_getindex_evalf",
      "    @ .\\broadcast.jl:670 [inlined]",
      " [16] _broadcast_getindex",
      "    @ .\\broadcast.jl:643 [inlined]",
      " [17] #29",
      "    @ .\\broadcast.jl:1075 [inlined]",
      " [18] ntuple",
      "    @ .\\ntuple.jl:49 [inlined]",
      " [19] copy(bc::Base.Broadcast.Broadcasted{Base.Broadcast.Style{Tuple}, Nothing, typeof(maximum), Tuple{Tuple{Vector{Int64}, Vector{Int64}}}})",
      "    @ Base.Broadcast .\\broadcast.jl:1075",
      " [20] materialize",
      "    @ .\\broadcast.jl:860 [inlined]",
      " [21] infer_size_from(::Vector{Int64}, ::Vararg{Vector{Int64}})",
      "    @ GraphRecipes C:\\Users\\Camer\\.julia\\packages\\GraphRecipes\\rzVTu\\src\\graph_layouts.jl:3",
      " [22] macro expansion",
      "    @ C:\\Users\\Camer\\.julia\\packages\\GraphRecipes\\rzVTu\\src\\graphs.jl:432 [inlined]",
      " [23] apply_recipe(plotattributes::AbstractDict{Symbol, Any}, g::GraphRecipes.GraphPlot)",
      "    @ GraphRecipes C:\\Users\\Camer\\.julia\\packages\\RecipesBase\\6AijY\\src\\RecipesBase.jl:299",
      " [24] _process_userrecipes!(plt::Any, plotattributes::Any, args::Any)",
      "    @ RecipesPipeline C:\\Users\\Camer\\.julia\\packages\\RecipesPipeline\\o2vnV\\src\\user_recipe.jl:38",
      " [25] recipe_pipeline!(plt::Any, plotattributes::Any, args::Any)",
      "    @ RecipesPipeline C:\\Users\\Camer\\.julia\\packages\\RecipesPipeline\\o2vnV\\src\\RecipesPipeline.jl:72",
      " [26] _plot!(plt::Plots.Plot, plotattributes::Any, args::Any)",
      "    @ Plots C:\\Users\\Camer\\.julia\\packages\\Plots\\AAjgN\\src\\plot.jl:232",
      " [27] plot(args::Any; kw::Base.Pairs{Symbol, V, Tuple{Vararg{Symbol, N}}, NamedTuple{names, T}} where {V, N, names, T<:Tuple{Vararg{Any, N}}})",
      "    @ Plots C:\\Users\\Camer\\.julia\\packages\\Plots\\AAjgN\\src\\plot.jl:107",
      " [28] plot",
      "    @ C:\\Users\\Camer\\.julia\\packages\\Plots\\AAjgN\\src\\plot.jl:98 [inlined]",
      " [29] #graphplot#80",
      "    @ C:\\Users\\Camer\\.julia\\packages\\RecipesBase\\6AijY\\src\\RecipesBase.jl:379 [inlined]",
      " [30] graphplot(args::SimpleGraph{Int64})",
      "    @ GraphRecipes C:\\Users\\Camer\\.julia\\packages\\RecipesBase\\6AijY\\src\\RecipesBase.jl:379",
      " [31] top-level scope",
      "    @ In[5]:1",
      " [32] eval",
      "    @ .\\boot.jl:368 [inlined]",
      " [33] include_string(mapexpr::typeof(REPL.softscope), mod::Module, code::String, filename::String)",
      "    @ Base .\\loading.jl:1428"
     ]
    }
   ],
   "source": [
    "graphplot(g2)"
   ]
  },
  {
   "cell_type": "code",
   "execution_count": 6,
   "id": "e7353b1b-6494-44a8-8f85-149ebb1b013b",
   "metadata": {},
   "outputs": [
    {
     "data": {
      "text/plain": [
       "true"
      ]
     },
     "execution_count": 6,
     "metadata": {},
     "output_type": "execute_result"
    }
   ],
   "source": [
    "add_vertices!(g2,3)\n",
    "add_edge!(g2,1,2)\n",
    "add_edge!(g2,2,3)\n",
    "add_edge!(g2,3,1)"
   ]
  },
  {
   "cell_type": "code",
   "execution_count": 7,
   "id": "f32fab16-539a-4787-8ee9-01f7c46ebeee",
   "metadata": {},
   "outputs": [
    {
     "data": {
      "image/svg+xml": "<?xml version=\"1.0\" encoding=\"utf-8\"?>\n<svg xmlns=\"http://www.w3.org/2000/svg\" xmlns:xlink=\"http://www.w3.org/1999/xlink\" width=\"600\" height=\"400\" viewBox=\"0 0 2400 1600\">\n<defs>\n  <clipPath id=\"clip740\">\n    <rect x=\"0\" y=\"0\" width=\"2400\" height=\"1600\"/>\n  </clipPath>\n</defs>\n<path clip-path=\"url(#clip740)\" d=\"\nM0 1600 L2400 1600 L2400 0 L0 0  Z\n  \" fill=\"#ffffff\" fill-rule=\"evenodd\" fill-opacity=\"1\"/>\n<defs>\n  <clipPath id=\"clip741\">\n    <rect x=\"480\" y=\"0\" width=\"1681\" height=\"1600\"/>\n  </clipPath>\n</defs>\n<path clip-path=\"url(#clip740)\" d=\"\nM447.244 1552.76 L1952.76 1552.76 L1952.76 47.2441 L447.244 47.2441  Z\n  \" fill=\"#ffffff\" fill-rule=\"evenodd\" fill-opacity=\"1\"/>\n<defs>\n  <clipPath id=\"clip742\">\n    <rect x=\"447\" y=\"47\" width=\"1507\" height=\"1507\"/>\n  </clipPath>\n</defs>\n<polyline clip-path=\"url(#clip742)\" style=\"stroke:#000000; stroke-linecap:round; stroke-linejoin:round; stroke-width:4; stroke-opacity:1; fill:none\" points=\"\n  1737.68,262.317 1737.05,284.835 1736.41,307.35 1735.75,329.862 1735.06,352.368 1734.32,374.867 1733.53,397.356 1732.67,419.833 1731.74,442.297 1730.72,464.746 \n  1729.61,487.178 1728.38,509.591 1727.04,531.983 1725.57,554.352 1723.96,576.696 1722.2,599.013 1720.27,621.302 1718.17,643.561 1715.89,665.787 1713.41,687.979 \n  1710.73,710.134 1707.83,732.252 1704.71,754.329 1701.35,776.365 1697.74,798.357 1693.87,820.303 1689.74,842.204 1685.36,864.061 1680.75,885.876 1675.91,907.65 \n  1670.85,929.387 1665.59,951.088 1660.13,972.754 1654.49,994.388 1648.68,1015.99 1642.7,1037.57 1636.58,1059.11 1630.31,1080.64 1623.91,1102.14 1617.4,1123.62 \n  1610.77,1145.08 1604.05,1166.52 1597.25,1187.95 1590.36,1209.37 1583.42,1230.77 1576.41,1252.16 1569.37,1273.55 1562.29,1294.93 1555.19,1316.31 1548.08,1337.68 \n  \n  \"/>\n<polyline clip-path=\"url(#clip742)\" style=\"stroke:#000000; stroke-linecap:round; stroke-linejoin:round; stroke-width:4; stroke-opacity:1; fill:none\" points=\"\n  1737.68,262.317 1716.84,273.208 1695.99,284.089 1675.13,294.949 1654.26,305.778 1633.38,316.566 1612.48,327.302 1591.56,337.976 1570.61,348.578 1549.63,359.097 \n  1528.62,369.523 1507.57,379.845 1486.49,390.054 1465.35,400.139 1444.17,410.089 1422.94,419.895 1401.66,429.546 1380.31,439.031 1358.91,448.341 1337.43,457.464 \n  1315.89,466.391 1294.27,475.112 1272.58,483.615 1250.81,491.891 1228.95,499.929 1207,507.72 1184.97,515.262 1162.85,522.568 1140.65,529.645 1118.37,536.506 \n  1096.02,543.16 1073.61,549.618 1051.12,555.889 1028.57,561.985 1005.97,567.915 983.304,573.69 960.591,579.321 937.83,584.817 915.026,590.19 892.181,595.448 \n  869.299,600.603 846.384,605.665 823.44,610.645 800.47,615.552 777.478,620.397 754.468,625.19 731.443,629.942 708.407,634.663 685.364,639.363 662.317,644.053 \n  \n  \"/>\n<polyline clip-path=\"url(#clip742)\" style=\"stroke:#000000; stroke-linecap:round; stroke-linejoin:round; stroke-width:4; stroke-opacity:1; fill:none\" points=\"\n  1548.08,1337.68 1527.98,1326.12 1507.88,1314.54 1487.8,1302.95 1467.73,1291.34 1447.69,1279.68 1427.69,1267.99 1407.73,1256.24 1387.81,1244.43 1367.95,1232.56 \n  1348.15,1220.6 1328.41,1208.56 1308.75,1196.43 1289.18,1184.19 1269.69,1171.84 1250.29,1159.37 1231,1146.77 1211.81,1134.03 1192.74,1121.14 1173.79,1108.1 \n  1154.97,1094.89 1136.29,1081.51 1117.74,1067.95 1099.35,1054.2 1081.11,1040.25 1063.03,1026.1 1045.12,1011.73 1027.36,997.173 1009.75,982.422 992.279,967.489 \n  974.946,952.384 957.741,937.115 940.658,921.69 923.69,906.118 906.83,890.409 890.072,874.569 873.408,858.609 856.832,842.537 840.337,826.36 823.917,810.089 \n  807.564,793.732 791.272,777.297 775.035,760.792 758.844,744.228 742.694,727.611 726.578,710.951 710.489,694.257 694.421,677.537 678.366,660.8 662.317,644.053 \n  \n  \"/>\n<path clip-path=\"url(#clip742)\" d=\"\nM1784.28 262.317 L1760.98 221.961 L1714.38 221.961 L1691.08 262.317 L1714.38 302.673 L1760.98 302.673 L1784.28 262.317 L1784.28 262.317  Z\n  \" fill=\"#009af9\" fill-rule=\"evenodd\" fill-opacity=\"1\"/>\n<polyline clip-path=\"url(#clip742)\" style=\"stroke:#000000; stroke-linecap:round; stroke-linejoin:round; stroke-width:4; stroke-opacity:1; fill:none\" points=\"\n  1784.28,262.317 1760.98,221.961 1714.38,221.961 1691.08,262.317 1714.38,302.673 1760.98,302.673 1784.28,262.317 \n  \"/>\n<path clip-path=\"url(#clip742)\" d=\"\nM1594.68 1337.68 L1571.38 1297.33 L1524.78 1297.33 L1501.48 1337.68 L1524.78 1378.04 L1571.38 1378.04 L1594.68 1337.68 L1594.68 1337.68  Z\n  \" fill=\"#009af9\" fill-rule=\"evenodd\" fill-opacity=\"1\"/>\n<polyline clip-path=\"url(#clip742)\" style=\"stroke:#000000; stroke-linecap:round; stroke-linejoin:round; stroke-width:4; stroke-opacity:1; fill:none\" points=\"\n  1594.68,1337.68 1571.38,1297.33 1524.78,1297.33 1501.48,1337.68 1524.78,1378.04 1571.38,1378.04 1594.68,1337.68 \n  \"/>\n<path clip-path=\"url(#clip742)\" d=\"\nM708.916 644.053 L685.617 603.697 L639.018 603.697 L615.718 644.053 L639.018 684.41 L685.617 684.41 L708.916 644.053 L708.916 644.053  Z\n  \" fill=\"#009af9\" fill-rule=\"evenodd\" fill-opacity=\"1\"/>\n<polyline clip-path=\"url(#clip742)\" style=\"stroke:#000000; stroke-linecap:round; stroke-linejoin:round; stroke-width:4; stroke-opacity:1; fill:none\" points=\"\n  708.916,644.053 685.617,603.697 639.018,603.697 615.718,644.053 639.018,684.41 685.617,684.41 708.916,644.053 \n  \"/>\n<path clip-path=\"url(#clip742)\" d=\"M1737.68 262.717 L1737.34 262.517 L1737.34 262.117 L1737.68 261.917 L1738.03 262.117 L1738.03 262.517 Z\" fill=\"#009af9\" fill-rule=\"evenodd\" fill-opacity=\"1\" stroke=\"#000000\" stroke-opacity=\"1\" stroke-width=\"3.2\"/>\n<path clip-path=\"url(#clip742)\" d=\"M1548.08 1338.08 L1547.74 1337.88 L1547.74 1337.48 L1548.08 1337.28 L1548.43 1337.48 L1548.43 1337.88 Z\" fill=\"#009af9\" fill-rule=\"evenodd\" fill-opacity=\"1\" stroke=\"#000000\" stroke-opacity=\"1\" stroke-width=\"3.2\"/>\n<path clip-path=\"url(#clip742)\" d=\"M662.317 644.453 L661.971 644.253 L661.971 643.853 L662.317 643.653 L662.664 643.853 L662.664 644.253 Z\" fill=\"#009af9\" fill-rule=\"evenodd\" fill-opacity=\"1\" stroke=\"#000000\" stroke-opacity=\"1\" stroke-width=\"3.2\"/>\n</svg>\n"
      "image/svg+xml": [
       "<?xml version=\"1.0\" encoding=\"utf-8\"?>\n",
       "<svg xmlns=\"http://www.w3.org/2000/svg\" xmlns:xlink=\"http://www.w3.org/1999/xlink\" width=\"600\" height=\"400\" viewBox=\"0 0 2400 1600\">\n",
       "<defs>\n",
       "  <clipPath id=\"clip410\">\n",
       "    <rect x=\"0\" y=\"0\" width=\"2400\" height=\"1600\"/>\n",
       "  </clipPath>\n",
       "</defs>\n",
       "<path clip-path=\"url(#clip410)\" d=\"\n",
       "M0 1600 L2400 1600 L2400 0 L0 0  Z\n",
       "  \" fill=\"#ffffff\" fill-rule=\"evenodd\" fill-opacity=\"1\"/>\n",
       "<defs>\n",
       "  <clipPath id=\"clip411\">\n",
       "    <rect x=\"480\" y=\"0\" width=\"1681\" height=\"1600\"/>\n",
       "  </clipPath>\n",
       "</defs>\n",
       "<path clip-path=\"url(#clip410)\" d=\"\n",
       "M447.244 1552.76 L1952.76 1552.76 L1952.76 47.2441 L447.244 47.2441  Z\n",
       "  \" fill=\"#ffffff\" fill-rule=\"evenodd\" fill-opacity=\"1\"/>\n",
       "<defs>\n",
       "  <clipPath id=\"clip412\">\n",
       "    <rect x=\"447\" y=\"47\" width=\"1507\" height=\"1507\"/>\n",
       "  </clipPath>\n",
       "</defs>\n",
       "<polyline clip-path=\"url(#clip412)\" style=\"stroke:#000000; stroke-linecap:round; stroke-linejoin:round; stroke-width:4; stroke-opacity:1; fill:none\" points=\"\n",
       "  953.59,262.317 967.256,280.764 980.93,299.203 994.619,317.627 1008.33,336.028 1022.08,354.397 1035.86,372.728 1049.69,391.013 1063.57,409.244 1077.52,427.412 \n",
       "  1091.54,445.512 1105.63,463.534 1119.81,481.471 1134.08,499.315 1148.46,517.059 1162.94,534.695 1177.54,552.215 1192.27,569.611 1207.13,586.876 1222.12,604.002 \n",
       "  1237.27,620.981 1252.57,637.806 1268.04,654.468 1283.67,670.961 1299.49,687.275 1315.49,703.405 1331.68,719.35 1348.05,735.117 1364.58,750.714 1381.29,766.149 \n",
       "  1398.15,781.429 1415.15,796.562 1432.3,811.557 1449.58,826.42 1466.98,841.16 1484.5,855.783 1502.13,870.299 1519.86,884.714 1537.68,899.036 1555.59,913.274 \n",
       "  1573.58,927.434 1591.64,941.525 1609.76,955.553 1627.93,969.528 1646.15,983.457 1664.41,997.346 1682.7,1011.21 1701.02,1025.04 1719.35,1038.86 1737.68,1052.67 \n",
       "  \n",
       "  \"/>\n",
       "<polyline clip-path=\"url(#clip412)\" style=\"stroke:#000000; stroke-linecap:round; stroke-linejoin:round; stroke-width:4; stroke-opacity:1; fill:none\" points=\"\n",
       "  953.59,262.317 950.821,285.124 948.042,307.927 945.241,330.725 942.409,353.514 939.535,376.292 936.607,399.055 933.616,421.801 930.551,444.528 927.401,467.231 \n",
       "  924.156,489.908 920.805,512.557 917.338,535.174 913.743,557.757 910.011,580.302 906.131,602.807 902.092,625.27 897.883,647.686 893.495,670.054 888.916,692.37 \n",
       "  884.136,714.631 879.144,736.835 873.929,758.979 868.482,781.06 862.792,803.075 856.847,825.021 850.649,846.899 844.208,868.711 837.533,890.459 830.637,912.147 \n",
       "  823.528,933.778 816.219,955.355 808.718,976.88 801.038,998.356 793.189,1019.79 785.18,1041.17 777.024,1062.52 768.729,1083.83 760.308,1105.11 751.77,1126.35 \n",
       "  743.127,1147.56 734.388,1168.75 725.564,1189.92 716.667,1211.07 707.706,1232.2 698.691,1253.31 689.635,1274.41 680.547,1295.51 671.437,1316.6 662.317,1337.68 \n",
       "  \n",
       "  \"/>\n",
       "<polyline clip-path=\"url(#clip412)\" style=\"stroke:#000000; stroke-linecap:round; stroke-linejoin:round; stroke-width:4; stroke-opacity:1; fill:none\" points=\"\n",
       "  1737.68,1052.67 1716.58,1061.67 1695.47,1070.66 1674.36,1079.62 1653.24,1088.56 1632.11,1097.45 1610.96,1106.28 1589.8,1115.06 1568.62,1123.76 1547.42,1132.37 \n",
       "  1526.19,1140.89 1504.93,1149.31 1483.64,1157.6 1462.32,1165.77 1440.96,1173.81 1419.56,1181.69 1398.12,1189.41 1376.63,1196.97 1355.1,1204.34 1333.52,1211.53 \n",
       "  1311.88,1218.51 1290.19,1225.28 1268.43,1231.83 1246.62,1238.14 1224.74,1244.21 1202.79,1250.03 1180.78,1255.59 1158.7,1260.91 1136.56,1265.99 1114.36,1270.86 \n",
       "  1092.11,1275.51 1069.8,1279.96 1047.44,1284.22 1025.03,1288.29 1002.58,1292.2 980.086,1295.95 957.553,1299.55 934.983,1303.02 912.379,1306.35 889.745,1309.57 \n",
       "  867.082,1312.68 844.394,1315.7 821.684,1318.64 798.954,1321.49 776.207,1324.29 753.446,1327.03 730.673,1329.73 707.893,1332.4 685.106,1335.05 662.317,1337.68 \n",
       "  \n",
       "  \"/>\n",
       "<path clip-path=\"url(#clip412)\" d=\"\n",
       "M1000.19 262.317 L976.889 221.961 L930.29 221.961 L906.99 262.317 L930.29 302.673 L976.889 302.673 L1000.19 262.317 L1000.19 262.317  Z\n",
       "  \" fill=\"#009af9\" fill-rule=\"evenodd\" fill-opacity=\"1\"/>\n",
       "<polyline clip-path=\"url(#clip412)\" style=\"stroke:#000000; stroke-linecap:round; stroke-linejoin:round; stroke-width:4; stroke-opacity:1; fill:none\" points=\"\n",
       "  1000.19,262.317 976.889,221.961 930.29,221.961 906.99,262.317 930.29,302.673 976.889,302.673 1000.19,262.317 \n",
       "  \"/>\n",
       "<path clip-path=\"url(#clip412)\" d=\"\n",
       "M1784.28 1052.67 L1760.98 1012.32 L1714.38 1012.32 L1691.08 1052.67 L1714.38 1093.03 L1760.98 1093.03 L1784.28 1052.67 L1784.28 1052.67  Z\n",
       "  \" fill=\"#009af9\" fill-rule=\"evenodd\" fill-opacity=\"1\"/>\n",
       "<polyline clip-path=\"url(#clip412)\" style=\"stroke:#000000; stroke-linecap:round; stroke-linejoin:round; stroke-width:4; stroke-opacity:1; fill:none\" points=\"\n",
       "  1784.28,1052.67 1760.98,1012.32 1714.38,1012.32 1691.08,1052.67 1714.38,1093.03 1760.98,1093.03 1784.28,1052.67 \n",
       "  \"/>\n",
       "<path clip-path=\"url(#clip412)\" d=\"\n",
       "M708.916 1337.68 L685.617 1297.33 L639.018 1297.33 L615.718 1337.68 L639.018 1378.04 L685.617 1378.04 L708.916 1337.68 L708.916 1337.68  Z\n",
       "  \" fill=\"#009af9\" fill-rule=\"evenodd\" fill-opacity=\"1\"/>\n",
       "<polyline clip-path=\"url(#clip412)\" style=\"stroke:#000000; stroke-linecap:round; stroke-linejoin:round; stroke-width:4; stroke-opacity:1; fill:none\" points=\"\n",
       "  708.916,1337.68 685.617,1297.33 639.018,1297.33 615.718,1337.68 639.018,1378.04 685.617,1378.04 708.916,1337.68 \n",
       "  \"/>\n",
       "<path clip-path=\"url(#clip412)\" d=\"M953.59 262.717 L953.243 262.517 L953.243 262.117 L953.59 261.917 L953.936 262.117 L953.936 262.517 Z\" fill=\"#009af9\" fill-rule=\"evenodd\" fill-opacity=\"1\" stroke=\"#000000\" stroke-opacity=\"1\" stroke-width=\"3.2\"/>\n",
       "<path clip-path=\"url(#clip412)\" d=\"M1737.68 1053.07 L1737.34 1052.87 L1737.34 1052.47 L1737.68 1052.27 L1738.03 1052.47 L1738.03 1052.87 Z\" fill=\"#009af9\" fill-rule=\"evenodd\" fill-opacity=\"1\" stroke=\"#000000\" stroke-opacity=\"1\" stroke-width=\"3.2\"/>\n",
       "<path clip-path=\"url(#clip412)\" d=\"M662.317 1338.08 L661.971 1337.88 L661.971 1337.48 L662.317 1337.28 L662.664 1337.48 L662.664 1337.88 Z\" fill=\"#009af9\" fill-rule=\"evenodd\" fill-opacity=\"1\" stroke=\"#000000\" stroke-opacity=\"1\" stroke-width=\"3.2\"/>\n",
       "</svg>\n"
      ]
     },
     "execution_count": 7,
     "metadata": {},
     "output_type": "execute_result"
    }
   ],
   "source": [
    "graphplot(g2)"
   ]
  },
  {
   "cell_type": "markdown",
   "id": "7f5f5a6f-dee6-432c-91b1-1b461eba91c2",
   "metadata": {},
   "source": [
    "Now we will use a user-defined package to handle weighted graphs. Take a look at the code."
   ]
  },
  {
   "cell_type": "code",
   "execution_count": 8,
   "id": "90be380d-e935-4044-a3fa-ece4675bb6e6",
   "metadata": {
    "tags": []
   },
   "outputs": [],
   "source": [
    "using Revise"
   ]
  },
  {
   "cell_type": "code",
   "execution_count": 25,
   "id": "42b79e80-1ae0-41ef-907c-e7b98c79a8da",
   "metadata": {},
   "outputs": [],
   "source": [
    "includet(\"../Sci-Comp-ShortestPath/WeightedGraphsCopy.jl\")\n",
    "using .WeightedGraphs"
   ]
  },
  {
   "cell_type": "markdown",
   "id": "1579ad3d-6121-45df-9eb7-f094c5c314eb",
   "metadata": {},
   "source": [
    "The package has a Vertex, which has a name (as a Symbol)"
   ]
  },
  {
   "cell_type": "code",
   "execution_count": 26,
   "id": "079f0609-1402-4cf1-8afa-d4443d08dbdf",
   "metadata": {},
   "outputs": [
    {
     "data": {
      "text/plain": [
       "Vertex(:C)"
      ]
     },
     "execution_count": 26,
     "metadata": {},
     "output_type": "execute_result"
    }
   ],
   "source": [
    "v1 = Vertex(:A)\n",
    "v2 = Vertex(:B)\n",
    "v3 = Vertex(:C)"
   ]
  },
  {
   "cell_type": "markdown",
   "id": "76eff765-eb9c-4710-b673-0e8fab980884",
   "metadata": {},
   "source": [
    "Consider a `WeightedGraph`"
   ]
  },
  {
   "cell_type": "code",
   "execution_count": 37,
   "id": "764048ff-269c-498e-a0e9-fc9b0b3c15cb",
   "metadata": {},
   "outputs": [
    {
     "data": {
      "text/plain": [
       "WeightedGraph(Vertex[], Main.WeightedGraphs.Edge[], SimpleGraph{Int64}(0, Vector{Int64}[]))"
      ]
     },
     "execution_count": 37,
     "metadata": {},
     "output_type": "execute_result"
    }
   ],
   "source": [
    "g = WeightedGraph()"
   ]
  },
  {
   "cell_type": "markdown",
   "id": "74fb05a0-ad2e-4995-bcb4-7a05c5a195b3",
   "metadata": {},
   "source": [
    "Add the three vertices defined above."
   ]
  },
  {
   "cell_type": "code",
   "execution_count": 38,
   "id": "0d74bca6-fcb2-4b5d-8612-37cd26164ca3",
   "metadata": {},
   "outputs": [
    {
     "data": {
      "text/plain": [
       "3-element Vector{Vertex}:\n",
       " Vertex(:A)\n",
       " Vertex(:B)\n",
       " Vertex(:C)"
      ]
     },
     "execution_count": 38,
     "metadata": {},
     "output_type": "execute_result"
    }
   ],
   "source": [
    "addVertex!(g,v1)\n",
    "addVertex!(g,v2)\n",
    "addVertex!(g,v3)"
   ]
  },
  {
   "cell_type": "markdown",
   "id": "b3b17fa3-e906-4208-9e11-3c910621181b",
   "metadata": {},
   "source": [
    "Since `Edge` is also in the `Graphs` package, we clarify that we want the one in the `WeightedGraphs` package:"
   ]
  },
  {
   "cell_type": "code",
   "execution_count": 39,
   "id": "f1aaa369-e742-4d07-a6a6-720a8ce59884",
   "metadata": {},
   "outputs": [
    {
     "data": {
      "text/plain": [
       "Main.WeightedGraphs.Edge(:C, :A, 7)"
      ]
     },
     "execution_count": 39,
     "metadata": {},
     "output_type": "execute_result"
    }
   ],
   "source": [
    "e1 = WeightedGraphs.Edge(:A,:B,3)\n",
    "e2 = WeightedGraphs.Edge(:B,:C,5)\n",
    "e3 = WeightedGraphs.Edge(:C,:A,7)"
   ]
  },
  {
   "cell_type": "markdown",
   "id": "7ccd2c84-96f0-4ce6-8140-c45297aaa629",
   "metadata": {},
   "source": [
    "Add the three edges"
   ]
  },
  {
   "cell_type": "code",
   "execution_count": 40,
   "id": "d76c6cad-3ceb-45cd-9735-304b28ac87b0",
   "metadata": {},
   "outputs": [
    {
     "data": {
      "text/plain": [
       "true"
      ]
     },
     "execution_count": 40,
     "metadata": {},
     "output_type": "execute_result"
    }
   ],
   "source": [
    "addEdge!(g,e1)\n",
    "addEdge!(g,e2)\n",
    "addEdge!(g,e3)"
   ]
  },
  {
   "cell_type": "code",
   "execution_count": 41,
   "id": "6cca4339-2627-4ddb-a2f5-89f30ab49586",
   "metadata": {},
   "outputs": [
    {
     "data": {
      "image/svg+xml": "<?xml version=\"1.0\" encoding=\"utf-8\"?>\n<svg xmlns=\"http://www.w3.org/2000/svg\" xmlns:xlink=\"http://www.w3.org/1999/xlink\" width=\"600\" height=\"400\" viewBox=\"0 0 2400 1600\">\n<defs>\n  <clipPath id=\"clip770\">\n    <rect x=\"0\" y=\"0\" width=\"2400\" height=\"1600\"/>\n  </clipPath>\n</defs>\n<path clip-path=\"url(#clip770)\" d=\"\nM0 1600 L2400 1600 L2400 0 L0 0  Z\n  \" fill=\"#ffffff\" fill-rule=\"evenodd\" fill-opacity=\"1\"/>\n<defs>\n  <clipPath id=\"clip771\">\n    <rect x=\"480\" y=\"0\" width=\"1681\" height=\"1600\"/>\n  </clipPath>\n</defs>\n<path clip-path=\"url(#clip770)\" d=\"\nM447.244 1552.76 L1952.76 1552.76 L1952.76 47.2441 L447.244 47.2441  Z\n  \" fill=\"#ffffff\" fill-rule=\"evenodd\" fill-opacity=\"1\"/>\n<defs>\n  <clipPath id=\"clip772\">\n    <rect x=\"447\" y=\"47\" width=\"1507\" height=\"1507\"/>\n  </clipPath>\n</defs>\n<polyline clip-path=\"url(#clip772)\" style=\"stroke:#000000; stroke-linecap:round; stroke-linejoin:round; stroke-width:4; stroke-opacity:1; fill:none\" points=\"\n  662.317,262.317 683.731,269.164 705.146,276 726.565,282.814 747.99,289.595 769.421,296.334 790.861,303.018 812.312,309.637 833.776,316.181 855.253,322.638 \n  876.747,328.997 898.258,335.249 919.789,341.381 941.341,347.383 962.916,353.245 984.517,358.955 1006.14,364.503 1027.8,369.877 1049.48,375.068 1071.2,380.064 \n  1092.95,384.854 1114.74,389.427 1136.56,393.774 1158.43,397.882 1180.33,401.741 1202.28,405.341 1224.26,408.681 1246.29,411.773 1268.36,414.626 1290.47,417.253 \n  1312.61,419.662 1334.78,421.866 1356.99,423.876 1379.23,425.701 1401.5,427.353 1423.79,428.843 1446.1,430.181 1468.44,431.378 1490.81,432.446 1513.19,433.394 \n  1535.59,434.234 1558,434.977 1580.43,435.634 1602.87,436.214 1625.32,436.73 1647.79,437.191 1670.25,437.609 1692.73,437.995 1715.2,438.359 1737.68,438.712 \n  \n  \"/>\n<polyline clip-path=\"url(#clip772)\" style=\"stroke:#000000; stroke-linecap:round; stroke-linejoin:round; stroke-width:4; stroke-opacity:1; fill:none\" points=\"\n  662.317,262.317 667.26,285.394 672.212,308.467 677.185,331.533 682.189,354.588 687.235,377.627 692.331,400.647 697.49,423.645 702.721,446.617 708.034,469.558 \n  713.44,492.465 718.949,515.335 724.571,538.163 730.316,560.946 736.196,583.68 742.22,606.361 748.398,628.986 754.741,651.55 761.26,674.051 767.963,696.483 \n  774.863,718.844 781.968,741.129 789.29,763.335 796.838,785.458 804.623,807.495 812.655,829.441 820.934,851.297 829.45,873.066 838.192,894.753 847.15,916.36 \n  856.315,937.892 865.675,959.352 875.221,980.744 884.942,1002.07 894.827,1023.34 904.868,1044.55 915.052,1065.71 925.37,1086.82 935.812,1107.88 946.367,1128.91 \n  957.025,1149.89 967.776,1170.84 978.609,1191.76 989.515,1212.66 1000.48,1233.53 1011.5,1254.38 1022.56,1275.22 1033.65,1296.05 1044.76,1316.87 1055.88,1337.68 \n  \n  \"/>\n<polyline clip-path=\"url(#clip772)\" style=\"stroke:#000000; stroke-linecap:round; stroke-linejoin:round; stroke-width:4; stroke-opacity:1; fill:none\" points=\"\n  1737.68,438.712 1726.39,459.046 1715.09,479.374 1703.77,499.689 1692.42,519.984 1681.04,540.252 1669.62,560.487 1658.14,580.682 1646.61,600.831 1635,620.927 \n  1623.31,640.963 1611.54,660.933 1599.67,680.83 1587.7,700.648 1575.61,720.379 1563.4,740.018 1551.06,759.557 1538.57,778.99 1525.94,798.31 1513.16,817.512 \n  1500.2,836.587 1487.08,855.529 1473.76,874.333 1460.26,892.99 1446.55,911.495 1432.64,929.842 1418.52,948.029 1404.19,966.064 1389.68,983.954 1374.97,1001.7 \n  1360.1,1019.32 1345.06,1036.81 1329.86,1054.19 1314.51,1071.44 1299.03,1088.6 1283.41,1105.65 1267.67,1122.61 1251.81,1139.49 1235.85,1156.28 1219.8,1173.01 \n  1203.66,1189.66 1187.44,1206.26 1171.14,1222.8 1154.79,1239.3 1138.39,1255.76 1121.94,1272.18 1105.46,1288.58 1088.95,1304.96 1072.42,1321.32 1055.88,1337.68 \n  \n  \"/>\n<path clip-path=\"url(#clip772)\" d=\"\nM1168.71 439.706 L1213.88 439.706 L1213.88 367.441 L1168.71 367.441 L1168.71 439.706 L1168.71 439.706  Z\n  \" fill=\"#ffffff\" fill-rule=\"evenodd\" fill-opacity=\"1\"/>\n<polyline clip-path=\"url(#clip772)\" style=\"stroke:#000000; stroke-linecap:round; stroke-linejoin:round; stroke-width:0; stroke-opacity:0; fill:none\" points=\"\n  1168.71,439.706 1213.88,439.706 1213.88,367.441 1168.71,367.441 1168.71,439.706 \n  \"/>\n<path clip-path=\"url(#clip772)\" d=\"\nM786.025 854.612 L831.19 854.612 L831.19 782.347 L786.025 782.347 L786.025 854.612 L786.025 854.612  Z\n  \" fill=\"#ffffff\" fill-rule=\"evenodd\" fill-opacity=\"1\"/>\n<polyline clip-path=\"url(#clip772)\" style=\"stroke:#000000; stroke-linecap:round; stroke-linejoin:round; stroke-width:0; stroke-opacity:0; fill:none\" points=\"\n  786.025,854.612 831.19,854.612 831.19,782.347 786.025,782.347 786.025,854.612 \n  \"/>\n<path clip-path=\"url(#clip772)\" d=\"\nM1417.04 956.821 L1462.21 956.821 L1462.21 884.556 L1417.04 884.556 L1417.04 956.821 L1417.04 956.821  Z\n  \" fill=\"#ffffff\" fill-rule=\"evenodd\" fill-opacity=\"1\"/>\n<polyline clip-path=\"url(#clip772)\" style=\"stroke:#000000; stroke-linecap:round; stroke-linejoin:round; stroke-width:0; stroke-opacity:0; fill:none\" points=\"\n  1417.04,956.821 1462.21,956.821 1462.21,884.556 1417.04,884.556 1417.04,956.821 \n  \"/>\n<path clip-path=\"url(#clip772)\" d=\"\nM701.461 262.317 L681.889 228.418 L642.746 228.418 L623.174 262.317 L642.746 296.216 L681.889 296.216 L701.461 262.317 L701.461 262.317  Z\n  \" fill=\"#009af9\" fill-rule=\"evenodd\" fill-opacity=\"1\"/>\n<polyline clip-path=\"url(#clip772)\" style=\"stroke:#000000; stroke-linecap:round; stroke-linejoin:round; stroke-width:4; stroke-opacity:1; fill:none\" points=\"\n  701.461,262.317 681.889,228.418 642.746,228.418 623.174,262.317 642.746,296.216 681.889,296.216 701.461,262.317 \n  \"/>\n<path clip-path=\"url(#clip772)\" d=\"\nM1776.83 438.712 L1757.25 404.813 L1718.11 404.813 L1698.54 438.712 L1718.11 472.611 L1757.25 472.611 L1776.83 438.712 L1776.83 438.712  Z\n  \" fill=\"#009af9\" fill-rule=\"evenodd\" fill-opacity=\"1\"/>\n<polyline clip-path=\"url(#clip772)\" style=\"stroke:#000000; stroke-linecap:round; stroke-linejoin:round; stroke-width:4; stroke-opacity:1; fill:none\" points=\"\n  1776.83,438.712 1757.25,404.813 1718.11,404.813 1698.54,438.712 1718.11,472.611 1757.25,472.611 1776.83,438.712 \n  \"/>\n<path clip-path=\"url(#clip772)\" d=\"\nM1095.03 1337.68 L1075.46 1303.78 L1036.31 1303.78 L1016.74 1337.68 L1036.31 1371.58 L1075.46 1371.58 L1095.03 1337.68 L1095.03 1337.68  Z\n  \" fill=\"#009af9\" fill-rule=\"evenodd\" fill-opacity=\"1\"/>\n<polyline clip-path=\"url(#clip772)\" style=\"stroke:#000000; stroke-linecap:round; stroke-linejoin:round; stroke-width:4; stroke-opacity:1; fill:none\" points=\"\n  1095.03,1337.68 1075.46,1303.78 1036.31,1303.78 1016.74,1337.68 1036.31,1371.58 1075.46,1371.58 1095.03,1337.68 \n  \"/>\n<path clip-path=\"url(#clip772)\" d=\"M662.317 262.717 L661.971 262.517 L661.971 262.117 L662.317 261.917 L662.664 262.117 L662.664 262.517 Z\" fill=\"#009af9\" fill-rule=\"evenodd\" fill-opacity=\"1\" stroke=\"#000000\" stroke-opacity=\"1\" stroke-width=\"3.2\"/>\n<path clip-path=\"url(#clip772)\" d=\"M1737.68 439.112 L1737.34 438.912 L1737.34 438.512 L1737.68 438.312 L1738.03 438.512 L1738.03 438.912 Z\" fill=\"#009af9\" fill-rule=\"evenodd\" fill-opacity=\"1\" stroke=\"#000000\" stroke-opacity=\"1\" stroke-width=\"3.2\"/>\n<path clip-path=\"url(#clip772)\" d=\"M1055.88 1338.08 L1055.54 1337.88 L1055.54 1337.48 L1055.88 1337.28 L1056.23 1337.48 L1056.23 1337.88 Z\" fill=\"#009af9\" fill-rule=\"evenodd\" fill-opacity=\"1\" stroke=\"#000000\" stroke-opacity=\"1\" stroke-width=\"3.2\"/>\n<path clip-path=\"url(#clip770)\" d=\"M1195.01 402.389 Q1197.95 403.017 1199.59 405.002 Q1201.25 406.987 1201.25 409.903 Q1201.25 414.38 1198.17 416.83 Q1195.09 419.281 1189.42 419.281 Q1187.52 419.281 1185.49 418.896 Q1183.49 418.532 1181.34 417.782 L1181.34 413.833 Q1183.04 414.825 1185.07 415.332 Q1187.09 415.838 1189.3 415.838 Q1193.15 415.838 1195.16 414.319 Q1197.18 412.8 1197.18 409.903 Q1197.18 407.23 1195.3 405.731 Q1193.43 404.212 1190.09 404.212 L1186.57 404.212 L1186.57 400.85 L1190.25 400.85 Q1193.27 400.85 1194.87 399.655 Q1196.47 398.439 1196.47 396.171 Q1196.47 393.841 1194.81 392.606 Q1193.17 391.35 1190.09 391.35 Q1188.41 391.35 1186.49 391.715 Q1184.56 392.079 1182.25 392.849 L1182.25 389.203 Q1184.58 388.555 1186.61 388.231 Q1188.65 387.907 1190.46 387.907 Q1195.11 387.907 1197.83 390.034 Q1200.54 392.14 1200.54 395.745 Q1200.54 398.257 1199.1 399.999 Q1197.67 401.72 1195.01 402.389 Z\" fill=\"#000000\" fill-rule=\"evenodd\" fill-opacity=\"1\" /><path clip-path=\"url(#clip770)\" d=\"M798.886 803.36 L818.33 803.36 L818.33 805.101 L807.352 833.6 L803.078 833.6 L813.408 806.803 L798.886 806.803 L798.886 803.36 Z\" fill=\"#000000\" fill-rule=\"evenodd\" fill-opacity=\"1\" /><path clip-path=\"url(#clip770)\" d=\"M1431.12 905.569 L1447.18 905.569 L1447.18 909.012 L1434.86 909.012 L1434.86 916.425 Q1435.76 916.121 1436.65 915.98 Q1437.54 915.818 1438.43 915.818 Q1443.49 915.818 1446.45 918.592 Q1449.41 921.367 1449.41 926.107 Q1449.41 930.988 1446.37 933.702 Q1443.33 936.396 1437.8 936.396 Q1435.9 936.396 1433.91 936.072 Q1431.95 935.748 1429.84 935.1 L1429.84 930.988 Q1431.66 931.981 1433.61 932.467 Q1435.55 932.953 1437.72 932.953 Q1441.22 932.953 1443.27 931.11 Q1445.32 929.267 1445.32 926.107 Q1445.32 922.947 1443.27 921.104 Q1441.22 919.261 1437.72 919.261 Q1436.08 919.261 1434.44 919.625 Q1432.82 919.99 1431.12 920.76 L1431.12 905.569 Z\" fill=\"#000000\" fill-rule=\"evenodd\" fill-opacity=\"1\" /><path clip-path=\"url(#clip770)\" d=\"M662.317 251.228 L656.767 266.277 L667.887 266.277 L662.317 251.228 M660.008 247.197 L664.646 247.197 L676.171 277.437 L671.918 277.437 L669.163 269.68 L655.532 269.68 L652.777 277.437 L648.463 277.437 L660.008 247.197 Z\" fill=\"#000000\" fill-rule=\"evenodd\" fill-opacity=\"1\" /><path clip-path=\"url(#clip770)\" d=\"M1731.05 439.39 L1731.05 450.47 L1737.61 450.47 Q1740.91 450.47 1742.49 449.113 Q1744.09 447.735 1744.09 444.92 Q1744.09 442.084 1742.49 440.747 Q1740.91 439.39 1737.61 439.39 L1731.05 439.39 M1731.05 426.954 L1731.05 436.069 L1737.11 436.069 Q1740.1 436.069 1741.56 434.955 Q1743.04 433.82 1743.04 431.511 Q1743.04 429.223 1741.56 428.088 Q1740.1 426.954 1737.11 426.954 L1731.05 426.954 M1726.96 423.592 L1737.41 423.592 Q1742.09 423.592 1744.62 425.536 Q1747.15 427.481 1747.15 431.066 Q1747.15 433.841 1745.86 435.481 Q1744.56 437.122 1742.05 437.527 Q1745.07 438.175 1746.73 440.241 Q1748.41 442.287 1748.41 445.366 Q1748.41 449.416 1745.65 451.624 Q1742.9 453.832 1737.81 453.832 L1726.96 453.832 L1726.96 423.592 Z\" fill=\"#000000\" fill-rule=\"evenodd\" fill-opacity=\"1\" /><path clip-path=\"url(#clip770)\" d=\"M1068.08 1324.89 L1068.08 1329.21 Q1066.01 1327.28 1063.66 1326.33 Q1061.33 1325.38 1058.7 1325.38 Q1053.51 1325.38 1050.76 1328.56 Q1048.01 1331.72 1048.01 1337.71 Q1048.01 1343.69 1050.76 1346.87 Q1053.51 1350.03 1058.7 1350.03 Q1061.33 1350.03 1063.66 1349.08 Q1066.01 1348.12 1068.08 1346.2 L1068.08 1350.47 Q1065.93 1351.93 1063.52 1352.66 Q1061.13 1353.39 1058.46 1353.39 Q1051.59 1353.39 1047.64 1349.2 Q1043.69 1344.98 1043.69 1337.71 Q1043.69 1330.42 1047.64 1326.23 Q1051.59 1322.02 1058.46 1322.02 Q1061.17 1322.02 1063.56 1322.75 Q1065.97 1323.45 1068.08 1324.89 Z\" fill=\"#000000\" fill-rule=\"evenodd\" fill-opacity=\"1\" /></svg>\n"
      "image/svg+xml": [
       "<?xml version=\"1.0\" encoding=\"utf-8\"?>\n",
       "<svg xmlns=\"http://www.w3.org/2000/svg\" xmlns:xlink=\"http://www.w3.org/1999/xlink\" width=\"600\" height=\"400\" viewBox=\"0 0 2400 1600\">\n",
       "<defs>\n",
       "  <clipPath id=\"clip530\">\n",
       "    <rect x=\"0\" y=\"0\" width=\"2400\" height=\"1600\"/>\n",
       "  </clipPath>\n",
       "</defs>\n",
       "<path clip-path=\"url(#clip530)\" d=\"\n",
       "M0 1600 L2400 1600 L2400 0 L0 0  Z\n",
       "  \" fill=\"#ffffff\" fill-rule=\"evenodd\" fill-opacity=\"1\"/>\n",
       "<defs>\n",
       "  <clipPath id=\"clip531\">\n",
       "    <rect x=\"480\" y=\"0\" width=\"1681\" height=\"1600\"/>\n",
       "  </clipPath>\n",
       "</defs>\n",
       "<path clip-path=\"url(#clip530)\" d=\"\n",
       "M447.244 1552.76 L1952.76 1552.76 L1952.76 47.2441 L447.244 47.2441  Z\n",
       "  \" fill=\"#ffffff\" fill-rule=\"evenodd\" fill-opacity=\"1\"/>\n",
       "<defs>\n",
       "  <clipPath id=\"clip532\">\n",
       "    <rect x=\"447\" y=\"47\" width=\"1507\" height=\"1507\"/>\n",
       "  </clipPath>\n",
       "</defs>\n",
       "<polyline clip-path=\"url(#clip532)\" style=\"stroke:#000000; stroke-linecap:round; stroke-linejoin:round; stroke-width:4; stroke-opacity:1; fill:none\" points=\"\n",
       "  1737.68,1337.68 1714.71,1333.62 1691.75,1329.55 1668.78,1325.45 1645.83,1321.33 1622.9,1317.16 1599.98,1312.94 1577.08,1308.66 1554.21,1304.31 1531.36,1299.87 \n",
       "  1508.54,1295.34 1485.76,1290.7 1463.01,1285.95 1440.31,1281.07 1417.65,1276.06 1395.04,1270.9 1372.48,1265.59 1349.97,1260.11 1327.52,1254.45 1305.14,1248.61 \n",
       "  1282.81,1242.56 1260.56,1236.31 1238.38,1229.84 1216.27,1223.14 1194.24,1216.2 1172.3,1209.01 1150.43,1201.57 1128.65,1193.9 1106.94,1185.99 1085.3,1177.86 \n",
       "  1063.73,1169.52 1042.22,1160.99 1020.78,1152.27 999.391,1143.37 978.059,1134.31 956.779,1125.08 935.546,1115.72 914.358,1106.21 893.21,1096.59 872.1,1086.84 \n",
       "  851.025,1077 829.98,1067.06 808.962,1057.03 787.969,1046.93 766.995,1036.77 746.039,1026.56 725.097,1016.31 704.165,1006.02 683.239,995.719 662.317,985.403 \n",
       "  \n",
       "  \"/>\n",
       "<polyline clip-path=\"url(#clip532)\" style=\"stroke:#000000; stroke-linecap:round; stroke-linejoin:round; stroke-width:4; stroke-opacity:1; fill:none\" points=\"\n",
       "  1737.68,1337.68 1729.94,1316.4 1722.2,1295.12 1714.48,1273.83 1706.8,1252.53 1699.16,1231.23 1691.58,1209.91 1684.05,1188.59 1676.61,1167.24 1669.25,1145.88 \n",
       "  1661.98,1124.5 1654.83,1103.1 1647.79,1081.67 1640.88,1060.21 1634.11,1038.73 1627.49,1017.21 1621.03,995.667 1614.75,974.084 1608.64,952.463 1602.73,930.803 \n",
       "  1597.03,909.1 1591.53,887.353 1586.27,865.559 1581.24,843.717 1576.46,821.824 1571.93,799.878 1567.66,777.878 1563.64,755.828 1559.86,733.729 1556.3,711.584 \n",
       "  1552.96,689.394 1549.82,667.162 1546.87,644.89 1544.11,622.581 1541.52,600.236 1539.09,577.858 1536.81,555.449 1534.67,533.011 1532.65,510.547 1530.76,488.058 \n",
       "  1528.98,465.547 1527.29,443.016 1525.68,420.468 1524.15,397.903 1522.69,375.326 1521.28,352.738 1519.91,330.14 1518.58,307.536 1517.27,284.928 1515.96,262.317 \n",
       "  \n",
       "  \"/>\n",
       "<polyline clip-path=\"url(#clip532)\" style=\"stroke:#000000; stroke-linecap:round; stroke-linejoin:round; stroke-width:4; stroke-opacity:1; fill:none\" points=\"\n",
       "  662.317,985.403 681.865,973.157 701.406,960.902 720.932,948.631 740.438,936.334 759.915,924.004 779.356,911.632 798.755,899.21 818.105,886.729 837.397,874.182 \n",
       "  856.626,861.559 875.784,848.852 894.864,836.053 913.859,823.154 932.762,810.146 951.565,797.021 970.262,783.77 988.846,770.386 1007.31,756.859 1025.64,743.181 \n",
       "  1043.85,729.345 1061.9,715.341 1079.82,701.161 1097.57,686.797 1115.16,672.241 1132.58,657.484 1149.83,642.527 1166.92,627.377 1183.85,612.043 1200.64,596.533 \n",
       "  1217.28,580.856 1233.79,565.02 1250.17,549.033 1266.43,532.904 1282.57,516.641 1298.61,500.252 1314.55,483.746 1330.4,467.132 1346.16,450.417 1361.85,433.61 \n",
       "  1377.46,416.719 1393.01,399.753 1408.5,382.72 1423.95,365.628 1439.35,348.487 1454.71,331.303 1470.05,314.086 1485.37,296.844 1500.67,279.585 1515.96,262.317 \n",
       "  \n",
       "  \"/>\n",
       "<path clip-path=\"url(#clip532)\" d=\"\n",
       "M1160.68 1248.77 L1205.84 1248.77 L1205.84 1176.51 L1160.68 1176.51 L1160.68 1248.77 L1160.68 1248.77  Z\n",
       "  \" fill=\"#ffffff\" fill-rule=\"evenodd\" fill-opacity=\"1\"/>\n",
       "<polyline clip-path=\"url(#clip532)\" style=\"stroke:#000000; stroke-linecap:round; stroke-linejoin:round; stroke-width:0; stroke-opacity:0; fill:none\" points=\"\n",
       "  1160.68,1248.77 1205.84,1248.77 1205.84,1176.51 1160.68,1176.51 1160.68,1248.77 \n",
       "  \"/>\n",
       "<path clip-path=\"url(#clip532)\" d=\"\n",
       "M1551.58 846.99 L1596.74 846.99 L1596.74 774.725 L1551.58 774.725 L1551.58 846.99 L1551.58 846.99  Z\n",
       "  \" fill=\"#ffffff\" fill-rule=\"evenodd\" fill-opacity=\"1\"/>\n",
       "<polyline clip-path=\"url(#clip532)\" style=\"stroke:#000000; stroke-linecap:round; stroke-linejoin:round; stroke-width:0; stroke-opacity:0; fill:none\" points=\"\n",
       "  1551.58,846.99 1596.74,846.99 1596.74,774.725 1551.58,774.725 1551.58,846.99 \n",
       "  \"/>\n",
       "<path clip-path=\"url(#clip532)\" d=\"\n",
       "M1101.31 701.02 L1146.48 701.02 L1146.48 628.756 L1101.31 628.756 L1101.31 701.02 L1101.31 701.02  Z\n",
       "  \" fill=\"#ffffff\" fill-rule=\"evenodd\" fill-opacity=\"1\"/>\n",
       "<polyline clip-path=\"url(#clip532)\" style=\"stroke:#000000; stroke-linecap:round; stroke-linejoin:round; stroke-width:0; stroke-opacity:0; fill:none\" points=\"\n",
       "  1101.31,701.02 1146.48,701.02 1146.48,628.756 1101.31,628.756 1101.31,701.02 \n",
       "  \"/>\n",
       "<path clip-path=\"url(#clip532)\" d=\"\n",
       "M1776.83 1337.68 L1757.25 1303.78 L1718.11 1303.78 L1698.54 1337.68 L1718.11 1371.58 L1757.25 1371.58 L1776.83 1337.68 L1776.83 1337.68  Z\n",
       "  \" fill=\"#009af9\" fill-rule=\"evenodd\" fill-opacity=\"1\"/>\n",
       "<polyline clip-path=\"url(#clip532)\" style=\"stroke:#000000; stroke-linecap:round; stroke-linejoin:round; stroke-width:4; stroke-opacity:1; fill:none\" points=\"\n",
       "  1776.83,1337.68 1757.25,1303.78 1718.11,1303.78 1698.54,1337.68 1718.11,1371.58 1757.25,1371.58 1776.83,1337.68 \n",
       "  \"/>\n",
       "<path clip-path=\"url(#clip532)\" d=\"\n",
       "M701.461 985.403 L681.889 951.504 L642.746 951.504 L623.174 985.403 L642.746 1019.3 L681.889 1019.3 L701.461 985.403 L701.461 985.403  Z\n",
       "  \" fill=\"#009af9\" fill-rule=\"evenodd\" fill-opacity=\"1\"/>\n",
       "<polyline clip-path=\"url(#clip532)\" style=\"stroke:#000000; stroke-linecap:round; stroke-linejoin:round; stroke-width:4; stroke-opacity:1; fill:none\" points=\"\n",
       "  701.461,985.403 681.889,951.504 642.746,951.504 623.174,985.403 642.746,1019.3 681.889,1019.3 701.461,985.403 \n",
       "  \"/>\n",
       "<path clip-path=\"url(#clip532)\" d=\"\n",
       "M1555.11 262.317 L1535.53 228.418 L1496.39 228.418 L1476.82 262.317 L1496.39 296.216 L1535.53 296.216 L1555.11 262.317 L1555.11 262.317  Z\n",
       "  \" fill=\"#009af9\" fill-rule=\"evenodd\" fill-opacity=\"1\"/>\n",
       "<polyline clip-path=\"url(#clip532)\" style=\"stroke:#000000; stroke-linecap:round; stroke-linejoin:round; stroke-width:4; stroke-opacity:1; fill:none\" points=\"\n",
       "  1555.11,262.317 1535.53,228.418 1496.39,228.418 1476.82,262.317 1496.39,296.216 1535.53,296.216 1555.11,262.317 \n",
       "  \"/>\n",
       "<path clip-path=\"url(#clip532)\" d=\"M1737.68 1338.08 L1737.34 1337.88 L1737.34 1337.48 L1737.68 1337.28 L1738.03 1337.48 L1738.03 1337.88 Z\" fill=\"#009af9\" fill-rule=\"evenodd\" fill-opacity=\"1\" stroke=\"#000000\" stroke-opacity=\"1\" stroke-width=\"3.2\"/>\n",
       "<path clip-path=\"url(#clip532)\" d=\"M662.317 985.803 L661.971 985.603 L661.971 985.203 L662.317 985.003 L662.664 985.203 L662.664 985.603 Z\" fill=\"#009af9\" fill-rule=\"evenodd\" fill-opacity=\"1\" stroke=\"#000000\" stroke-opacity=\"1\" stroke-width=\"3.2\"/>\n",
       "<path clip-path=\"url(#clip532)\" d=\"M1515.96 262.717 L1515.62 262.517 L1515.62 262.117 L1515.96 261.917 L1516.31 262.117 L1516.31 262.517 Z\" fill=\"#009af9\" fill-rule=\"evenodd\" fill-opacity=\"1\" stroke=\"#000000\" stroke-opacity=\"1\" stroke-width=\"3.2\"/>\n",
       "<path clip-path=\"url(#clip530)\" d=\"M1186.98 1211.45 Q1189.91 1212.08 1191.56 1214.07 Q1193.22 1216.05 1193.22 1218.97 Q1193.22 1223.45 1190.14 1225.9 Q1187.06 1228.35 1181.39 1228.35 Q1179.48 1228.35 1177.46 1227.96 Q1175.45 1227.6 1173.31 1226.85 L1173.31 1222.9 Q1175.01 1223.89 1177.03 1224.4 Q1179.06 1224.9 1181.27 1224.9 Q1185.11 1224.9 1187.12 1223.38 Q1189.15 1221.87 1189.15 1218.97 Q1189.15 1216.3 1187.26 1214.8 Q1185.4 1213.28 1182.06 1213.28 L1178.53 1213.28 L1178.53 1209.92 L1182.22 1209.92 Q1185.24 1209.92 1186.84 1208.72 Q1188.44 1207.5 1188.44 1205.24 Q1188.44 1202.91 1186.78 1201.67 Q1185.13 1200.42 1182.06 1200.42 Q1180.38 1200.42 1178.45 1200.78 Q1176.53 1201.14 1174.22 1201.91 L1174.22 1198.27 Q1176.55 1197.62 1178.57 1197.3 Q1180.62 1196.97 1182.42 1196.97 Q1187.08 1196.97 1189.79 1199.1 Q1192.51 1201.21 1192.51 1204.81 Q1192.51 1207.32 1191.07 1209.06 Q1189.63 1210.79 1186.98 1211.45 Z\" fill=\"#000000\" fill-rule=\"evenodd\" fill-opacity=\"1\" /><path clip-path=\"url(#clip530)\" d=\"M1564.44 795.738 L1583.88 795.738 L1583.88 797.48 L1572.91 825.978 L1568.63 825.978 L1578.96 799.181 L1564.44 799.181 L1564.44 795.738 Z\" fill=\"#000000\" fill-rule=\"evenodd\" fill-opacity=\"1\" /><path clip-path=\"url(#clip530)\" d=\"M1115.39 649.768 L1131.45 649.768 L1131.45 653.211 L1119.13 653.211 L1119.13 660.624 Q1120.02 660.32 1120.92 660.179 Q1121.81 660.017 1122.7 660.017 Q1127.76 660.017 1130.72 662.792 Q1133.68 665.566 1133.68 670.306 Q1133.68 675.187 1130.64 677.901 Q1127.6 680.595 1122.07 680.595 Q1120.17 680.595 1118.18 680.271 Q1116.22 679.947 1114.11 679.299 L1114.11 675.187 Q1115.93 676.18 1117.88 676.666 Q1119.82 677.152 1121.99 677.152 Q1125.49 677.152 1127.54 675.309 Q1129.58 673.466 1129.58 670.306 Q1129.58 667.146 1127.54 665.303 Q1125.49 663.46 1121.99 663.46 Q1120.35 663.46 1118.71 663.825 Q1117.09 664.189 1115.39 664.959 L1115.39 649.768 Z\" fill=\"#000000\" fill-rule=\"evenodd\" fill-opacity=\"1\" /><path clip-path=\"url(#clip530)\" d=\"M1737.68 1326.59 L1732.13 1341.64 L1743.25 1341.64 L1737.68 1326.59 M1735.37 1322.56 L1740.01 1322.56 L1751.54 1352.8 L1747.28 1352.8 L1744.53 1345.05 L1730.9 1345.05 L1728.14 1352.8 L1723.83 1352.8 L1735.37 1322.56 Z\" fill=\"#000000\" fill-rule=\"evenodd\" fill-opacity=\"1\" /><path clip-path=\"url(#clip530)\" d=\"M655.684 986.082 L655.684 997.161 L662.246 997.161 Q665.548 997.161 667.128 995.804 Q668.728 994.427 668.728 991.611 Q668.728 988.776 667.128 987.439 Q665.548 986.082 662.246 986.082 L655.684 986.082 M655.684 973.645 L655.684 982.76 L661.74 982.76 Q664.738 982.76 666.196 981.646 Q667.675 980.512 667.675 978.203 Q667.675 975.914 666.196 974.78 Q664.738 973.645 661.74 973.645 L655.684 973.645 M651.592 970.283 L662.044 970.283 Q666.723 970.283 669.254 972.228 Q671.786 974.172 671.786 977.757 Q671.786 980.532 670.49 982.173 Q669.194 983.813 666.682 984.218 Q669.7 984.866 671.361 986.932 Q673.042 988.978 673.042 992.057 Q673.042 996.108 670.287 998.315 Q667.533 1000.52 662.449 1000.52 L651.592 1000.52 L651.592 970.283 Z\" fill=\"#000000\" fill-rule=\"evenodd\" fill-opacity=\"1\" /><path clip-path=\"url(#clip530)\" d=\"M1528.16 249.526 L1528.16 253.841 Q1526.09 251.917 1523.74 250.965 Q1521.41 250.013 1518.78 250.013 Q1513.59 250.013 1510.84 253.193 Q1508.08 256.352 1508.08 262.348 Q1508.08 268.323 1510.84 271.503 Q1513.59 274.662 1518.78 274.662 Q1521.41 274.662 1523.74 273.71 Q1526.09 272.758 1528.16 270.834 L1528.16 275.108 Q1526.01 276.566 1523.6 277.295 Q1521.21 278.025 1518.54 278.025 Q1511.67 278.025 1507.72 273.832 Q1503.77 269.619 1503.77 262.348 Q1503.77 255.056 1507.72 250.863 Q1511.67 246.65 1518.54 246.65 Q1521.25 246.65 1523.64 247.38 Q1526.05 248.088 1528.16 249.526 Z\" fill=\"#000000\" fill-rule=\"evenodd\" fill-opacity=\"1\" /></svg>\n"
      ]
     },
     "execution_count": 41,
     "metadata": {},
     "output_type": "execute_result"
    }
   ],
   "source": [
    "graphplot(g.graph, names=[\"A\",\"B\",\"C\"], edgelabel = Dict((1,2)=>3,(2,3)=>5,(1,3) => 7))"
   ]
  },
  {
   "cell_type": "markdown",
   "id": "27796611-83dc-4dc0-b853-8f10016c6611",
   "metadata": {},
   "source": [
    "One of the things to do in the project is to plot a graph with `plotgraph(g)` and it should add the vertex labels and the edge labels."
   ]
  },
  {
   "cell_type": "code",
   "execution_count": 1,
   "execution_count": 73,
   "id": "3a5e9e4a-5d65-42b8-8c6e-bd93707d6010",
   "metadata": {},
   "outputs": [
    {
     "name": "stderr",
     "output_type": "stream",
     "text": [
      "┌ Error: Failed to revise C:\\Users\\Camer\\Documents\\My-Repositories\\Sci-Comp-ShortestPath\\WeightedGraphsCopy.jl\n",
      "│   exception = (LoadError(\"C:\\\\Users\\\\Camer\\\\Documents\\\\My-Repositories\\\\Sci-Comp-ShortestPath\\\\WeightedGraphsCopy.jl\", 135, \"incomplete: \\\"module\\\" at C:\\\\Users\\\\Camer\\\\Documents\\\\My-Repositories\\\\Sci-Comp-ShortestPath\\\\WeightedGraphsCopy.jl:1 requires end\"), Union{Ptr{Nothing}, Base.InterpreterIP}[Ptr{Nothing} @0x00000000a6735e06])\n",
      "└ @ Revise C:\\Users\\Camer\\.julia\\packages\\Revise\\do2nH\\src\\packagedef.jl:717\n"
     ]
    },
    {
     "ename": "LoadError",
     "evalue": "UndefVarError: plotgraph not defined",
     "output_type": "error",
     "traceback": [
      "UndefVarError: plotgraph not defined",
      "",
      "Stacktrace:",
      " [1] top-level scope",
      "   @ In[73]:1",
      " [2] eval",
      "   @ .\\boot.jl:368 [inlined]",
      " [3] include_string(mapexpr::typeof(REPL.softscope), mod::Module, code::String, filename::String)",
      "   @ Base .\\loading.jl:1428"
     ]
    }
   ],
   "source": [
    "plotgraph(g)"
   ]
  },
  {
   "cell_type": "code",
   "execution_count": 67,
   "id": "2e1afb95-a6ec-4192-9662-46ce0d79921f",
   "metadata": {},
   "outputs": [
    {
     "data": {
      "text/plain": [
       "4"
      ]
     },
     "execution_count": 1,
     "metadata": {},
     "output_type": "execute_result"
    }
   ],
   "source": [
    "s = 2+2\n",
    "return s"
   ]
  },
  {
   "cell_type": "code",
   "execution_count": null,
   "id": "1d2c5f3f",
   "metadata": {},
   "outputs": [
    {
     "data": {
      "text/plain": [
       "3-element Vector{Vertex}:\n",
       " Vertex(:A)\n",
       " Vertex(:B)\n",
       " Vertex(:C)"
      ]
     },
     "execution_count": 67,
     "metadata": {},
     "output_type": "execute_result"
    }
   ],
   "source": [
    "g.vertices"
   ]
  },
  {
   "cell_type": "code",
   "execution_count": 70,
   "id": "901af793-6963-419f-8e38-38040693a7f5",
   "metadata": {},
   "outputs": [
    {
     "data": {
      "text/plain": [
       "true"
      ]
     },
     "execution_count": 70,
     "metadata": {},
     "output_type": "execute_result"
    }
   ],
   "source": [
    "Vertex(:A) in g.vertices"
   ]
  },
  {
   "cell_type": "code",
   "execution_count": 59,
   "id": "d1e3b779-e4f7-4d49-88cc-00b5153ca5b3",
   "metadata": {},
   "outputs": [
    {
     "data": {
      "text/plain": [
       "Main.WeightedGraphs.Edge(:A, :B, 3)"
      ]
     },
     "execution_count": 59,
     "metadata": {},
     "output_type": "execute_result"
    }
   ],
   "source": [
    "g.edges[1]"
   ]
  },
  {
   "cell_type": "code",
   "execution_count": 66,
   "id": "b8b8292a-f7c5-44f2-a9c2-6d6988d0a9a4",
   "metadata": {},
   "outputs": [
    {
     "data": {
      "text/plain": [
       ":A"
      ]
     },
     "execution_count": 66,
     "metadata": {},
     "output_type": "execute_result"
    }
   ],
   "source": [
    "g.edges[1].start"
   ]
  },
  {
   "cell_type": "code",
   "execution_count": 68,
   "id": "d7e7d679-280f-46f3-8117-51b06194b351",
   "metadata": {},
   "outputs": [
    {
     "data": {
      "text/plain": [
       ":B"
      ]
     },
     "execution_count": 68,
     "metadata": {},
     "output_type": "execute_result"
    }
   ],
   "source": [
    "g.edges[1].finish"
   ]
  },
  {
   "cell_type": "code",
   "execution_count": 89,
   "id": "9cbde378-043a-4f61-93df-87ffcd1f8f03",
   "metadata": {},
   "outputs": [
    {
     "data": {
      "text/plain": [
       "false"
      ]
     },
     "execution_count": 89,
     "metadata": {},
     "output_type": "execute_result"
    }
   ],
   "source": [
    "for i in 1:length(g.edges)\n",
    "    if Vertex(:A) == g.edges[i].start && Vertex(:B) == g.edges[i].finish\n",
    "        return true\n",
    "    else return false\n",
    "    end\n",
    "end"
   ]
  },
  {
   "cell_type": "code",
   "execution_count": 90,
   "id": "c276c58b-0a28-4632-b95b-5db9de51b0a7",
   "metadata": {},
   "outputs": [
    {
     "data": {
      "text/plain": [
       "3-element Vector{Any}:\n",
       " (:A, :B)\n",
       " (:B, :C)\n",
       " (:C, :A)"
      ]
     },
     "execution_count": 90,
     "metadata": {},
     "output_type": "execute_result"
    }
   ],
   "source": [
    "VerticesInEdges=[]\n",
    "for i in 1:length(g.edges)\n",
    "    push!(VerticesInEdges,(g.edges[i].start, g.edges[i].finish))\n",
    "end\n",
    "VerticesInEdges"
   ]
  },
  {
   "cell_type": "code",
   "execution_count": 91,
   "id": "9d197536-b27a-4150-a5dc-a0a7b648334e",
   "metadata": {},
   "outputs": [
    {
     "data": {
      "text/plain": [
       "true"
      ]
     },
     "execution_count": 91,
     "metadata": {},
     "output_type": "execute_result"
    }
   ],
   "source": [
    "(:A,:B) in VerticesInEdges"
   ]
  },
  {
   "cell_type": "code",
   "execution_count": 95,
   "id": "d34f3231-66c5-4c9a-a411-1de69bc32fa8",
   "metadata": {},
   "outputs": [
    {
     "name": "stderr",
     "output_type": "stream",
     "text": [
      "┌ Error: Failed to revise C:\\Users\\Camer\\Documents\\My-Repositories\\Sci-Comp-ShortestPath\\WeightedGraphsCopy.jl\n",
      "│   exception = Revise.ReviseEvalException(\"C:\\\\Users\\\\Camer\\\\Documents\\\\My-Repositories\\\\Sci-Comp-ShortestPath\\\\none:0\", ErrorException(\"invalid redefinition of constant Path\"), Any[(top-level scope at none:0, 1)])\n",
      "└ @ Revise C:\\Users\\Camer\\.julia\\packages\\Revise\\do2nH\\src\\packagedef.jl:715\n"
     ]
    },
    {
     "data": {
      "text/plain": [
       "3"
      ]
     },
     "execution_count": 95,
     "metadata": {},
     "output_type": "execute_result"
    }
   ],
   "source": [
    "length(g.edges)"
   ]
  },
  {
   "cell_type": "code",
   "execution_count": 98,
   "id": "37d45ff3-9c9e-4b59-9d37-a1636c97c940",
   "metadata": {},
   "outputs": [
    {
     "ename": "LoadError",
     "evalue": "UndefVarError: Path not defined",
     "output_type": "error",
     "traceback": [
      "UndefVarError: Path not defined",
      "",
      "Stacktrace:",
      " [1] top-level scope",
      "   @ In[98]:1",
      " [2] eval",
      "   @ .\\boot.jl:368 [inlined]",
      " [3] include_string(mapexpr::typeof(REPL.softscope), mod::Module, code::String, filename::String)",
      "   @ Base .\\loading.jl:1428"
     ]
    }
   ],
   "source": [
    "Path(Vertex(:A),\n",
    " Vertex(:B),\n",
    " Vertex(:C))"
   ]
  },
  {
   "cell_type": "code",
   "execution_count": null,
   "id": "d31a596e-838f-40dc-ac3c-b8eb3ccbfd7b",
   "metadata": {},
   "outputs": [],
   "source": [
    "p[i] == g.edges[j].start && p[i+1] == g.edges[j].finish"
   ]
  }
 ],
 "metadata": {
  "kernelspec": {
   "display_name": "Julia 1.8.0",
   "language": "julia",
   "name": "julia-1.8"
  },
  "language_info": {
   "file_extension": ".jl",
   "mimetype": "application/julia",
   "name": "julia",
   "version": "1.8.0"
  }
 },
 "nbformat": 4,
 "nbformat_minor": 5
}
